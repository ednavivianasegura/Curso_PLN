{
  "cells": [
    {
      "cell_type": "markdown",
      "metadata": {
        "id": "view-in-github",
        "colab_type": "text"
      },
      "source": [
        "<a href=\"https://colab.research.google.com/github/ednavivianasegura/Curso_PLN/blob/main/PLN_EDNA.ipynb\" target=\"_parent\"><img src=\"https://colab.research.google.com/assets/colab-badge.svg\" alt=\"Open In Colab\"/></a>"
      ]
    },
    {
      "cell_type": "code",
      "source": [
        "import os\n",
        "# Clona el repositorio\n",
        "try:\n",
        "    !git clone https://github.com/ednavivianasegura/Curso_PLN.git\n",
        "except:\n",
        "    pass\n",
        "\n",
        "# Cambiar al directorio \"Curso_PLN\"\n",
        "os.chdir(\"Curso_PLN\")"
      ],
      "metadata": {
        "id": "BUy1MgJqqtVA",
        "outputId": "87aa179f-6fdf-4c1b-a717-caf038a93f18",
        "colab": {
          "base_uri": "https://localhost:8080/"
        }
      },
      "id": "BUy1MgJqqtVA",
      "execution_count": 1,
      "outputs": [
        {
          "output_type": "stream",
          "name": "stdout",
          "text": [
            "Cloning into 'Curso_PLN'...\n",
            "remote: Enumerating objects: 172, done.\u001b[K\n",
            "remote: Counting objects: 100% (93/93), done.\u001b[K\n",
            "remote: Compressing objects: 100% (93/93), done.\u001b[K\n",
            "remote: Total 172 (delta 84), reused 0 (delta 0), pack-reused 79\u001b[K\n",
            "Receiving objects: 100% (172/172), 14.02 MiB | 6.42 MiB/s, done.\n",
            "Resolving deltas: 100% (123/123), done.\n"
          ]
        }
      ]
    },
    {
      "cell_type": "markdown",
      "source": [
        "<center>\n",
        "<h1> Curso de especialización.\n",
        "Estadística aplicada al procesamiento del lenguaje natural (PLN)</h1>\n",
        "</center>"
      ],
      "metadata": {
        "id": "4r6C2P_-3KYV"
      },
      "id": "4r6C2P_-3KYV"
    },
    {
      "cell_type": "markdown",
      "source": [
        "***"
      ],
      "metadata": {
        "id": "qp7UlYdV4tov"
      },
      "id": "qp7UlYdV4tov"
    },
    {
      "cell_type": "markdown",
      "id": "ce59cdd3-f22c-4cc9-ba35-b8fbe5ce3d57",
      "metadata": {
        "id": "ce59cdd3-f22c-4cc9-ba35-b8fbe5ce3d57"
      },
      "source": [
        "<center>\n",
        "<img src=\"https://github.com/ednavivianasegura/Curso_PLN/blob/main/LogoCompleto.png?raw=1\" alt=\"LogoUR\" width=\"50%\" height=\"50%\">  \n",
        "</center>"
      ]
    },
    {
      "cell_type": "markdown",
      "source": [
        "Librerías necesarias durante el proceso"
      ],
      "metadata": {
        "id": "Cb3LAinFtz_u"
      },
      "id": "Cb3LAinFtz_u"
    },
    {
      "cell_type": "code",
      "source": [
        "# @title\n",
        "import nltk\n",
        "nltk.download('stopwords')\n",
        "nltk.download('punkt')\n",
        "from nltk.util import ngrams\n",
        "from nltk.corpus import stopwords\n",
        "import wordcloud\n",
        "from wordcloud import WordCloud\n",
        "import matplotlib.pyplot as plt\n",
        "import pandas as pd\n",
        "import matplotlib.pyplot as plt\n",
        "import math\n",
        "import numpy as np\n",
        "import seaborn as sns\n",
        "import random\n",
        "from statistics import median\n",
        "from scipy.stats import norm\n",
        "\n"
      ],
      "metadata": {
        "id": "_DzrAQ8kjhyN",
        "outputId": "c962c06a-68e6-447d-bcc1-b997099319de",
        "colab": {
          "base_uri": "https://localhost:8080/"
        }
      },
      "id": "_DzrAQ8kjhyN",
      "execution_count": 2,
      "outputs": [
        {
          "output_type": "stream",
          "name": "stderr",
          "text": [
            "[nltk_data] Downloading package stopwords to /root/nltk_data...\n",
            "[nltk_data]   Unzipping corpora/stopwords.zip.\n",
            "[nltk_data] Downloading package punkt to /root/nltk_data...\n",
            "[nltk_data]   Unzipping tokenizers/punkt.zip.\n"
          ]
        }
      ]
    },
    {
      "cell_type": "markdown",
      "source": [
        "## ¿Qué es el PLN?"
      ],
      "metadata": {
        "id": "sSrdCkOi3Ww2"
      },
      "id": "sSrdCkOi3Ww2"
    },
    {
      "cell_type": "markdown",
      "source": [
        "<center>\n",
        "<img src=\"https://github.com/ednavivianasegura/Curso_PLN/blob/main/que_Es_PLN.png?raw=1\" alt=\"queesPLN\" width=\"50%\" height=\"50%\">\n",
        "</center>"
      ],
      "metadata": {
        "id": "OtJQM8QPuGGf"
      },
      "id": "OtJQM8QPuGGf"
    },
    {
      "cell_type": "code",
      "execution_count": 3,
      "id": "28b344bd-afb4-404e-a416-7ba77393d90c",
      "metadata": {
        "id": "28b344bd-afb4-404e-a416-7ba77393d90c"
      },
      "outputs": [],
      "source": [
        "# @title ¿Cómo generar mapa de palabras en Python?\n",
        "# @title\n",
        "# stopword_en = nltk.corpus.stopwords.words('english')\n",
        "\n",
        "# #Creamos la lista de palabras\n",
        "# stopwords = set(stopword_en)\n",
        "# # stopwords.update([\"br\", \"href\"])\n",
        "# text = \"Natural Language Processing (NLP) is an interdisciplinary field that combines statistics, mathematics, and machine learning techniques to analyze and understand human language. In NLP, words, tokens, and their frequency play a crucial role in building models for language inference. The foundation of Natural Language Processing lies in understanding the nominal, ordinal, and categorical aspects of language. By employing sophisticated algorithms, NLP systems can decipher the semantics and syntax of words and sentences. In NLP, the power of machine learning models is harnessed to process vast amounts of textual data, enabling tasks such as sentiment analysis, text summarization, and information extraction. Through the application of advanced algorithms, NLP practitioners strive to enhance the accuracy and efficiency of language processing systems. Statistics and mathematics form the backbone of Natural Language Processing, providing the theoretical framework for modeling linguistic phenomena and deriving meaningful insights from textual data. By leveraging statistical techniques, NLP algorithms can identify patterns, trends, and correlations within language corpora. In essence, Natural Language Processing is a multifaceted discipline that draws upon diverse domains such as linguistics, computer science, and artificial intelligence. By exploring the intricate interplay between words, semantics, and context, NLP researchers continue to push the boundaries of language understanding and machine intelligence.\"\n",
        "# wordcloud = WordCloud(stopwords=stopwords).generate(text)\n",
        "\n",
        "# plt.imshow(wordcloud,cmap='PiYG_r')\n",
        "# plt.axis(\"off\")\n",
        "# plt.tight_layout()\n",
        "# plt.savefig(\"mapa_palabras.png\", bbox_inches='tight', pad_inches=0, dpi=600)\n",
        "# plt.show()\n",
        "\n",
        "\n",
        "\n"
      ]
    },
    {
      "cell_type": "markdown",
      "source": [
        "## ¿Cómo leen las máquinas?"
      ],
      "metadata": {
        "id": "tZrMwwwm3aZ1"
      },
      "id": "tZrMwwwm3aZ1"
    },
    {
      "cell_type": "markdown",
      "source": [
        "<center>\n",
        "  <img src=\"https://github.com/ednavivianasegura/Curso_PLN/blob/main/como_leen_las_maquinas.png?raw=1\" alt=\"como leen las maquinas\" width=\"50%\"\n",
        "  height=\"50%\">  \n",
        "</center>"
      ],
      "metadata": {
        "id": "NExz8Km0uPjU"
      },
      "id": "NExz8Km0uPjU"
    },
    {
      "cell_type": "markdown",
      "source": [
        "## ¿Para qué nos sirve la estadística en el PLN?"
      ],
      "metadata": {
        "id": "j_6O8Cub3z4n"
      },
      "id": "j_6O8Cub3z4n"
    },
    {
      "cell_type": "markdown",
      "source": [
        "<center>\n",
        " <img src=\"https://github.com/ednavivianasegura/Curso_PLN/blob/main/como_se_utiliza_la_Estadistica_en_pln.png?raw=1\" alt=\"como se utiliza la estadistica en PLN\" width=\"50%\" height=\"50%\">  \n",
        "</center>\n"
      ],
      "metadata": {
        "id": "XhNATZ4juUXG"
      },
      "id": "XhNATZ4juUXG"
    },
    {
      "cell_type": "markdown",
      "source": [
        "***\n",
        "## ¡Comencemos!\n",
        "***"
      ],
      "metadata": {
        "id": "Srd8cQihiGZF"
      },
      "id": "Srd8cQihiGZF"
    },
    {
      "cell_type": "markdown",
      "source": [
        "## Contenido\n",
        "### Tablas de frecuencias.\n",
        "### Gráficos unidimensionales.\n",
        "### Medidas de una variable cuantitativa:\n",
        "* de posición:\n",
        "  * media aritmética\n",
        "  * mediana y cuantiles\n",
        "  * moda\n",
        "* de dispersión:\n",
        "  * absoluta: recorrido, (cuasi)varianza y (cuasi)desviación típica\n",
        "  * relativa: recorrido relativo, coeficiente de variación y valores tipificados\n",
        "* Análisis de frecuencias de n-gramas.\n"
      ],
      "metadata": {
        "id": "I7H3OSXp6kja"
      },
      "id": "I7H3OSXp6kja"
    },
    {
      "cell_type": "markdown",
      "source": [
        "***\n",
        "\n",
        "### Notación:\n"
      ],
      "metadata": {
        "id": "9humrD6e8XFR"
      },
      "id": "9humrD6e8XFR"
    },
    {
      "cell_type": "markdown",
      "source": [
        "Establecemos la siguiente notación para lo que sigue.\n",
        "* De una variable $X$ tenemos $N$ datos (casos) que pueden ser repetidos o no: $𝑋_1,𝑋_2,…,𝑋_𝑁$ [en mayúsculas].\n",
        "* Si solo indicamos los valores distintos entre sí: $𝑥_1,𝑥_2,…,𝑥_𝐾$ [en minúsculas] cada uno con su respectiva frecuencia $𝑛_1,𝑛_2,…,𝑛_𝐾$.\n",
        "Notas:\n",
        "$𝑁=𝑁_𝐾=𝑛_1+𝑛_2+⋯+𝑛_𝐾=∑𝑛_𝑖$ representa el número de casos (el tamaño de la muestra).\n",
        "$𝐾$ representa el número de valores distintos entre sí de la variable $𝑋$.\n"
      ],
      "metadata": {
        "id": "QvdnzdJG8biq"
      },
      "id": "QvdnzdJG8biq"
    },
    {
      "cell_type": "markdown",
      "source": [
        "***"
      ],
      "metadata": {
        "id": "MTcDsCih9Ubi"
      },
      "id": "MTcDsCih9Ubi"
    },
    {
      "cell_type": "markdown",
      "source": [
        "## ¿Sabemos qué es una variable o qué tipo de variables existen?\n",
        "*   Variables numéricas\n",
        "  *   Discretas (rango finito): es un tipo de variable cuantitativa que solo puede tomar valores aislados, generalmente enteros, que se obtienen mediante un conteo. No admite valores intermedios o decimales. Ejemplo: el número de letras de una palabra.\n",
        "  *   Continuas (rango infinito): es un tipo de variable cuantitativa que puede tomar cualquier valor dentro de un intervalo, que se obtienen mediante una medición. Admite valores intermedios o decimales. Ejemplo: la longitud de una palabra.\n",
        "\n",
        "*   Variables categóricas: es un tipo de variable que suelen describir cualidades de los datos.\n",
        "  *   Las variables ordinales: se pueden clasificar en cualquier rango. Ej: categorizar las palabras según su longitud en diferentes grupos ordenados, como:\n",
        "        * Palabras cortas (1-3 caracteres)\n",
        "        * Palabras de longitud media (4-6 caracteres)\n",
        "        * Palabras largas (7 o más caracteres)\n",
        "  *   Variables nominales: no se pueden clasificar, simplemente contienen nombres o números de categorías. Ej: categorías gramaticales, como sustantivos, verbos, adjetivos, adverbios, pronombres, preposiciones, conjunciones, entre otros.\n",
        "\n",
        "\n",
        "\n"
      ],
      "metadata": {
        "id": "5n-SABJOu2Yo"
      },
      "id": "5n-SABJOu2Yo"
    },
    {
      "cell_type": "markdown",
      "source": [
        "## Ejemplo de conjunto de datos:"
      ],
      "metadata": {
        "id": "3kQUQRZOjSWE"
      },
      "id": "3kQUQRZOjSWE"
    },
    {
      "cell_type": "markdown",
      "source": [
        "Conjunto de datos de *Amazon Fine Food Reviews de Kaggle* (archivo disponible en [Reviews.csv](https://www.kaggle.com/datasets/snap/amazon-fine-food-reviews))\n",
        "Se cuenta con un total 568454 reseñas de productos de Amazon.\n",
        "\n",
        "En este proyecto, utilizaremos una muestra aleatoria que contiene 45476 reseñas.\n",
        "\n",
        "* Text – Reseña completa del artículo\n",
        "* Summary – Breve resumen de la reseña.\n",
        "* Score – Calificación del artículo proporcionada por el cliente.\n",
        "\n"
      ],
      "metadata": {
        "id": "OmuAk4KqjXYf"
      },
      "id": "OmuAk4KqjXYf"
    },
    {
      "cell_type": "code",
      "execution_count": 4,
      "id": "b1aac4de-49c6-41cc-9750-03b7d316ca0f",
      "metadata": {
        "id": "b1aac4de-49c6-41cc-9750-03b7d316ca0f",
        "outputId": "955e46b5-44fe-41a5-bcb1-2b45ae4eeb8f",
        "colab": {
          "base_uri": "https://localhost:8080/",
          "height": 382
        }
      },
      "outputs": [
        {
          "output_type": "stream",
          "name": "stdout",
          "text": [
            "Información disponible en el dataframe:\n",
            "['Id', 'ProductId', 'UserId', 'ProfileName', 'HelpfulnessNumerator', 'HelpfulnessDenominator', 'Score', 'Time', 'Summary', 'Text']\n",
            "El dataframe contiene 45476 reseñas\n",
            "\n"
          ]
        },
        {
          "output_type": "display_data",
          "data": {
            "text/plain": [
              "       Id   ProductId             ProfileName  Score        Time  \\\n",
              "0  165257  B000EVG8J2  B. Miller \"pet person\"      5  1268179200   \n",
              "1  231466  B0000BXJIS                   Marty      5  1298937600   \n",
              "2  427828  B008FHUFAU         Kenneth Shevlin      3  1224028800   \n",
              "3  433955  B006BXV14E             rareoopdvds      2  1335312000   \n",
              "4   70261  B007I7Z3Z0                  Og8ys1      5  1334707200   \n",
              "\n",
              "                                        Summary  \\\n",
              "0  Crunchy & Good Gluten-Free Sandwich Cookies!   \n",
              "1                            great kitty treats   \n",
              "2                                  COFFEE TASTE   \n",
              "3              So the Mini-Wheats were too big?   \n",
              "4                             Great Taste . . .   \n",
              "\n",
              "                                                Text  \n",
              "0  Having tried a couple of other brands of glute...  \n",
              "1  My cat loves these treats. If ever I can't fin...  \n",
              "2  A little less than I expected.  It tends to ha...  \n",
              "3  First there was Frosted Mini-Wheats, in origin...  \n",
              "4  and I want to congratulate the graphic artist ...  "
            ],
            "text/html": [
              "\n",
              "  <div id=\"df-9fec3afb-f1a7-4896-8f93-d3301fa14469\" class=\"colab-df-container\">\n",
              "    <div>\n",
              "<style scoped>\n",
              "    .dataframe tbody tr th:only-of-type {\n",
              "        vertical-align: middle;\n",
              "    }\n",
              "\n",
              "    .dataframe tbody tr th {\n",
              "        vertical-align: top;\n",
              "    }\n",
              "\n",
              "    .dataframe thead th {\n",
              "        text-align: right;\n",
              "    }\n",
              "</style>\n",
              "<table border=\"1\" class=\"dataframe\">\n",
              "  <thead>\n",
              "    <tr style=\"text-align: right;\">\n",
              "      <th></th>\n",
              "      <th>Id</th>\n",
              "      <th>ProductId</th>\n",
              "      <th>ProfileName</th>\n",
              "      <th>Score</th>\n",
              "      <th>Time</th>\n",
              "      <th>Summary</th>\n",
              "      <th>Text</th>\n",
              "    </tr>\n",
              "  </thead>\n",
              "  <tbody>\n",
              "    <tr>\n",
              "      <th>0</th>\n",
              "      <td>165257</td>\n",
              "      <td>B000EVG8J2</td>\n",
              "      <td>B. Miller \"pet person\"</td>\n",
              "      <td>5</td>\n",
              "      <td>1268179200</td>\n",
              "      <td>Crunchy &amp; Good Gluten-Free Sandwich Cookies!</td>\n",
              "      <td>Having tried a couple of other brands of glute...</td>\n",
              "    </tr>\n",
              "    <tr>\n",
              "      <th>1</th>\n",
              "      <td>231466</td>\n",
              "      <td>B0000BXJIS</td>\n",
              "      <td>Marty</td>\n",
              "      <td>5</td>\n",
              "      <td>1298937600</td>\n",
              "      <td>great kitty treats</td>\n",
              "      <td>My cat loves these treats. If ever I can't fin...</td>\n",
              "    </tr>\n",
              "    <tr>\n",
              "      <th>2</th>\n",
              "      <td>427828</td>\n",
              "      <td>B008FHUFAU</td>\n",
              "      <td>Kenneth Shevlin</td>\n",
              "      <td>3</td>\n",
              "      <td>1224028800</td>\n",
              "      <td>COFFEE TASTE</td>\n",
              "      <td>A little less than I expected.  It tends to ha...</td>\n",
              "    </tr>\n",
              "    <tr>\n",
              "      <th>3</th>\n",
              "      <td>433955</td>\n",
              "      <td>B006BXV14E</td>\n",
              "      <td>rareoopdvds</td>\n",
              "      <td>2</td>\n",
              "      <td>1335312000</td>\n",
              "      <td>So the Mini-Wheats were too big?</td>\n",
              "      <td>First there was Frosted Mini-Wheats, in origin...</td>\n",
              "    </tr>\n",
              "    <tr>\n",
              "      <th>4</th>\n",
              "      <td>70261</td>\n",
              "      <td>B007I7Z3Z0</td>\n",
              "      <td>Og8ys1</td>\n",
              "      <td>5</td>\n",
              "      <td>1334707200</td>\n",
              "      <td>Great Taste . . .</td>\n",
              "      <td>and I want to congratulate the graphic artist ...</td>\n",
              "    </tr>\n",
              "  </tbody>\n",
              "</table>\n",
              "</div>\n",
              "    <div class=\"colab-df-buttons\">\n",
              "\n",
              "  <div class=\"colab-df-container\">\n",
              "    <button class=\"colab-df-convert\" onclick=\"convertToInteractive('df-9fec3afb-f1a7-4896-8f93-d3301fa14469')\"\n",
              "            title=\"Convert this dataframe to an interactive table.\"\n",
              "            style=\"display:none;\">\n",
              "\n",
              "  <svg xmlns=\"http://www.w3.org/2000/svg\" height=\"24px\" viewBox=\"0 -960 960 960\">\n",
              "    <path d=\"M120-120v-720h720v720H120Zm60-500h600v-160H180v160Zm220 220h160v-160H400v160Zm0 220h160v-160H400v160ZM180-400h160v-160H180v160Zm440 0h160v-160H620v160ZM180-180h160v-160H180v160Zm440 0h160v-160H620v160Z\"/>\n",
              "  </svg>\n",
              "    </button>\n",
              "\n",
              "  <style>\n",
              "    .colab-df-container {\n",
              "      display:flex;\n",
              "      gap: 12px;\n",
              "    }\n",
              "\n",
              "    .colab-df-convert {\n",
              "      background-color: #E8F0FE;\n",
              "      border: none;\n",
              "      border-radius: 50%;\n",
              "      cursor: pointer;\n",
              "      display: none;\n",
              "      fill: #1967D2;\n",
              "      height: 32px;\n",
              "      padding: 0 0 0 0;\n",
              "      width: 32px;\n",
              "    }\n",
              "\n",
              "    .colab-df-convert:hover {\n",
              "      background-color: #E2EBFA;\n",
              "      box-shadow: 0px 1px 2px rgba(60, 64, 67, 0.3), 0px 1px 3px 1px rgba(60, 64, 67, 0.15);\n",
              "      fill: #174EA6;\n",
              "    }\n",
              "\n",
              "    .colab-df-buttons div {\n",
              "      margin-bottom: 4px;\n",
              "    }\n",
              "\n",
              "    [theme=dark] .colab-df-convert {\n",
              "      background-color: #3B4455;\n",
              "      fill: #D2E3FC;\n",
              "    }\n",
              "\n",
              "    [theme=dark] .colab-df-convert:hover {\n",
              "      background-color: #434B5C;\n",
              "      box-shadow: 0px 1px 3px 1px rgba(0, 0, 0, 0.15);\n",
              "      filter: drop-shadow(0px 1px 2px rgba(0, 0, 0, 0.3));\n",
              "      fill: #FFFFFF;\n",
              "    }\n",
              "  </style>\n",
              "\n",
              "    <script>\n",
              "      const buttonEl =\n",
              "        document.querySelector('#df-9fec3afb-f1a7-4896-8f93-d3301fa14469 button.colab-df-convert');\n",
              "      buttonEl.style.display =\n",
              "        google.colab.kernel.accessAllowed ? 'block' : 'none';\n",
              "\n",
              "      async function convertToInteractive(key) {\n",
              "        const element = document.querySelector('#df-9fec3afb-f1a7-4896-8f93-d3301fa14469');\n",
              "        const dataTable =\n",
              "          await google.colab.kernel.invokeFunction('convertToInteractive',\n",
              "                                                    [key], {});\n",
              "        if (!dataTable) return;\n",
              "\n",
              "        const docLinkHtml = 'Like what you see? Visit the ' +\n",
              "          '<a target=\"_blank\" href=https://colab.research.google.com/notebooks/data_table.ipynb>data table notebook</a>'\n",
              "          + ' to learn more about interactive tables.';\n",
              "        element.innerHTML = '';\n",
              "        dataTable['output_type'] = 'display_data';\n",
              "        await google.colab.output.renderOutput(dataTable, element);\n",
              "        const docLink = document.createElement('div');\n",
              "        docLink.innerHTML = docLinkHtml;\n",
              "        element.appendChild(docLink);\n",
              "      }\n",
              "    </script>\n",
              "  </div>\n",
              "\n",
              "\n",
              "<div id=\"df-75033212-360f-44df-82b0-86a46c65f4a7\">\n",
              "  <button class=\"colab-df-quickchart\" onclick=\"quickchart('df-75033212-360f-44df-82b0-86a46c65f4a7')\"\n",
              "            title=\"Suggest charts\"\n",
              "            style=\"display:none;\">\n",
              "\n",
              "<svg xmlns=\"http://www.w3.org/2000/svg\" height=\"24px\"viewBox=\"0 0 24 24\"\n",
              "     width=\"24px\">\n",
              "    <g>\n",
              "        <path d=\"M19 3H5c-1.1 0-2 .9-2 2v14c0 1.1.9 2 2 2h14c1.1 0 2-.9 2-2V5c0-1.1-.9-2-2-2zM9 17H7v-7h2v7zm4 0h-2V7h2v10zm4 0h-2v-4h2v4z\"/>\n",
              "    </g>\n",
              "</svg>\n",
              "  </button>\n",
              "\n",
              "<style>\n",
              "  .colab-df-quickchart {\n",
              "      --bg-color: #E8F0FE;\n",
              "      --fill-color: #1967D2;\n",
              "      --hover-bg-color: #E2EBFA;\n",
              "      --hover-fill-color: #174EA6;\n",
              "      --disabled-fill-color: #AAA;\n",
              "      --disabled-bg-color: #DDD;\n",
              "  }\n",
              "\n",
              "  [theme=dark] .colab-df-quickchart {\n",
              "      --bg-color: #3B4455;\n",
              "      --fill-color: #D2E3FC;\n",
              "      --hover-bg-color: #434B5C;\n",
              "      --hover-fill-color: #FFFFFF;\n",
              "      --disabled-bg-color: #3B4455;\n",
              "      --disabled-fill-color: #666;\n",
              "  }\n",
              "\n",
              "  .colab-df-quickchart {\n",
              "    background-color: var(--bg-color);\n",
              "    border: none;\n",
              "    border-radius: 50%;\n",
              "    cursor: pointer;\n",
              "    display: none;\n",
              "    fill: var(--fill-color);\n",
              "    height: 32px;\n",
              "    padding: 0;\n",
              "    width: 32px;\n",
              "  }\n",
              "\n",
              "  .colab-df-quickchart:hover {\n",
              "    background-color: var(--hover-bg-color);\n",
              "    box-shadow: 0 1px 2px rgba(60, 64, 67, 0.3), 0 1px 3px 1px rgba(60, 64, 67, 0.15);\n",
              "    fill: var(--button-hover-fill-color);\n",
              "  }\n",
              "\n",
              "  .colab-df-quickchart-complete:disabled,\n",
              "  .colab-df-quickchart-complete:disabled:hover {\n",
              "    background-color: var(--disabled-bg-color);\n",
              "    fill: var(--disabled-fill-color);\n",
              "    box-shadow: none;\n",
              "  }\n",
              "\n",
              "  .colab-df-spinner {\n",
              "    border: 2px solid var(--fill-color);\n",
              "    border-color: transparent;\n",
              "    border-bottom-color: var(--fill-color);\n",
              "    animation:\n",
              "      spin 1s steps(1) infinite;\n",
              "  }\n",
              "\n",
              "  @keyframes spin {\n",
              "    0% {\n",
              "      border-color: transparent;\n",
              "      border-bottom-color: var(--fill-color);\n",
              "      border-left-color: var(--fill-color);\n",
              "    }\n",
              "    20% {\n",
              "      border-color: transparent;\n",
              "      border-left-color: var(--fill-color);\n",
              "      border-top-color: var(--fill-color);\n",
              "    }\n",
              "    30% {\n",
              "      border-color: transparent;\n",
              "      border-left-color: var(--fill-color);\n",
              "      border-top-color: var(--fill-color);\n",
              "      border-right-color: var(--fill-color);\n",
              "    }\n",
              "    40% {\n",
              "      border-color: transparent;\n",
              "      border-right-color: var(--fill-color);\n",
              "      border-top-color: var(--fill-color);\n",
              "    }\n",
              "    60% {\n",
              "      border-color: transparent;\n",
              "      border-right-color: var(--fill-color);\n",
              "    }\n",
              "    80% {\n",
              "      border-color: transparent;\n",
              "      border-right-color: var(--fill-color);\n",
              "      border-bottom-color: var(--fill-color);\n",
              "    }\n",
              "    90% {\n",
              "      border-color: transparent;\n",
              "      border-bottom-color: var(--fill-color);\n",
              "    }\n",
              "  }\n",
              "</style>\n",
              "\n",
              "  <script>\n",
              "    async function quickchart(key) {\n",
              "      const quickchartButtonEl =\n",
              "        document.querySelector('#' + key + ' button');\n",
              "      quickchartButtonEl.disabled = true;  // To prevent multiple clicks.\n",
              "      quickchartButtonEl.classList.add('colab-df-spinner');\n",
              "      try {\n",
              "        const charts = await google.colab.kernel.invokeFunction(\n",
              "            'suggestCharts', [key], {});\n",
              "      } catch (error) {\n",
              "        console.error('Error during call to suggestCharts:', error);\n",
              "      }\n",
              "      quickchartButtonEl.classList.remove('colab-df-spinner');\n",
              "      quickchartButtonEl.classList.add('colab-df-quickchart-complete');\n",
              "    }\n",
              "    (() => {\n",
              "      let quickchartButtonEl =\n",
              "        document.querySelector('#df-75033212-360f-44df-82b0-86a46c65f4a7 button');\n",
              "      quickchartButtonEl.style.display =\n",
              "        google.colab.kernel.accessAllowed ? 'block' : 'none';\n",
              "    })();\n",
              "  </script>\n",
              "</div>\n",
              "    </div>\n",
              "  </div>\n"
            ],
            "application/vnd.google.colaboratory.intrinsic+json": {
              "type": "dataframe",
              "summary": "{\n  \"name\": \"display(df\",\n  \"rows\": 5,\n  \"fields\": [\n    {\n      \"column\": \"Id\",\n      \"properties\": {\n        \"dtype\": \"number\",\n        \"std\": 161285,\n        \"min\": 70261,\n        \"max\": 433955,\n        \"samples\": [\n          231466,\n          70261,\n          427828\n        ],\n        \"num_unique_values\": 5,\n        \"semantic_type\": \"\",\n        \"description\": \"\"\n      }\n    },\n    {\n      \"column\": \"ProductId\",\n      \"properties\": {\n        \"dtype\": \"string\",\n        \"samples\": [\n          \"B0000BXJIS\",\n          \"B007I7Z3Z0\",\n          \"B008FHUFAU\"\n        ],\n        \"num_unique_values\": 5,\n        \"semantic_type\": \"\",\n        \"description\": \"\"\n      }\n    },\n    {\n      \"column\": \"ProfileName\",\n      \"properties\": {\n        \"dtype\": \"string\",\n        \"samples\": [\n          \"Marty\",\n          \"Og8ys1\",\n          \"Kenneth Shevlin\"\n        ],\n        \"num_unique_values\": 5,\n        \"semantic_type\": \"\",\n        \"description\": \"\"\n      }\n    },\n    {\n      \"column\": \"Score\",\n      \"properties\": {\n        \"dtype\": \"number\",\n        \"std\": 1,\n        \"min\": 2,\n        \"max\": 5,\n        \"samples\": [\n          5,\n          3,\n          2\n        ],\n        \"num_unique_values\": 3,\n        \"semantic_type\": \"\",\n        \"description\": \"\"\n      }\n    },\n    {\n      \"column\": \"Time\",\n      \"properties\": {\n        \"dtype\": \"number\",\n        \"std\": 47263113,\n        \"min\": 1224028800,\n        \"max\": 1335312000,\n        \"samples\": [\n          1298937600,\n          1334707200,\n          1224028800\n        ],\n        \"num_unique_values\": 5,\n        \"semantic_type\": \"\",\n        \"description\": \"\"\n      }\n    },\n    {\n      \"column\": \"Summary\",\n      \"properties\": {\n        \"dtype\": \"string\",\n        \"samples\": [\n          \"great kitty treats\",\n          \"Great Taste . . .\",\n          \"COFFEE TASTE\"\n        ],\n        \"num_unique_values\": 5,\n        \"semantic_type\": \"\",\n        \"description\": \"\"\n      }\n    },\n    {\n      \"column\": \"Text\",\n      \"properties\": {\n        \"dtype\": \"string\",\n        \"samples\": [\n          \"My cat loves these treats. If ever I can't find her in the house, I just pop the top and she bolts out of wherever she was hiding to come get a treat. She doesn't like crunchy treats much, so these are perfect for her. I've given her all three flavors and she seems to like them all equally. They do tend to dry out by the time I near the end of the bottle, however. The flip-top lid is very handy. Very nice, inexpensive kitty treats. I have yet to meet a cat that doesn't just love these!\",\n          \"and I want to congratulate the graphic artist for putting the entire product name on such a small box.  The ad men must have really thought long and hard.<br /><br />But seriously, I love the product. The taste was refreshing and I thought that the taste was pleasing with no aftertaste.  Not too sweet and Goldilocks would have stopped right there if there was a choice of 3.  Easy to use as you just pour the contents into a 16 oz bottle of water and shake.  Mixed well, no granulation, you really couldn't ask for anything more and Lipton like a good drug dealer knows what they are doing, give me a taste for free and have me for life.  5 stars.\",\n          \"A little less than I expected.  It tends to have a muddy taste - not what I expected since they said it was the favorite of the company.\"\n        ],\n        \"num_unique_values\": 5,\n        \"semantic_type\": \"\",\n        \"description\": \"\"\n      }\n    }\n  ]\n}"
            }
          },
          "metadata": {}
        }
      ],
      "source": [
        "# @title\n",
        "df = pd.read_csv('Reviews.csv')\n",
        "N=df.shape[0]\n",
        "print(f\"Información disponible en el dataframe:\\n{list(df.columns)}\\nEl dataframe contiene {N} reseñas\\n\")\n",
        "display(df.loc[:,['Id', 'ProductId', 'ProfileName', 'Score', 'Time', 'Summary', 'Text']].head())"
      ]
    },
    {
      "cell_type": "markdown",
      "id": "f2e0b68c-bd75-4b46-ab01-c439d35c0a95",
      "metadata": {
        "id": "f2e0b68c-bd75-4b46-ab01-c439d35c0a95"
      },
      "source": [
        "Funciones importantes a usar durante el proceso"
      ]
    },
    {
      "cell_type": "code",
      "execution_count": 5,
      "id": "ad138970-7a94-490a-9099-765d22cfc5c1",
      "metadata": {
        "id": "ad138970-7a94-490a-9099-765d22cfc5c1"
      },
      "outputs": [],
      "source": [
        "# @title\n",
        "#Estas funciones se explican posteriormente\n",
        "\n",
        "def group_by_sturges(df, column):\n",
        "    num_bins = int(np.ceil(np.log2(len(df[column])) + 1))\n",
        "    bin_width = (df[column].max() - df[column].min()) / num_bins\n",
        "    bins, bin_edges = pd.cut(df[column], bins=num_bins, include_lowest=True, right=False, retbins=True)\n",
        "\n",
        "    # Generar etiquetas para los intervalos basados en los límites de los intervalos\n",
        "    labels = [f\"[{round(bin_edges[i],2)}-{round(bin_edges[i+1],2)})\" for i in range(len(bin_edges)-1)]\n",
        "    bins = pd.cut(df[column], bins=num_bins, include_lowest=True, right=False, retbins=True, labels=labels)[0]\n",
        "    return bins\n",
        "\n",
        "def group_by_sqrt(df, column):\n",
        "    num_bins = int(math.sqrt(df.shape[0]))\n",
        "    bin_width = (df[column].max() - df[column].min()) / num_bins\n",
        "    bins, bin_edges = pd.cut(df[column], bins=num_bins, include_lowest=True, right=False, retbins=True)\n",
        "\n",
        "    # Generar etiquetas para los intervalos basados en los límites de los intervalos\n",
        "    labels = [f\"[{round(bin_edges[i],2)}-{round(bin_edges[i+1],2)})\" for i in range(len(bin_edges)-1)]\n",
        "    bins = pd.cut(df[column], bins=num_bins, include_lowest=True, right=False, retbins=True, labels=labels)[0]\n",
        "    return bins\n",
        "\n",
        "def marca_de_clase(intervalo):\n",
        "    limite_inferior, limite_superior = map(float, intervalo.strip(\"[]()\").split('-'))\n",
        "    return (limite_inferior + limite_superior) / 2"
      ]
    },
    {
      "cell_type": "markdown",
      "source": [
        "Para complementar la información proporcionada por el dataframe, se crean dos variables adicionales, una llamada *Longitud_Texto* que cuenta el número de palabras en cada reseña y otra, llamada *Num_Palabras_Unicas* que cuenta el número de palabras únicas (es decir sin que se repitan) en cada reseña."
      ],
      "metadata": {
        "id": "L0jmnPxuFLXy"
      },
      "id": "L0jmnPxuFLXy"
    },
    {
      "cell_type": "code",
      "execution_count": 6,
      "id": "5fca7310-2e89-4401-af5e-c3567e11b5d4",
      "metadata": {
        "id": "5fca7310-2e89-4401-af5e-c3567e11b5d4",
        "outputId": "c20a0b83-14bf-4199-dbaf-d8c305848bf9",
        "colab": {
          "base_uri": "https://localhost:8080/",
          "height": 293
        }
      },
      "outputs": [
        {
          "output_type": "display_data",
          "data": {
            "text/plain": [
              "       Id  Score                                       Summary  \\\n",
              "0  165257      5  Crunchy & Good Gluten-Free Sandwich Cookies!   \n",
              "1  231466      5                            great kitty treats   \n",
              "2  427828      3                                  COFFEE TASTE   \n",
              "3  433955      2              So the Mini-Wheats were too big?   \n",
              "4   70261      5                             Great Taste . . .   \n",
              "\n",
              "                                                Text  Longitud_Texto  \\\n",
              "0  Having tried a couple of other brands of glute...              84   \n",
              "1  My cat loves these treats. If ever I can't fin...              99   \n",
              "2  A little less than I expected.  It tends to ha...              28   \n",
              "3  First there was Frosted Mini-Wheats, in origin...             294   \n",
              "4  and I want to congratulate the graphic artist ...             122   \n",
              "\n",
              "   Num_Palabras_Unicas  \n",
              "0                   64  \n",
              "1                   75  \n",
              "2                   26  \n",
              "3                  191  \n",
              "4                   88  "
            ],
            "text/html": [
              "\n",
              "  <div id=\"df-6c6d2637-6e7c-43e8-b703-56aa53bf645d\" class=\"colab-df-container\">\n",
              "    <div>\n",
              "<style scoped>\n",
              "    .dataframe tbody tr th:only-of-type {\n",
              "        vertical-align: middle;\n",
              "    }\n",
              "\n",
              "    .dataframe tbody tr th {\n",
              "        vertical-align: top;\n",
              "    }\n",
              "\n",
              "    .dataframe thead th {\n",
              "        text-align: right;\n",
              "    }\n",
              "</style>\n",
              "<table border=\"1\" class=\"dataframe\">\n",
              "  <thead>\n",
              "    <tr style=\"text-align: right;\">\n",
              "      <th></th>\n",
              "      <th>Id</th>\n",
              "      <th>Score</th>\n",
              "      <th>Summary</th>\n",
              "      <th>Text</th>\n",
              "      <th>Longitud_Texto</th>\n",
              "      <th>Num_Palabras_Unicas</th>\n",
              "    </tr>\n",
              "  </thead>\n",
              "  <tbody>\n",
              "    <tr>\n",
              "      <th>0</th>\n",
              "      <td>165257</td>\n",
              "      <td>5</td>\n",
              "      <td>Crunchy &amp; Good Gluten-Free Sandwich Cookies!</td>\n",
              "      <td>Having tried a couple of other brands of glute...</td>\n",
              "      <td>84</td>\n",
              "      <td>64</td>\n",
              "    </tr>\n",
              "    <tr>\n",
              "      <th>1</th>\n",
              "      <td>231466</td>\n",
              "      <td>5</td>\n",
              "      <td>great kitty treats</td>\n",
              "      <td>My cat loves these treats. If ever I can't fin...</td>\n",
              "      <td>99</td>\n",
              "      <td>75</td>\n",
              "    </tr>\n",
              "    <tr>\n",
              "      <th>2</th>\n",
              "      <td>427828</td>\n",
              "      <td>3</td>\n",
              "      <td>COFFEE TASTE</td>\n",
              "      <td>A little less than I expected.  It tends to ha...</td>\n",
              "      <td>28</td>\n",
              "      <td>26</td>\n",
              "    </tr>\n",
              "    <tr>\n",
              "      <th>3</th>\n",
              "      <td>433955</td>\n",
              "      <td>2</td>\n",
              "      <td>So the Mini-Wheats were too big?</td>\n",
              "      <td>First there was Frosted Mini-Wheats, in origin...</td>\n",
              "      <td>294</td>\n",
              "      <td>191</td>\n",
              "    </tr>\n",
              "    <tr>\n",
              "      <th>4</th>\n",
              "      <td>70261</td>\n",
              "      <td>5</td>\n",
              "      <td>Great Taste . . .</td>\n",
              "      <td>and I want to congratulate the graphic artist ...</td>\n",
              "      <td>122</td>\n",
              "      <td>88</td>\n",
              "    </tr>\n",
              "  </tbody>\n",
              "</table>\n",
              "</div>\n",
              "    <div class=\"colab-df-buttons\">\n",
              "\n",
              "  <div class=\"colab-df-container\">\n",
              "    <button class=\"colab-df-convert\" onclick=\"convertToInteractive('df-6c6d2637-6e7c-43e8-b703-56aa53bf645d')\"\n",
              "            title=\"Convert this dataframe to an interactive table.\"\n",
              "            style=\"display:none;\">\n",
              "\n",
              "  <svg xmlns=\"http://www.w3.org/2000/svg\" height=\"24px\" viewBox=\"0 -960 960 960\">\n",
              "    <path d=\"M120-120v-720h720v720H120Zm60-500h600v-160H180v160Zm220 220h160v-160H400v160Zm0 220h160v-160H400v160ZM180-400h160v-160H180v160Zm440 0h160v-160H620v160ZM180-180h160v-160H180v160Zm440 0h160v-160H620v160Z\"/>\n",
              "  </svg>\n",
              "    </button>\n",
              "\n",
              "  <style>\n",
              "    .colab-df-container {\n",
              "      display:flex;\n",
              "      gap: 12px;\n",
              "    }\n",
              "\n",
              "    .colab-df-convert {\n",
              "      background-color: #E8F0FE;\n",
              "      border: none;\n",
              "      border-radius: 50%;\n",
              "      cursor: pointer;\n",
              "      display: none;\n",
              "      fill: #1967D2;\n",
              "      height: 32px;\n",
              "      padding: 0 0 0 0;\n",
              "      width: 32px;\n",
              "    }\n",
              "\n",
              "    .colab-df-convert:hover {\n",
              "      background-color: #E2EBFA;\n",
              "      box-shadow: 0px 1px 2px rgba(60, 64, 67, 0.3), 0px 1px 3px 1px rgba(60, 64, 67, 0.15);\n",
              "      fill: #174EA6;\n",
              "    }\n",
              "\n",
              "    .colab-df-buttons div {\n",
              "      margin-bottom: 4px;\n",
              "    }\n",
              "\n",
              "    [theme=dark] .colab-df-convert {\n",
              "      background-color: #3B4455;\n",
              "      fill: #D2E3FC;\n",
              "    }\n",
              "\n",
              "    [theme=dark] .colab-df-convert:hover {\n",
              "      background-color: #434B5C;\n",
              "      box-shadow: 0px 1px 3px 1px rgba(0, 0, 0, 0.15);\n",
              "      filter: drop-shadow(0px 1px 2px rgba(0, 0, 0, 0.3));\n",
              "      fill: #FFFFFF;\n",
              "    }\n",
              "  </style>\n",
              "\n",
              "    <script>\n",
              "      const buttonEl =\n",
              "        document.querySelector('#df-6c6d2637-6e7c-43e8-b703-56aa53bf645d button.colab-df-convert');\n",
              "      buttonEl.style.display =\n",
              "        google.colab.kernel.accessAllowed ? 'block' : 'none';\n",
              "\n",
              "      async function convertToInteractive(key) {\n",
              "        const element = document.querySelector('#df-6c6d2637-6e7c-43e8-b703-56aa53bf645d');\n",
              "        const dataTable =\n",
              "          await google.colab.kernel.invokeFunction('convertToInteractive',\n",
              "                                                    [key], {});\n",
              "        if (!dataTable) return;\n",
              "\n",
              "        const docLinkHtml = 'Like what you see? Visit the ' +\n",
              "          '<a target=\"_blank\" href=https://colab.research.google.com/notebooks/data_table.ipynb>data table notebook</a>'\n",
              "          + ' to learn more about interactive tables.';\n",
              "        element.innerHTML = '';\n",
              "        dataTable['output_type'] = 'display_data';\n",
              "        await google.colab.output.renderOutput(dataTable, element);\n",
              "        const docLink = document.createElement('div');\n",
              "        docLink.innerHTML = docLinkHtml;\n",
              "        element.appendChild(docLink);\n",
              "      }\n",
              "    </script>\n",
              "  </div>\n",
              "\n",
              "\n",
              "<div id=\"df-17849b8a-f3d2-4872-8c1a-36e94be429bd\">\n",
              "  <button class=\"colab-df-quickchart\" onclick=\"quickchart('df-17849b8a-f3d2-4872-8c1a-36e94be429bd')\"\n",
              "            title=\"Suggest charts\"\n",
              "            style=\"display:none;\">\n",
              "\n",
              "<svg xmlns=\"http://www.w3.org/2000/svg\" height=\"24px\"viewBox=\"0 0 24 24\"\n",
              "     width=\"24px\">\n",
              "    <g>\n",
              "        <path d=\"M19 3H5c-1.1 0-2 .9-2 2v14c0 1.1.9 2 2 2h14c1.1 0 2-.9 2-2V5c0-1.1-.9-2-2-2zM9 17H7v-7h2v7zm4 0h-2V7h2v10zm4 0h-2v-4h2v4z\"/>\n",
              "    </g>\n",
              "</svg>\n",
              "  </button>\n",
              "\n",
              "<style>\n",
              "  .colab-df-quickchart {\n",
              "      --bg-color: #E8F0FE;\n",
              "      --fill-color: #1967D2;\n",
              "      --hover-bg-color: #E2EBFA;\n",
              "      --hover-fill-color: #174EA6;\n",
              "      --disabled-fill-color: #AAA;\n",
              "      --disabled-bg-color: #DDD;\n",
              "  }\n",
              "\n",
              "  [theme=dark] .colab-df-quickchart {\n",
              "      --bg-color: #3B4455;\n",
              "      --fill-color: #D2E3FC;\n",
              "      --hover-bg-color: #434B5C;\n",
              "      --hover-fill-color: #FFFFFF;\n",
              "      --disabled-bg-color: #3B4455;\n",
              "      --disabled-fill-color: #666;\n",
              "  }\n",
              "\n",
              "  .colab-df-quickchart {\n",
              "    background-color: var(--bg-color);\n",
              "    border: none;\n",
              "    border-radius: 50%;\n",
              "    cursor: pointer;\n",
              "    display: none;\n",
              "    fill: var(--fill-color);\n",
              "    height: 32px;\n",
              "    padding: 0;\n",
              "    width: 32px;\n",
              "  }\n",
              "\n",
              "  .colab-df-quickchart:hover {\n",
              "    background-color: var(--hover-bg-color);\n",
              "    box-shadow: 0 1px 2px rgba(60, 64, 67, 0.3), 0 1px 3px 1px rgba(60, 64, 67, 0.15);\n",
              "    fill: var(--button-hover-fill-color);\n",
              "  }\n",
              "\n",
              "  .colab-df-quickchart-complete:disabled,\n",
              "  .colab-df-quickchart-complete:disabled:hover {\n",
              "    background-color: var(--disabled-bg-color);\n",
              "    fill: var(--disabled-fill-color);\n",
              "    box-shadow: none;\n",
              "  }\n",
              "\n",
              "  .colab-df-spinner {\n",
              "    border: 2px solid var(--fill-color);\n",
              "    border-color: transparent;\n",
              "    border-bottom-color: var(--fill-color);\n",
              "    animation:\n",
              "      spin 1s steps(1) infinite;\n",
              "  }\n",
              "\n",
              "  @keyframes spin {\n",
              "    0% {\n",
              "      border-color: transparent;\n",
              "      border-bottom-color: var(--fill-color);\n",
              "      border-left-color: var(--fill-color);\n",
              "    }\n",
              "    20% {\n",
              "      border-color: transparent;\n",
              "      border-left-color: var(--fill-color);\n",
              "      border-top-color: var(--fill-color);\n",
              "    }\n",
              "    30% {\n",
              "      border-color: transparent;\n",
              "      border-left-color: var(--fill-color);\n",
              "      border-top-color: var(--fill-color);\n",
              "      border-right-color: var(--fill-color);\n",
              "    }\n",
              "    40% {\n",
              "      border-color: transparent;\n",
              "      border-right-color: var(--fill-color);\n",
              "      border-top-color: var(--fill-color);\n",
              "    }\n",
              "    60% {\n",
              "      border-color: transparent;\n",
              "      border-right-color: var(--fill-color);\n",
              "    }\n",
              "    80% {\n",
              "      border-color: transparent;\n",
              "      border-right-color: var(--fill-color);\n",
              "      border-bottom-color: var(--fill-color);\n",
              "    }\n",
              "    90% {\n",
              "      border-color: transparent;\n",
              "      border-bottom-color: var(--fill-color);\n",
              "    }\n",
              "  }\n",
              "</style>\n",
              "\n",
              "  <script>\n",
              "    async function quickchart(key) {\n",
              "      const quickchartButtonEl =\n",
              "        document.querySelector('#' + key + ' button');\n",
              "      quickchartButtonEl.disabled = true;  // To prevent multiple clicks.\n",
              "      quickchartButtonEl.classList.add('colab-df-spinner');\n",
              "      try {\n",
              "        const charts = await google.colab.kernel.invokeFunction(\n",
              "            'suggestCharts', [key], {});\n",
              "      } catch (error) {\n",
              "        console.error('Error during call to suggestCharts:', error);\n",
              "      }\n",
              "      quickchartButtonEl.classList.remove('colab-df-spinner');\n",
              "      quickchartButtonEl.classList.add('colab-df-quickchart-complete');\n",
              "    }\n",
              "    (() => {\n",
              "      let quickchartButtonEl =\n",
              "        document.querySelector('#df-17849b8a-f3d2-4872-8c1a-36e94be429bd button');\n",
              "      quickchartButtonEl.style.display =\n",
              "        google.colab.kernel.accessAllowed ? 'block' : 'none';\n",
              "    })();\n",
              "  </script>\n",
              "</div>\n",
              "    </div>\n",
              "  </div>\n"
            ],
            "application/vnd.google.colaboratory.intrinsic+json": {
              "type": "dataframe",
              "summary": "{\n  \"name\": \"display(df\",\n  \"rows\": 5,\n  \"fields\": [\n    {\n      \"column\": \"Id\",\n      \"properties\": {\n        \"dtype\": \"number\",\n        \"std\": 161285,\n        \"min\": 70261,\n        \"max\": 433955,\n        \"samples\": [\n          231466,\n          70261,\n          427828\n        ],\n        \"num_unique_values\": 5,\n        \"semantic_type\": \"\",\n        \"description\": \"\"\n      }\n    },\n    {\n      \"column\": \"Score\",\n      \"properties\": {\n        \"dtype\": \"number\",\n        \"std\": 1,\n        \"min\": 2,\n        \"max\": 5,\n        \"samples\": [\n          5,\n          3,\n          2\n        ],\n        \"num_unique_values\": 3,\n        \"semantic_type\": \"\",\n        \"description\": \"\"\n      }\n    },\n    {\n      \"column\": \"Summary\",\n      \"properties\": {\n        \"dtype\": \"string\",\n        \"samples\": [\n          \"great kitty treats\",\n          \"Great Taste . . .\",\n          \"COFFEE TASTE\"\n        ],\n        \"num_unique_values\": 5,\n        \"semantic_type\": \"\",\n        \"description\": \"\"\n      }\n    },\n    {\n      \"column\": \"Text\",\n      \"properties\": {\n        \"dtype\": \"string\",\n        \"samples\": [\n          \"My cat loves these treats. If ever I can't find her in the house, I just pop the top and she bolts out of wherever she was hiding to come get a treat. She doesn't like crunchy treats much, so these are perfect for her. I've given her all three flavors and she seems to like them all equally. They do tend to dry out by the time I near the end of the bottle, however. The flip-top lid is very handy. Very nice, inexpensive kitty treats. I have yet to meet a cat that doesn't just love these!\",\n          \"and I want to congratulate the graphic artist for putting the entire product name on such a small box.  The ad men must have really thought long and hard.<br /><br />But seriously, I love the product. The taste was refreshing and I thought that the taste was pleasing with no aftertaste.  Not too sweet and Goldilocks would have stopped right there if there was a choice of 3.  Easy to use as you just pour the contents into a 16 oz bottle of water and shake.  Mixed well, no granulation, you really couldn't ask for anything more and Lipton like a good drug dealer knows what they are doing, give me a taste for free and have me for life.  5 stars.\",\n          \"A little less than I expected.  It tends to have a muddy taste - not what I expected since they said it was the favorite of the company.\"\n        ],\n        \"num_unique_values\": 5,\n        \"semantic_type\": \"\",\n        \"description\": \"\"\n      }\n    },\n    {\n      \"column\": \"Longitud_Texto\",\n      \"properties\": {\n        \"dtype\": \"number\",\n        \"std\": 100,\n        \"min\": 28,\n        \"max\": 294,\n        \"samples\": [\n          99,\n          122,\n          28\n        ],\n        \"num_unique_values\": 5,\n        \"semantic_type\": \"\",\n        \"description\": \"\"\n      }\n    },\n    {\n      \"column\": \"Num_Palabras_Unicas\",\n      \"properties\": {\n        \"dtype\": \"number\",\n        \"std\": 61,\n        \"min\": 26,\n        \"max\": 191,\n        \"samples\": [\n          75,\n          88,\n          26\n        ],\n        \"num_unique_values\": 5,\n        \"semantic_type\": \"\",\n        \"description\": \"\"\n      }\n    }\n  ]\n}"
            }
          },
          "metadata": {}
        }
      ],
      "source": [
        "# @title\n",
        "# Creamos una nueva variable que contiene el número de palabras que componene\n",
        "# Contar la longitud de las palabras en la columna 'texto'\n",
        "df['Longitud_Texto'] = df['Text'].apply(lambda x: len(x.split()))\n",
        "# Calcula el número de palabras únicas en la columna 'Text'\n",
        "df['Num_Palabras_Unicas'] = df['Text'].apply(lambda x: len(set(x.split())))\n",
        "\n",
        "display(df.loc[:,['Id','Score', 'Summary', 'Text','Longitud_Texto','Num_Palabras_Unicas']].head())\n"
      ]
    },
    {
      "cell_type": "markdown",
      "id": "4422bf7e-3ff6-4841-aafd-8cb875bd3403",
      "metadata": {
        "id": "4422bf7e-3ff6-4841-aafd-8cb875bd3403"
      },
      "source": [
        "## TABLA DE FRECUENCIAS"
      ]
    },
    {
      "cell_type": "markdown",
      "source": [
        "También denominadas tabulaciones, resumen los datos de una variable.\n",
        "\n",
        "Para cada valor observado $𝑥_{𝑖}$, en la tabla se indica:\n",
        "* La frecuencia absoluta $𝑛_{𝑖}$ es el número de veces que se da el valor $𝑥_{𝑖}$.\n",
        "* La frecuencia relativa $𝑓_{𝑖}=\\frac{𝑛_{𝑖}}{𝑁}$ donde $𝑁$ es el número de casos. Notas:\n",
        "    * $0 < f_{𝑖} \\leq1$, representa la proporción de $𝑥_{𝑖}$;\n",
        "    * se suele expresar en porcentaje: $𝑓_{𝑖}\\times100$%.\n",
        "\n",
        "Si la variable es cuantitativa o si es ordinal (esto es, sus valores se pueden ordenar), ordenamos los valores observados de manera creciente $𝑥_{1}<𝑥_{2}<⋯$ y también indicamos:\n",
        "* La frecuencia absoluta acumulada $𝑁_{𝑖}=𝑛_{1}+𝑛_{2}+⋯+𝑛_{𝑖}$ es el número de casos menores o iguales que $𝑥_{𝑖}$.\n",
        "* La frecuencia relativa acumulada $𝐹_{𝑖}=𝑓_{1}+𝑓_{2}+⋯+𝑓_{𝑖}$ . Notas:\n",
        "    * $0 < F_{𝑖} \\leq1$, representa la proporción de valores menores o iguales que $𝑥_{𝑖}$;\n",
        "    * también se suele expresar en tanto por ciento: $𝐹_{𝑖}\\times100$%.\n"
      ],
      "metadata": {
        "id": "sBER9zdtGDCE"
      },
      "id": "sBER9zdtGDCE"
    },
    {
      "cell_type": "markdown",
      "source": [
        "**Ejercicio:**\n",
        "\n",
        "Crear la tabla de frecuencias de la variable *longitud de palabras*:"
      ],
      "metadata": {
        "id": "puYoZMcxJuw1"
      },
      "id": "puYoZMcxJuw1"
    },
    {
      "cell_type": "code",
      "execution_count": 7,
      "id": "04cab4e4-a39f-4371-bd52-27e664180b0c",
      "metadata": {
        "id": "04cab4e4-a39f-4371-bd52-27e664180b0c",
        "outputId": "09334d4c-a59a-4167-af62-3312e9991690",
        "colab": {
          "base_uri": "https://localhost:8080/",
          "height": 493
        }
      },
      "outputs": [
        {
          "output_type": "stream",
          "name": "stdout",
          "text": [
            "Tabla de frecuencias de la columna\n",
            "'Longitud del texto\n",
            "(número de palabras dentro de cada reseña)':\n",
            "\n"
          ]
        },
        {
          "output_type": "display_data",
          "data": {
            "text/plain": [
              "      x_i  n_i       f_i    N_i       F_i\n",
              "0       6    1  0.000022      1  0.000022\n",
              "1       7    5  0.000110      6  0.000132\n",
              "2       9    1  0.000022      7  0.000154\n",
              "3      10    3  0.000066     10  0.000220\n",
              "4      11    7  0.000154     17  0.000374\n",
              "..    ...  ...       ...    ...       ...\n",
              "593  1447    1  0.000022  45472  0.999912\n",
              "594  1513    1  0.000022  45473  0.999934\n",
              "595  1600    1  0.000022  45474  0.999956\n",
              "596  1736    1  0.000022  45475  0.999978\n",
              "597  1901    1  0.000022  45476  1.000000\n",
              "\n",
              "[598 rows x 5 columns]"
            ],
            "text/html": [
              "\n",
              "  <div id=\"df-1b41d2b0-9204-49e0-bc34-525578e248df\" class=\"colab-df-container\">\n",
              "    <div>\n",
              "<style scoped>\n",
              "    .dataframe tbody tr th:only-of-type {\n",
              "        vertical-align: middle;\n",
              "    }\n",
              "\n",
              "    .dataframe tbody tr th {\n",
              "        vertical-align: top;\n",
              "    }\n",
              "\n",
              "    .dataframe thead th {\n",
              "        text-align: right;\n",
              "    }\n",
              "</style>\n",
              "<table border=\"1\" class=\"dataframe\">\n",
              "  <thead>\n",
              "    <tr style=\"text-align: right;\">\n",
              "      <th></th>\n",
              "      <th>x_i</th>\n",
              "      <th>n_i</th>\n",
              "      <th>f_i</th>\n",
              "      <th>N_i</th>\n",
              "      <th>F_i</th>\n",
              "    </tr>\n",
              "  </thead>\n",
              "  <tbody>\n",
              "    <tr>\n",
              "      <th>0</th>\n",
              "      <td>6</td>\n",
              "      <td>1</td>\n",
              "      <td>0.000022</td>\n",
              "      <td>1</td>\n",
              "      <td>0.000022</td>\n",
              "    </tr>\n",
              "    <tr>\n",
              "      <th>1</th>\n",
              "      <td>7</td>\n",
              "      <td>5</td>\n",
              "      <td>0.000110</td>\n",
              "      <td>6</td>\n",
              "      <td>0.000132</td>\n",
              "    </tr>\n",
              "    <tr>\n",
              "      <th>2</th>\n",
              "      <td>9</td>\n",
              "      <td>1</td>\n",
              "      <td>0.000022</td>\n",
              "      <td>7</td>\n",
              "      <td>0.000154</td>\n",
              "    </tr>\n",
              "    <tr>\n",
              "      <th>3</th>\n",
              "      <td>10</td>\n",
              "      <td>3</td>\n",
              "      <td>0.000066</td>\n",
              "      <td>10</td>\n",
              "      <td>0.000220</td>\n",
              "    </tr>\n",
              "    <tr>\n",
              "      <th>4</th>\n",
              "      <td>11</td>\n",
              "      <td>7</td>\n",
              "      <td>0.000154</td>\n",
              "      <td>17</td>\n",
              "      <td>0.000374</td>\n",
              "    </tr>\n",
              "    <tr>\n",
              "      <th>...</th>\n",
              "      <td>...</td>\n",
              "      <td>...</td>\n",
              "      <td>...</td>\n",
              "      <td>...</td>\n",
              "      <td>...</td>\n",
              "    </tr>\n",
              "    <tr>\n",
              "      <th>593</th>\n",
              "      <td>1447</td>\n",
              "      <td>1</td>\n",
              "      <td>0.000022</td>\n",
              "      <td>45472</td>\n",
              "      <td>0.999912</td>\n",
              "    </tr>\n",
              "    <tr>\n",
              "      <th>594</th>\n",
              "      <td>1513</td>\n",
              "      <td>1</td>\n",
              "      <td>0.000022</td>\n",
              "      <td>45473</td>\n",
              "      <td>0.999934</td>\n",
              "    </tr>\n",
              "    <tr>\n",
              "      <th>595</th>\n",
              "      <td>1600</td>\n",
              "      <td>1</td>\n",
              "      <td>0.000022</td>\n",
              "      <td>45474</td>\n",
              "      <td>0.999956</td>\n",
              "    </tr>\n",
              "    <tr>\n",
              "      <th>596</th>\n",
              "      <td>1736</td>\n",
              "      <td>1</td>\n",
              "      <td>0.000022</td>\n",
              "      <td>45475</td>\n",
              "      <td>0.999978</td>\n",
              "    </tr>\n",
              "    <tr>\n",
              "      <th>597</th>\n",
              "      <td>1901</td>\n",
              "      <td>1</td>\n",
              "      <td>0.000022</td>\n",
              "      <td>45476</td>\n",
              "      <td>1.000000</td>\n",
              "    </tr>\n",
              "  </tbody>\n",
              "</table>\n",
              "<p>598 rows × 5 columns</p>\n",
              "</div>\n",
              "    <div class=\"colab-df-buttons\">\n",
              "\n",
              "  <div class=\"colab-df-container\">\n",
              "    <button class=\"colab-df-convert\" onclick=\"convertToInteractive('df-1b41d2b0-9204-49e0-bc34-525578e248df')\"\n",
              "            title=\"Convert this dataframe to an interactive table.\"\n",
              "            style=\"display:none;\">\n",
              "\n",
              "  <svg xmlns=\"http://www.w3.org/2000/svg\" height=\"24px\" viewBox=\"0 -960 960 960\">\n",
              "    <path d=\"M120-120v-720h720v720H120Zm60-500h600v-160H180v160Zm220 220h160v-160H400v160Zm0 220h160v-160H400v160ZM180-400h160v-160H180v160Zm440 0h160v-160H620v160ZM180-180h160v-160H180v160Zm440 0h160v-160H620v160Z\"/>\n",
              "  </svg>\n",
              "    </button>\n",
              "\n",
              "  <style>\n",
              "    .colab-df-container {\n",
              "      display:flex;\n",
              "      gap: 12px;\n",
              "    }\n",
              "\n",
              "    .colab-df-convert {\n",
              "      background-color: #E8F0FE;\n",
              "      border: none;\n",
              "      border-radius: 50%;\n",
              "      cursor: pointer;\n",
              "      display: none;\n",
              "      fill: #1967D2;\n",
              "      height: 32px;\n",
              "      padding: 0 0 0 0;\n",
              "      width: 32px;\n",
              "    }\n",
              "\n",
              "    .colab-df-convert:hover {\n",
              "      background-color: #E2EBFA;\n",
              "      box-shadow: 0px 1px 2px rgba(60, 64, 67, 0.3), 0px 1px 3px 1px rgba(60, 64, 67, 0.15);\n",
              "      fill: #174EA6;\n",
              "    }\n",
              "\n",
              "    .colab-df-buttons div {\n",
              "      margin-bottom: 4px;\n",
              "    }\n",
              "\n",
              "    [theme=dark] .colab-df-convert {\n",
              "      background-color: #3B4455;\n",
              "      fill: #D2E3FC;\n",
              "    }\n",
              "\n",
              "    [theme=dark] .colab-df-convert:hover {\n",
              "      background-color: #434B5C;\n",
              "      box-shadow: 0px 1px 3px 1px rgba(0, 0, 0, 0.15);\n",
              "      filter: drop-shadow(0px 1px 2px rgba(0, 0, 0, 0.3));\n",
              "      fill: #FFFFFF;\n",
              "    }\n",
              "  </style>\n",
              "\n",
              "    <script>\n",
              "      const buttonEl =\n",
              "        document.querySelector('#df-1b41d2b0-9204-49e0-bc34-525578e248df button.colab-df-convert');\n",
              "      buttonEl.style.display =\n",
              "        google.colab.kernel.accessAllowed ? 'block' : 'none';\n",
              "\n",
              "      async function convertToInteractive(key) {\n",
              "        const element = document.querySelector('#df-1b41d2b0-9204-49e0-bc34-525578e248df');\n",
              "        const dataTable =\n",
              "          await google.colab.kernel.invokeFunction('convertToInteractive',\n",
              "                                                    [key], {});\n",
              "        if (!dataTable) return;\n",
              "\n",
              "        const docLinkHtml = 'Like what you see? Visit the ' +\n",
              "          '<a target=\"_blank\" href=https://colab.research.google.com/notebooks/data_table.ipynb>data table notebook</a>'\n",
              "          + ' to learn more about interactive tables.';\n",
              "        element.innerHTML = '';\n",
              "        dataTable['output_type'] = 'display_data';\n",
              "        await google.colab.output.renderOutput(dataTable, element);\n",
              "        const docLink = document.createElement('div');\n",
              "        docLink.innerHTML = docLinkHtml;\n",
              "        element.appendChild(docLink);\n",
              "      }\n",
              "    </script>\n",
              "  </div>\n",
              "\n",
              "\n",
              "<div id=\"df-19f031c7-32d3-4608-a41f-d49509d4d77a\">\n",
              "  <button class=\"colab-df-quickchart\" onclick=\"quickchart('df-19f031c7-32d3-4608-a41f-d49509d4d77a')\"\n",
              "            title=\"Suggest charts\"\n",
              "            style=\"display:none;\">\n",
              "\n",
              "<svg xmlns=\"http://www.w3.org/2000/svg\" height=\"24px\"viewBox=\"0 0 24 24\"\n",
              "     width=\"24px\">\n",
              "    <g>\n",
              "        <path d=\"M19 3H5c-1.1 0-2 .9-2 2v14c0 1.1.9 2 2 2h14c1.1 0 2-.9 2-2V5c0-1.1-.9-2-2-2zM9 17H7v-7h2v7zm4 0h-2V7h2v10zm4 0h-2v-4h2v4z\"/>\n",
              "    </g>\n",
              "</svg>\n",
              "  </button>\n",
              "\n",
              "<style>\n",
              "  .colab-df-quickchart {\n",
              "      --bg-color: #E8F0FE;\n",
              "      --fill-color: #1967D2;\n",
              "      --hover-bg-color: #E2EBFA;\n",
              "      --hover-fill-color: #174EA6;\n",
              "      --disabled-fill-color: #AAA;\n",
              "      --disabled-bg-color: #DDD;\n",
              "  }\n",
              "\n",
              "  [theme=dark] .colab-df-quickchart {\n",
              "      --bg-color: #3B4455;\n",
              "      --fill-color: #D2E3FC;\n",
              "      --hover-bg-color: #434B5C;\n",
              "      --hover-fill-color: #FFFFFF;\n",
              "      --disabled-bg-color: #3B4455;\n",
              "      --disabled-fill-color: #666;\n",
              "  }\n",
              "\n",
              "  .colab-df-quickchart {\n",
              "    background-color: var(--bg-color);\n",
              "    border: none;\n",
              "    border-radius: 50%;\n",
              "    cursor: pointer;\n",
              "    display: none;\n",
              "    fill: var(--fill-color);\n",
              "    height: 32px;\n",
              "    padding: 0;\n",
              "    width: 32px;\n",
              "  }\n",
              "\n",
              "  .colab-df-quickchart:hover {\n",
              "    background-color: var(--hover-bg-color);\n",
              "    box-shadow: 0 1px 2px rgba(60, 64, 67, 0.3), 0 1px 3px 1px rgba(60, 64, 67, 0.15);\n",
              "    fill: var(--button-hover-fill-color);\n",
              "  }\n",
              "\n",
              "  .colab-df-quickchart-complete:disabled,\n",
              "  .colab-df-quickchart-complete:disabled:hover {\n",
              "    background-color: var(--disabled-bg-color);\n",
              "    fill: var(--disabled-fill-color);\n",
              "    box-shadow: none;\n",
              "  }\n",
              "\n",
              "  .colab-df-spinner {\n",
              "    border: 2px solid var(--fill-color);\n",
              "    border-color: transparent;\n",
              "    border-bottom-color: var(--fill-color);\n",
              "    animation:\n",
              "      spin 1s steps(1) infinite;\n",
              "  }\n",
              "\n",
              "  @keyframes spin {\n",
              "    0% {\n",
              "      border-color: transparent;\n",
              "      border-bottom-color: var(--fill-color);\n",
              "      border-left-color: var(--fill-color);\n",
              "    }\n",
              "    20% {\n",
              "      border-color: transparent;\n",
              "      border-left-color: var(--fill-color);\n",
              "      border-top-color: var(--fill-color);\n",
              "    }\n",
              "    30% {\n",
              "      border-color: transparent;\n",
              "      border-left-color: var(--fill-color);\n",
              "      border-top-color: var(--fill-color);\n",
              "      border-right-color: var(--fill-color);\n",
              "    }\n",
              "    40% {\n",
              "      border-color: transparent;\n",
              "      border-right-color: var(--fill-color);\n",
              "      border-top-color: var(--fill-color);\n",
              "    }\n",
              "    60% {\n",
              "      border-color: transparent;\n",
              "      border-right-color: var(--fill-color);\n",
              "    }\n",
              "    80% {\n",
              "      border-color: transparent;\n",
              "      border-right-color: var(--fill-color);\n",
              "      border-bottom-color: var(--fill-color);\n",
              "    }\n",
              "    90% {\n",
              "      border-color: transparent;\n",
              "      border-bottom-color: var(--fill-color);\n",
              "    }\n",
              "  }\n",
              "</style>\n",
              "\n",
              "  <script>\n",
              "    async function quickchart(key) {\n",
              "      const quickchartButtonEl =\n",
              "        document.querySelector('#' + key + ' button');\n",
              "      quickchartButtonEl.disabled = true;  // To prevent multiple clicks.\n",
              "      quickchartButtonEl.classList.add('colab-df-spinner');\n",
              "      try {\n",
              "        const charts = await google.colab.kernel.invokeFunction(\n",
              "            'suggestCharts', [key], {});\n",
              "      } catch (error) {\n",
              "        console.error('Error during call to suggestCharts:', error);\n",
              "      }\n",
              "      quickchartButtonEl.classList.remove('colab-df-spinner');\n",
              "      quickchartButtonEl.classList.add('colab-df-quickchart-complete');\n",
              "    }\n",
              "    (() => {\n",
              "      let quickchartButtonEl =\n",
              "        document.querySelector('#df-19f031c7-32d3-4608-a41f-d49509d4d77a button');\n",
              "      quickchartButtonEl.style.display =\n",
              "        google.colab.kernel.accessAllowed ? 'block' : 'none';\n",
              "    })();\n",
              "  </script>\n",
              "</div>\n",
              "    </div>\n",
              "  </div>\n"
            ],
            "application/vnd.google.colaboratory.intrinsic+json": {
              "type": "dataframe",
              "variable_name": "tabla_frecuencias",
              "summary": "{\n  \"name\": \"tabla_frecuencias\",\n  \"rows\": 598,\n  \"fields\": [\n    {\n      \"column\": \"x_i\",\n      \"properties\": {\n        \"dtype\": \"number\",\n        \"std\": 259,\n        \"min\": 6,\n        \"max\": 1901,\n        \"samples\": [\n          117,\n          294,\n          747\n        ],\n        \"num_unique_values\": 598,\n        \"semantic_type\": \"\",\n        \"description\": \"\"\n      }\n    },\n    {\n      \"column\": \"n_i\",\n      \"properties\": {\n        \"dtype\": \"number\",\n        \"std\": 154,\n        \"min\": 1,\n        \"max\": 802,\n        \"samples\": [\n          753,\n          430,\n          31\n        ],\n        \"num_unique_values\": 180,\n        \"semantic_type\": \"\",\n        \"description\": \"\"\n      }\n    },\n    {\n      \"column\": \"f_i\",\n      \"properties\": {\n        \"dtype\": \"number\",\n        \"std\": 0.003389527998888727,\n        \"min\": 2.1989620898935703e-05,\n        \"max\": 0.017635675960946433,\n        \"samples\": [\n          0.016558184536898585,\n          0.009455536986542352,\n          0.0006816782478670068\n        ],\n        \"num_unique_values\": 180,\n        \"semantic_type\": \"\",\n        \"description\": \"\"\n      }\n    },\n    {\n      \"column\": \"N_i\",\n      \"properties\": {\n        \"dtype\": \"number\",\n        \"std\": 10242,\n        \"min\": 1,\n        \"max\": 45476,\n        \"samples\": [\n          37157,\n          44498,\n          45415\n        ],\n        \"num_unique_values\": 598,\n        \"semantic_type\": \"\",\n        \"description\": \"\"\n      }\n    },\n    {\n      \"column\": \"F_i\",\n      \"properties\": {\n        \"dtype\": \"number\",\n        \"std\": 0.22522710255256115,\n        \"min\": 2.1989620898935703e-05,\n        \"max\": 1.0,\n        \"samples\": [\n          0.8170683437417539,\n          0.9784941507608409,\n          0.9986586331251649\n        ],\n        \"num_unique_values\": 598,\n        \"semantic_type\": \"\",\n        \"description\": \"\"\n      }\n    }\n  ]\n}"
            }
          },
          "metadata": {}
        }
      ],
      "source": [
        "# @title\n",
        "#Creamos la tabla de frecuencias de la variable \"longitud de palabras\":\n",
        "\n",
        "frecuencias_long = df['Longitud_Texto'].value_counts()\n",
        "frecuencias_long = frecuencias_long.sort_index()\n",
        "\n",
        "# Calcular la frecuencia relativa\n",
        "frecuencias_relativas = frecuencias_long / len(df)\n",
        "\n",
        "# Calcular las frecuencias acumuladas\n",
        "frecuencias_acumuladas = frecuencias_long.cumsum()\n",
        "\n",
        "# Calcular la frecuencia relativa acumulada\n",
        "frecuencias_relativas_acum = frecuencias_acumuladas / len(df)\n",
        "\n",
        "# Crear DataFrame con las frecuencias\n",
        "tabla_frecuencias = pd.DataFrame({\n",
        "    'x_i': frecuencias_long.index,\n",
        "    'n_i': frecuencias_long.values,\n",
        "    'f_i': frecuencias_relativas.values,\n",
        "    'N_i':frecuencias_acumuladas.values,\n",
        "    'F_i':frecuencias_relativas_acum.values\n",
        "})\n",
        "\n",
        "\n",
        "print(\"Tabla de frecuencias de la columna\\n'Longitud del texto\\n(número de palabras dentro de cada reseña)':\\n\")\n",
        "display(tabla_frecuencias)\n",
        "\n"
      ]
    },
    {
      "cell_type": "markdown",
      "id": "3d95c96a-e15b-4544-98a0-b6f5acb53300",
      "metadata": {
        "id": "3d95c96a-e15b-4544-98a0-b6f5acb53300"
      },
      "source": [
        "### TABLA DE FRECUECIAS POR INTERVALOS"
      ]
    },
    {
      "cell_type": "markdown",
      "source": [
        "Si una variable cuenta con una gran cantidad de valores distintos, como es el caso de la variable *Longitud del texto*, a menudo se resumen en una tabla de frecuencias, reduciéndola por intervalos. En este caso la frecuencia, $𝑛_𝑖$, es el número de casos cuyos valores se encuentran en el 𝑖-ésimo intervalo.\n",
        "\n",
        "***Intervalos***:\n",
        "Cada intervalo está determinado por sus límites. Esto es, el intervalo $𝑎⟷𝑏$ representa los valores comprendidos entre $𝑎$ y $𝑏$.\n",
        "\n",
        "\n",
        "Si se requiere determinar la ubicación de los límites, estos pueden ser referidos con una notación más completa. Generalmente se utilizan intervalos abiertos por la izquierda y cerrados por la derecha: $(𝑎,𝑏]$. Esto es, incluye los valores comprendidos entre $𝑎$ y $𝑏$, $𝑏$ incluido y $𝑎$ excluido.\n",
        "\n",
        "La amplitud de intervalo $𝑎⟷𝑏$ es $𝑏−𝑎$, que también es la amplitud de los intervalos $(𝑎,𝑏]$ y $[𝑎,𝑏)$ (este último intervalo representa los valores mayores o iguales que $𝑎$ y menores que $𝑏$).\n",
        "\n",
        "En las tablas de frecuencias los intervalos pueden ser de amplitud constante (más cómodo) o variable.\n",
        "\n",
        "La densidad de frecuencia de un intervalo es la razón de su frecuencia absoluta sobre su amplitud. El intervalo $𝑖$ con frecuencia absoluta $𝑛_𝑖$ y amplitud $𝑎_𝑖$ tiene una densidad de frecuencia $ℎ_𝑖=𝑛_𝑖/𝑎_𝑖$.\n",
        "\n",
        "\n",
        "En las variables cuantitativas la marca de clase de un intervalo es el valor concreto de la variable que representa cada intervalo, generalmente se toma el punto medio del intervalo. El punto medio de $(𝑎,𝑏]$ es: $(a+b)/2$. Para calcular medidas cuantitativas de una variable reducida por intervalos se usan las marcas de clase.\n",
        "\n",
        "***Algunos métodos disponibles para calcular el número de intervalos:***\n",
        "\n",
        "Llamaremos $k$ al número de intervalos y $N$ al número de datos.\n",
        "\n",
        "Si $N > 100$ $k = [ 10, 20 ]$\n",
        "\n",
        "* Regla de Sturges:\n",
        "\n",
        "$$k = 1 + 3.322 \\log_{10}(N)$$\n",
        "\n",
        "* Regla de la raíz cuadrada: si $N < 100$ no convine que $k > \\sqrt{N}$\n",
        "$$k = \\sqrt{N}$$\n",
        "\n",
        "\n",
        "\n",
        "\n",
        "\n",
        "**Ejemplo**:\n",
        "\n",
        "Resumimos los valores de la variable *Longitud del texto* por unos intervalos indicados.\n",
        "\n",
        "Tras hacer el recuento obtenemos la siguiente tabla."
      ],
      "metadata": {
        "id": "SxCYYKEhD2Bi"
      },
      "id": "SxCYYKEhD2Bi"
    },
    {
      "cell_type": "code",
      "execution_count": 8,
      "id": "479fb3e4-426d-4b3d-b09d-5b96846ee54f",
      "metadata": {
        "id": "479fb3e4-426d-4b3d-b09d-5b96846ee54f",
        "outputId": "7c839982-7af0-4efb-b3cd-1a03c4aff31b",
        "colab": {
          "base_uri": "https://localhost:8080/"
        }
      },
      "outputs": [
        {
          "output_type": "stream",
          "name": "stdout",
          "text": [
            "\n",
            "Frecuencias usando el método de sturges\n",
            "\n",
            "                  x_i    n_i  MarcaDeClase\n",
            "0        [6.0-117.47)  37157        61.735\n",
            "1     [117.47-228.94)   6342       173.205\n",
            "2     [228.94-340.41)   1298       284.675\n",
            "3     [340.41-451.88)    394       396.145\n",
            "4     [451.88-563.35)    167       507.615\n",
            "5     [563.35-674.82)     42       619.085\n",
            "6     [674.82-786.29)     23       730.555\n",
            "7     [786.29-897.76)     33       842.025\n",
            "8    [897.76-1009.24)      7       953.500\n",
            "9   [1009.24-1120.71)      2      1064.975\n",
            "10  [1120.71-1232.18)      2      1176.445\n",
            "11  [1232.18-1343.65)      2      1287.915\n",
            "12  [1343.65-1455.12)      3      1399.385\n",
            "13  [1455.12-1566.59)      1      1510.855\n",
            "14  [1566.59-1678.06)      1      1622.325\n",
            "15  [1678.06-1789.53)      1      1733.795\n",
            "16   [1789.53-1902.9)      1      1846.215\n",
            "CategoricalIndex(['[6.0-117.47)', '[117.47-228.94)', '[228.94-340.41)',\n",
            "                  '[340.41-451.88)', '[451.88-563.35)', '[563.35-674.82)',\n",
            "                  '[674.82-786.29)', '[786.29-897.76)', '[897.76-1009.24)',\n",
            "                  '[1009.24-1120.71)', '[1120.71-1232.18)',\n",
            "                  '[1232.18-1343.65)', '[1343.65-1455.12)',\n",
            "                  '[1455.12-1566.59)', '[1566.59-1678.06)',\n",
            "                  '[1678.06-1789.53)', '[1789.53-1902.9)'],\n",
            "                 categories=['[6.0-117.47)', '[117.47-228.94)', '[228.94-340.41)', '[340.41-451.88)', ..., '[1455.12-1566.59)', '[1566.59-1678.06)', '[1678.06-1789.53)', '[1789.53-1902.9)'], ordered=True, dtype='category')\n"
          ]
        }
      ],
      "source": [
        "# @title\n",
        "# Calcular los grupos usando la función creada group_by_sturges\n",
        "df['group_sturges'] = group_by_sturges(df, 'Longitud_Texto')\n",
        "\n",
        "# Calcular la tabla de frecuencias de la columna 'Grupo'\n",
        "frecuencias_grupo = df['group_sturges'].value_counts()\n",
        "frecuencias_grupo = frecuencias_grupo.sort_index()\n",
        "print(\"\\nFrecuencias usando el método de sturges\\n\")\n",
        "\n",
        "# Calcular la marca de clase para cada intervalo\n",
        "MarcaDeClase = list(map(marca_de_clase, list(frecuencias_grupo.index)))\n",
        "\n",
        "# Crear DataFrame con las frecuencias\n",
        "tabla_frecuencias_Longitud_Texto = pd.DataFrame({\n",
        "    'x_i': frecuencias_grupo.index,\n",
        "    'n_i': frecuencias_grupo.values,\n",
        "    'MarcaDeClase':MarcaDeClase})\n",
        "\n",
        "print(tabla_frecuencias_Longitud_Texto)\n",
        "print(frecuencias_grupo.index)\n",
        "# print(MarcaDeClase)\n"
      ]
    },
    {
      "cell_type": "markdown",
      "source": [
        "Podemos ver que hay varios intervalos con muy poca densidad de frecuencia, por lo que podemos unir los intervalos consecutivos en uno solo:"
      ],
      "metadata": {
        "id": "kIgXhqc4GODG"
      },
      "id": "kIgXhqc4GODG"
    },
    {
      "cell_type": "code",
      "execution_count": 9,
      "id": "a4563615-7c7d-4c9d-88a1-b386dd467417",
      "metadata": {
        "id": "a4563615-7c7d-4c9d-88a1-b386dd467417",
        "outputId": "5817fdc1-e1a3-4f33-f86f-a1fc5053b53f",
        "colab": {
          "base_uri": "https://localhost:8080/",
          "height": 383
        }
      },
      "outputs": [
        {
          "output_type": "stream",
          "name": "stdout",
          "text": [
            "Tabla de frecuencias agrupadas por intervalo de la columna\n",
            "'Longitud del texto':\n",
            "\n"
          ]
        },
        {
          "output_type": "display_data",
          "data": {
            "text/plain": [
              "               x_i    n_i       f_i    N_i       F_i\n",
              "0     [6.0-117.47)  37157  0.817068  37157  0.817068\n",
              "1  [117.47-228.94)   6342  0.139458  43499  0.956527\n",
              "2  [228.94-340.41)   1298  0.028543  44797  0.985069\n",
              "3  [340.41-451.88)    394  0.008664  45191  0.993733\n",
              "4  [451.88-563.35)    167  0.003672  45358  0.997405\n",
              "5  [563.35-674.82)     42  0.000924  45400  0.998329\n",
              "6  [674.82-786.29)     23  0.000506  45423  0.998835\n",
              "7  [786.29-897.76)     33  0.000726  45456  0.999560\n",
              "8  [897.76-1902.9]     20  0.000440  45476  1.000000"
            ],
            "text/html": [
              "\n",
              "  <div id=\"df-c5a6e96b-a1b4-4ad3-8cf3-acddf7c12225\" class=\"colab-df-container\">\n",
              "    <div>\n",
              "<style scoped>\n",
              "    .dataframe tbody tr th:only-of-type {\n",
              "        vertical-align: middle;\n",
              "    }\n",
              "\n",
              "    .dataframe tbody tr th {\n",
              "        vertical-align: top;\n",
              "    }\n",
              "\n",
              "    .dataframe thead th {\n",
              "        text-align: right;\n",
              "    }\n",
              "</style>\n",
              "<table border=\"1\" class=\"dataframe\">\n",
              "  <thead>\n",
              "    <tr style=\"text-align: right;\">\n",
              "      <th></th>\n",
              "      <th>x_i</th>\n",
              "      <th>n_i</th>\n",
              "      <th>f_i</th>\n",
              "      <th>N_i</th>\n",
              "      <th>F_i</th>\n",
              "    </tr>\n",
              "  </thead>\n",
              "  <tbody>\n",
              "    <tr>\n",
              "      <th>0</th>\n",
              "      <td>[6.0-117.47)</td>\n",
              "      <td>37157</td>\n",
              "      <td>0.817068</td>\n",
              "      <td>37157</td>\n",
              "      <td>0.817068</td>\n",
              "    </tr>\n",
              "    <tr>\n",
              "      <th>1</th>\n",
              "      <td>[117.47-228.94)</td>\n",
              "      <td>6342</td>\n",
              "      <td>0.139458</td>\n",
              "      <td>43499</td>\n",
              "      <td>0.956527</td>\n",
              "    </tr>\n",
              "    <tr>\n",
              "      <th>2</th>\n",
              "      <td>[228.94-340.41)</td>\n",
              "      <td>1298</td>\n",
              "      <td>0.028543</td>\n",
              "      <td>44797</td>\n",
              "      <td>0.985069</td>\n",
              "    </tr>\n",
              "    <tr>\n",
              "      <th>3</th>\n",
              "      <td>[340.41-451.88)</td>\n",
              "      <td>394</td>\n",
              "      <td>0.008664</td>\n",
              "      <td>45191</td>\n",
              "      <td>0.993733</td>\n",
              "    </tr>\n",
              "    <tr>\n",
              "      <th>4</th>\n",
              "      <td>[451.88-563.35)</td>\n",
              "      <td>167</td>\n",
              "      <td>0.003672</td>\n",
              "      <td>45358</td>\n",
              "      <td>0.997405</td>\n",
              "    </tr>\n",
              "    <tr>\n",
              "      <th>5</th>\n",
              "      <td>[563.35-674.82)</td>\n",
              "      <td>42</td>\n",
              "      <td>0.000924</td>\n",
              "      <td>45400</td>\n",
              "      <td>0.998329</td>\n",
              "    </tr>\n",
              "    <tr>\n",
              "      <th>6</th>\n",
              "      <td>[674.82-786.29)</td>\n",
              "      <td>23</td>\n",
              "      <td>0.000506</td>\n",
              "      <td>45423</td>\n",
              "      <td>0.998835</td>\n",
              "    </tr>\n",
              "    <tr>\n",
              "      <th>7</th>\n",
              "      <td>[786.29-897.76)</td>\n",
              "      <td>33</td>\n",
              "      <td>0.000726</td>\n",
              "      <td>45456</td>\n",
              "      <td>0.999560</td>\n",
              "    </tr>\n",
              "    <tr>\n",
              "      <th>8</th>\n",
              "      <td>[897.76-1902.9]</td>\n",
              "      <td>20</td>\n",
              "      <td>0.000440</td>\n",
              "      <td>45476</td>\n",
              "      <td>1.000000</td>\n",
              "    </tr>\n",
              "  </tbody>\n",
              "</table>\n",
              "</div>\n",
              "    <div class=\"colab-df-buttons\">\n",
              "\n",
              "  <div class=\"colab-df-container\">\n",
              "    <button class=\"colab-df-convert\" onclick=\"convertToInteractive('df-c5a6e96b-a1b4-4ad3-8cf3-acddf7c12225')\"\n",
              "            title=\"Convert this dataframe to an interactive table.\"\n",
              "            style=\"display:none;\">\n",
              "\n",
              "  <svg xmlns=\"http://www.w3.org/2000/svg\" height=\"24px\" viewBox=\"0 -960 960 960\">\n",
              "    <path d=\"M120-120v-720h720v720H120Zm60-500h600v-160H180v160Zm220 220h160v-160H400v160Zm0 220h160v-160H400v160ZM180-400h160v-160H180v160Zm440 0h160v-160H620v160ZM180-180h160v-160H180v160Zm440 0h160v-160H620v160Z\"/>\n",
              "  </svg>\n",
              "    </button>\n",
              "\n",
              "  <style>\n",
              "    .colab-df-container {\n",
              "      display:flex;\n",
              "      gap: 12px;\n",
              "    }\n",
              "\n",
              "    .colab-df-convert {\n",
              "      background-color: #E8F0FE;\n",
              "      border: none;\n",
              "      border-radius: 50%;\n",
              "      cursor: pointer;\n",
              "      display: none;\n",
              "      fill: #1967D2;\n",
              "      height: 32px;\n",
              "      padding: 0 0 0 0;\n",
              "      width: 32px;\n",
              "    }\n",
              "\n",
              "    .colab-df-convert:hover {\n",
              "      background-color: #E2EBFA;\n",
              "      box-shadow: 0px 1px 2px rgba(60, 64, 67, 0.3), 0px 1px 3px 1px rgba(60, 64, 67, 0.15);\n",
              "      fill: #174EA6;\n",
              "    }\n",
              "\n",
              "    .colab-df-buttons div {\n",
              "      margin-bottom: 4px;\n",
              "    }\n",
              "\n",
              "    [theme=dark] .colab-df-convert {\n",
              "      background-color: #3B4455;\n",
              "      fill: #D2E3FC;\n",
              "    }\n",
              "\n",
              "    [theme=dark] .colab-df-convert:hover {\n",
              "      background-color: #434B5C;\n",
              "      box-shadow: 0px 1px 3px 1px rgba(0, 0, 0, 0.15);\n",
              "      filter: drop-shadow(0px 1px 2px rgba(0, 0, 0, 0.3));\n",
              "      fill: #FFFFFF;\n",
              "    }\n",
              "  </style>\n",
              "\n",
              "    <script>\n",
              "      const buttonEl =\n",
              "        document.querySelector('#df-c5a6e96b-a1b4-4ad3-8cf3-acddf7c12225 button.colab-df-convert');\n",
              "      buttonEl.style.display =\n",
              "        google.colab.kernel.accessAllowed ? 'block' : 'none';\n",
              "\n",
              "      async function convertToInteractive(key) {\n",
              "        const element = document.querySelector('#df-c5a6e96b-a1b4-4ad3-8cf3-acddf7c12225');\n",
              "        const dataTable =\n",
              "          await google.colab.kernel.invokeFunction('convertToInteractive',\n",
              "                                                    [key], {});\n",
              "        if (!dataTable) return;\n",
              "\n",
              "        const docLinkHtml = 'Like what you see? Visit the ' +\n",
              "          '<a target=\"_blank\" href=https://colab.research.google.com/notebooks/data_table.ipynb>data table notebook</a>'\n",
              "          + ' to learn more about interactive tables.';\n",
              "        element.innerHTML = '';\n",
              "        dataTable['output_type'] = 'display_data';\n",
              "        await google.colab.output.renderOutput(dataTable, element);\n",
              "        const docLink = document.createElement('div');\n",
              "        docLink.innerHTML = docLinkHtml;\n",
              "        element.appendChild(docLink);\n",
              "      }\n",
              "    </script>\n",
              "  </div>\n",
              "\n",
              "\n",
              "<div id=\"df-98137f76-8176-428d-bfab-f6e51b4f76e1\">\n",
              "  <button class=\"colab-df-quickchart\" onclick=\"quickchart('df-98137f76-8176-428d-bfab-f6e51b4f76e1')\"\n",
              "            title=\"Suggest charts\"\n",
              "            style=\"display:none;\">\n",
              "\n",
              "<svg xmlns=\"http://www.w3.org/2000/svg\" height=\"24px\"viewBox=\"0 0 24 24\"\n",
              "     width=\"24px\">\n",
              "    <g>\n",
              "        <path d=\"M19 3H5c-1.1 0-2 .9-2 2v14c0 1.1.9 2 2 2h14c1.1 0 2-.9 2-2V5c0-1.1-.9-2-2-2zM9 17H7v-7h2v7zm4 0h-2V7h2v10zm4 0h-2v-4h2v4z\"/>\n",
              "    </g>\n",
              "</svg>\n",
              "  </button>\n",
              "\n",
              "<style>\n",
              "  .colab-df-quickchart {\n",
              "      --bg-color: #E8F0FE;\n",
              "      --fill-color: #1967D2;\n",
              "      --hover-bg-color: #E2EBFA;\n",
              "      --hover-fill-color: #174EA6;\n",
              "      --disabled-fill-color: #AAA;\n",
              "      --disabled-bg-color: #DDD;\n",
              "  }\n",
              "\n",
              "  [theme=dark] .colab-df-quickchart {\n",
              "      --bg-color: #3B4455;\n",
              "      --fill-color: #D2E3FC;\n",
              "      --hover-bg-color: #434B5C;\n",
              "      --hover-fill-color: #FFFFFF;\n",
              "      --disabled-bg-color: #3B4455;\n",
              "      --disabled-fill-color: #666;\n",
              "  }\n",
              "\n",
              "  .colab-df-quickchart {\n",
              "    background-color: var(--bg-color);\n",
              "    border: none;\n",
              "    border-radius: 50%;\n",
              "    cursor: pointer;\n",
              "    display: none;\n",
              "    fill: var(--fill-color);\n",
              "    height: 32px;\n",
              "    padding: 0;\n",
              "    width: 32px;\n",
              "  }\n",
              "\n",
              "  .colab-df-quickchart:hover {\n",
              "    background-color: var(--hover-bg-color);\n",
              "    box-shadow: 0 1px 2px rgba(60, 64, 67, 0.3), 0 1px 3px 1px rgba(60, 64, 67, 0.15);\n",
              "    fill: var(--button-hover-fill-color);\n",
              "  }\n",
              "\n",
              "  .colab-df-quickchart-complete:disabled,\n",
              "  .colab-df-quickchart-complete:disabled:hover {\n",
              "    background-color: var(--disabled-bg-color);\n",
              "    fill: var(--disabled-fill-color);\n",
              "    box-shadow: none;\n",
              "  }\n",
              "\n",
              "  .colab-df-spinner {\n",
              "    border: 2px solid var(--fill-color);\n",
              "    border-color: transparent;\n",
              "    border-bottom-color: var(--fill-color);\n",
              "    animation:\n",
              "      spin 1s steps(1) infinite;\n",
              "  }\n",
              "\n",
              "  @keyframes spin {\n",
              "    0% {\n",
              "      border-color: transparent;\n",
              "      border-bottom-color: var(--fill-color);\n",
              "      border-left-color: var(--fill-color);\n",
              "    }\n",
              "    20% {\n",
              "      border-color: transparent;\n",
              "      border-left-color: var(--fill-color);\n",
              "      border-top-color: var(--fill-color);\n",
              "    }\n",
              "    30% {\n",
              "      border-color: transparent;\n",
              "      border-left-color: var(--fill-color);\n",
              "      border-top-color: var(--fill-color);\n",
              "      border-right-color: var(--fill-color);\n",
              "    }\n",
              "    40% {\n",
              "      border-color: transparent;\n",
              "      border-right-color: var(--fill-color);\n",
              "      border-top-color: var(--fill-color);\n",
              "    }\n",
              "    60% {\n",
              "      border-color: transparent;\n",
              "      border-right-color: var(--fill-color);\n",
              "    }\n",
              "    80% {\n",
              "      border-color: transparent;\n",
              "      border-right-color: var(--fill-color);\n",
              "      border-bottom-color: var(--fill-color);\n",
              "    }\n",
              "    90% {\n",
              "      border-color: transparent;\n",
              "      border-bottom-color: var(--fill-color);\n",
              "    }\n",
              "  }\n",
              "</style>\n",
              "\n",
              "  <script>\n",
              "    async function quickchart(key) {\n",
              "      const quickchartButtonEl =\n",
              "        document.querySelector('#' + key + ' button');\n",
              "      quickchartButtonEl.disabled = true;  // To prevent multiple clicks.\n",
              "      quickchartButtonEl.classList.add('colab-df-spinner');\n",
              "      try {\n",
              "        const charts = await google.colab.kernel.invokeFunction(\n",
              "            'suggestCharts', [key], {});\n",
              "      } catch (error) {\n",
              "        console.error('Error during call to suggestCharts:', error);\n",
              "      }\n",
              "      quickchartButtonEl.classList.remove('colab-df-spinner');\n",
              "      quickchartButtonEl.classList.add('colab-df-quickchart-complete');\n",
              "    }\n",
              "    (() => {\n",
              "      let quickchartButtonEl =\n",
              "        document.querySelector('#df-98137f76-8176-428d-bfab-f6e51b4f76e1 button');\n",
              "      quickchartButtonEl.style.display =\n",
              "        google.colab.kernel.accessAllowed ? 'block' : 'none';\n",
              "    })();\n",
              "  </script>\n",
              "</div>\n",
              "    </div>\n",
              "  </div>\n"
            ],
            "application/vnd.google.colaboratory.intrinsic+json": {
              "type": "dataframe",
              "variable_name": "tabla_frecuencias_gr",
              "summary": "{\n  \"name\": \"tabla_frecuencias_gr\",\n  \"rows\": 9,\n  \"fields\": [\n    {\n      \"column\": \"x_i\",\n      \"properties\": {\n        \"dtype\": \"category\",\n        \"samples\": [\n          \"[786.29-897.76)\",\n          \"[117.47-228.94)\",\n          \"[563.35-674.82)\"\n        ],\n        \"num_unique_values\": 9,\n        \"semantic_type\": \"\",\n        \"description\": \"\"\n      }\n    },\n    {\n      \"column\": \"n_i\",\n      \"properties\": {\n        \"dtype\": \"number\",\n        \"std\": 12211,\n        \"min\": 20,\n        \"max\": 37157,\n        \"samples\": [\n          33,\n          6342,\n          42\n        ],\n        \"num_unique_values\": 9,\n        \"semantic_type\": \"\",\n        \"description\": \"\"\n      }\n    },\n    {\n      \"column\": \"f_i\",\n      \"properties\": {\n        \"dtype\": \"number\",\n        \"std\": 0.2685244876092819,\n        \"min\": 0.000439792417978714,\n        \"max\": 0.8170683437417539,\n        \"samples\": [\n          0.0007256574896648782,\n          0.1394581757410502,\n          0.0009235640777552995\n        ],\n        \"num_unique_values\": 9,\n        \"semantic_type\": \"\",\n        \"description\": \"\"\n      }\n    },\n    {\n      \"column\": \"N_i\",\n      \"properties\": {\n        \"dtype\": \"number\",\n        \"std\": 2713,\n        \"min\": 37157,\n        \"max\": 45476,\n        \"samples\": [\n          45456,\n          43499,\n          45400\n        ],\n        \"num_unique_values\": 9,\n        \"semantic_type\": \"\",\n        \"description\": \"\"\n      }\n    },\n    {\n      \"column\": \"F_i\",\n      \"properties\": {\n        \"dtype\": \"number\",\n        \"std\": 0.059674549992072036,\n        \"min\": 0.8170683437417539,\n        \"max\": 1.0,\n        \"samples\": [\n          0.9995602075820212,\n          0.9565265194828041,\n          0.9983287888116809\n        ],\n        \"num_unique_values\": 9,\n        \"semantic_type\": \"\",\n        \"description\": \"\"\n      }\n    }\n  ]\n}"
            }
          },
          "metadata": {}
        }
      ],
      "source": [
        "# @title\n",
        "# agrupar los últimos grupos en uno solo:\n",
        "\n",
        "lista=[ '[897.76-1009.24)',\n",
        "                  '[1009.24-1120.71)', '[1120.71-1232.18)',\n",
        "                  '[1232.18-1343.65)', '[1343.65-1455.12)',\n",
        "                  '[1455.12-1566.59)', '[1566.59-1678.06)',\n",
        "                  '[1678.06-1789.53)', '[1789.53-1902.9)']\n",
        "\n",
        "# Reemplazar los valores en la columna 'columna_original' con \">1472.571\" si coinciden con los valores de la lista\n",
        "df['group_sturges'] = df['group_sturges'].replace(lista, '[897.76-1902.9]')\n",
        "\n",
        "# Calcular la tabla de frecuencias de la columna 'Grupo'\n",
        "frecuencias_grupo = df['group_sturges'].value_counts()\n",
        "frecuencias_grupo = frecuencias_grupo.sort_index()\n",
        "\n",
        "# Calcular la frecuencia relativa\n",
        "frecuencias_relativas_gr = frecuencias_grupo / len(df)\n",
        "\n",
        "# Calcular las frecuencias acumuladas\n",
        "frecuencias_acumuladas_gr = frecuencias_grupo.cumsum()\n",
        "\n",
        "# Calcular la frecuencia relativa acumulada\n",
        "frecuencias_relativas_acum_gr = frecuencias_acumuladas_gr / len(df)\n",
        "\n",
        "# Crear DataFrame con las frecuencias\n",
        "tabla_frecuencias_gr = pd.DataFrame({\n",
        "    'x_i': frecuencias_grupo.index,\n",
        "    'n_i': frecuencias_grupo.values,\n",
        "    'f_i': frecuencias_relativas_gr.values,\n",
        "    'N_i':frecuencias_acumuladas_gr.values,\n",
        "    'F_i':frecuencias_relativas_acum_gr.values\n",
        "})\n",
        "\n",
        "\n",
        "print(\"Tabla de frecuencias agrupadas por intervalo de la columna\\n'Longitud del texto':\\n\")\n",
        "display(tabla_frecuencias_gr)\n"
      ]
    },
    {
      "cell_type": "code",
      "source": [
        "# @title TabFreq_conteo_unico { display-mode: \"form\" }\n",
        "#Creamos la tabla de frecuencias de la variable \"Num_Palabras_Unicas\":\n",
        "\n",
        "frecuencias_long_unic = df['Num_Palabras_Unicas'].value_counts()\n",
        "frecuencias_long_unic = frecuencias_long_unic.sort_index()\n",
        "\n",
        "# Calcular la frecuencia relativa\n",
        "frecuencias_relativas_unic = frecuencias_long_unic / len(df)\n",
        "\n",
        "# Calcular las frecuencias acumuladas\n",
        "frecuencias_acumuladas_unic = frecuencias_long_unic.cumsum()\n",
        "\n",
        "# Calcular la frecuencia relativa acumulada\n",
        "frecuencias_relativas_acum_unic = frecuencias_relativas_unic / len(df)\n",
        "\n",
        "# Crear DataFrame con las frecuencias\n",
        "tabla_frecuencias_unic = pd.DataFrame({\n",
        "    'x_i': frecuencias_long_unic.index,\n",
        "    'n_i': frecuencias_long_unic.values,\n",
        "    'f_i': frecuencias_relativas_unic.values,\n",
        "    'N_i':frecuencias_acumuladas_unic.values,\n",
        "    'F_i':frecuencias_relativas_acum_unic.values\n",
        "})\n",
        "\n",
        "\n",
        "\n",
        "# Calcular los grupos usando la función creada group_by_sturges\n",
        "df['group_sturges_unic'] = group_by_sturges(df, 'Num_Palabras_Unicas')\n",
        "\n",
        "# Calcular la tabla de frecuencias de la columna 'Grupo'\n",
        "frecuencias_grupo_unic = df['group_sturges_unic'].value_counts()\n",
        "frecuencias_grupo_unic = frecuencias_grupo_unic.sort_index()\n",
        "print(\"\\nFrecuencias usando el método de sturges en conteo único\\n\")\n",
        "\n",
        "# Calcular la marca de clase para cada intervalo\n",
        "MarcaDeClase_unic = list(map(marca_de_clase, list(frecuencias_grupo_unic.index)))\n",
        "\n",
        "# Crear DataFrame con las frecuencias\n",
        "tabla_frecuencias_Num_Palabras_Unicas = pd.DataFrame({\n",
        "    'x_i': frecuencias_grupo_unic.index,\n",
        "    'n_i': frecuencias_grupo_unic.values,\n",
        "    'MarcaDeClase':MarcaDeClase_unic})\n",
        "\n",
        "print(tabla_frecuencias_Num_Palabras_Unicas)\n",
        "\n",
        "\n"
      ],
      "metadata": {
        "id": "_vNsSqA88eih",
        "colab": {
          "base_uri": "https://localhost:8080/"
        },
        "outputId": "a9f57ec4-b05b-464c-93c6-26a0acd62acb"
      },
      "id": "_vNsSqA88eih",
      "execution_count": 10,
      "outputs": [
        {
          "output_type": "stream",
          "name": "stdout",
          "text": [
            "\n",
            "Frecuencias usando el método de sturges en conteo único\n",
            "\n",
            "                x_i    n_i  MarcaDeClase\n",
            "0       [6.0-55.35)  27209        30.675\n",
            "1    [55.35-104.71)  12774        80.030\n",
            "2   [104.71-154.06)   3696       129.385\n",
            "3   [154.06-203.41)   1081       178.735\n",
            "4   [203.41-252.76)    387       228.085\n",
            "5   [252.76-302.12)    161       277.440\n",
            "6   [302.12-351.47)     87       326.795\n",
            "7   [351.47-400.82)     24       376.145\n",
            "8   [400.82-450.18)     36       425.500\n",
            "9   [450.18-499.53)      7       474.855\n",
            "10  [499.53-548.88)      3       524.205\n",
            "11  [548.88-598.24)      1       573.560\n",
            "12  [598.24-647.59)      3       622.915\n",
            "13  [647.59-696.94)      4       672.265\n",
            "14  [696.94-746.29)      1       721.615\n",
            "15  [746.29-795.65)      1       770.970\n",
            "16  [795.65-845.84)      1       820.745\n"
          ]
        }
      ]
    },
    {
      "cell_type": "markdown",
      "source": [
        "### Ejercicio 1:"
      ],
      "metadata": {
        "id": "0umk1yguG6U1"
      },
      "id": "0umk1yguG6U1"
    },
    {
      "cell_type": "markdown",
      "source": [
        "Resumimos los valores de la variable *Score*, realizando los conteos necesarios:\n",
        "\n",
        "Tras hacer el recuento obtenemos la siguiente tabla."
      ],
      "metadata": {
        "id": "UB4BVBn4h443"
      },
      "id": "UB4BVBn4h443"
    },
    {
      "cell_type": "code",
      "execution_count": 11,
      "id": "13412d14-89bc-4f2c-a7fd-ce2620e3492f",
      "metadata": {
        "id": "13412d14-89bc-4f2c-a7fd-ce2620e3492f",
        "outputId": "a230cfd7-fed4-4021-fe7c-a39bb9e87666",
        "colab": {
          "base_uri": "https://localhost:8080/",
          "height": 206
        }
      },
      "outputs": [
        {
          "output_type": "display_data",
          "data": {
            "text/plain": [
              "   x_i    n_i       f_i    N_i       F_i\n",
              "0    1   4144  0.091125   4144  0.091125\n",
              "1    2   2347  0.051610   6491  0.142735\n",
              "2    3   3439  0.075622   9930  0.218357\n",
              "3    4   6411  0.140975  16341  0.359332\n",
              "4    5  29135  0.640668  45476  1.000000"
            ],
            "text/html": [
              "\n",
              "  <div id=\"df-67ef0a7b-a8b1-416d-9d72-75299c4cc410\" class=\"colab-df-container\">\n",
              "    <div>\n",
              "<style scoped>\n",
              "    .dataframe tbody tr th:only-of-type {\n",
              "        vertical-align: middle;\n",
              "    }\n",
              "\n",
              "    .dataframe tbody tr th {\n",
              "        vertical-align: top;\n",
              "    }\n",
              "\n",
              "    .dataframe thead th {\n",
              "        text-align: right;\n",
              "    }\n",
              "</style>\n",
              "<table border=\"1\" class=\"dataframe\">\n",
              "  <thead>\n",
              "    <tr style=\"text-align: right;\">\n",
              "      <th></th>\n",
              "      <th>x_i</th>\n",
              "      <th>n_i</th>\n",
              "      <th>f_i</th>\n",
              "      <th>N_i</th>\n",
              "      <th>F_i</th>\n",
              "    </tr>\n",
              "  </thead>\n",
              "  <tbody>\n",
              "    <tr>\n",
              "      <th>0</th>\n",
              "      <td>1</td>\n",
              "      <td>4144</td>\n",
              "      <td>0.091125</td>\n",
              "      <td>4144</td>\n",
              "      <td>0.091125</td>\n",
              "    </tr>\n",
              "    <tr>\n",
              "      <th>1</th>\n",
              "      <td>2</td>\n",
              "      <td>2347</td>\n",
              "      <td>0.051610</td>\n",
              "      <td>6491</td>\n",
              "      <td>0.142735</td>\n",
              "    </tr>\n",
              "    <tr>\n",
              "      <th>2</th>\n",
              "      <td>3</td>\n",
              "      <td>3439</td>\n",
              "      <td>0.075622</td>\n",
              "      <td>9930</td>\n",
              "      <td>0.218357</td>\n",
              "    </tr>\n",
              "    <tr>\n",
              "      <th>3</th>\n",
              "      <td>4</td>\n",
              "      <td>6411</td>\n",
              "      <td>0.140975</td>\n",
              "      <td>16341</td>\n",
              "      <td>0.359332</td>\n",
              "    </tr>\n",
              "    <tr>\n",
              "      <th>4</th>\n",
              "      <td>5</td>\n",
              "      <td>29135</td>\n",
              "      <td>0.640668</td>\n",
              "      <td>45476</td>\n",
              "      <td>1.000000</td>\n",
              "    </tr>\n",
              "  </tbody>\n",
              "</table>\n",
              "</div>\n",
              "    <div class=\"colab-df-buttons\">\n",
              "\n",
              "  <div class=\"colab-df-container\">\n",
              "    <button class=\"colab-df-convert\" onclick=\"convertToInteractive('df-67ef0a7b-a8b1-416d-9d72-75299c4cc410')\"\n",
              "            title=\"Convert this dataframe to an interactive table.\"\n",
              "            style=\"display:none;\">\n",
              "\n",
              "  <svg xmlns=\"http://www.w3.org/2000/svg\" height=\"24px\" viewBox=\"0 -960 960 960\">\n",
              "    <path d=\"M120-120v-720h720v720H120Zm60-500h600v-160H180v160Zm220 220h160v-160H400v160Zm0 220h160v-160H400v160ZM180-400h160v-160H180v160Zm440 0h160v-160H620v160ZM180-180h160v-160H180v160Zm440 0h160v-160H620v160Z\"/>\n",
              "  </svg>\n",
              "    </button>\n",
              "\n",
              "  <style>\n",
              "    .colab-df-container {\n",
              "      display:flex;\n",
              "      gap: 12px;\n",
              "    }\n",
              "\n",
              "    .colab-df-convert {\n",
              "      background-color: #E8F0FE;\n",
              "      border: none;\n",
              "      border-radius: 50%;\n",
              "      cursor: pointer;\n",
              "      display: none;\n",
              "      fill: #1967D2;\n",
              "      height: 32px;\n",
              "      padding: 0 0 0 0;\n",
              "      width: 32px;\n",
              "    }\n",
              "\n",
              "    .colab-df-convert:hover {\n",
              "      background-color: #E2EBFA;\n",
              "      box-shadow: 0px 1px 2px rgba(60, 64, 67, 0.3), 0px 1px 3px 1px rgba(60, 64, 67, 0.15);\n",
              "      fill: #174EA6;\n",
              "    }\n",
              "\n",
              "    .colab-df-buttons div {\n",
              "      margin-bottom: 4px;\n",
              "    }\n",
              "\n",
              "    [theme=dark] .colab-df-convert {\n",
              "      background-color: #3B4455;\n",
              "      fill: #D2E3FC;\n",
              "    }\n",
              "\n",
              "    [theme=dark] .colab-df-convert:hover {\n",
              "      background-color: #434B5C;\n",
              "      box-shadow: 0px 1px 3px 1px rgba(0, 0, 0, 0.15);\n",
              "      filter: drop-shadow(0px 1px 2px rgba(0, 0, 0, 0.3));\n",
              "      fill: #FFFFFF;\n",
              "    }\n",
              "  </style>\n",
              "\n",
              "    <script>\n",
              "      const buttonEl =\n",
              "        document.querySelector('#df-67ef0a7b-a8b1-416d-9d72-75299c4cc410 button.colab-df-convert');\n",
              "      buttonEl.style.display =\n",
              "        google.colab.kernel.accessAllowed ? 'block' : 'none';\n",
              "\n",
              "      async function convertToInteractive(key) {\n",
              "        const element = document.querySelector('#df-67ef0a7b-a8b1-416d-9d72-75299c4cc410');\n",
              "        const dataTable =\n",
              "          await google.colab.kernel.invokeFunction('convertToInteractive',\n",
              "                                                    [key], {});\n",
              "        if (!dataTable) return;\n",
              "\n",
              "        const docLinkHtml = 'Like what you see? Visit the ' +\n",
              "          '<a target=\"_blank\" href=https://colab.research.google.com/notebooks/data_table.ipynb>data table notebook</a>'\n",
              "          + ' to learn more about interactive tables.';\n",
              "        element.innerHTML = '';\n",
              "        dataTable['output_type'] = 'display_data';\n",
              "        await google.colab.output.renderOutput(dataTable, element);\n",
              "        const docLink = document.createElement('div');\n",
              "        docLink.innerHTML = docLinkHtml;\n",
              "        element.appendChild(docLink);\n",
              "      }\n",
              "    </script>\n",
              "  </div>\n",
              "\n",
              "\n",
              "<div id=\"df-ffec6e93-6c42-46c8-9cd2-af40389dad1f\">\n",
              "  <button class=\"colab-df-quickchart\" onclick=\"quickchart('df-ffec6e93-6c42-46c8-9cd2-af40389dad1f')\"\n",
              "            title=\"Suggest charts\"\n",
              "            style=\"display:none;\">\n",
              "\n",
              "<svg xmlns=\"http://www.w3.org/2000/svg\" height=\"24px\"viewBox=\"0 0 24 24\"\n",
              "     width=\"24px\">\n",
              "    <g>\n",
              "        <path d=\"M19 3H5c-1.1 0-2 .9-2 2v14c0 1.1.9 2 2 2h14c1.1 0 2-.9 2-2V5c0-1.1-.9-2-2-2zM9 17H7v-7h2v7zm4 0h-2V7h2v10zm4 0h-2v-4h2v4z\"/>\n",
              "    </g>\n",
              "</svg>\n",
              "  </button>\n",
              "\n",
              "<style>\n",
              "  .colab-df-quickchart {\n",
              "      --bg-color: #E8F0FE;\n",
              "      --fill-color: #1967D2;\n",
              "      --hover-bg-color: #E2EBFA;\n",
              "      --hover-fill-color: #174EA6;\n",
              "      --disabled-fill-color: #AAA;\n",
              "      --disabled-bg-color: #DDD;\n",
              "  }\n",
              "\n",
              "  [theme=dark] .colab-df-quickchart {\n",
              "      --bg-color: #3B4455;\n",
              "      --fill-color: #D2E3FC;\n",
              "      --hover-bg-color: #434B5C;\n",
              "      --hover-fill-color: #FFFFFF;\n",
              "      --disabled-bg-color: #3B4455;\n",
              "      --disabled-fill-color: #666;\n",
              "  }\n",
              "\n",
              "  .colab-df-quickchart {\n",
              "    background-color: var(--bg-color);\n",
              "    border: none;\n",
              "    border-radius: 50%;\n",
              "    cursor: pointer;\n",
              "    display: none;\n",
              "    fill: var(--fill-color);\n",
              "    height: 32px;\n",
              "    padding: 0;\n",
              "    width: 32px;\n",
              "  }\n",
              "\n",
              "  .colab-df-quickchart:hover {\n",
              "    background-color: var(--hover-bg-color);\n",
              "    box-shadow: 0 1px 2px rgba(60, 64, 67, 0.3), 0 1px 3px 1px rgba(60, 64, 67, 0.15);\n",
              "    fill: var(--button-hover-fill-color);\n",
              "  }\n",
              "\n",
              "  .colab-df-quickchart-complete:disabled,\n",
              "  .colab-df-quickchart-complete:disabled:hover {\n",
              "    background-color: var(--disabled-bg-color);\n",
              "    fill: var(--disabled-fill-color);\n",
              "    box-shadow: none;\n",
              "  }\n",
              "\n",
              "  .colab-df-spinner {\n",
              "    border: 2px solid var(--fill-color);\n",
              "    border-color: transparent;\n",
              "    border-bottom-color: var(--fill-color);\n",
              "    animation:\n",
              "      spin 1s steps(1) infinite;\n",
              "  }\n",
              "\n",
              "  @keyframes spin {\n",
              "    0% {\n",
              "      border-color: transparent;\n",
              "      border-bottom-color: var(--fill-color);\n",
              "      border-left-color: var(--fill-color);\n",
              "    }\n",
              "    20% {\n",
              "      border-color: transparent;\n",
              "      border-left-color: var(--fill-color);\n",
              "      border-top-color: var(--fill-color);\n",
              "    }\n",
              "    30% {\n",
              "      border-color: transparent;\n",
              "      border-left-color: var(--fill-color);\n",
              "      border-top-color: var(--fill-color);\n",
              "      border-right-color: var(--fill-color);\n",
              "    }\n",
              "    40% {\n",
              "      border-color: transparent;\n",
              "      border-right-color: var(--fill-color);\n",
              "      border-top-color: var(--fill-color);\n",
              "    }\n",
              "    60% {\n",
              "      border-color: transparent;\n",
              "      border-right-color: var(--fill-color);\n",
              "    }\n",
              "    80% {\n",
              "      border-color: transparent;\n",
              "      border-right-color: var(--fill-color);\n",
              "      border-bottom-color: var(--fill-color);\n",
              "    }\n",
              "    90% {\n",
              "      border-color: transparent;\n",
              "      border-bottom-color: var(--fill-color);\n",
              "    }\n",
              "  }\n",
              "</style>\n",
              "\n",
              "  <script>\n",
              "    async function quickchart(key) {\n",
              "      const quickchartButtonEl =\n",
              "        document.querySelector('#' + key + ' button');\n",
              "      quickchartButtonEl.disabled = true;  // To prevent multiple clicks.\n",
              "      quickchartButtonEl.classList.add('colab-df-spinner');\n",
              "      try {\n",
              "        const charts = await google.colab.kernel.invokeFunction(\n",
              "            'suggestCharts', [key], {});\n",
              "      } catch (error) {\n",
              "        console.error('Error during call to suggestCharts:', error);\n",
              "      }\n",
              "      quickchartButtonEl.classList.remove('colab-df-spinner');\n",
              "      quickchartButtonEl.classList.add('colab-df-quickchart-complete');\n",
              "    }\n",
              "    (() => {\n",
              "      let quickchartButtonEl =\n",
              "        document.querySelector('#df-ffec6e93-6c42-46c8-9cd2-af40389dad1f button');\n",
              "      quickchartButtonEl.style.display =\n",
              "        google.colab.kernel.accessAllowed ? 'block' : 'none';\n",
              "    })();\n",
              "  </script>\n",
              "</div>\n",
              "    </div>\n",
              "  </div>\n"
            ],
            "application/vnd.google.colaboratory.intrinsic+json": {
              "type": "dataframe",
              "variable_name": "tabla_frecuencias",
              "summary": "{\n  \"name\": \"tabla_frecuencias\",\n  \"rows\": 5,\n  \"fields\": [\n    {\n      \"column\": \"x_i\",\n      \"properties\": {\n        \"dtype\": \"number\",\n        \"std\": 1,\n        \"min\": 1,\n        \"max\": 5,\n        \"samples\": [\n          2,\n          5,\n          3\n        ],\n        \"num_unique_values\": 5,\n        \"semantic_type\": \"\",\n        \"description\": \"\"\n      }\n    },\n    {\n      \"column\": \"n_i\",\n      \"properties\": {\n        \"dtype\": \"number\",\n        \"std\": 11300,\n        \"min\": 2347,\n        \"max\": 29135,\n        \"samples\": [\n          2347,\n          29135,\n          3439\n        ],\n        \"num_unique_values\": 5,\n        \"semantic_type\": \"\",\n        \"description\": \"\"\n      }\n    },\n    {\n      \"column\": \"f_i\",\n      \"properties\": {\n        \"dtype\": \"number\",\n        \"std\": 0.24850307440477484,\n        \"min\": 0.051609640249802094,\n        \"max\": 0.6406676048904917,\n        \"samples\": [\n          0.051609640249802094,\n          0.6406676048904917,\n          0.07562230627143988\n        ],\n        \"num_unique_values\": 5,\n        \"semantic_type\": \"\",\n        \"description\": \"\"\n      }\n    },\n    {\n      \"column\": \"N_i\",\n      \"properties\": {\n        \"dtype\": \"number\",\n        \"std\": 16849,\n        \"min\": 4144,\n        \"max\": 45476,\n        \"samples\": [\n          6491,\n          45476,\n          9930\n        ],\n        \"num_unique_values\": 5,\n        \"semantic_type\": \"\",\n        \"description\": \"\"\n      }\n    },\n    {\n      \"column\": \"F_i\",\n      \"properties\": {\n        \"dtype\": \"number\",\n        \"std\": 0.37051806319937275,\n        \"min\": 0.09112498900518955,\n        \"max\": 1.0,\n        \"samples\": [\n          0.14273462925499164,\n          1.0,\n          0.2183569355264315\n        ],\n        \"num_unique_values\": 5,\n        \"semantic_type\": \"\",\n        \"description\": \"\"\n      }\n    }\n  ]\n}"
            }
          },
          "metadata": {}
        }
      ],
      "source": [
        "# @title\n",
        "# Calcular la tabla de frecuencias de la columna 'Score'\n",
        "frecuencias_score = df['Score'].value_counts()\n",
        "frecuencias_score = frecuencias_score.sort_index()\n",
        "\n",
        "# Calcular la frecuencia relativa\n",
        "frecuencias_relativas = frecuencias_score / len(df)\n",
        "\n",
        "# Calcular las frecuencias acumuladas\n",
        "frecuencias_acumuladas = frecuencias_score.cumsum()\n",
        "\n",
        "# Calcular la frecuencia relativa acumulada\n",
        "frecuencias_relativas_acum = frecuencias_acumuladas / len(df)\n",
        "\n",
        "\n",
        "# Crear DataFrame con las frecuencias\n",
        "tabla_frecuencias = pd.DataFrame({\n",
        "    'x_i': frecuencias_score.index,\n",
        "    'n_i': frecuencias_score.values,\n",
        "    'f_i': frecuencias_relativas.values,\n",
        "    \"N_i\":frecuencias_acumuladas.values,\n",
        "    \"F_i\":frecuencias_relativas_acum.values\n",
        "})\n",
        "display(tabla_frecuencias)"
      ]
    },
    {
      "cell_type": "markdown",
      "source": [
        "Observa la tabla de frecuencias del puntaje (score) de las reseñas de Amazon y contesta a las siguientes preguntas:\n",
        "\n",
        "\n",
        "1.   ¿Cuántas reseñas fueron valoradas con 4?\n",
        "2.   ¿Cuántas reseñas fueron valoradas con menos de 3?\n",
        "3.   ¿Cuántas reseñas tienen 4 o menos de valoración?\n",
        "4.   ¿Cuántas reseñas tienen más de 4 puntos de valoración?\n",
        "5.   ¿Cuál es la proporción de reseñas con puntaje igual a 3?\n",
        "6.   ¿Cuál es la proporción de reseñas menores a 3?\n",
        "7.   ¿Cuál es la proporción de reseñas mayores de 2?\n",
        "\n"
      ],
      "metadata": {
        "id": "KjHoqW30G9OT"
      },
      "id": "KjHoqW30G9OT"
    },
    {
      "cell_type": "markdown",
      "source": [
        "***\n"
      ],
      "metadata": {
        "id": "EznjlYdeJGyY"
      },
      "id": "EznjlYdeJGyY"
    },
    {
      "cell_type": "code",
      "source": [
        "# @title Rta\n",
        "# @title\n",
        "print(f\"1. ¿Cuántas reseñas fueron valoradas con 4?: {tabla_frecuencias[tabla_frecuencias['x_i']==4]['n_i'].values[0]}\")\n",
        "print(f\"2. ¿Cuántas reseñas fueron valoradas con menos de 3?: {tabla_frecuencias[tabla_frecuencias['x_i']<3]['n_i'].values.sum()}\")\n",
        "print(f\"3. ¿Cuántas reseñas tienen 4 o menos de valoración?: {tabla_frecuencias[tabla_frecuencias['x_i']<5]['n_i'].values.sum()}\")\n",
        "print(f\"4. ¿Cuántas reseñas tienen más de 4 puntos de valoración?: {tabla_frecuencias[tabla_frecuencias['x_i']>4]['n_i'].values.sum()}\")\n",
        "print(f\"5. ¿Cuál es la proporción de reseñas con puntaje igual a 3?: {round(tabla_frecuencias[tabla_frecuencias['x_i']==3]['f_i'].values.sum(),4)} ó {round(tabla_frecuencias[tabla_frecuencias['x_i']==3]['f_i'].values.sum()*100,4)}%\")\n",
        "print(f\"6. ¿Cuál es la proporción de reseñas menores a 3?: {round(tabla_frecuencias[tabla_frecuencias['x_i']==2]['F_i'].values[0],4)} ó {round(tabla_frecuencias[tabla_frecuencias['x_i']==2]['F_i'].values[0]*100,4)}%\")\n",
        "print(f\"7. ¿Cuál es la proporción de reseñas mayores de 2?: {round(tabla_frecuencias[tabla_frecuencias['x_i']>2]['f_i'].values.sum(),3)} ó {round(tabla_frecuencias[tabla_frecuencias['x_i']>2]['f_i'].values.sum()*100,3)}%\")"
      ],
      "metadata": {
        "id": "1BvUhPcuMGnr",
        "colab": {
          "base_uri": "https://localhost:8080/"
        },
        "outputId": "a120931e-f65b-4f21-e2d9-6937fc16f677"
      },
      "id": "1BvUhPcuMGnr",
      "execution_count": 12,
      "outputs": [
        {
          "output_type": "stream",
          "name": "stdout",
          "text": [
            "1. ¿Cuántas reseñas fueron valoradas con 4?: 6411\n",
            "2. ¿Cuántas reseñas fueron valoradas con menos de 3?: 6491\n",
            "3. ¿Cuántas reseñas tienen 4 o menos de valoración?: 16341\n",
            "4. ¿Cuántas reseñas tienen más de 4 puntos de valoración?: 29135\n",
            "5. ¿Cuál es la proporción de reseñas con puntaje igual a 3?: 0.0756 ó 7.5622%\n",
            "6. ¿Cuál es la proporción de reseñas menores a 3?: 0.1427 ó 14.2735%\n",
            "7. ¿Cuál es la proporción de reseñas mayores de 2?: 0.857 ó 85.727%\n"
          ]
        }
      ]
    },
    {
      "cell_type": "markdown",
      "id": "416a82f8-198c-4cca-9f8a-5b80c708fdec",
      "metadata": {
        "id": "416a82f8-198c-4cca-9f8a-5b80c708fdec"
      },
      "source": [
        "## GRÁFICOS UNIDIMENSIONALES"
      ]
    },
    {
      "cell_type": "markdown",
      "source": [
        "Para variables **discretas** (toman pocos valores distintos):\n",
        "\n",
        "* Gráficos de sectores: cada valor ocupa un sector circular cuya proporción de área (con respecto al círculo que representa el total) es la frecuencia relativa.  \n",
        "* Gráficos de barras. De dos tipos:\n",
        "  * de valores: una barra por cada caso ($𝑁$ barras), de manera que la altura de barra 𝑖-ésima expresa el valor 𝑋_𝑖;\n",
        "  * de frecuencias: una barra por cada valor distinto $𝑥_𝑖$, de manera que la altura de la barra $𝑥_𝑖$ expresa su frecuencia absoluta $𝑛_𝑖$.\n",
        "\n",
        "Para variables **continuas** (toman un amplio rango de posibles valores):\n",
        "* histogramas.\n",
        "Son gráficos de rectángulos pegados cuyas bases representan los intervalos determinados y cuyas alturas representan sus densidades ($ℎ_𝑖/𝑁$).\n",
        "\n",
        "Se puede considerar que son gráficos de barras de frecuencias especiales.\n"
      ],
      "metadata": {
        "id": "d-HCmB6WNIZQ"
      },
      "id": "d-HCmB6WNIZQ"
    },
    {
      "cell_type": "markdown",
      "id": "f4a594de-2af3-4bc8-b0a9-d5bc42a60040",
      "metadata": {
        "id": "f4a594de-2af3-4bc8-b0a9-d5bc42a60040"
      },
      "source": [
        "### Gráfico de sectores:"
      ]
    },
    {
      "cell_type": "code",
      "execution_count": 13,
      "id": "58400d04-b18f-4703-aad4-3b4ab3f3f40d",
      "metadata": {
        "id": "58400d04-b18f-4703-aad4-3b4ab3f3f40d",
        "outputId": "17f5d9dd-8a80-4583-99e2-82aa6171e104",
        "colab": {
          "base_uri": "https://localhost:8080/",
          "height": 538
        }
      },
      "outputs": [
        {
          "output_type": "execute_result",
          "data": {
            "text/plain": [
              "Text(0.5, 1.0, 'Gráfico de frecuencia del Score')"
            ]
          },
          "metadata": {},
          "execution_count": 13
        },
        {
          "output_type": "display_data",
          "data": {
            "text/plain": [
              "<Figure size 600x600 with 1 Axes>"
            ],
            "image/png": "[encoded data removed]"
          },
          "metadata": {}
        }
      ],
      "source": [
        "# @title\n",
        "sizes = tabla_frecuencias.n_i\n",
        "labels = tabla_frecuencias.x_i\n",
        "\n",
        "plt.figure(figsize=(6, 6))  # Tamaño del gráfico (opcional)\n",
        "plt.pie(sizes, labels=labels, autopct='%1.1f%%', startangle=140)\n",
        "\n",
        "# Agregar un título\n",
        "plt.title('Gráfico de frecuencia del Score')\n",
        "# plt.savefig(\"Pie_chart_score.png\", bbox_inches='tight', pad_inches=0, dpi=600)"
      ]
    },
    {
      "cell_type": "markdown",
      "id": "67b7b9ab-a91c-4933-ae6c-d800b92a62a7",
      "metadata": {
        "id": "67b7b9ab-a91c-4933-ae6c-d800b92a62a7"
      },
      "source": [
        "### Gráfico de barras de valores:"
      ]
    },
    {
      "cell_type": "markdown",
      "source": [
        "Para visualizar un ejemplo de gráfico de barras, creamos una nueva variable *Sentiment* que divide en dos grupos las reseñas.\n",
        "Aquellas reseñas con Score = 1, 2 o 3 son catalogadas como \"Malo\"\n",
        "Aquellas reseñas con Score = 4 o 5 son catalogadas como \"Buenas\""
      ],
      "metadata": {
        "id": "6A6Kh_3uacjI"
      },
      "id": "6A6Kh_3uacjI"
    },
    {
      "cell_type": "code",
      "execution_count": 14,
      "id": "fe43711d-93d7-428d-9a83-576d1054db13",
      "metadata": {
        "id": "fe43711d-93d7-428d-9a83-576d1054db13",
        "outputId": "35ba9e9e-6b25-471b-c0ed-1bfe11456c2a",
        "colab": {
          "base_uri": "https://localhost:8080/",
          "height": 611
        }
      },
      "outputs": [
        {
          "output_type": "stream",
          "name": "stdout",
          "text": [
            "Frecuencias por tipo de sentimiento:\n",
            "Malo (1-3)      9930\n",
            "Bueno (4-5)    35546\n",
            "Name: sentiment, dtype: int64\n"
          ]
        },
        {
          "output_type": "display_data",
          "data": {
            "text/plain": [
              "<Figure size 800x600 with 1 Axes>"
            ],
            "image/png": "[encoded data removed]"
          },
          "metadata": {}
        }
      ],
      "source": [
        "# @title\n",
        "#Primero clasificaremos las reseñas en doos grupos (buenas o malas)\n",
        "# assign reviews with score > 3 as positive sentiment\n",
        "# score < 3 negative sentiment\n",
        "df['sentiment'] = pd.cut(df['Score'], bins=[1,4,6], labels=['Malo (1-3)', 'Bueno (4-5)'], right=False)\n",
        "\n",
        "frecuencias_sentiment = df['sentiment'].value_counts()\n",
        "frecuencias_sentiment = frecuencias_sentiment.sort_index()\n",
        "\n",
        "print(f\"Frecuencias por tipo de sentimiento:\\n{frecuencias_sentiment}\")\n",
        "\n",
        "# Datos de ejemplo\n",
        "labels = frecuencias_sentiment.index\n",
        "sizes = frecuencias_sentiment.values\n",
        "\n",
        "# Crear el gráfico de barras\n",
        "plt.figure(figsize=(8, 6))  # Tamaño del gráfico (opcional)\n",
        "plt.bar(labels, sizes, color='magenta')\n",
        "\n",
        "# Agregar etiquetas y título\n",
        "plt.ylabel('Nº de reseñas')\n",
        "plt.xlabel('Sentimiento')\n",
        "# plt.title('Gráfico de sentimeinto')\n",
        "# plt.savefig(\"bar_chart_score_agrupado.png\", bbox_inches='tight', pad_inches=0, dpi=600)\n",
        "\n",
        "# Mostrar el gráfico\n",
        "plt.show()"
      ]
    },
    {
      "cell_type": "markdown",
      "id": "18e7d53c-d7a2-40e3-b782-a2e8f31b59b6",
      "metadata": {
        "id": "18e7d53c-d7a2-40e3-b782-a2e8f31b59b6"
      },
      "source": [
        "### Histograma:"
      ]
    },
    {
      "cell_type": "markdown",
      "source": [
        "Histograma del puntaje de las reseñas (Score):\n"
      ],
      "metadata": {
        "id": "ZetTQv4UO_yX"
      },
      "id": "ZetTQv4UO_yX"
    },
    {
      "cell_type": "code",
      "execution_count": 15,
      "id": "3b23b170-fb3e-45bb-993d-baad62311f0f",
      "metadata": {
        "id": "3b23b170-fb3e-45bb-993d-baad62311f0f",
        "outputId": "f7fd27a2-e6a4-4a79-d32d-4410d4e95851",
        "colab": {
          "base_uri": "https://localhost:8080/",
          "height": 651
        }
      },
      "outputs": [
        {
          "output_type": "display_data",
          "data": {
            "text/plain": [
              "<Figure size 800x600 with 1 Axes>"
            ],
            "image/png": "[encoded data removed]"
          },
          "metadata": {}
        },
        {
          "output_type": "stream",
          "name": "stdout",
          "text": [
            "Frecuencia del bin 1.0 - 2.0: 4144.0\n",
            "Frecuencia del bin 2.0 - 3.0: 2347.0\n",
            "Frecuencia del bin 3.0 - 4.0: 3439.0\n",
            "Frecuencia del bin 4.0 - 5.0: 6411.0\n",
            "Frecuencia del bin 5.0 - 6.0: 29135.0\n"
          ]
        }
      ],
      "source": [
        "# @title\n",
        "data=list(df['Score'].values)\n",
        "# Crear el histograma con las barras juntas y densidad\n",
        "plt.figure(figsize=(8, 6))  # Tamaño del gráfico (opcional)\n",
        "values, bins, _ = plt.hist(data, bins=range(min(data), max(data) + 2), align='left', rwidth=1, color='magenta', density=False)\n",
        "\n",
        "# Agregar etiquetas y título\n",
        "plt.xlabel('Score')\n",
        "plt.ylabel('Densidad')\n",
        "plt.title('Histograma del Score')\n",
        "\n",
        "# Mostrar el histograma\n",
        "plt.grid(axis='y', alpha=0.75)\n",
        "plt.show()\n",
        "\n",
        "#para mostrar las frecuencias reltativas en vez de las aboslutas usar: values, bins, _ = plt.hist(data, bins=range(min(data), max(data) + 2), align='left', rwidth=1, color='magenta', density=False)\n",
        "\n",
        "for i in range(len(values)):\n",
        "    print(f\"Frecuencia del bin {bins[i]} - {bins[i+1]}: {values[i]}\")"
      ]
    },
    {
      "cell_type": "markdown",
      "id": "615df32b-c6ff-4201-a8a9-dc76376069c7",
      "metadata": {
        "id": "615df32b-c6ff-4201-a8a9-dc76376069c7"
      },
      "source": [
        "## Medidas de tendencia central"
      ]
    },
    {
      "cell_type": "markdown",
      "source": [
        "Para hacer manejable la masa de datos procedentes de la observación estadística, es necesario resumir el volumen de los datos. Ya hemos visto cómo reducir y organizar la masa de datos con las tablas de frecuencias.\n",
        "\n",
        "En el caso de las **variables cuantitativas**, es posible reducir aún más esta información, valiéndonos de unos pocos valores que las describan y caractericen. Estos valores, que llamamos estadísticos, nos indican las características más importantes de las distribuciones de frecuencias y se suelen clasificar en los siguientes grupos:\n",
        "\n",
        "* de posición:\n",
        "    * media aritmética\n",
        "    * mediana\n",
        "    * cuantiles\n",
        "    * moda\n",
        "* de dispersión:\n",
        "    * (cuasi)varianza\n",
        "    * (cuasi)desviación típica\n",
        "    * coeficiente de variación\n",
        "* de concentración: índice de Gini."
      ],
      "metadata": {
        "id": "YliNLDWXPIY4"
      },
      "id": "YliNLDWXPIY4"
    },
    {
      "cell_type": "markdown",
      "source": [
        "### Medidas de posición:\n",
        "\n",
        "Las **medidas de posición** resumen la distribución de los valores de una variable.\n",
        "\n",
        "Para que un valor pueda ser considerado una medida de posición tiene que tomar un valor **comprendido entre el mínimo y el máximo de la variable.**\n",
        "\n",
        "Existen dos tipos de medidas de posición: las **centrales** y las **no centrales**.\n",
        "\n",
        "De las medidas de posición central, las más utilizadas son: la **media aritmética**, la **mediana** y la **moda**.\n",
        "\n",
        "Los **cuantiles** son las medidas de posición no central.\n"
      ],
      "metadata": {
        "id": "epOYDGEGPprx"
      },
      "id": "epOYDGEGPprx"
    },
    {
      "cell_type": "markdown",
      "id": "e739def1-b32a-40d8-b998-6666c56cc3e7",
      "metadata": {
        "id": "e739def1-b32a-40d8-b998-6666c56cc3e7"
      },
      "source": [
        "## Media Aritmética"
      ]
    },
    {
      "cell_type": "markdown",
      "source": [
        "La media aritmética es la suma de todos los valores observados de la distribución, dividida por el número total de casos.\n",
        "$$\\bar{X}=\\frac{1}{N} \\sum_{(𝑖=1)}^{𝑁}𝑋_{𝑖} =\\frac{(𝑋_1+𝑋_2+…+𝑋_𝑁)}{N}$$.\n",
        "\n",
        "Si tenemos $𝐾$ valores distintos que se repiten, y conocemos sus frecuencias, podemos calcular la media como:\n",
        "$$\\bar{X}=\\frac{1}{N} \\sum_{(𝑖=1)}^{𝑁}n_{𝑖}𝑥_{𝑖} =\\frac{(𝑛_1 𝑥_1+𝑛_2 𝑥_2+…+𝑛_𝑘 𝑥_𝐾)}{N}$$."
      ],
      "metadata": {
        "id": "SQJSt7rsPzlA"
      },
      "id": "SQJSt7rsPzlA"
    },
    {
      "cell_type": "code",
      "source": [
        "print(f\"La suma de X_i para el ejercicio es {df['Longitud_Texto'].sum()}\" )\n",
        "print(f\"El tamaño (N) de X_i para el ejercicio es {N}\")\n"
      ],
      "metadata": {
        "colab": {
          "base_uri": "https://localhost:8080/"
        },
        "id": "PI3Ny-GSD--n",
        "outputId": "db024204-7c43-47c5-c33b-6117c2661369"
      },
      "id": "PI3Ny-GSD--n",
      "execution_count": 16,
      "outputs": [
        {
          "output_type": "stream",
          "name": "stdout",
          "text": [
            "La suma de X_i para el ejercicio es 3638051\n",
            "El tamaño (N) de X_i para el ejercicio es 45476\n"
          ]
        }
      ]
    },
    {
      "cell_type": "markdown",
      "source": [
        "### Ejercicios:\n",
        "\n",
        "Calcular la media aritmética en las siguientes situaciones.\n",
        "\n",
        "1. Para la variable $X=(4, 7, 5, 7, 5, 4, 2, 7)$.\n",
        "\n",
        "2. Para la variable **Longitud_Texto**:\n",
        "\n",
        "    Sabiendo que $\\sum 𝑋_{𝑖}=3638051$   y $N= 45476$\n",
        "\n",
        "3. Usando la reducción por intervalos de la tabla de frecuencias de la variable **Longitud_Texto** (Cálculo de la marca de clase)\n"
      ],
      "metadata": {
        "id": "Zor5i4_2Q9AL"
      },
      "id": "Zor5i4_2Q9AL"
    },
    {
      "cell_type": "markdown",
      "id": "6ce1a628-cffc-4ec0-9354-9547312f99dd",
      "metadata": {
        "id": "6ce1a628-cffc-4ec0-9354-9547312f99dd"
      },
      "source": [
        "### Media aritmética de datos agrupados:"
      ]
    },
    {
      "cell_type": "code",
      "source": [
        "# @title Rta1 y 2 { display-mode: \"code\" }\n",
        "# @title\n",
        "X = [4, 7, 5, 7, 5, 4, 2, 7]\n",
        "x_hat = round(sum(X) / len(X),2)\n",
        "# Imprimir el texto junto con la variable y su valor\n",
        "print(f\"1. Para la variable X = {X}: \\u0302x={x_hat}\")\n",
        "\n",
        "# Para la variable Longitud_Texto:\n",
        "x_hat = round(df[\"Longitud_Texto\"].mean(),2)\n",
        "suma = df[\"Longitud_Texto\"].sum()\n",
        "n = N\n",
        "print(f\"2. Para la variable Longitud_Texto: \\u0302x={suma}/{n}={x_hat}\")\n",
        "\n"
      ],
      "metadata": {
        "id": "JL5OERi2Xt9g",
        "colab": {
          "base_uri": "https://localhost:8080/"
        },
        "outputId": "8e9c2fc6-f809-48f0-931a-4342979c7475"
      },
      "id": "JL5OERi2Xt9g",
      "execution_count": 17,
      "outputs": [
        {
          "output_type": "stream",
          "name": "stdout",
          "text": [
            "1. Para la variable X = [4, 7, 5, 7, 5, 4, 2, 7]: ̂x=5.12\n",
            "2. Para la variable Longitud_Texto: ̂x=3638051/45476=80.0\n"
          ]
        }
      ]
    },
    {
      "cell_type": "code",
      "execution_count": 18,
      "id": "ce0fca20-df91-4177-b6a0-96ecd37ed692",
      "metadata": {
        "id": "ce0fca20-df91-4177-b6a0-96ecd37ed692",
        "outputId": "b19c459e-103e-429e-f20c-822f25456c86",
        "colab": {
          "base_uri": "https://localhost:8080/"
        }
      },
      "outputs": [
        {
          "output_type": "stream",
          "name": "stdout",
          "text": [
            "                  x_i  MarcaDeClase    n_i\n",
            "0        [6.0-117.47)        61.735  37157\n",
            "1     [117.47-228.94)       173.205   6342\n",
            "2     [228.94-340.41)       284.675   1298\n",
            "3     [340.41-451.88)       396.145    394\n",
            "4     [451.88-563.35)       507.615    167\n",
            "5     [563.35-674.82)       619.085     42\n",
            "6     [674.82-786.29)       730.555     23\n",
            "7     [786.29-897.76)       842.025     33\n",
            "8    [897.76-1009.24)       953.500      7\n",
            "9   [1009.24-1120.71)      1064.975      2\n",
            "10  [1120.71-1232.18)      1176.445      2\n",
            "11  [1232.18-1343.65)      1287.915      2\n",
            "12  [1343.65-1455.12)      1399.385      3\n",
            "13  [1455.12-1566.59)      1510.855      1\n",
            "14  [1566.59-1678.06)      1622.325      1\n",
            "15  [1678.06-1789.53)      1733.795      1\n",
            "16   [1789.53-1902.9)      1846.215      1\n"
          ]
        }
      ],
      "source": [
        "# Mostrar la tabla de frecuencias con la marca de clase\n",
        "print(tabla_frecuencias_Longitud_Texto[['x_i','MarcaDeClase','n_i']])"
      ]
    },
    {
      "cell_type": "code",
      "source": [
        "# @title Rta 3.\n",
        "marcas_de_clase =  tabla_frecuencias_Longitud_Texto['MarcaDeClase']\n",
        "frecuencias     =  tabla_frecuencias_Longitud_Texto['n_i']\n",
        "# Calculando la suma de los productos de las marcas de clase y las frecuencias\n",
        "suma_productos = sum(marcas_de_clase[i] * frecuencias[i] for i in range(len(marcas_de_clase)))\n",
        "\n",
        "# # Calculando el total de observaciones\n",
        "total_observaciones = sum(frecuencias)\n",
        "\n",
        "# # Calculando la media aritmética\n",
        "x_hat = suma_productos / total_observaciones\n",
        "\n",
        "print(f\"3. Para la variable Longitud_Texto en datos agrupados:\\n\\u0302x={round(x_hat,2)}\")"
      ],
      "metadata": {
        "colab": {
          "base_uri": "https://localhost:8080/"
        },
        "id": "EdZzerA7FfmC",
        "outputId": "1fb8c137-0d81-4797-c07f-2d536e82b4c4"
      },
      "id": "EdZzerA7FfmC",
      "execution_count": 19,
      "outputs": [
        {
          "output_type": "stream",
          "name": "stdout",
          "text": [
            "3. Para la variable Longitud_Texto en datos agrupados:\n",
            "̂x=90.11\n"
          ]
        }
      ]
    },
    {
      "cell_type": "markdown",
      "source": [
        "### Media aritmética: pros\n",
        "\n"
      ],
      "metadata": {
        "id": "uWp8GFJ9wGV2"
      },
      "id": "uWp8GFJ9wGV2"
    },
    {
      "cell_type": "markdown",
      "source": [
        "Tiene en cuenta **todos los valores observados**.\n",
        "\n",
        "Es **fácil de calcular.**\n",
        "\n",
        "Tiene un **claro significado estadístico:** representa el valor que tomaría cada una de las observaciones si el total se repartiera de manera equitativa.\n",
        "\n",
        "Es **única**."
      ],
      "metadata": {
        "id": "LobQIalqwiSs"
      },
      "id": "LobQIalqwiSs"
    },
    {
      "cell_type": "markdown",
      "source": [
        "### Media aritmética: contra"
      ],
      "metadata": {
        "id": "UUtkoVfFwcQC"
      },
      "id": "UUtkoVfFwcQC"
    },
    {
      "cell_type": "markdown",
      "source": [
        "Los valores extremos ejercen gran influencia sobre el valor de la media aritmética (un valor extremo es un dato excepcionalmente pequeño o grande en comparación con el resto)\n",
        "\n",
        "\n"
      ],
      "metadata": {
        "id": "FN7Q9wipwkR4"
      },
      "id": "FN7Q9wipwkR4"
    },
    {
      "cell_type": "code",
      "source": [
        "Datos1 = [2,5,7,9,12]\n",
        "Datos2 = [2,5,7,9,125]\n",
        "Datos = pd.DataFrame({\n",
        "    'Datos1': Datos1,\n",
        "    'Datos2': Datos2\n",
        "})\n",
        "display(Datos)"
      ],
      "metadata": {
        "id": "YtVMcdY8xoBp",
        "outputId": "54d58be7-2960-4ead-94e0-19893981d375",
        "colab": {
          "base_uri": "https://localhost:8080/",
          "height": 206
        }
      },
      "id": "YtVMcdY8xoBp",
      "execution_count": 20,
      "outputs": [
        {
          "output_type": "display_data",
          "data": {
            "text/plain": [
              "   Datos1  Datos2\n",
              "0       2       2\n",
              "1       5       5\n",
              "2       7       7\n",
              "3       9       9\n",
              "4      12     125"
            ],
            "text/html": [
              "\n",
              "  <div id=\"df-773940d6-2a98-434f-9b18-70b84b7ecd01\" class=\"colab-df-container\">\n",
              "    <div>\n",
              "<style scoped>\n",
              "    .dataframe tbody tr th:only-of-type {\n",
              "        vertical-align: middle;\n",
              "    }\n",
              "\n",
              "    .dataframe tbody tr th {\n",
              "        vertical-align: top;\n",
              "    }\n",
              "\n",
              "    .dataframe thead th {\n",
              "        text-align: right;\n",
              "    }\n",
              "</style>\n",
              "<table border=\"1\" class=\"dataframe\">\n",
              "  <thead>\n",
              "    <tr style=\"text-align: right;\">\n",
              "      <th></th>\n",
              "      <th>Datos1</th>\n",
              "      <th>Datos2</th>\n",
              "    </tr>\n",
              "  </thead>\n",
              "  <tbody>\n",
              "    <tr>\n",
              "      <th>0</th>\n",
              "      <td>2</td>\n",
              "      <td>2</td>\n",
              "    </tr>\n",
              "    <tr>\n",
              "      <th>1</th>\n",
              "      <td>5</td>\n",
              "      <td>5</td>\n",
              "    </tr>\n",
              "    <tr>\n",
              "      <th>2</th>\n",
              "      <td>7</td>\n",
              "      <td>7</td>\n",
              "    </tr>\n",
              "    <tr>\n",
              "      <th>3</th>\n",
              "      <td>9</td>\n",
              "      <td>9</td>\n",
              "    </tr>\n",
              "    <tr>\n",
              "      <th>4</th>\n",
              "      <td>12</td>\n",
              "      <td>125</td>\n",
              "    </tr>\n",
              "  </tbody>\n",
              "</table>\n",
              "</div>\n",
              "    <div class=\"colab-df-buttons\">\n",
              "\n",
              "  <div class=\"colab-df-container\">\n",
              "    <button class=\"colab-df-convert\" onclick=\"convertToInteractive('df-773940d6-2a98-434f-9b18-70b84b7ecd01')\"\n",
              "            title=\"Convert this dataframe to an interactive table.\"\n",
              "            style=\"display:none;\">\n",
              "\n",
              "  <svg xmlns=\"http://www.w3.org/2000/svg\" height=\"24px\" viewBox=\"0 -960 960 960\">\n",
              "    <path d=\"M120-120v-720h720v720H120Zm60-500h600v-160H180v160Zm220 220h160v-160H400v160Zm0 220h160v-160H400v160ZM180-400h160v-160H180v160Zm440 0h160v-160H620v160ZM180-180h160v-160H180v160Zm440 0h160v-160H620v160Z\"/>\n",
              "  </svg>\n",
              "    </button>\n",
              "\n",
              "  <style>\n",
              "    .colab-df-container {\n",
              "      display:flex;\n",
              "      gap: 12px;\n",
              "    }\n",
              "\n",
              "    .colab-df-convert {\n",
              "      background-color: #E8F0FE;\n",
              "      border: none;\n",
              "      border-radius: 50%;\n",
              "      cursor: pointer;\n",
              "      display: none;\n",
              "      fill: #1967D2;\n",
              "      height: 32px;\n",
              "      padding: 0 0 0 0;\n",
              "      width: 32px;\n",
              "    }\n",
              "\n",
              "    .colab-df-convert:hover {\n",
              "      background-color: #E2EBFA;\n",
              "      box-shadow: 0px 1px 2px rgba(60, 64, 67, 0.3), 0px 1px 3px 1px rgba(60, 64, 67, 0.15);\n",
              "      fill: #174EA6;\n",
              "    }\n",
              "\n",
              "    .colab-df-buttons div {\n",
              "      margin-bottom: 4px;\n",
              "    }\n",
              "\n",
              "    [theme=dark] .colab-df-convert {\n",
              "      background-color: #3B4455;\n",
              "      fill: #D2E3FC;\n",
              "    }\n",
              "\n",
              "    [theme=dark] .colab-df-convert:hover {\n",
              "      background-color: #434B5C;\n",
              "      box-shadow: 0px 1px 3px 1px rgba(0, 0, 0, 0.15);\n",
              "      filter: drop-shadow(0px 1px 2px rgba(0, 0, 0, 0.3));\n",
              "      fill: #FFFFFF;\n",
              "    }\n",
              "  </style>\n",
              "\n",
              "    <script>\n",
              "      const buttonEl =\n",
              "        document.querySelector('#df-773940d6-2a98-434f-9b18-70b84b7ecd01 button.colab-df-convert');\n",
              "      buttonEl.style.display =\n",
              "        google.colab.kernel.accessAllowed ? 'block' : 'none';\n",
              "\n",
              "      async function convertToInteractive(key) {\n",
              "        const element = document.querySelector('#df-773940d6-2a98-434f-9b18-70b84b7ecd01');\n",
              "        const dataTable =\n",
              "          await google.colab.kernel.invokeFunction('convertToInteractive',\n",
              "                                                    [key], {});\n",
              "        if (!dataTable) return;\n",
              "\n",
              "        const docLinkHtml = 'Like what you see? Visit the ' +\n",
              "          '<a target=\"_blank\" href=https://colab.research.google.com/notebooks/data_table.ipynb>data table notebook</a>'\n",
              "          + ' to learn more about interactive tables.';\n",
              "        element.innerHTML = '';\n",
              "        dataTable['output_type'] = 'display_data';\n",
              "        await google.colab.output.renderOutput(dataTable, element);\n",
              "        const docLink = document.createElement('div');\n",
              "        docLink.innerHTML = docLinkHtml;\n",
              "        element.appendChild(docLink);\n",
              "      }\n",
              "    </script>\n",
              "  </div>\n",
              "\n",
              "\n",
              "<div id=\"df-ddee546c-36ed-4edd-af47-f86d30bbef8f\">\n",
              "  <button class=\"colab-df-quickchart\" onclick=\"quickchart('df-ddee546c-36ed-4edd-af47-f86d30bbef8f')\"\n",
              "            title=\"Suggest charts\"\n",
              "            style=\"display:none;\">\n",
              "\n",
              "<svg xmlns=\"http://www.w3.org/2000/svg\" height=\"24px\"viewBox=\"0 0 24 24\"\n",
              "     width=\"24px\">\n",
              "    <g>\n",
              "        <path d=\"M19 3H5c-1.1 0-2 .9-2 2v14c0 1.1.9 2 2 2h14c1.1 0 2-.9 2-2V5c0-1.1-.9-2-2-2zM9 17H7v-7h2v7zm4 0h-2V7h2v10zm4 0h-2v-4h2v4z\"/>\n",
              "    </g>\n",
              "</svg>\n",
              "  </button>\n",
              "\n",
              "<style>\n",
              "  .colab-df-quickchart {\n",
              "      --bg-color: #E8F0FE;\n",
              "      --fill-color: #1967D2;\n",
              "      --hover-bg-color: #E2EBFA;\n",
              "      --hover-fill-color: #174EA6;\n",
              "      --disabled-fill-color: #AAA;\n",
              "      --disabled-bg-color: #DDD;\n",
              "  }\n",
              "\n",
              "  [theme=dark] .colab-df-quickchart {\n",
              "      --bg-color: #3B4455;\n",
              "      --fill-color: #D2E3FC;\n",
              "      --hover-bg-color: #434B5C;\n",
              "      --hover-fill-color: #FFFFFF;\n",
              "      --disabled-bg-color: #3B4455;\n",
              "      --disabled-fill-color: #666;\n",
              "  }\n",
              "\n",
              "  .colab-df-quickchart {\n",
              "    background-color: var(--bg-color);\n",
              "    border: none;\n",
              "    border-radius: 50%;\n",
              "    cursor: pointer;\n",
              "    display: none;\n",
              "    fill: var(--fill-color);\n",
              "    height: 32px;\n",
              "    padding: 0;\n",
              "    width: 32px;\n",
              "  }\n",
              "\n",
              "  .colab-df-quickchart:hover {\n",
              "    background-color: var(--hover-bg-color);\n",
              "    box-shadow: 0 1px 2px rgba(60, 64, 67, 0.3), 0 1px 3px 1px rgba(60, 64, 67, 0.15);\n",
              "    fill: var(--button-hover-fill-color);\n",
              "  }\n",
              "\n",
              "  .colab-df-quickchart-complete:disabled,\n",
              "  .colab-df-quickchart-complete:disabled:hover {\n",
              "    background-color: var(--disabled-bg-color);\n",
              "    fill: var(--disabled-fill-color);\n",
              "    box-shadow: none;\n",
              "  }\n",
              "\n",
              "  .colab-df-spinner {\n",
              "    border: 2px solid var(--fill-color);\n",
              "    border-color: transparent;\n",
              "    border-bottom-color: var(--fill-color);\n",
              "    animation:\n",
              "      spin 1s steps(1) infinite;\n",
              "  }\n",
              "\n",
              "  @keyframes spin {\n",
              "    0% {\n",
              "      border-color: transparent;\n",
              "      border-bottom-color: var(--fill-color);\n",
              "      border-left-color: var(--fill-color);\n",
              "    }\n",
              "    20% {\n",
              "      border-color: transparent;\n",
              "      border-left-color: var(--fill-color);\n",
              "      border-top-color: var(--fill-color);\n",
              "    }\n",
              "    30% {\n",
              "      border-color: transparent;\n",
              "      border-left-color: var(--fill-color);\n",
              "      border-top-color: var(--fill-color);\n",
              "      border-right-color: var(--fill-color);\n",
              "    }\n",
              "    40% {\n",
              "      border-color: transparent;\n",
              "      border-right-color: var(--fill-color);\n",
              "      border-top-color: var(--fill-color);\n",
              "    }\n",
              "    60% {\n",
              "      border-color: transparent;\n",
              "      border-right-color: var(--fill-color);\n",
              "    }\n",
              "    80% {\n",
              "      border-color: transparent;\n",
              "      border-right-color: var(--fill-color);\n",
              "      border-bottom-color: var(--fill-color);\n",
              "    }\n",
              "    90% {\n",
              "      border-color: transparent;\n",
              "      border-bottom-color: var(--fill-color);\n",
              "    }\n",
              "  }\n",
              "</style>\n",
              "\n",
              "  <script>\n",
              "    async function quickchart(key) {\n",
              "      const quickchartButtonEl =\n",
              "        document.querySelector('#' + key + ' button');\n",
              "      quickchartButtonEl.disabled = true;  // To prevent multiple clicks.\n",
              "      quickchartButtonEl.classList.add('colab-df-spinner');\n",
              "      try {\n",
              "        const charts = await google.colab.kernel.invokeFunction(\n",
              "            'suggestCharts', [key], {});\n",
              "      } catch (error) {\n",
              "        console.error('Error during call to suggestCharts:', error);\n",
              "      }\n",
              "      quickchartButtonEl.classList.remove('colab-df-spinner');\n",
              "      quickchartButtonEl.classList.add('colab-df-quickchart-complete');\n",
              "    }\n",
              "    (() => {\n",
              "      let quickchartButtonEl =\n",
              "        document.querySelector('#df-ddee546c-36ed-4edd-af47-f86d30bbef8f button');\n",
              "      quickchartButtonEl.style.display =\n",
              "        google.colab.kernel.accessAllowed ? 'block' : 'none';\n",
              "    })();\n",
              "  </script>\n",
              "</div>\n",
              "    </div>\n",
              "  </div>\n"
            ],
            "application/vnd.google.colaboratory.intrinsic+json": {
              "type": "dataframe",
              "variable_name": "Datos",
              "summary": "{\n  \"name\": \"Datos\",\n  \"rows\": 5,\n  \"fields\": [\n    {\n      \"column\": \"Datos1\",\n      \"properties\": {\n        \"dtype\": \"number\",\n        \"std\": 3,\n        \"min\": 2,\n        \"max\": 12,\n        \"samples\": [\n          5,\n          12,\n          7\n        ],\n        \"num_unique_values\": 5,\n        \"semantic_type\": \"\",\n        \"description\": \"\"\n      }\n    },\n    {\n      \"column\": \"Datos2\",\n      \"properties\": {\n        \"dtype\": \"number\",\n        \"std\": 53,\n        \"min\": 2,\n        \"max\": 125,\n        \"samples\": [\n          5,\n          125,\n          7\n        ],\n        \"num_unique_values\": 5,\n        \"semantic_type\": \"\",\n        \"description\": \"\"\n      }\n    }\n  ]\n}"
            }
          },
          "metadata": {}
        }
      ]
    },
    {
      "cell_type": "code",
      "source": [
        "# Calcular las medias de Datos1 y Datos2\n",
        "media_datos1 = sum(Datos1) / len(Datos1)\n",
        "media_datos2 = sum(Datos2) / len(Datos2)\n",
        "\n",
        "# Crear la figura y los subgráficos\n",
        "fig, axs = plt.subplots(1, 2, figsize=(10, 5))\n",
        "\n",
        "# Gráfico de barras para Datos1\n",
        "axs[0].bar(range(len(Datos1)), Datos1, color='skyblue')\n",
        "axs[0].axhline(y=media_datos1, color='skyblue', linestyle='--', label=f'Media: {media_datos1}')\n",
        "axs[0].set_title('Datos1')\n",
        "axs[0].set_xticks(range(len(Datos1)))\n",
        "axs[0].set_xticklabels(range(1, len(Datos1) + 1))\n",
        "axs[0].legend()\n",
        "\n",
        "# Gráfico de barras para Datos2\n",
        "axs[1].bar(range(len(Datos2)), Datos2, color='salmon')\n",
        "axs[1].axhline(y=media_datos2, color='salmon', linestyle='--', label=f'Media: {media_datos2}')\n",
        "axs[1].set_title('Datos2')\n",
        "axs[1].set_xticks(range(len(Datos2)))\n",
        "axs[1].set_xticklabels(range(1, len(Datos2) + 1))\n",
        "axs[1].legend()\n",
        "\n",
        "# Ajustar el espaciado entre los subgráficos\n",
        "plt.tight_layout()\n",
        "\n",
        "# Mostrar el gráfico\n",
        "plt.show()\n",
        "\n",
        "print(f'La media de los Datos 1 es {media_datos1}\\n\\nLa media de los Datos 2 es {media_datos2}')"
      ],
      "metadata": {
        "id": "OOIymyBcYA_W",
        "outputId": "b94cd7df-1de9-4531-9426-518c9d79dfc1",
        "colab": {
          "base_uri": "https://localhost:8080/",
          "height": 550
        }
      },
      "id": "OOIymyBcYA_W",
      "execution_count": 21,
      "outputs": [
        {
          "output_type": "display_data",
          "data": {
            "text/plain": [
              "<Figure size 1000x500 with 2 Axes>"
            ],
            "image/png": "[encoded data removed]"
          },
          "metadata": {}
        },
        {
          "output_type": "stream",
          "name": "stdout",
          "text": [
            "La media de los Datos 1 es 7.0\n",
            "\n",
            "La media de los Datos 2 es 29.6\n"
          ]
        }
      ]
    },
    {
      "cell_type": "markdown",
      "source": [
        "### Media aritmética: propiedades"
      ],
      "metadata": {
        "id": "lc32TP7c1cli"
      },
      "id": "lc32TP7c1cli"
    },
    {
      "cell_type": "markdown",
      "source": [
        "* La suma de las desviaciones de los valores de la variable, respecto a su media aritmética, es igual a cero:\n",
        "$$\\sum(X_{i}−\\bar{X})= 0 $$.\n",
        "\n",
        "* Si transformamos los valores de la variable  a través de un cambio de origen y escala $(U=a+bX)$, la media aritmética de la variable transformada es $\\bar{U}= a+b\\bar{X}$.\n",
        "\n",
        "* En particular (para $b=1$) si $U=a+X$ entonces $\\bar{U}= a+\\bar{X}$.\n",
        "\n",
        "    * Ejemplo. Supongamos que tenemos el peso de $N = 20$ personas $X = (59, 41, 55, 79, 61, 83, 43, 54, 89, 57, 80, 86, 67, 56, 80, 42, 60, 83, 76, 87)$.\n",
        "\n",
        "    * Ahora, supongamos que hacemos la tranformación $\\bar{U}= a+\\bar{X}$ dónde $a=10$ y $b=1$, entonces $U = (69, 51, 65, 89, 71, 93, 53, 64, 99, 67, 90, 96, 77, 66, 90, 52, 70, 93, 86, 9)$\n",
        "\n",
        "    * Entonces $\\bar{U}= a+\\bar{X} = 10 + \\frac{\\sum_{i}{X}}{20} ≡ \\frac{\\sum_{i}U}{20}$\n",
        "  \n",
        "\n"
      ],
      "metadata": {
        "id": "7dLD8QDq1n92"
      },
      "id": "7dLD8QDq1n92"
    },
    {
      "cell_type": "code",
      "source": [
        "# Generar la lista X\n",
        "# X = [random.randint(40, 90) for _ in range(20)]\n",
        "X = [59, 41, 55, 79, 61, 83, 43, 54, 89, 57, 80, 86, 67, 56, 80, 42, 60, 83, 76, 87]\n",
        "\n",
        "print(f\"Lista X: {X}\\ny la suma de X: {sum(X)}\")\n",
        "\n",
        "a = 10\n",
        "b = 1\n",
        "\n",
        "# Generar la lista U.\n",
        "U = [b*x + a for x in X]\n",
        "\n",
        "print(f\"Lista U: {U}\\ny la suma de U: {sum(U)}\")\n",
        "\n",
        "x_bar= sum([i for i in X]) / len([i for i in X])\n",
        "\n",
        "\n",
        "print(\"utilizando la conversión:\\n\")\n",
        "\n",
        "print(f\"La media de U = {b} X {x_bar} + {a}= {round(b*x_bar+a,1)}\")\n",
        "\n",
        "print(\"Calculando  la  media de U directamente:\\n\")\n",
        "\n",
        "print(f\"La media de U =  {sum([i for i in U]) / len([i for i in U])}\")\n",
        "\n",
        "\n",
        "\n",
        "\n"
      ],
      "metadata": {
        "id": "poiWABWkyTO3",
        "colab": {
          "base_uri": "https://localhost:8080/"
        },
        "outputId": "83d45364-4fce-40e7-96f7-2af4e0a477fd"
      },
      "id": "poiWABWkyTO3",
      "execution_count": 22,
      "outputs": [
        {
          "output_type": "stream",
          "name": "stdout",
          "text": [
            "Lista X: [59, 41, 55, 79, 61, 83, 43, 54, 89, 57, 80, 86, 67, 56, 80, 42, 60, 83, 76, 87]\n",
            "y la suma de X: 1338\n",
            "Lista U: [69, 51, 65, 89, 71, 93, 53, 64, 99, 67, 90, 96, 77, 66, 90, 52, 70, 93, 86, 97]\n",
            "y la suma de U: 1538\n",
            "utilizando la conversión:\n",
            "\n",
            "La media de U = 1 X 66.9 + 10= 76.9\n",
            "Calculando  la  media de U directamente:\n",
            "\n",
            "La media de U =  76.9\n"
          ]
        }
      ]
    },
    {
      "cell_type": "markdown",
      "source": [
        "\n",
        "Si dividimos todas las observaciones en $k$ grupos disjuntos, cada uno de ellos con media $\\bar{x}_{i}$ y tamaño $𝑁_{𝑖}$, la media aritmética de todo el conjunto se puede calcular como\n",
        "$$\\bar{X}=\\frac{(\\bar{X}_{1}N_{1}+…+\\bar{X}_{k}N_{k})}{N}$$"
      ],
      "metadata": {
        "id": "9aX7TBiu5mdP"
      },
      "id": "9aX7TBiu5mdP"
    },
    {
      "cell_type": "markdown",
      "source": [
        "## Mediana"
      ],
      "metadata": {
        "id": "o-ejPKQKyyZB"
      },
      "id": "o-ejPKQKyyZB"
    },
    {
      "cell_type": "markdown",
      "source": [
        "Dada una variable $X$, su mediana, $Me(X)$, es el valor tal que es mayor que la mitad (al menos) de los casos y también es menor o igual que (al menos) la mitad de los casos.\n",
        "\n",
        "Para calcular la mediana buscamos el valor central en la lista de valores ordenados de $X$. Para ello, ordenamos los casos de manera que $X_{1} < X_{2} < ... < X_{N} $. Calculamos la posición central $\\frac{(N+1)}{2}$:\n",
        "\n",
        "* Si el resultado es entero (esto es, si $N$ es impar), entonces $Me(X)=X_{(N+1)/2}$.\n",
        "\n",
        "* En otro caso (si $N$ es par): $Me(X)=\\frac{(X_{(N)/2}+X_{(N+2)/2})}{2}$, esto es, el promedio de los valores en las posiciones inmediatamente anterior y posterior a $\\frac{(N+1)}{2}$.\n",
        "\n",
        "¿$X$ está reducida por intervalos? $\\rightarrow$ Lo veremos más adelante.\n"
      ],
      "metadata": {
        "id": "mIzQqcl3y0qY"
      },
      "id": "mIzQqcl3y0qY"
    },
    {
      "cell_type": "code",
      "source": [
        "def calcular_mediana(datos):\n",
        "    # Ordenar los datos\n",
        "    datos_ordenados = sorted(datos)\n",
        "    n = len(datos_ordenados)\n",
        "\n",
        "    # Calcular la mediana\n",
        "    if n % 2 == 1:\n",
        "        # Si la cantidad de datos es impar\n",
        "        mediana = datos_ordenados[n // 2]\n",
        "        print(\"n es impar\")\n",
        "    else:\n",
        "        # Si la cantidad de datos es par\n",
        "\n",
        "        indice_medio1 = n // 2 - 1\n",
        "        indice_medio2 = n // 2\n",
        "\n",
        "        print(f\"n es par, por lo tanto:\\nla posición 1 es {datos_ordenados[indice_medio1]} y la posición 2 es {datos_ordenados[indice_medio2]}\")\n",
        "\n",
        "\n",
        "        mediana = (datos_ordenados[indice_medio1] + datos_ordenados[indice_medio2]) / 2\n",
        "\n",
        "    return mediana\n",
        "\n",
        "# Ejemplo de datos\n",
        "datos = df['Longitud_Texto']\n",
        "\n",
        "# Calcular la mediana\n",
        "mediana = calcular_mediana(datos)\n",
        "\n",
        "# Imprimir la mediana\n",
        "print(\"La mediana de la longitud de palabras de las reseñas es:\", mediana)\n"
      ],
      "metadata": {
        "colab": {
          "base_uri": "https://localhost:8080/"
        },
        "id": "afpRMY1Kyzzy",
        "outputId": "ab5c2012-0770-4469-acf8-9efeb4b8c45d"
      },
      "id": "afpRMY1Kyzzy",
      "execution_count": 23,
      "outputs": [
        {
          "output_type": "stream",
          "name": "stdout",
          "text": [
            "n es par, por lo tanto:\n",
            "la posición 1 es 56 y la posición 2 es 56\n",
            "La mediana de la longitud de palabras de las reseñas es: 56.0\n"
          ]
        }
      ]
    },
    {
      "cell_type": "markdown",
      "source": [
        "Otra forma de hacerlo (función prediseñada):"
      ],
      "metadata": {
        "id": "pGHRDcNSHDFg"
      },
      "id": "pGHRDcNSHDFg"
    },
    {
      "cell_type": "code",
      "source": [
        "#Se requiere el uso de la función median de la librería statistics:\n",
        "\n",
        "# Calcular la mediana\n",
        "mediana2 = median(datos)\n",
        "\n",
        "# Imprimir la mediana\n",
        "print(\"La mediana de los datos es:\", mediana2)\n"
      ],
      "metadata": {
        "colab": {
          "base_uri": "https://localhost:8080/"
        },
        "id": "DH2gbJhNFF-Z",
        "outputId": "0c5fc7e5-6b51-477b-b50b-626c8158edcf"
      },
      "id": "DH2gbJhNFF-Z",
      "execution_count": 24,
      "outputs": [
        {
          "output_type": "stream",
          "name": "stdout",
          "text": [
            "La mediana de los datos es: 56.0\n"
          ]
        }
      ]
    },
    {
      "cell_type": "markdown",
      "source": [
        "### Mediana por intervalos:\n",
        "\n",
        "Si la variable $X$ está reducida por intervalos, tomaremos como $Me(X)$ la marca de clase del **intervalo mediano**.\n",
        "\n",
        "El intervalo mediano es el primer intervalo cuya frecuencia absoluta acumulada sea mayor o igual a $(N+1)/2$. De manera equivalente, también podemos obtenerlo buscando el primer intervalo tal que su frecuencia absoluta relativa sea mayor o igual a $\\frac{1}{2}=0.5$. Esto es, el intervalo mediano es el intervalo $i$ tal que:\n",
        "$$N_{i} \\geq \\frac{N+1}{2}$$ y $$N_{i-1} < \\frac{N+1}{2}$$\n",
        "\n",
        "O de manera equivalente, $F_{i} \\geq 0.5$ y $F_{i-1} < 0.5$.\n"
      ],
      "metadata": {
        "id": "gRYpfIh4HY1i"
      },
      "id": "gRYpfIh4HY1i"
    },
    {
      "cell_type": "markdown",
      "source": [
        "Cómo ejemplo, utilizaremos un nuevo texto que contiene 218 palabras:\n",
        "\n",
        "**Este texto que estás leyendo ahora mismo sirve como un ejemplo ilustrativo para calcular el número mediano de la longitud de palabras dentro de un texto determinado. Es un ejercicio práctico que nos permite comprender cómo funcionan los cálculos de estadísticas descriptivas aplicadas al análisis lingüístico.\n",
        "En este contexto, la longitud de las palabras se refiere al número de caracteres que componen cada palabra individualmente. Al analizar este texto, encontrarás palabras cortas, como \"este\", \"es\", \"un\", \"de\", así como palabras más largas como \"ilustrativo\", \"estadísticas\", \"descriptivas\", entre otras.\n",
        "El objetivo es determinar el número mediano de caracteres que conforman las palabras en este texto. Al calcular este valor, podemos tener una idea más clara de la extensión promedio de las palabras utilizadas aquí. Este proceso implica ordenar las longitudes de las palabras de menor a mayor y encontrar el valor medio.\n",
        "Este ejercicio es útil en diversos contextos, desde análisis de texto en lingüística computacional hasta la elaboración de informes y análisis de contenido en campos como la investigación académica, la publicidad y el procesamiento del lenguaje natural.\n",
        "Es importante destacar que el cálculo del número mediano de longitud de palabras nos brinda información valiosa sobre la estructura y complejidad del lenguaje utilizado, lo que puede tener implicaciones significativas en la comunicación efectiva y la comprensión del texto.**\n"
      ],
      "metadata": {
        "id": "9pMQAv1hJT8f"
      },
      "id": "9pMQAv1hJT8f"
    },
    {
      "cell_type": "code",
      "source": [
        "# Ejemplo de lista de palabras\n",
        "texto = \"\"\"\n",
        "Este texto que estás leyendo ahora mismo sirve como un ejemplo ilustrativo para calcular el número mediano de la longitud de palabras dentro de un texto determinado. Es un ejercicio práctico que nos permite comprender cómo funcionan los cálculos de estadísticas descriptivas aplicadas al análisis lingüístico.\n",
        "\n",
        "En este contexto, la longitud de las palabras se refiere al número de caracteres que componen cada palabra individualmente. Al analizar este texto, encontrarás palabras cortas, como \"este\", \"es\", \"un\", \"de\", así como palabras más largas como \"ilustrativo\", \"estadísticas\", \"descriptivas\", entre otras.\n",
        "\n",
        "El objetivo es determinar el número mediano de caracteres que conforman las palabras en este texto. Al calcular este valor, podemos tener una idea más clara de la extensión promedio de las palabras utilizadas aquí. Este proceso implica ordenar las longitudes de las palabras de menor a mayor y encontrar el valor medio.\n",
        "\n",
        "Este ejercicio es útil en diversos contextos, desde análisis de texto en lingüística computacional hasta la elaboración de informes y análisis de contenido en campos como la investigación académica, la publicidad y el procesamiento del lenguaje natural.\n",
        "\n",
        "Es importante destacar que el cálculo del número mediano de longitud de palabras nos brinda información valiosa sobre la estructura y complejidad del lenguaje utilizado, lo que puede tener implicaciones significativas en la comunicación efectiva y la comprensión del texto.\n",
        "\"\"\"\n",
        "\n",
        "# Función para limpiar el texto\n",
        "def limpiar_texto(texto):\n",
        "    texto_limpio = texto.lower()  # Convertir a minúsculas\n",
        "    texto_limpio = texto_limpio.replace('á', 'a').replace('é', 'e').replace('í', 'i').replace('ó', 'o').replace('ú', 'u').replace('ü', 'u')  # Quitar tildes\n",
        "    texto_limpio = texto_limpio.replace(',', '')  # Quitar comas\n",
        "    texto_limpio = texto_limpio.replace('.', '')  # Quitar puntos\n",
        "    return texto_limpio\n",
        "\n",
        "# Limpiar el texto original\n",
        "texto_limpio = limpiar_texto(texto)\n",
        "\n",
        "print(\"---------\")\n",
        "print(f\"\\nTexto:\\n{texto_limpio}\\n\")\n",
        "palabras = texto_limpio.split()\n",
        "\n",
        "longitudes = [len(palabra) for palabra in palabras]\n",
        "\n",
        "pal_long= pd.DataFrame({\n",
        "    'palabras': palabras,\n",
        "    'longitudes': longitudes})\n",
        "pal_long['longitudes_group'] = group_by_sturges(pal_long, 'longitudes')\n",
        "\n",
        "N_ej3=pal_long.shape[0]\n",
        "print(f\"Tamaño del conjunto de datos: {N_ej3} palabras\")\n",
        "display(pal_long)\n",
        "\n",
        "# Calcular la tabla de frecuencias de la columna 'Grupo'\n",
        "frecuencias_grupo_ej3 = pal_long['longitudes_group'].value_counts()\n",
        "frecuencias_grupo_ej3 = frecuencias_grupo_ej3.sort_index()\n",
        "\n",
        "# Calcular la frecuencia relativa\n",
        "frecuencias_relativas_gr_ej3 = frecuencias_grupo_ej3 / len(pal_long)\n",
        "\n",
        "# Calcular las frecuencias acumuladas\n",
        "frecuencias_acumuladas_gr_ej3 = frecuencias_grupo_ej3.cumsum()\n",
        "\n",
        "# Calcular la frecuencia relativa acumulada\n",
        "frecuencias_relativas_acum_gr_ej3 = frecuencias_acumuladas_gr_ej3 / len(pal_long)\n",
        "\n",
        "\n",
        "# Calcular la marca de clase para cada intervalo\n",
        "MarcaDeClase_ej3 = list(map(marca_de_clase, list(frecuencias_grupo_ej3.index)))\n",
        "\n",
        "# Crear DataFrame con las frecuencias\n",
        "tabla_frecuencias_eje3 = pd.DataFrame({\n",
        "    'x_i': frecuencias_grupo_ej3.index,\n",
        "    'n_i': frecuencias_grupo_ej3.values,\n",
        "    'f_i': frecuencias_relativas_gr_ej3.values,\n",
        "    'N_i':frecuencias_acumuladas_gr_ej3.values,\n",
        "    'F_i':frecuencias_relativas_acum_gr_ej3.values,\n",
        "    'Marca_de_clase':MarcaDeClase_ej3\n",
        "})\n",
        "\n",
        "# Imprimir la tabla de frecuencias\n",
        "print(\"Tabla de frecuencias:\")\n",
        "print(\"-----------------------------------------------------------------------------------------------------------\")\n",
        "print(\"Longitud   | Frecuencia   | Frecuencia Relativa | Frec. Abs. Acumulada | Frec. Rel. Acumulada | Marca de clase\")\n",
        "print(\"-----------------------------------------------------------------------------------------------------------\")\n",
        "for indice, fila in tabla_frecuencias_eje3.iterrows():\n",
        "    # print(f'Índice: {indice}')\n",
        "    # print(f'Contenido de la fila:\\n{fila}\\n')\n",
        "\n",
        "    print(f\"{fila[0]:^9}    | {fila[1]:^10}| {fila[2]:.4f}              | {fila[3]:^19}  | {fila[4]:.4f}              | {fila[5]:.1f}\")\n",
        "print(\"-----------------------------------------------------------------------------------------------------------\")\n",
        "\n",
        "\n"
      ],
      "metadata": {
        "colab": {
          "base_uri": "https://localhost:8080/",
          "height": 964
        },
        "id": "FKzf9KwjGuo_",
        "outputId": "f465b0f3-52a8-42f7-81a0-f564381a5b80"
      },
      "id": "FKzf9KwjGuo_",
      "execution_count": 25,
      "outputs": [
        {
          "output_type": "stream",
          "name": "stdout",
          "text": [
            "---------\n",
            "\n",
            "Texto:\n",
            "\n",
            "este texto que estas leyendo ahora mismo sirve como un ejemplo ilustrativo para calcular el numero mediano de la longitud de palabras dentro de un texto determinado es un ejercicio practico que nos permite comprender como funcionan los calculos de estadisticas descriptivas aplicadas al analisis linguistico\n",
            "\n",
            "en este contexto la longitud de las palabras se refiere al numero de caracteres que componen cada palabra individualmente al analizar este texto encontraras palabras cortas como \"este\" \"es\" \"un\" \"de\" asi como palabras mas largas como \"ilustrativo\" \"estadisticas\" \"descriptivas\" entre otras\n",
            "\n",
            "el objetivo es determinar el numero mediano de caracteres que conforman las palabras en este texto al calcular este valor podemos tener una idea mas clara de la extension promedio de las palabras utilizadas aqui este proceso implica ordenar las longitudes de las palabras de menor a mayor y encontrar el valor medio\n",
            "\n",
            "este ejercicio es util en diversos contextos desde analisis de texto en linguistica computacional hasta la elaboracion de informes y analisis de contenido en campos como la investigacion academica la publicidad y el procesamiento del lenguaje natural\n",
            "\n",
            "es importante destacar que el calculo del numero mediano de longitud de palabras nos brinda informacion valiosa sobre la estructura y complejidad del lenguaje utilizado lo que puede tener implicaciones significativas en la comunicacion efectiva y la comprension del texto\n",
            "\n",
            "\n",
            "Tamaño del conjunto de datos: 218 palabras\n"
          ]
        },
        {
          "output_type": "display_data",
          "data": {
            "text/plain": [
              "        palabras  longitudes longitudes_group\n",
              "0           este           4      [2.56-4.11)\n",
              "1          texto           5      [4.11-5.67)\n",
              "2            que           3      [2.56-4.11)\n",
              "3          estas           5      [4.11-5.67)\n",
              "4        leyendo           7      [5.67-7.22)\n",
              "..           ...         ...              ...\n",
              "213            y           1       [1.0-2.56)\n",
              "214           la           2       [1.0-2.56)\n",
              "215  comprension          11    [10.33-11.89)\n",
              "216          del           3      [2.56-4.11)\n",
              "217        texto           5      [4.11-5.67)\n",
              "\n",
              "[218 rows x 3 columns]"
            ],
            "text/html": [
              "\n",
              "  <div id=\"df-e0caea5c-be59-4f72-9de0-b234df84e8e3\" class=\"colab-df-container\">\n",
              "    <div>\n",
              "<style scoped>\n",
              "    .dataframe tbody tr th:only-of-type {\n",
              "        vertical-align: middle;\n",
              "    }\n",
              "\n",
              "    .dataframe tbody tr th {\n",
              "        vertical-align: top;\n",
              "    }\n",
              "\n",
              "    .dataframe thead th {\n",
              "        text-align: right;\n",
              "    }\n",
              "</style>\n",
              "<table border=\"1\" class=\"dataframe\">\n",
              "  <thead>\n",
              "    <tr style=\"text-align: right;\">\n",
              "      <th></th>\n",
              "      <th>palabras</th>\n",
              "      <th>longitudes</th>\n",
              "      <th>longitudes_group</th>\n",
              "    </tr>\n",
              "  </thead>\n",
              "  <tbody>\n",
              "    <tr>\n",
              "      <th>0</th>\n",
              "      <td>este</td>\n",
              "      <td>4</td>\n",
              "      <td>[2.56-4.11)</td>\n",
              "    </tr>\n",
              "    <tr>\n",
              "      <th>1</th>\n",
              "      <td>texto</td>\n",
              "      <td>5</td>\n",
              "      <td>[4.11-5.67)</td>\n",
              "    </tr>\n",
              "    <tr>\n",
              "      <th>2</th>\n",
              "      <td>que</td>\n",
              "      <td>3</td>\n",
              "      <td>[2.56-4.11)</td>\n",
              "    </tr>\n",
              "    <tr>\n",
              "      <th>3</th>\n",
              "      <td>estas</td>\n",
              "      <td>5</td>\n",
              "      <td>[4.11-5.67)</td>\n",
              "    </tr>\n",
              "    <tr>\n",
              "      <th>4</th>\n",
              "      <td>leyendo</td>\n",
              "      <td>7</td>\n",
              "      <td>[5.67-7.22)</td>\n",
              "    </tr>\n",
              "    <tr>\n",
              "      <th>...</th>\n",
              "      <td>...</td>\n",
              "      <td>...</td>\n",
              "      <td>...</td>\n",
              "    </tr>\n",
              "    <tr>\n",
              "      <th>213</th>\n",
              "      <td>y</td>\n",
              "      <td>1</td>\n",
              "      <td>[1.0-2.56)</td>\n",
              "    </tr>\n",
              "    <tr>\n",
              "      <th>214</th>\n",
              "      <td>la</td>\n",
              "      <td>2</td>\n",
              "      <td>[1.0-2.56)</td>\n",
              "    </tr>\n",
              "    <tr>\n",
              "      <th>215</th>\n",
              "      <td>comprension</td>\n",
              "      <td>11</td>\n",
              "      <td>[10.33-11.89)</td>\n",
              "    </tr>\n",
              "    <tr>\n",
              "      <th>216</th>\n",
              "      <td>del</td>\n",
              "      <td>3</td>\n",
              "      <td>[2.56-4.11)</td>\n",
              "    </tr>\n",
              "    <tr>\n",
              "      <th>217</th>\n",
              "      <td>texto</td>\n",
              "      <td>5</td>\n",
              "      <td>[4.11-5.67)</td>\n",
              "    </tr>\n",
              "  </tbody>\n",
              "</table>\n",
              "<p>218 rows × 3 columns</p>\n",
              "</div>\n",
              "    <div class=\"colab-df-buttons\">\n",
              "\n",
              "  <div class=\"colab-df-container\">\n",
              "    <button class=\"colab-df-convert\" onclick=\"convertToInteractive('df-e0caea5c-be59-4f72-9de0-b234df84e8e3')\"\n",
              "            title=\"Convert this dataframe to an interactive table.\"\n",
              "            style=\"display:none;\">\n",
              "\n",
              "  <svg xmlns=\"http://www.w3.org/2000/svg\" height=\"24px\" viewBox=\"0 -960 960 960\">\n",
              "    <path d=\"M120-120v-720h720v720H120Zm60-500h600v-160H180v160Zm220 220h160v-160H400v160Zm0 220h160v-160H400v160ZM180-400h160v-160H180v160Zm440 0h160v-160H620v160ZM180-180h160v-160H180v160Zm440 0h160v-160H620v160Z\"/>\n",
              "  </svg>\n",
              "    </button>\n",
              "\n",
              "  <style>\n",
              "    .colab-df-container {\n",
              "      display:flex;\n",
              "      gap: 12px;\n",
              "    }\n",
              "\n",
              "    .colab-df-convert {\n",
              "      background-color: #E8F0FE;\n",
              "      border: none;\n",
              "      border-radius: 50%;\n",
              "      cursor: pointer;\n",
              "      display: none;\n",
              "      fill: #1967D2;\n",
              "      height: 32px;\n",
              "      padding: 0 0 0 0;\n",
              "      width: 32px;\n",
              "    }\n",
              "\n",
              "    .colab-df-convert:hover {\n",
              "      background-color: #E2EBFA;\n",
              "      box-shadow: 0px 1px 2px rgba(60, 64, 67, 0.3), 0px 1px 3px 1px rgba(60, 64, 67, 0.15);\n",
              "      fill: #174EA6;\n",
              "    }\n",
              "\n",
              "    .colab-df-buttons div {\n",
              "      margin-bottom: 4px;\n",
              "    }\n",
              "\n",
              "    [theme=dark] .colab-df-convert {\n",
              "      background-color: #3B4455;\n",
              "      fill: #D2E3FC;\n",
              "    }\n",
              "\n",
              "    [theme=dark] .colab-df-convert:hover {\n",
              "      background-color: #434B5C;\n",
              "      box-shadow: 0px 1px 3px 1px rgba(0, 0, 0, 0.15);\n",
              "      filter: drop-shadow(0px 1px 2px rgba(0, 0, 0, 0.3));\n",
              "      fill: #FFFFFF;\n",
              "    }\n",
              "  </style>\n",
              "\n",
              "    <script>\n",
              "      const buttonEl =\n",
              "        document.querySelector('#df-e0caea5c-be59-4f72-9de0-b234df84e8e3 button.colab-df-convert');\n",
              "      buttonEl.style.display =\n",
              "        google.colab.kernel.accessAllowed ? 'block' : 'none';\n",
              "\n",
              "      async function convertToInteractive(key) {\n",
              "        const element = document.querySelector('#df-e0caea5c-be59-4f72-9de0-b234df84e8e3');\n",
              "        const dataTable =\n",
              "          await google.colab.kernel.invokeFunction('convertToInteractive',\n",
              "                                                    [key], {});\n",
              "        if (!dataTable) return;\n",
              "\n",
              "        const docLinkHtml = 'Like what you see? Visit the ' +\n",
              "          '<a target=\"_blank\" href=https://colab.research.google.com/notebooks/data_table.ipynb>data table notebook</a>'\n",
              "          + ' to learn more about interactive tables.';\n",
              "        element.innerHTML = '';\n",
              "        dataTable['output_type'] = 'display_data';\n",
              "        await google.colab.output.renderOutput(dataTable, element);\n",
              "        const docLink = document.createElement('div');\n",
              "        docLink.innerHTML = docLinkHtml;\n",
              "        element.appendChild(docLink);\n",
              "      }\n",
              "    </script>\n",
              "  </div>\n",
              "\n",
              "\n",
              "<div id=\"df-73ccbfaa-6838-4152-8e8c-d57ae2f0ff00\">\n",
              "  <button class=\"colab-df-quickchart\" onclick=\"quickchart('df-73ccbfaa-6838-4152-8e8c-d57ae2f0ff00')\"\n",
              "            title=\"Suggest charts\"\n",
              "            style=\"display:none;\">\n",
              "\n",
              "<svg xmlns=\"http://www.w3.org/2000/svg\" height=\"24px\"viewBox=\"0 0 24 24\"\n",
              "     width=\"24px\">\n",
              "    <g>\n",
              "        <path d=\"M19 3H5c-1.1 0-2 .9-2 2v14c0 1.1.9 2 2 2h14c1.1 0 2-.9 2-2V5c0-1.1-.9-2-2-2zM9 17H7v-7h2v7zm4 0h-2V7h2v10zm4 0h-2v-4h2v4z\"/>\n",
              "    </g>\n",
              "</svg>\n",
              "  </button>\n",
              "\n",
              "<style>\n",
              "  .colab-df-quickchart {\n",
              "      --bg-color: #E8F0FE;\n",
              "      --fill-color: #1967D2;\n",
              "      --hover-bg-color: #E2EBFA;\n",
              "      --hover-fill-color: #174EA6;\n",
              "      --disabled-fill-color: #AAA;\n",
              "      --disabled-bg-color: #DDD;\n",
              "  }\n",
              "\n",
              "  [theme=dark] .colab-df-quickchart {\n",
              "      --bg-color: #3B4455;\n",
              "      --fill-color: #D2E3FC;\n",
              "      --hover-bg-color: #434B5C;\n",
              "      --hover-fill-color: #FFFFFF;\n",
              "      --disabled-bg-color: #3B4455;\n",
              "      --disabled-fill-color: #666;\n",
              "  }\n",
              "\n",
              "  .colab-df-quickchart {\n",
              "    background-color: var(--bg-color);\n",
              "    border: none;\n",
              "    border-radius: 50%;\n",
              "    cursor: pointer;\n",
              "    display: none;\n",
              "    fill: var(--fill-color);\n",
              "    height: 32px;\n",
              "    padding: 0;\n",
              "    width: 32px;\n",
              "  }\n",
              "\n",
              "  .colab-df-quickchart:hover {\n",
              "    background-color: var(--hover-bg-color);\n",
              "    box-shadow: 0 1px 2px rgba(60, 64, 67, 0.3), 0 1px 3px 1px rgba(60, 64, 67, 0.15);\n",
              "    fill: var(--button-hover-fill-color);\n",
              "  }\n",
              "\n",
              "  .colab-df-quickchart-complete:disabled,\n",
              "  .colab-df-quickchart-complete:disabled:hover {\n",
              "    background-color: var(--disabled-bg-color);\n",
              "    fill: var(--disabled-fill-color);\n",
              "    box-shadow: none;\n",
              "  }\n",
              "\n",
              "  .colab-df-spinner {\n",
              "    border: 2px solid var(--fill-color);\n",
              "    border-color: transparent;\n",
              "    border-bottom-color: var(--fill-color);\n",
              "    animation:\n",
              "      spin 1s steps(1) infinite;\n",
              "  }\n",
              "\n",
              "  @keyframes spin {\n",
              "    0% {\n",
              "      border-color: transparent;\n",
              "      border-bottom-color: var(--fill-color);\n",
              "      border-left-color: var(--fill-color);\n",
              "    }\n",
              "    20% {\n",
              "      border-color: transparent;\n",
              "      border-left-color: var(--fill-color);\n",
              "      border-top-color: var(--fill-color);\n",
              "    }\n",
              "    30% {\n",
              "      border-color: transparent;\n",
              "      border-left-color: var(--fill-color);\n",
              "      border-top-color: var(--fill-color);\n",
              "      border-right-color: var(--fill-color);\n",
              "    }\n",
              "    40% {\n",
              "      border-color: transparent;\n",
              "      border-right-color: var(--fill-color);\n",
              "      border-top-color: var(--fill-color);\n",
              "    }\n",
              "    60% {\n",
              "      border-color: transparent;\n",
              "      border-right-color: var(--fill-color);\n",
              "    }\n",
              "    80% {\n",
              "      border-color: transparent;\n",
              "      border-right-color: var(--fill-color);\n",
              "      border-bottom-color: var(--fill-color);\n",
              "    }\n",
              "    90% {\n",
              "      border-color: transparent;\n",
              "      border-bottom-color: var(--fill-color);\n",
              "    }\n",
              "  }\n",
              "</style>\n",
              "\n",
              "  <script>\n",
              "    async function quickchart(key) {\n",
              "      const quickchartButtonEl =\n",
              "        document.querySelector('#' + key + ' button');\n",
              "      quickchartButtonEl.disabled = true;  // To prevent multiple clicks.\n",
              "      quickchartButtonEl.classList.add('colab-df-spinner');\n",
              "      try {\n",
              "        const charts = await google.colab.kernel.invokeFunction(\n",
              "            'suggestCharts', [key], {});\n",
              "      } catch (error) {\n",
              "        console.error('Error during call to suggestCharts:', error);\n",
              "      }\n",
              "      quickchartButtonEl.classList.remove('colab-df-spinner');\n",
              "      quickchartButtonEl.classList.add('colab-df-quickchart-complete');\n",
              "    }\n",
              "    (() => {\n",
              "      let quickchartButtonEl =\n",
              "        document.querySelector('#df-73ccbfaa-6838-4152-8e8c-d57ae2f0ff00 button');\n",
              "      quickchartButtonEl.style.display =\n",
              "        google.colab.kernel.accessAllowed ? 'block' : 'none';\n",
              "    })();\n",
              "  </script>\n",
              "</div>\n",
              "    </div>\n",
              "  </div>\n"
            ],
            "application/vnd.google.colaboratory.intrinsic+json": {
              "type": "dataframe",
              "variable_name": "pal_long",
              "summary": "{\n  \"name\": \"pal_long\",\n  \"rows\": 218,\n  \"fields\": [\n    {\n      \"column\": \"palabras\",\n      \"properties\": {\n        \"dtype\": \"string\",\n        \"samples\": [\n          \"componen\",\n          \"individualmente\",\n          \"leyendo\"\n        ],\n        \"num_unique_values\": 121,\n        \"semantic_type\": \"\",\n        \"description\": \"\"\n      }\n    },\n    {\n      \"column\": \"longitudes\",\n      \"properties\": {\n        \"dtype\": \"number\",\n        \"std\": 3,\n        \"min\": 1,\n        \"max\": 15,\n        \"samples\": [\n          10,\n          15,\n          4\n        ],\n        \"num_unique_values\": 15,\n        \"semantic_type\": \"\",\n        \"description\": \"\"\n      }\n    },\n    {\n      \"column\": \"longitudes_group\",\n      \"properties\": {\n        \"dtype\": \"category\",\n        \"samples\": [\n          \"[11.89-13.44)\",\n          \"[4.11-5.67)\",\n          \"[7.22-8.78)\"\n        ],\n        \"num_unique_values\": 9,\n        \"semantic_type\": \"\",\n        \"description\": \"\"\n      }\n    }\n  ]\n}"
            }
          },
          "metadata": {}
        },
        {
          "output_type": "stream",
          "name": "stdout",
          "text": [
            "Tabla de frecuencias:\n",
            "-----------------------------------------------------------------------------------------------------------\n",
            "Longitud   | Frecuencia   | Frecuencia Relativa | Frec. Abs. Acumulada | Frec. Rel. Acumulada | Marca de clase\n",
            "-----------------------------------------------------------------------------------------------------------\n",
            "[1.0-2.56)    |     56    | 0.2569              |         56           | 0.2569              | 1.8\n",
            "[2.56-4.11)    |     43    | 0.1972              |         99           | 0.4541              | 3.3\n",
            "[4.11-5.67)    |     24    | 0.1101              |         123          | 0.5642              | 4.9\n",
            "[5.67-7.22)    |     25    | 0.1147              |         148          | 0.6789              | 6.4\n",
            "[7.22-8.78)    |     29    | 0.1330              |         177          | 0.8119              | 8.0\n",
            "[8.78-10.33)    |     20    | 0.0917              |         197          | 0.9037              | 9.6\n",
            "[10.33-11.89)    |     9     | 0.0413              |         206          | 0.9450              | 11.1\n",
            "[11.89-13.44)    |     8     | 0.0367              |         214          | 0.9817              | 12.7\n",
            "[13.44-15.01)    |     4     | 0.0183              |         218          | 1.0000              | 14.2\n",
            "-----------------------------------------------------------------------------------------------------------\n"
          ]
        }
      ]
    },
    {
      "cell_type": "code",
      "source": [
        "# @title Rta ej3: { vertical-output: true }\n",
        "pto = (N_ej3+1)/2\n",
        "print(f\"Intervalo mediano: {pto}\")\n",
        "\n",
        "mediana=round(tabla_frecuencias_eje3.loc[(tabla_frecuencias_eje3['N_i'] >= pto).idxmax(),\"Marca_de_clase\"])\n",
        "print(f\"La mediana de longitud de palabras del texto de prueba es: {mediana}\")\n",
        "\n",
        "# median(longitudes)#para corroborar los datos se puede calcular la mediana de los datos sin agrupar en intervalos\n",
        "\n"
      ],
      "metadata": {
        "id": "xYgoQc1sy2-M",
        "outputId": "bcda9fdc-47fe-4328-9a58-7021dde28591",
        "colab": {
          "base_uri": "https://localhost:8080/"
        }
      },
      "id": "xYgoQc1sy2-M",
      "execution_count": 26,
      "outputs": [
        {
          "output_type": "stream",
          "name": "stdout",
          "text": [
            "Intervalo mediano: 109.5\n",
            "La mediana de longitud de palabras del texto de prueba es: 5\n"
          ]
        }
      ]
    },
    {
      "cell_type": "markdown",
      "source": [
        "### Mediana pros y contras:\n",
        "\n",
        "### Pros:\n",
        "\n",
        "- **Robustez ante valores extremos:** La mediana no es sensible a los valores extremos o atípicos en los datos. Esto significa que un valor extremo no afecta significativamente la mediana, lo que la hace útil cuando los datos contienen valores atípicos que, cómo dijimos antes, podrían distorsionar la media.\n",
        "   \n",
        "- **Apropiada para datos ordinales o intervalos:** La mediana es útil cuando se trabaja con datos ordinales o de intervalos, donde el orden de los valores es importante, pero no necesariamente su magnitud exacta.\n",
        "\n",
        "- **Interpretación sencilla:** Es fácil de entender y calcular. Consiste en el valor que divide a la muestra ordenada en dos partes iguales, de modo que la mitad de los valores están por encima y la otra mitad por debajo.\n",
        "\n",
        "### Contras:\n",
        "\n",
        "- **Menos sensible a la distribución de los datos:** La mediana no utiliza toda la información en los datos y, por lo tanto, puede ser menos sensible que la media para detectar patrones o cambios en la distribución de los datos.\n",
        "\n",
        "\n",
        "\n"
      ],
      "metadata": {
        "id": "Z3qeuzT7G1Ji"
      },
      "id": "Z3qeuzT7G1Ji"
    },
    {
      "cell_type": "code",
      "source": [
        "display(Datos)"
      ],
      "metadata": {
        "colab": {
          "base_uri": "https://localhost:8080/",
          "height": 206
        },
        "id": "h4xIQpQxF0yH",
        "outputId": "8370c495-ce8f-4811-9b09-7232d9582405"
      },
      "id": "h4xIQpQxF0yH",
      "execution_count": 27,
      "outputs": [
        {
          "output_type": "display_data",
          "data": {
            "text/plain": [
              "   Datos1  Datos2\n",
              "0       2       2\n",
              "1       5       5\n",
              "2       7       7\n",
              "3       9       9\n",
              "4      12     125"
            ],
            "text/html": [
              "\n",
              "  <div id=\"df-cfbdc28a-e26b-40f5-a966-5b66d6f3155c\" class=\"colab-df-container\">\n",
              "    <div>\n",
              "<style scoped>\n",
              "    .dataframe tbody tr th:only-of-type {\n",
              "        vertical-align: middle;\n",
              "    }\n",
              "\n",
              "    .dataframe tbody tr th {\n",
              "        vertical-align: top;\n",
              "    }\n",
              "\n",
              "    .dataframe thead th {\n",
              "        text-align: right;\n",
              "    }\n",
              "</style>\n",
              "<table border=\"1\" class=\"dataframe\">\n",
              "  <thead>\n",
              "    <tr style=\"text-align: right;\">\n",
              "      <th></th>\n",
              "      <th>Datos1</th>\n",
              "      <th>Datos2</th>\n",
              "    </tr>\n",
              "  </thead>\n",
              "  <tbody>\n",
              "    <tr>\n",
              "      <th>0</th>\n",
              "      <td>2</td>\n",
              "      <td>2</td>\n",
              "    </tr>\n",
              "    <tr>\n",
              "      <th>1</th>\n",
              "      <td>5</td>\n",
              "      <td>5</td>\n",
              "    </tr>\n",
              "    <tr>\n",
              "      <th>2</th>\n",
              "      <td>7</td>\n",
              "      <td>7</td>\n",
              "    </tr>\n",
              "    <tr>\n",
              "      <th>3</th>\n",
              "      <td>9</td>\n",
              "      <td>9</td>\n",
              "    </tr>\n",
              "    <tr>\n",
              "      <th>4</th>\n",
              "      <td>12</td>\n",
              "      <td>125</td>\n",
              "    </tr>\n",
              "  </tbody>\n",
              "</table>\n",
              "</div>\n",
              "    <div class=\"colab-df-buttons\">\n",
              "\n",
              "  <div class=\"colab-df-container\">\n",
              "    <button class=\"colab-df-convert\" onclick=\"convertToInteractive('df-cfbdc28a-e26b-40f5-a966-5b66d6f3155c')\"\n",
              "            title=\"Convert this dataframe to an interactive table.\"\n",
              "            style=\"display:none;\">\n",
              "\n",
              "  <svg xmlns=\"http://www.w3.org/2000/svg\" height=\"24px\" viewBox=\"0 -960 960 960\">\n",
              "    <path d=\"M120-120v-720h720v720H120Zm60-500h600v-160H180v160Zm220 220h160v-160H400v160Zm0 220h160v-160H400v160ZM180-400h160v-160H180v160Zm440 0h160v-160H620v160ZM180-180h160v-160H180v160Zm440 0h160v-160H620v160Z\"/>\n",
              "  </svg>\n",
              "    </button>\n",
              "\n",
              "  <style>\n",
              "    .colab-df-container {\n",
              "      display:flex;\n",
              "      gap: 12px;\n",
              "    }\n",
              "\n",
              "    .colab-df-convert {\n",
              "      background-color: #E8F0FE;\n",
              "      border: none;\n",
              "      border-radius: 50%;\n",
              "      cursor: pointer;\n",
              "      display: none;\n",
              "      fill: #1967D2;\n",
              "      height: 32px;\n",
              "      padding: 0 0 0 0;\n",
              "      width: 32px;\n",
              "    }\n",
              "\n",
              "    .colab-df-convert:hover {\n",
              "      background-color: #E2EBFA;\n",
              "      box-shadow: 0px 1px 2px rgba(60, 64, 67, 0.3), 0px 1px 3px 1px rgba(60, 64, 67, 0.15);\n",
              "      fill: #174EA6;\n",
              "    }\n",
              "\n",
              "    .colab-df-buttons div {\n",
              "      margin-bottom: 4px;\n",
              "    }\n",
              "\n",
              "    [theme=dark] .colab-df-convert {\n",
              "      background-color: #3B4455;\n",
              "      fill: #D2E3FC;\n",
              "    }\n",
              "\n",
              "    [theme=dark] .colab-df-convert:hover {\n",
              "      background-color: #434B5C;\n",
              "      box-shadow: 0px 1px 3px 1px rgba(0, 0, 0, 0.15);\n",
              "      filter: drop-shadow(0px 1px 2px rgba(0, 0, 0, 0.3));\n",
              "      fill: #FFFFFF;\n",
              "    }\n",
              "  </style>\n",
              "\n",
              "    <script>\n",
              "      const buttonEl =\n",
              "        document.querySelector('#df-cfbdc28a-e26b-40f5-a966-5b66d6f3155c button.colab-df-convert');\n",
              "      buttonEl.style.display =\n",
              "        google.colab.kernel.accessAllowed ? 'block' : 'none';\n",
              "\n",
              "      async function convertToInteractive(key) {\n",
              "        const element = document.querySelector('#df-cfbdc28a-e26b-40f5-a966-5b66d6f3155c');\n",
              "        const dataTable =\n",
              "          await google.colab.kernel.invokeFunction('convertToInteractive',\n",
              "                                                    [key], {});\n",
              "        if (!dataTable) return;\n",
              "\n",
              "        const docLinkHtml = 'Like what you see? Visit the ' +\n",
              "          '<a target=\"_blank\" href=https://colab.research.google.com/notebooks/data_table.ipynb>data table notebook</a>'\n",
              "          + ' to learn more about interactive tables.';\n",
              "        element.innerHTML = '';\n",
              "        dataTable['output_type'] = 'display_data';\n",
              "        await google.colab.output.renderOutput(dataTable, element);\n",
              "        const docLink = document.createElement('div');\n",
              "        docLink.innerHTML = docLinkHtml;\n",
              "        element.appendChild(docLink);\n",
              "      }\n",
              "    </script>\n",
              "  </div>\n",
              "\n",
              "\n",
              "<div id=\"df-3caad2ac-9200-41fb-8889-dab395a16c29\">\n",
              "  <button class=\"colab-df-quickchart\" onclick=\"quickchart('df-3caad2ac-9200-41fb-8889-dab395a16c29')\"\n",
              "            title=\"Suggest charts\"\n",
              "            style=\"display:none;\">\n",
              "\n",
              "<svg xmlns=\"http://www.w3.org/2000/svg\" height=\"24px\"viewBox=\"0 0 24 24\"\n",
              "     width=\"24px\">\n",
              "    <g>\n",
              "        <path d=\"M19 3H5c-1.1 0-2 .9-2 2v14c0 1.1.9 2 2 2h14c1.1 0 2-.9 2-2V5c0-1.1-.9-2-2-2zM9 17H7v-7h2v7zm4 0h-2V7h2v10zm4 0h-2v-4h2v4z\"/>\n",
              "    </g>\n",
              "</svg>\n",
              "  </button>\n",
              "\n",
              "<style>\n",
              "  .colab-df-quickchart {\n",
              "      --bg-color: #E8F0FE;\n",
              "      --fill-color: #1967D2;\n",
              "      --hover-bg-color: #E2EBFA;\n",
              "      --hover-fill-color: #174EA6;\n",
              "      --disabled-fill-color: #AAA;\n",
              "      --disabled-bg-color: #DDD;\n",
              "  }\n",
              "\n",
              "  [theme=dark] .colab-df-quickchart {\n",
              "      --bg-color: #3B4455;\n",
              "      --fill-color: #D2E3FC;\n",
              "      --hover-bg-color: #434B5C;\n",
              "      --hover-fill-color: #FFFFFF;\n",
              "      --disabled-bg-color: #3B4455;\n",
              "      --disabled-fill-color: #666;\n",
              "  }\n",
              "\n",
              "  .colab-df-quickchart {\n",
              "    background-color: var(--bg-color);\n",
              "    border: none;\n",
              "    border-radius: 50%;\n",
              "    cursor: pointer;\n",
              "    display: none;\n",
              "    fill: var(--fill-color);\n",
              "    height: 32px;\n",
              "    padding: 0;\n",
              "    width: 32px;\n",
              "  }\n",
              "\n",
              "  .colab-df-quickchart:hover {\n",
              "    background-color: var(--hover-bg-color);\n",
              "    box-shadow: 0 1px 2px rgba(60, 64, 67, 0.3), 0 1px 3px 1px rgba(60, 64, 67, 0.15);\n",
              "    fill: var(--button-hover-fill-color);\n",
              "  }\n",
              "\n",
              "  .colab-df-quickchart-complete:disabled,\n",
              "  .colab-df-quickchart-complete:disabled:hover {\n",
              "    background-color: var(--disabled-bg-color);\n",
              "    fill: var(--disabled-fill-color);\n",
              "    box-shadow: none;\n",
              "  }\n",
              "\n",
              "  .colab-df-spinner {\n",
              "    border: 2px solid var(--fill-color);\n",
              "    border-color: transparent;\n",
              "    border-bottom-color: var(--fill-color);\n",
              "    animation:\n",
              "      spin 1s steps(1) infinite;\n",
              "  }\n",
              "\n",
              "  @keyframes spin {\n",
              "    0% {\n",
              "      border-color: transparent;\n",
              "      border-bottom-color: var(--fill-color);\n",
              "      border-left-color: var(--fill-color);\n",
              "    }\n",
              "    20% {\n",
              "      border-color: transparent;\n",
              "      border-left-color: var(--fill-color);\n",
              "      border-top-color: var(--fill-color);\n",
              "    }\n",
              "    30% {\n",
              "      border-color: transparent;\n",
              "      border-left-color: var(--fill-color);\n",
              "      border-top-color: var(--fill-color);\n",
              "      border-right-color: var(--fill-color);\n",
              "    }\n",
              "    40% {\n",
              "      border-color: transparent;\n",
              "      border-right-color: var(--fill-color);\n",
              "      border-top-color: var(--fill-color);\n",
              "    }\n",
              "    60% {\n",
              "      border-color: transparent;\n",
              "      border-right-color: var(--fill-color);\n",
              "    }\n",
              "    80% {\n",
              "      border-color: transparent;\n",
              "      border-right-color: var(--fill-color);\n",
              "      border-bottom-color: var(--fill-color);\n",
              "    }\n",
              "    90% {\n",
              "      border-color: transparent;\n",
              "      border-bottom-color: var(--fill-color);\n",
              "    }\n",
              "  }\n",
              "</style>\n",
              "\n",
              "  <script>\n",
              "    async function quickchart(key) {\n",
              "      const quickchartButtonEl =\n",
              "        document.querySelector('#' + key + ' button');\n",
              "      quickchartButtonEl.disabled = true;  // To prevent multiple clicks.\n",
              "      quickchartButtonEl.classList.add('colab-df-spinner');\n",
              "      try {\n",
              "        const charts = await google.colab.kernel.invokeFunction(\n",
              "            'suggestCharts', [key], {});\n",
              "      } catch (error) {\n",
              "        console.error('Error during call to suggestCharts:', error);\n",
              "      }\n",
              "      quickchartButtonEl.classList.remove('colab-df-spinner');\n",
              "      quickchartButtonEl.classList.add('colab-df-quickchart-complete');\n",
              "    }\n",
              "    (() => {\n",
              "      let quickchartButtonEl =\n",
              "        document.querySelector('#df-3caad2ac-9200-41fb-8889-dab395a16c29 button');\n",
              "      quickchartButtonEl.style.display =\n",
              "        google.colab.kernel.accessAllowed ? 'block' : 'none';\n",
              "    })();\n",
              "  </script>\n",
              "</div>\n",
              "    </div>\n",
              "  </div>\n"
            ],
            "application/vnd.google.colaboratory.intrinsic+json": {
              "type": "dataframe",
              "variable_name": "Datos",
              "summary": "{\n  \"name\": \"Datos\",\n  \"rows\": 5,\n  \"fields\": [\n    {\n      \"column\": \"Datos1\",\n      \"properties\": {\n        \"dtype\": \"number\",\n        \"std\": 3,\n        \"min\": 2,\n        \"max\": 12,\n        \"samples\": [\n          5,\n          12,\n          7\n        ],\n        \"num_unique_values\": 5,\n        \"semantic_type\": \"\",\n        \"description\": \"\"\n      }\n    },\n    {\n      \"column\": \"Datos2\",\n      \"properties\": {\n        \"dtype\": \"number\",\n        \"std\": 53,\n        \"min\": 2,\n        \"max\": 125,\n        \"samples\": [\n          5,\n          125,\n          7\n        ],\n        \"num_unique_values\": 5,\n        \"semantic_type\": \"\",\n        \"description\": \"\"\n      }\n    }\n  ]\n}"
            }
          },
          "metadata": {}
        }
      ]
    },
    {
      "cell_type": "markdown",
      "source": [
        "## Moda:\n",
        "La moda es (son) el (los) valor(es) de frecuencia máxima. Puede haber más de una moda. La denotamos como $Mo(X)$.\n",
        "\n",
        "Ejemplo. Para la variable $X =(4, 7, 5, 7, 5, 4, 2, 7)$, tenemos $Mo(X)=7$, que es el valor con mayor frecuencia absoluta.\n",
        "\n",
        "Se suele considerar una medida de posición central, pero no tiene porqué comportarse como tal. Por ejemplo:\n",
        "En el ejemplo anterior $Mo(X)= max(X)$.\n",
        "Para la variable $X=(4, 7, 4, 7, 5, 4, 5, 7)$, tenemos $Mo(X)={4,7}$, que son los valores mínimo y máximo de X.\n",
        "\n",
        "Si nos dan $X$ reducida por intervalos, todo aquel intervalo con densidad de frecuencia máxima es intervalo modal (aquellos con altura máxima en el histograma). Reportaremos la moda como la(s) marca(s) de clase de el (los) intervalo(s) modal(es) como $Mo(X)$.\n",
        "\n",
        "***Ejemplo:*** Continuando con el ejemplo anterior, del texto que hemos generado, calcularemos la moda de los datos, tanto sin agrupar, como agrupados:"
      ],
      "metadata": {
        "id": "Us59_GftJ3zm"
      },
      "id": "Us59_GftJ3zm"
    },
    {
      "cell_type": "markdown",
      "source": [
        "Longitudes sin agrupar en intervalos:"
      ],
      "metadata": {
        "id": "pxnU07gqNAME"
      },
      "id": "pxnU07gqNAME"
    },
    {
      "cell_type": "code",
      "source": [
        "# Calcular la tabla de frecuencias de la columna 'Grupo'\n",
        "freq_longitudes = pal_long['longitudes'].value_counts()\n",
        "freq_longitudes = freq_longitudes.sort_index()\n",
        "print(freq_longitudes)\n",
        "pal_long['longitudes'].hist()"
      ],
      "metadata": {
        "colab": {
          "base_uri": "https://localhost:8080/",
          "height": 725
        },
        "id": "T0vpdY0RLiQ4",
        "outputId": "189ca64f-6da2-4e99-b0a4-b79afa44460f"
      },
      "id": "T0vpdY0RLiQ4",
      "execution_count": 28,
      "outputs": [
        {
          "output_type": "stream",
          "name": "stdout",
          "text": [
            "1      6\n",
            "2     50\n",
            "3     22\n",
            "4     21\n",
            "5     24\n",
            "6     10\n",
            "7     15\n",
            "8     29\n",
            "9     11\n",
            "10     9\n",
            "11     9\n",
            "12     3\n",
            "13     5\n",
            "14     3\n",
            "15     1\n",
            "Name: longitudes, dtype: int64\n"
          ]
        },
        {
          "output_type": "execute_result",
          "data": {
            "text/plain": [
              "<Axes: >"
            ]
          },
          "metadata": {},
          "execution_count": 28
        },
        {
          "output_type": "display_data",
          "data": {
            "text/plain": [
              "<Figure size 640x480 with 1 Axes>"
            ],
            "image/png": "[encoded data removed]"
          },
          "metadata": {}
        }
      ]
    },
    {
      "cell_type": "markdown",
      "source": [
        "Longitudes agrupadas por intervalos:"
      ],
      "metadata": {
        "id": "VYUkhHsxNOQF"
      },
      "id": "VYUkhHsxNOQF"
    },
    {
      "cell_type": "code",
      "source": [
        "tabla_frecuencias_eje3"
      ],
      "metadata": {
        "colab": {
          "base_uri": "https://localhost:8080/",
          "height": 331
        },
        "id": "jA1iU5KXNNzs",
        "outputId": "c0375b7f-ed12-4076-948c-2dd0170b1f07"
      },
      "id": "jA1iU5KXNNzs",
      "execution_count": 29,
      "outputs": [
        {
          "output_type": "execute_result",
          "data": {
            "text/plain": [
              "             x_i  n_i       f_i  N_i       F_i  Marca_de_clase\n",
              "0     [1.0-2.56)   56  0.256881   56  0.256881           1.780\n",
              "1    [2.56-4.11)   43  0.197248   99  0.454128           3.335\n",
              "2    [4.11-5.67)   24  0.110092  123  0.564220           4.890\n",
              "3    [5.67-7.22)   25  0.114679  148  0.678899           6.445\n",
              "4    [7.22-8.78)   29  0.133028  177  0.811927           8.000\n",
              "5   [8.78-10.33)   20  0.091743  197  0.903670           9.555\n",
              "6  [10.33-11.89)    9  0.041284  206  0.944954          11.110\n",
              "7  [11.89-13.44)    8  0.036697  214  0.981651          12.665\n",
              "8  [13.44-15.01)    4  0.018349  218  1.000000          14.225"
            ],
            "text/html": [
              "\n",
              "  <div id=\"df-e8811542-71c4-40e6-ae97-208b080cc1a0\" class=\"colab-df-container\">\n",
              "    <div>\n",
              "<style scoped>\n",
              "    .dataframe tbody tr th:only-of-type {\n",
              "        vertical-align: middle;\n",
              "    }\n",
              "\n",
              "    .dataframe tbody tr th {\n",
              "        vertical-align: top;\n",
              "    }\n",
              "\n",
              "    .dataframe thead th {\n",
              "        text-align: right;\n",
              "    }\n",
              "</style>\n",
              "<table border=\"1\" class=\"dataframe\">\n",
              "  <thead>\n",
              "    <tr style=\"text-align: right;\">\n",
              "      <th></th>\n",
              "      <th>x_i</th>\n",
              "      <th>n_i</th>\n",
              "      <th>f_i</th>\n",
              "      <th>N_i</th>\n",
              "      <th>F_i</th>\n",
              "      <th>Marca_de_clase</th>\n",
              "    </tr>\n",
              "  </thead>\n",
              "  <tbody>\n",
              "    <tr>\n",
              "      <th>0</th>\n",
              "      <td>[1.0-2.56)</td>\n",
              "      <td>56</td>\n",
              "      <td>0.256881</td>\n",
              "      <td>56</td>\n",
              "      <td>0.256881</td>\n",
              "      <td>1.780</td>\n",
              "    </tr>\n",
              "    <tr>\n",
              "      <th>1</th>\n",
              "      <td>[2.56-4.11)</td>\n",
              "      <td>43</td>\n",
              "      <td>0.197248</td>\n",
              "      <td>99</td>\n",
              "      <td>0.454128</td>\n",
              "      <td>3.335</td>\n",
              "    </tr>\n",
              "    <tr>\n",
              "      <th>2</th>\n",
              "      <td>[4.11-5.67)</td>\n",
              "      <td>24</td>\n",
              "      <td>0.110092</td>\n",
              "      <td>123</td>\n",
              "      <td>0.564220</td>\n",
              "      <td>4.890</td>\n",
              "    </tr>\n",
              "    <tr>\n",
              "      <th>3</th>\n",
              "      <td>[5.67-7.22)</td>\n",
              "      <td>25</td>\n",
              "      <td>0.114679</td>\n",
              "      <td>148</td>\n",
              "      <td>0.678899</td>\n",
              "      <td>6.445</td>\n",
              "    </tr>\n",
              "    <tr>\n",
              "      <th>4</th>\n",
              "      <td>[7.22-8.78)</td>\n",
              "      <td>29</td>\n",
              "      <td>0.133028</td>\n",
              "      <td>177</td>\n",
              "      <td>0.811927</td>\n",
              "      <td>8.000</td>\n",
              "    </tr>\n",
              "    <tr>\n",
              "      <th>5</th>\n",
              "      <td>[8.78-10.33)</td>\n",
              "      <td>20</td>\n",
              "      <td>0.091743</td>\n",
              "      <td>197</td>\n",
              "      <td>0.903670</td>\n",
              "      <td>9.555</td>\n",
              "    </tr>\n",
              "    <tr>\n",
              "      <th>6</th>\n",
              "      <td>[10.33-11.89)</td>\n",
              "      <td>9</td>\n",
              "      <td>0.041284</td>\n",
              "      <td>206</td>\n",
              "      <td>0.944954</td>\n",
              "      <td>11.110</td>\n",
              "    </tr>\n",
              "    <tr>\n",
              "      <th>7</th>\n",
              "      <td>[11.89-13.44)</td>\n",
              "      <td>8</td>\n",
              "      <td>0.036697</td>\n",
              "      <td>214</td>\n",
              "      <td>0.981651</td>\n",
              "      <td>12.665</td>\n",
              "    </tr>\n",
              "    <tr>\n",
              "      <th>8</th>\n",
              "      <td>[13.44-15.01)</td>\n",
              "      <td>4</td>\n",
              "      <td>0.018349</td>\n",
              "      <td>218</td>\n",
              "      <td>1.000000</td>\n",
              "      <td>14.225</td>\n",
              "    </tr>\n",
              "  </tbody>\n",
              "</table>\n",
              "</div>\n",
              "    <div class=\"colab-df-buttons\">\n",
              "\n",
              "  <div class=\"colab-df-container\">\n",
              "    <button class=\"colab-df-convert\" onclick=\"convertToInteractive('df-e8811542-71c4-40e6-ae97-208b080cc1a0')\"\n",
              "            title=\"Convert this dataframe to an interactive table.\"\n",
              "            style=\"display:none;\">\n",
              "\n",
              "  <svg xmlns=\"http://www.w3.org/2000/svg\" height=\"24px\" viewBox=\"0 -960 960 960\">\n",
              "    <path d=\"M120-120v-720h720v720H120Zm60-500h600v-160H180v160Zm220 220h160v-160H400v160Zm0 220h160v-160H400v160ZM180-400h160v-160H180v160Zm440 0h160v-160H620v160ZM180-180h160v-160H180v160Zm440 0h160v-160H620v160Z\"/>\n",
              "  </svg>\n",
              "    </button>\n",
              "\n",
              "  <style>\n",
              "    .colab-df-container {\n",
              "      display:flex;\n",
              "      gap: 12px;\n",
              "    }\n",
              "\n",
              "    .colab-df-convert {\n",
              "      background-color: #E8F0FE;\n",
              "      border: none;\n",
              "      border-radius: 50%;\n",
              "      cursor: pointer;\n",
              "      display: none;\n",
              "      fill: #1967D2;\n",
              "      height: 32px;\n",
              "      padding: 0 0 0 0;\n",
              "      width: 32px;\n",
              "    }\n",
              "\n",
              "    .colab-df-convert:hover {\n",
              "      background-color: #E2EBFA;\n",
              "      box-shadow: 0px 1px 2px rgba(60, 64, 67, 0.3), 0px 1px 3px 1px rgba(60, 64, 67, 0.15);\n",
              "      fill: #174EA6;\n",
              "    }\n",
              "\n",
              "    .colab-df-buttons div {\n",
              "      margin-bottom: 4px;\n",
              "    }\n",
              "\n",
              "    [theme=dark] .colab-df-convert {\n",
              "      background-color: #3B4455;\n",
              "      fill: #D2E3FC;\n",
              "    }\n",
              "\n",
              "    [theme=dark] .colab-df-convert:hover {\n",
              "      background-color: #434B5C;\n",
              "      box-shadow: 0px 1px 3px 1px rgba(0, 0, 0, 0.15);\n",
              "      filter: drop-shadow(0px 1px 2px rgba(0, 0, 0, 0.3));\n",
              "      fill: #FFFFFF;\n",
              "    }\n",
              "  </style>\n",
              "\n",
              "    <script>\n",
              "      const buttonEl =\n",
              "        document.querySelector('#df-e8811542-71c4-40e6-ae97-208b080cc1a0 button.colab-df-convert');\n",
              "      buttonEl.style.display =\n",
              "        google.colab.kernel.accessAllowed ? 'block' : 'none';\n",
              "\n",
              "      async function convertToInteractive(key) {\n",
              "        const element = document.querySelector('#df-e8811542-71c4-40e6-ae97-208b080cc1a0');\n",
              "        const dataTable =\n",
              "          await google.colab.kernel.invokeFunction('convertToInteractive',\n",
              "                                                    [key], {});\n",
              "        if (!dataTable) return;\n",
              "\n",
              "        const docLinkHtml = 'Like what you see? Visit the ' +\n",
              "          '<a target=\"_blank\" href=https://colab.research.google.com/notebooks/data_table.ipynb>data table notebook</a>'\n",
              "          + ' to learn more about interactive tables.';\n",
              "        element.innerHTML = '';\n",
              "        dataTable['output_type'] = 'display_data';\n",
              "        await google.colab.output.renderOutput(dataTable, element);\n",
              "        const docLink = document.createElement('div');\n",
              "        docLink.innerHTML = docLinkHtml;\n",
              "        element.appendChild(docLink);\n",
              "      }\n",
              "    </script>\n",
              "  </div>\n",
              "\n",
              "\n",
              "<div id=\"df-848a117f-0bff-4c87-9f13-37c2e6f176ef\">\n",
              "  <button class=\"colab-df-quickchart\" onclick=\"quickchart('df-848a117f-0bff-4c87-9f13-37c2e6f176ef')\"\n",
              "            title=\"Suggest charts\"\n",
              "            style=\"display:none;\">\n",
              "\n",
              "<svg xmlns=\"http://www.w3.org/2000/svg\" height=\"24px\"viewBox=\"0 0 24 24\"\n",
              "     width=\"24px\">\n",
              "    <g>\n",
              "        <path d=\"M19 3H5c-1.1 0-2 .9-2 2v14c0 1.1.9 2 2 2h14c1.1 0 2-.9 2-2V5c0-1.1-.9-2-2-2zM9 17H7v-7h2v7zm4 0h-2V7h2v10zm4 0h-2v-4h2v4z\"/>\n",
              "    </g>\n",
              "</svg>\n",
              "  </button>\n",
              "\n",
              "<style>\n",
              "  .colab-df-quickchart {\n",
              "      --bg-color: #E8F0FE;\n",
              "      --fill-color: #1967D2;\n",
              "      --hover-bg-color: #E2EBFA;\n",
              "      --hover-fill-color: #174EA6;\n",
              "      --disabled-fill-color: #AAA;\n",
              "      --disabled-bg-color: #DDD;\n",
              "  }\n",
              "\n",
              "  [theme=dark] .colab-df-quickchart {\n",
              "      --bg-color: #3B4455;\n",
              "      --fill-color: #D2E3FC;\n",
              "      --hover-bg-color: #434B5C;\n",
              "      --hover-fill-color: #FFFFFF;\n",
              "      --disabled-bg-color: #3B4455;\n",
              "      --disabled-fill-color: #666;\n",
              "  }\n",
              "\n",
              "  .colab-df-quickchart {\n",
              "    background-color: var(--bg-color);\n",
              "    border: none;\n",
              "    border-radius: 50%;\n",
              "    cursor: pointer;\n",
              "    display: none;\n",
              "    fill: var(--fill-color);\n",
              "    height: 32px;\n",
              "    padding: 0;\n",
              "    width: 32px;\n",
              "  }\n",
              "\n",
              "  .colab-df-quickchart:hover {\n",
              "    background-color: var(--hover-bg-color);\n",
              "    box-shadow: 0 1px 2px rgba(60, 64, 67, 0.3), 0 1px 3px 1px rgba(60, 64, 67, 0.15);\n",
              "    fill: var(--button-hover-fill-color);\n",
              "  }\n",
              "\n",
              "  .colab-df-quickchart-complete:disabled,\n",
              "  .colab-df-quickchart-complete:disabled:hover {\n",
              "    background-color: var(--disabled-bg-color);\n",
              "    fill: var(--disabled-fill-color);\n",
              "    box-shadow: none;\n",
              "  }\n",
              "\n",
              "  .colab-df-spinner {\n",
              "    border: 2px solid var(--fill-color);\n",
              "    border-color: transparent;\n",
              "    border-bottom-color: var(--fill-color);\n",
              "    animation:\n",
              "      spin 1s steps(1) infinite;\n",
              "  }\n",
              "\n",
              "  @keyframes spin {\n",
              "    0% {\n",
              "      border-color: transparent;\n",
              "      border-bottom-color: var(--fill-color);\n",
              "      border-left-color: var(--fill-color);\n",
              "    }\n",
              "    20% {\n",
              "      border-color: transparent;\n",
              "      border-left-color: var(--fill-color);\n",
              "      border-top-color: var(--fill-color);\n",
              "    }\n",
              "    30% {\n",
              "      border-color: transparent;\n",
              "      border-left-color: var(--fill-color);\n",
              "      border-top-color: var(--fill-color);\n",
              "      border-right-color: var(--fill-color);\n",
              "    }\n",
              "    40% {\n",
              "      border-color: transparent;\n",
              "      border-right-color: var(--fill-color);\n",
              "      border-top-color: var(--fill-color);\n",
              "    }\n",
              "    60% {\n",
              "      border-color: transparent;\n",
              "      border-right-color: var(--fill-color);\n",
              "    }\n",
              "    80% {\n",
              "      border-color: transparent;\n",
              "      border-right-color: var(--fill-color);\n",
              "      border-bottom-color: var(--fill-color);\n",
              "    }\n",
              "    90% {\n",
              "      border-color: transparent;\n",
              "      border-bottom-color: var(--fill-color);\n",
              "    }\n",
              "  }\n",
              "</style>\n",
              "\n",
              "  <script>\n",
              "    async function quickchart(key) {\n",
              "      const quickchartButtonEl =\n",
              "        document.querySelector('#' + key + ' button');\n",
              "      quickchartButtonEl.disabled = true;  // To prevent multiple clicks.\n",
              "      quickchartButtonEl.classList.add('colab-df-spinner');\n",
              "      try {\n",
              "        const charts = await google.colab.kernel.invokeFunction(\n",
              "            'suggestCharts', [key], {});\n",
              "      } catch (error) {\n",
              "        console.error('Error during call to suggestCharts:', error);\n",
              "      }\n",
              "      quickchartButtonEl.classList.remove('colab-df-spinner');\n",
              "      quickchartButtonEl.classList.add('colab-df-quickchart-complete');\n",
              "    }\n",
              "    (() => {\n",
              "      let quickchartButtonEl =\n",
              "        document.querySelector('#df-848a117f-0bff-4c87-9f13-37c2e6f176ef button');\n",
              "      quickchartButtonEl.style.display =\n",
              "        google.colab.kernel.accessAllowed ? 'block' : 'none';\n",
              "    })();\n",
              "  </script>\n",
              "</div>\n",
              "    </div>\n",
              "  </div>\n"
            ],
            "application/vnd.google.colaboratory.intrinsic+json": {
              "type": "dataframe",
              "variable_name": "tabla_frecuencias_eje3",
              "summary": "{\n  \"name\": \"tabla_frecuencias_eje3\",\n  \"rows\": 9,\n  \"fields\": [\n    {\n      \"column\": \"x_i\",\n      \"properties\": {\n        \"dtype\": \"category\",\n        \"samples\": [\n          \"[11.89-13.44)\",\n          \"[2.56-4.11)\",\n          \"[8.78-10.33)\"\n        ],\n        \"num_unique_values\": 9,\n        \"semantic_type\": \"\",\n        \"description\": \"\"\n      }\n    },\n    {\n      \"column\": \"n_i\",\n      \"properties\": {\n        \"dtype\": \"number\",\n        \"std\": 16,\n        \"min\": 4,\n        \"max\": 56,\n        \"samples\": [\n          8,\n          43,\n          20\n        ],\n        \"num_unique_values\": 9,\n        \"semantic_type\": \"\",\n        \"description\": \"\"\n      }\n    },\n    {\n      \"column\": \"f_i\",\n      \"properties\": {\n        \"dtype\": \"number\",\n        \"std\": 0.0779066617911743,\n        \"min\": 0.01834862385321101,\n        \"max\": 0.25688073394495414,\n        \"samples\": [\n          0.03669724770642202,\n          0.19724770642201836,\n          0.09174311926605505\n        ],\n        \"num_unique_values\": 9,\n        \"semantic_type\": \"\",\n        \"description\": \"\"\n      }\n    },\n    {\n      \"column\": \"N_i\",\n      \"properties\": {\n        \"dtype\": \"number\",\n        \"std\": 57,\n        \"min\": 56,\n        \"max\": 218,\n        \"samples\": [\n          214,\n          99,\n          197\n        ],\n        \"num_unique_values\": 9,\n        \"semantic_type\": \"\",\n        \"description\": \"\"\n      }\n    },\n    {\n      \"column\": \"F_i\",\n      \"properties\": {\n        \"dtype\": \"number\",\n        \"std\": 0.26202838863514194,\n        \"min\": 0.25688073394495414,\n        \"max\": 1.0,\n        \"samples\": [\n          0.981651376146789,\n          0.4541284403669725,\n          0.9036697247706422\n        ],\n        \"num_unique_values\": 9,\n        \"semantic_type\": \"\",\n        \"description\": \"\"\n      }\n    },\n    {\n      \"column\": \"Marca_de_clase\",\n      \"properties\": {\n        \"dtype\": \"number\",\n        \"std\": 4.259455983782175,\n        \"min\": 1.78,\n        \"max\": 14.225,\n        \"samples\": [\n          12.665,\n          3.335,\n          9.555\n        ],\n        \"num_unique_values\": 9,\n        \"semantic_type\": \"\",\n        \"description\": \"\"\n      }\n    }\n  ]\n}"
            }
          },
          "metadata": {},
          "execution_count": 29
        }
      ]
    },
    {
      "cell_type": "markdown",
      "source": [
        "### Moda pros y contras:\n",
        "\n",
        "### Pros:\n",
        "- Es muy fácil de calcular, sobre todo para variables descritas por las frecuencias de sus valores, ya que consiste en identificar el (los) valor(es) con frecuencia máxima. Si la variable está reducida por intervalos de igual amplitud, podremos obtener la moda de esta manera.\n",
        "\n",
        "### Contras:\n",
        "- Realmente no es una medida de posición central. Sin embargo, para variables unimodales y con cierta simetría (esta característica se puede apreciar en el gráfico de barras de frecuencias o en el histograma), sí que representa una centralidad.\n",
        "- Cuando los valores de la variable no se repiten, no tiene sentido (no nos da ninguna información) ya que todos los valores son modas.\n",
        "Ejemplo: para la distribución $X=(2, 5, 7, 9, 12)$ todos los valores son moda.\n"
      ],
      "metadata": {
        "id": "IHosDESvNtH-"
      },
      "id": "IHosDESvNtH-"
    },
    {
      "cell_type": "markdown",
      "source": [
        "## Cuantiles:\n",
        "\n",
        "Las ***medidas de posición no central*** más conocidas son los cuantiles, que podemos ver como una generalización de la mediana:\n",
        "\n",
        "La *mediana* es el cuantil de orden 2: separa los valores ordenados en dos bloques iguales en número de casos.\n",
        "\n",
        "Los cuartiles $Q_{1}$, $Q_{2}$ y $Q_{3}$son los cuantiles de orden 4: separan los valores ordenados en cuatro bloques iguales en número de casos.\n",
        "\n",
        "Los percentiles $P_{1}$, $P_{2}$, ..., $P_{99}$ son los de orden 100, y separan los valores ordenados en 100 bloques iguales en número de casos.\n",
        "\n",
        "Los deciles $D_{1}$, $D_{2}$, ..., $D_{9}$ son los de orden 10.\n",
        "\n",
        "Otros cuantiles menos habituales: los terciles (orden 3), los quintiles (orden 5) …\n"
      ],
      "metadata": {
        "id": "yVfrMANlOyGp"
      },
      "id": "yVfrMANlOyGp"
    },
    {
      "cell_type": "markdown",
      "source": [
        "## ¿Cómo se calculan?:\n",
        "\n",
        "Ordenamos los datos: $X_{1} \\leq X_{1} \\leq ... \\leq X_{N}$.\n",
        "\n",
        "Para el orden $q$ se definen $q-1$ cuantiles de número $r=1, 2, ..., q-1$.\n",
        "\n",
        "El 𝑟-ésimo cuantil de orden $q$ es el valor que ocupa la posición $\\frac{r}{q}(N+1)$:\n",
        "- si el resultado de la posición es entero, reportamos el valor de esa posición, $X_{i}$ tal que $$i=\\frac{r}{q}(N+1)$$\n",
        "- en otro caso, reportamos la media aritmética de los valores que ocupan las posiciones inmediatamente anterior y posterior a la posición obtenida, esto es, $$\\frac{X_{i}+X_{i+1}}{2}$$\n",
        "tal que $i < \\frac{r}{q}(N+1) < i+1$.\n",
        "\n",
        "**Observación**. Muchos cuantiles de distintos ordenes coinciden, por ejemplo:\n",
        "$Q_{1} = P_{2}$ (la cuarta parte es el 25%);\n",
        "\n",
        "$Q_{2} = Me = P_{50}$ (2/4=1/2=50/100);\n",
        "\n",
        "$Q_{3} = P_{75}$ (3/4=75/100).\n"
      ],
      "metadata": {
        "id": "_k_ZskrNWFHP"
      },
      "id": "_k_ZskrNWFHP"
    },
    {
      "cell_type": "markdown",
      "source": [
        "### Cuantiles: Ejercicio:\n",
        "Calcular los cuantiles\n",
        "\n",
        "El objetivo de este ejercicio es calcular los diferentes cuantiles de la longitud de las palabras del texto:\n",
        "\n",
        "***Texto:***\n",
        "\n",
        "**Este texto que estás leyendo ahora mismo sirve como un ejemplo ilustrativo para calcular el número mediano de la longitud de palabras dentro de un texto determinado. Es un ejercicio práctico que nos permite comprender cómo funcionan los cálculos de estadísticas descriptivas aplicadas al análisis lingüístico.\n",
        "En este contexto, la longitud de las palabras se refiere al número de caracteres que componen cada palabra individualmente. Al analizar este texto, encontrarás palabras cortas, como \"este\", \"es\", \"un\", \"de\", así como palabras más largas como \"ilustrativo\", \"estadísticas\", \"descriptivas\", entre otras.\n",
        "El objetivo es determinar el número mediano de caracteres que conforman las palabras en este texto. Al calcular este valor, podemos tener una idea más clara de la extensión promedio de las palabras utilizadas aquí. Este proceso implica ordenar las longitudes de las palabras de menor a mayor y encontrar el valor medio.\n",
        "Este ejercicio es útil en diversos contextos, desde análisis de texto en lingüística computacional hasta la elaboración de informes y análisis de contenido en campos como la investigación académica, la publicidad y el procesamiento del lenguaje natural.\n",
        "Es importante destacar que el cálculo del número mediano de longitud de palabras nos brinda información valiosa sobre la estructura y complejidad del lenguaje utilizado, lo que puede tener implicaciones significativas en la comunicación efectiva y la comprensión del texto.**\n",
        "\n",
        "\n",
        "Recordemos que en el ejercicio anterior limpiamos el texto, por lo que utilizaremos la variable creada **texto_limpio**.\n",
        "Calcularemos los valores que dividen la distribución de la longitud de las palabras, primero en 4 partes iguales, es decir los cuartiles, y luego en 10 partes iguales, es decir, los deciles."
      ],
      "metadata": {
        "id": "ea1TWQLxebil"
      },
      "id": "ea1TWQLxebil"
    },
    {
      "cell_type": "markdown",
      "source": [
        "Cuartiles:"
      ],
      "metadata": {
        "id": "Kd3ikU2nf_uE"
      },
      "id": "Kd3ikU2nf_uE"
    },
    {
      "cell_type": "code",
      "source": [
        "try:\n",
        "    pal_long = pal_long.sort_values(by=\"longitudes\").reset_index()\n",
        "except:\n",
        "    pass\n",
        "display(pal_long[['longitudes']])\n",
        "print(\"------------------------------------------------------------\\n------------------------------------------------------------\\n\")\n",
        "#por ejemplo los cuartiles:\n",
        "q=4 #entonces q-1 grupos\n",
        "#para q1:\n",
        "print(\"------------------------------------------------------------\\nPara los cuartiles\\n------------------------------------------------------------\\n\")\n",
        "for r in range(1,q):\n",
        "    N_1=N_ej3+1\n",
        "    i=round((r/q)*N_1,2)\n",
        "    print(f\"La posición i es: {i}\")\n",
        "print(\"------------------------------------------------------------\\nPara los deciles\\n------------------------------------------------------------\\n\")\n",
        "#por ejemplo los deciles:\n",
        "q=10 #entonces q-1 grupos\n",
        "#para q1:\n",
        "for r in range(1,q):\n",
        "    N_1=N_ej3+1\n",
        "    i=round((r/q)*N_1,2)\n",
        "    print(f\"La posición i es: {i}\")\n",
        "\n",
        "\n"
      ],
      "metadata": {
        "colab": {
          "base_uri": "https://localhost:8080/",
          "height": 822
        },
        "id": "fdU9lP0ocubP",
        "outputId": "7915489d-8029-43d9-c5e5-fe3110c8be7a"
      },
      "id": "fdU9lP0ocubP",
      "execution_count": 30,
      "outputs": [
        {
          "output_type": "display_data",
          "data": {
            "text/plain": [
              "     longitudes\n",
              "0             1\n",
              "1             1\n",
              "2             1\n",
              "3             1\n",
              "4             1\n",
              "..          ...\n",
              "213          13\n",
              "214          14\n",
              "215          14\n",
              "216          14\n",
              "217          15\n",
              "\n",
              "[218 rows x 1 columns]"
            ],
            "text/html": [
              "\n",
              "  <div id=\"df-875dca18-3232-48dd-927f-6b32b01df696\" class=\"colab-df-container\">\n",
              "    <div>\n",
              "<style scoped>\n",
              "    .dataframe tbody tr th:only-of-type {\n",
              "        vertical-align: middle;\n",
              "    }\n",
              "\n",
              "    .dataframe tbody tr th {\n",
              "        vertical-align: top;\n",
              "    }\n",
              "\n",
              "    .dataframe thead th {\n",
              "        text-align: right;\n",
              "    }\n",
              "</style>\n",
              "<table border=\"1\" class=\"dataframe\">\n",
              "  <thead>\n",
              "    <tr style=\"text-align: right;\">\n",
              "      <th></th>\n",
              "      <th>longitudes</th>\n",
              "    </tr>\n",
              "  </thead>\n",
              "  <tbody>\n",
              "    <tr>\n",
              "      <th>0</th>\n",
              "      <td>1</td>\n",
              "    </tr>\n",
              "    <tr>\n",
              "      <th>1</th>\n",
              "      <td>1</td>\n",
              "    </tr>\n",
              "    <tr>\n",
              "      <th>2</th>\n",
              "      <td>1</td>\n",
              "    </tr>\n",
              "    <tr>\n",
              "      <th>3</th>\n",
              "      <td>1</td>\n",
              "    </tr>\n",
              "    <tr>\n",
              "      <th>4</th>\n",
              "      <td>1</td>\n",
              "    </tr>\n",
              "    <tr>\n",
              "      <th>...</th>\n",
              "      <td>...</td>\n",
              "    </tr>\n",
              "    <tr>\n",
              "      <th>213</th>\n",
              "      <td>13</td>\n",
              "    </tr>\n",
              "    <tr>\n",
              "      <th>214</th>\n",
              "      <td>14</td>\n",
              "    </tr>\n",
              "    <tr>\n",
              "      <th>215</th>\n",
              "      <td>14</td>\n",
              "    </tr>\n",
              "    <tr>\n",
              "      <th>216</th>\n",
              "      <td>14</td>\n",
              "    </tr>\n",
              "    <tr>\n",
              "      <th>217</th>\n",
              "      <td>15</td>\n",
              "    </tr>\n",
              "  </tbody>\n",
              "</table>\n",
              "<p>218 rows × 1 columns</p>\n",
              "</div>\n",
              "    <div class=\"colab-df-buttons\">\n",
              "\n",
              "  <div class=\"colab-df-container\">\n",
              "    <button class=\"colab-df-convert\" onclick=\"convertToInteractive('df-875dca18-3232-48dd-927f-6b32b01df696')\"\n",
              "            title=\"Convert this dataframe to an interactive table.\"\n",
              "            style=\"display:none;\">\n",
              "\n",
              "  <svg xmlns=\"http://www.w3.org/2000/svg\" height=\"24px\" viewBox=\"0 -960 960 960\">\n",
              "    <path d=\"M120-120v-720h720v720H120Zm60-500h600v-160H180v160Zm220 220h160v-160H400v160Zm0 220h160v-160H400v160ZM180-400h160v-160H180v160Zm440 0h160v-160H620v160ZM180-180h160v-160H180v160Zm440 0h160v-160H620v160Z\"/>\n",
              "  </svg>\n",
              "    </button>\n",
              "\n",
              "  <style>\n",
              "    .colab-df-container {\n",
              "      display:flex;\n",
              "      gap: 12px;\n",
              "    }\n",
              "\n",
              "    .colab-df-convert {\n",
              "      background-color: #E8F0FE;\n",
              "      border: none;\n",
              "      border-radius: 50%;\n",
              "      cursor: pointer;\n",
              "      display: none;\n",
              "      fill: #1967D2;\n",
              "      height: 32px;\n",
              "      padding: 0 0 0 0;\n",
              "      width: 32px;\n",
              "    }\n",
              "\n",
              "    .colab-df-convert:hover {\n",
              "      background-color: #E2EBFA;\n",
              "      box-shadow: 0px 1px 2px rgba(60, 64, 67, 0.3), 0px 1px 3px 1px rgba(60, 64, 67, 0.15);\n",
              "      fill: #174EA6;\n",
              "    }\n",
              "\n",
              "    .colab-df-buttons div {\n",
              "      margin-bottom: 4px;\n",
              "    }\n",
              "\n",
              "    [theme=dark] .colab-df-convert {\n",
              "      background-color: #3B4455;\n",
              "      fill: #D2E3FC;\n",
              "    }\n",
              "\n",
              "    [theme=dark] .colab-df-convert:hover {\n",
              "      background-color: #434B5C;\n",
              "      box-shadow: 0px 1px 3px 1px rgba(0, 0, 0, 0.15);\n",
              "      filter: drop-shadow(0px 1px 2px rgba(0, 0, 0, 0.3));\n",
              "      fill: #FFFFFF;\n",
              "    }\n",
              "  </style>\n",
              "\n",
              "    <script>\n",
              "      const buttonEl =\n",
              "        document.querySelector('#df-875dca18-3232-48dd-927f-6b32b01df696 button.colab-df-convert');\n",
              "      buttonEl.style.display =\n",
              "        google.colab.kernel.accessAllowed ? 'block' : 'none';\n",
              "\n",
              "      async function convertToInteractive(key) {\n",
              "        const element = document.querySelector('#df-875dca18-3232-48dd-927f-6b32b01df696');\n",
              "        const dataTable =\n",
              "          await google.colab.kernel.invokeFunction('convertToInteractive',\n",
              "                                                    [key], {});\n",
              "        if (!dataTable) return;\n",
              "\n",
              "        const docLinkHtml = 'Like what you see? Visit the ' +\n",
              "          '<a target=\"_blank\" href=https://colab.research.google.com/notebooks/data_table.ipynb>data table notebook</a>'\n",
              "          + ' to learn more about interactive tables.';\n",
              "        element.innerHTML = '';\n",
              "        dataTable['output_type'] = 'display_data';\n",
              "        await google.colab.output.renderOutput(dataTable, element);\n",
              "        const docLink = document.createElement('div');\n",
              "        docLink.innerHTML = docLinkHtml;\n",
              "        element.appendChild(docLink);\n",
              "      }\n",
              "    </script>\n",
              "  </div>\n",
              "\n",
              "\n",
              "<div id=\"df-f77b0d08-9a6a-4b6e-ad66-dd16a0801a0f\">\n",
              "  <button class=\"colab-df-quickchart\" onclick=\"quickchart('df-f77b0d08-9a6a-4b6e-ad66-dd16a0801a0f')\"\n",
              "            title=\"Suggest charts\"\n",
              "            style=\"display:none;\">\n",
              "\n",
              "<svg xmlns=\"http://www.w3.org/2000/svg\" height=\"24px\"viewBox=\"0 0 24 24\"\n",
              "     width=\"24px\">\n",
              "    <g>\n",
              "        <path d=\"M19 3H5c-1.1 0-2 .9-2 2v14c0 1.1.9 2 2 2h14c1.1 0 2-.9 2-2V5c0-1.1-.9-2-2-2zM9 17H7v-7h2v7zm4 0h-2V7h2v10zm4 0h-2v-4h2v4z\"/>\n",
              "    </g>\n",
              "</svg>\n",
              "  </button>\n",
              "\n",
              "<style>\n",
              "  .colab-df-quickchart {\n",
              "      --bg-color: #E8F0FE;\n",
              "      --fill-color: #1967D2;\n",
              "      --hover-bg-color: #E2EBFA;\n",
              "      --hover-fill-color: #174EA6;\n",
              "      --disabled-fill-color: #AAA;\n",
              "      --disabled-bg-color: #DDD;\n",
              "  }\n",
              "\n",
              "  [theme=dark] .colab-df-quickchart {\n",
              "      --bg-color: #3B4455;\n",
              "      --fill-color: #D2E3FC;\n",
              "      --hover-bg-color: #434B5C;\n",
              "      --hover-fill-color: #FFFFFF;\n",
              "      --disabled-bg-color: #3B4455;\n",
              "      --disabled-fill-color: #666;\n",
              "  }\n",
              "\n",
              "  .colab-df-quickchart {\n",
              "    background-color: var(--bg-color);\n",
              "    border: none;\n",
              "    border-radius: 50%;\n",
              "    cursor: pointer;\n",
              "    display: none;\n",
              "    fill: var(--fill-color);\n",
              "    height: 32px;\n",
              "    padding: 0;\n",
              "    width: 32px;\n",
              "  }\n",
              "\n",
              "  .colab-df-quickchart:hover {\n",
              "    background-color: var(--hover-bg-color);\n",
              "    box-shadow: 0 1px 2px rgba(60, 64, 67, 0.3), 0 1px 3px 1px rgba(60, 64, 67, 0.15);\n",
              "    fill: var(--button-hover-fill-color);\n",
              "  }\n",
              "\n",
              "  .colab-df-quickchart-complete:disabled,\n",
              "  .colab-df-quickchart-complete:disabled:hover {\n",
              "    background-color: var(--disabled-bg-color);\n",
              "    fill: var(--disabled-fill-color);\n",
              "    box-shadow: none;\n",
              "  }\n",
              "\n",
              "  .colab-df-spinner {\n",
              "    border: 2px solid var(--fill-color);\n",
              "    border-color: transparent;\n",
              "    border-bottom-color: var(--fill-color);\n",
              "    animation:\n",
              "      spin 1s steps(1) infinite;\n",
              "  }\n",
              "\n",
              "  @keyframes spin {\n",
              "    0% {\n",
              "      border-color: transparent;\n",
              "      border-bottom-color: var(--fill-color);\n",
              "      border-left-color: var(--fill-color);\n",
              "    }\n",
              "    20% {\n",
              "      border-color: transparent;\n",
              "      border-left-color: var(--fill-color);\n",
              "      border-top-color: var(--fill-color);\n",
              "    }\n",
              "    30% {\n",
              "      border-color: transparent;\n",
              "      border-left-color: var(--fill-color);\n",
              "      border-top-color: var(--fill-color);\n",
              "      border-right-color: var(--fill-color);\n",
              "    }\n",
              "    40% {\n",
              "      border-color: transparent;\n",
              "      border-right-color: var(--fill-color);\n",
              "      border-top-color: var(--fill-color);\n",
              "    }\n",
              "    60% {\n",
              "      border-color: transparent;\n",
              "      border-right-color: var(--fill-color);\n",
              "    }\n",
              "    80% {\n",
              "      border-color: transparent;\n",
              "      border-right-color: var(--fill-color);\n",
              "      border-bottom-color: var(--fill-color);\n",
              "    }\n",
              "    90% {\n",
              "      border-color: transparent;\n",
              "      border-bottom-color: var(--fill-color);\n",
              "    }\n",
              "  }\n",
              "</style>\n",
              "\n",
              "  <script>\n",
              "    async function quickchart(key) {\n",
              "      const quickchartButtonEl =\n",
              "        document.querySelector('#' + key + ' button');\n",
              "      quickchartButtonEl.disabled = true;  // To prevent multiple clicks.\n",
              "      quickchartButtonEl.classList.add('colab-df-spinner');\n",
              "      try {\n",
              "        const charts = await google.colab.kernel.invokeFunction(\n",
              "            'suggestCharts', [key], {});\n",
              "      } catch (error) {\n",
              "        console.error('Error during call to suggestCharts:', error);\n",
              "      }\n",
              "      quickchartButtonEl.classList.remove('colab-df-spinner');\n",
              "      quickchartButtonEl.classList.add('colab-df-quickchart-complete');\n",
              "    }\n",
              "    (() => {\n",
              "      let quickchartButtonEl =\n",
              "        document.querySelector('#df-f77b0d08-9a6a-4b6e-ad66-dd16a0801a0f button');\n",
              "      quickchartButtonEl.style.display =\n",
              "        google.colab.kernel.accessAllowed ? 'block' : 'none';\n",
              "    })();\n",
              "  </script>\n",
              "</div>\n",
              "    </div>\n",
              "  </div>\n"
            ],
            "application/vnd.google.colaboratory.intrinsic+json": {
              "type": "dataframe",
              "summary": "{\n  \"name\": \"    print(f\\\"La posici\\u00f3n i es: {i}\\\")\",\n  \"rows\": 218,\n  \"fields\": [\n    {\n      \"column\": \"longitudes\",\n      \"properties\": {\n        \"dtype\": \"number\",\n        \"std\": 3,\n        \"min\": 1,\n        \"max\": 15,\n        \"samples\": [\n          10,\n          12,\n          1\n        ],\n        \"num_unique_values\": 15,\n        \"semantic_type\": \"\",\n        \"description\": \"\"\n      }\n    }\n  ]\n}"
            }
          },
          "metadata": {}
        },
        {
          "output_type": "stream",
          "name": "stdout",
          "text": [
            "------------------------------------------------------------\n",
            "------------------------------------------------------------\n",
            "\n",
            "------------------------------------------------------------\n",
            "Para los cuartiles\n",
            "------------------------------------------------------------\n",
            "\n",
            "La posición i es: 54.75\n",
            "La posición i es: 109.5\n",
            "La posición i es: 164.25\n",
            "------------------------------------------------------------\n",
            "Para los deciles\n",
            "------------------------------------------------------------\n",
            "\n",
            "La posición i es: 21.9\n",
            "La posición i es: 43.8\n",
            "La posición i es: 65.7\n",
            "La posición i es: 87.6\n",
            "La posición i es: 109.5\n",
            "La posición i es: 131.4\n",
            "La posición i es: 153.3\n",
            "La posición i es: 175.2\n",
            "La posición i es: 197.1\n"
          ]
        }
      ]
    },
    {
      "cell_type": "code",
      "source": [
        "# Calculamos los cuantiles: cuartiles\n",
        "cuantiles = [0.25, 0.50, 0.75]\n",
        "resultados_cuantiles = pal_long['longitudes'].quantile(cuantiles)\n",
        "\n",
        "# Mostramos los resultados\n",
        "print(\"\\nCuartiles:\")\n",
        "print(resultados_cuantiles)"
      ],
      "metadata": {
        "colab": {
          "base_uri": "https://localhost:8080/"
        },
        "id": "xjqpbsfZOYRH",
        "outputId": "9e841135-790f-49de-e576-9b24c6ad1986"
      },
      "id": "xjqpbsfZOYRH",
      "execution_count": 31,
      "outputs": [
        {
          "output_type": "stream",
          "name": "stdout",
          "text": [
            "\n",
            "Cuartiles:\n",
            "0.25    2.0\n",
            "0.50    5.0\n",
            "0.75    8.0\n",
            "Name: longitudes, dtype: float64\n"
          ]
        }
      ]
    },
    {
      "cell_type": "code",
      "source": [
        "deciles = [0.1, 0.2, 0.3, 0.4, 0.5, 0.6, 0.7, 0.8, 0.9]\n",
        "resultados_deciles = pal_long['longitudes'].quantile(deciles)\n",
        "\n",
        "# Mostramos los resultados\n",
        "print(\"Deciles:\")\n",
        "print(resultados_deciles)"
      ],
      "metadata": {
        "colab": {
          "base_uri": "https://localhost:8080/"
        },
        "id": "QvUW7Bb_arzA",
        "outputId": "57698790-5af1-4b46-f38c-3616268bc6f8"
      },
      "id": "QvUW7Bb_arzA",
      "execution_count": 32,
      "outputs": [
        {
          "output_type": "stream",
          "name": "stdout",
          "text": [
            "Deciles:\n",
            "0.1     2.0\n",
            "0.2     2.0\n",
            "0.3     3.0\n",
            "0.4     4.0\n",
            "0.5     5.0\n",
            "0.6     6.0\n",
            "0.7     8.0\n",
            "0.8     8.0\n",
            "0.9    10.0\n",
            "Name: longitudes, dtype: float64\n"
          ]
        }
      ]
    },
    {
      "cell_type": "markdown",
      "source": [
        "### Cuartiles para una variable por intervalo\n",
        "Si la variable $X$ está reducida por intervalos, tomaremos como cuantil r-ésimo de orden $q$ la marca de clase del primer intervalo tal que su frecuencia absoluta acumulada sea mayor o igual a $\\frac{r}{q}(N+1)$.\n",
        "De manera equivalente, también podemos obtenerlo buscando el primer intervalo tal que su frecuencia absoluta relativa sea mayor o igual a $\\frac{r}{q}$.\n",
        "Esto es, el intervalo $i$ tal que:\n",
        "\n",
        "$$N_{i} \\geq \\frac{r}{q}(N+1)$$\n",
        "y\n",
        "$$N_{i-1} < \\frac{r}{q}(N+1)$$\n",
        "\n",
        "O de manera equivalente, $F_{i} \\geq \\frac{r}{q} $ y $F_{i-1} < \\frac{r}{q} $\n",
        "\n"
      ],
      "metadata": {
        "id": "C3WfYyPiyMQt"
      },
      "id": "C3WfYyPiyMQt"
    },
    {
      "cell_type": "markdown",
      "source": [
        "### Cuantiles: Ejercicio:\n",
        "Calcular los cuantiles de datos agrupados por intervalos:\n",
        "\n",
        "El objetivo de este ejercicio es calcular los diferentes cuantiles de la longitud de las palabras del texto que está por agregada por intervalos (ver tabla *tabla_frecuencias_eje3*)\n"
      ],
      "metadata": {
        "id": "3Cmh47t1z8WK"
      },
      "id": "3Cmh47t1z8WK"
    },
    {
      "cell_type": "code",
      "source": [
        "print(tabla_frecuencias_eje3)\n"
      ],
      "metadata": {
        "colab": {
          "base_uri": "https://localhost:8080/"
        },
        "id": "uvF-Y_HAa-F6",
        "outputId": "6f60f353-5cda-409f-b7a3-4b90fe1559b3"
      },
      "id": "uvF-Y_HAa-F6",
      "execution_count": 33,
      "outputs": [
        {
          "output_type": "stream",
          "name": "stdout",
          "text": [
            "             x_i  n_i       f_i  N_i       F_i  Marca_de_clase\n",
            "0     [1.0-2.56)   56  0.256881   56  0.256881           1.780\n",
            "1    [2.56-4.11)   43  0.197248   99  0.454128           3.335\n",
            "2    [4.11-5.67)   24  0.110092  123  0.564220           4.890\n",
            "3    [5.67-7.22)   25  0.114679  148  0.678899           6.445\n",
            "4    [7.22-8.78)   29  0.133028  177  0.811927           8.000\n",
            "5   [8.78-10.33)   20  0.091743  197  0.903670           9.555\n",
            "6  [10.33-11.89)    9  0.041284  206  0.944954          11.110\n",
            "7  [11.89-13.44)    8  0.036697  214  0.981651          12.665\n",
            "8  [13.44-15.01)    4  0.018349  218  1.000000          14.225\n"
          ]
        }
      ]
    },
    {
      "cell_type": "code",
      "source": [
        "# @title Rta cuantiles por intervalos: { vertical-output: true }\n",
        "#cuartiles:\n",
        "print(f\"\\nLos cuartiles de los datos agrupados por intervalos son:\\n\")\n",
        "q=4\n",
        "for i in range(1,q):\n",
        "    pto=i/q\n",
        "    # print(pto)\n",
        "    q_i=round(tabla_frecuencias_eje3.loc[(tabla_frecuencias_eje3['F_i'] >= pto).idxmax(),\"Marca_de_clase\"])\n",
        "    print(f\"El cuartil {i} de longitud de palabras del texto de prueba es: {q_i}\")\n",
        "\n",
        "\n",
        "print(f\"\\nLos Deciles de los datos agrupados por intervalos son:\\n\")\n",
        "q=10\n",
        "for i in range(1,q):\n",
        "    pto=i/q\n",
        "    # print(pto)\n",
        "    q_i=round(tabla_frecuencias_eje3.loc[(tabla_frecuencias_eje3['F_i'] >= pto).idxmax(),\"Marca_de_clase\"])\n",
        "    print(f\"El decil {i} de longitud de palabras del texto de prueba es: {q_i}\")\n",
        "\n",
        "\n",
        "\n"
      ],
      "metadata": {
        "cellView": "form",
        "id": "PIeRfd9z0Nf4",
        "outputId": "2e7b5905-4d4b-4722-b84c-0f81a38d8e54",
        "colab": {
          "base_uri": "https://localhost:8080/"
        }
      },
      "id": "PIeRfd9z0Nf4",
      "execution_count": 34,
      "outputs": [
        {
          "output_type": "stream",
          "name": "stdout",
          "text": [
            "\n",
            "Los cuartiles de los datos agrupados por intervalos son:\n",
            "\n",
            "El cuartil 1 de longitud de palabras del texto de prueba es: 2\n",
            "El cuartil 2 de longitud de palabras del texto de prueba es: 5\n",
            "El cuartil 3 de longitud de palabras del texto de prueba es: 8\n",
            "\n",
            "Los Deciles de los datos agrupados por intervalos son:\n",
            "\n",
            "El decil 1 de longitud de palabras del texto de prueba es: 2\n",
            "El decil 2 de longitud de palabras del texto de prueba es: 2\n",
            "El decil 3 de longitud de palabras del texto de prueba es: 3\n",
            "El decil 4 de longitud de palabras del texto de prueba es: 3\n",
            "El decil 5 de longitud de palabras del texto de prueba es: 5\n",
            "El decil 6 de longitud de palabras del texto de prueba es: 6\n",
            "El decil 7 de longitud de palabras del texto de prueba es: 8\n",
            "El decil 8 de longitud de palabras del texto de prueba es: 8\n",
            "El decil 9 de longitud de palabras del texto de prueba es: 10\n"
          ]
        }
      ]
    },
    {
      "cell_type": "markdown",
      "source": [
        "## Medidas de dispersión:\n",
        "\n",
        "Cuantifican cuánto ***varía*** la variable de estudio (cómo los valores se distinguen de sus valores centrales).\n",
        "\n",
        "* **Desviación típica**:\n",
        "Geométricamente, la **desviación típica** mide lo lejos que está la variable de ser constante, en concreto de tomar siempre el valor $\\bar{X}$:\n",
        "\n",
        "$$\\sigma_{X}=\\sqrt{\\frac{1}{N}\\sum_{i=1}^{N}(X_{i}-\\mu_{X})^{2}}$$\n",
        "\n",
        "* **Varianza**:\n",
        "Es definida como el cuadrado de la desviación típica.\n",
        "$$Var(X) = \\sigma_{X}^{2}=\\frac{1}{N}\\sum_{i=1}^{N}(X_{i}-\\mu_{X})^{2}$$\n",
        "\n",
        "donde $N$ es el tamaño de la población y $\\mu_{X}$ es conocida como la media poblacional.\n"
      ],
      "metadata": {
        "id": "Zuxww05_7H8s"
      },
      "id": "Zuxww05_7H8s"
    },
    {
      "cell_type": "markdown",
      "source": [
        "### ¿Cómo se calcula la varianza?\n",
        "\n",
        "Las siguientes expresiones son equivalentes para calcular la varianza, que dependiendo de la información de la que dispongamos nos pueden facilitar su cálculo. Esto nos permite definir la varianza como la diferencia de la media de los cuadrados con respecto al cuadrado de la media:\n",
        "\n",
        "\n",
        "$$Var(X) = \\sigma_{X}^{2}=\\frac{1}{N} \\sum_{i=1}^{N}(x_{i}-\\mu_{X})^{2} = \\frac{1}{N}\\sum_{i=1}^{N}X_{i}^{2}-\\mu_{X}^{2} = \\bar{X^{2}}-\\mu_{X}^{2} = \\frac{1}{N}\\Big(\\sum_{i=1}^{N}X_{i}^{2}-\\frac{(\\sum_{i=1}^{N}X_{i})^{2}}{N}\\Big)$$\n",
        "\n",
        "La última expresión es la más recomendable para realizar las cuentas manualmente: requiere la suma y la suma de cuadrados.\n",
        "\n",
        "Si $X$ está reducida por intervalos entonces se aproximan $\\sigma_{X}$ y $\\sigma_{X}^{2}$ usando las marcas de clase, como en el caso de la media $\\bar{X}$.\n",
        "\n",
        "\n",
        "\n",
        "\n",
        "\n",
        "\n"
      ],
      "metadata": {
        "id": "ruHXrZJVAKpJ"
      },
      "id": "ruHXrZJVAKpJ"
    },
    {
      "cell_type": "markdown",
      "source": [
        "### Ejemplo:\n",
        "\n",
        "Ejercicio de cálculo de varianza y desviación típica:\n",
        "\n",
        "El propósito de este ejercicio es calcular la varianza y la desviación estándar de la longitud de las palabras del texto dado. Utilizaremos el mismo texto de ejemplo de los ejercicios anteriores y realizaremos los cálculos paso a paso.\n"
      ],
      "metadata": {
        "id": "FqJ3tgBpKk_X"
      },
      "id": "FqJ3tgBpKk_X"
    },
    {
      "cell_type": "code",
      "source": [
        "display(pal_long[['longitudes']])\n",
        "\n",
        "# Calculamos la media\n",
        "media = sum(longitudes) / len(longitudes)\n",
        "print(\"Media:\", media)\n",
        "\n",
        "# Calculamos la suma de los cuadrados de las diferencias\n",
        "suma_cuadrados_diferencias = sum((x - media) ** 2 for x in longitudes)\n",
        "print(\"Suma de los cuadrados de las diferencias:\", suma_cuadrados_diferencias)\n",
        "\n",
        "# Calculamos la varianza\n",
        "varianza = suma_cuadrados_diferencias / len(longitudes)\n",
        "print(\"Varianza:\", varianza)\n",
        "\n",
        "# Calculamos la desviación estándar\n",
        "desviacion_estandar = varianza ** 0.5\n",
        "print(\"Desviación estándar:\", desviacion_estandar)\n",
        "\n",
        "\n",
        "\n"
      ],
      "metadata": {
        "colab": {
          "base_uri": "https://localhost:8080/",
          "height": 493
        },
        "id": "muRulfIF6OiV",
        "outputId": "4544070f-4fd4-40eb-b253-54f649199d7b"
      },
      "id": "muRulfIF6OiV",
      "execution_count": 35,
      "outputs": [
        {
          "output_type": "display_data",
          "data": {
            "text/plain": [
              "     longitudes\n",
              "0             1\n",
              "1             1\n",
              "2             1\n",
              "3             1\n",
              "4             1\n",
              "..          ...\n",
              "213          13\n",
              "214          14\n",
              "215          14\n",
              "216          14\n",
              "217          15\n",
              "\n",
              "[218 rows x 1 columns]"
            ],
            "text/html": [
              "\n",
              "  <div id=\"df-cd730f72-7a82-418a-a64f-dcc86a74d4a5\" class=\"colab-df-container\">\n",
              "    <div>\n",
              "<style scoped>\n",
              "    .dataframe tbody tr th:only-of-type {\n",
              "        vertical-align: middle;\n",
              "    }\n",
              "\n",
              "    .dataframe tbody tr th {\n",
              "        vertical-align: top;\n",
              "    }\n",
              "\n",
              "    .dataframe thead th {\n",
              "        text-align: right;\n",
              "    }\n",
              "</style>\n",
              "<table border=\"1\" class=\"dataframe\">\n",
              "  <thead>\n",
              "    <tr style=\"text-align: right;\">\n",
              "      <th></th>\n",
              "      <th>longitudes</th>\n",
              "    </tr>\n",
              "  </thead>\n",
              "  <tbody>\n",
              "    <tr>\n",
              "      <th>0</th>\n",
              "      <td>1</td>\n",
              "    </tr>\n",
              "    <tr>\n",
              "      <th>1</th>\n",
              "      <td>1</td>\n",
              "    </tr>\n",
              "    <tr>\n",
              "      <th>2</th>\n",
              "      <td>1</td>\n",
              "    </tr>\n",
              "    <tr>\n",
              "      <th>3</th>\n",
              "      <td>1</td>\n",
              "    </tr>\n",
              "    <tr>\n",
              "      <th>4</th>\n",
              "      <td>1</td>\n",
              "    </tr>\n",
              "    <tr>\n",
              "      <th>...</th>\n",
              "      <td>...</td>\n",
              "    </tr>\n",
              "    <tr>\n",
              "      <th>213</th>\n",
              "      <td>13</td>\n",
              "    </tr>\n",
              "    <tr>\n",
              "      <th>214</th>\n",
              "      <td>14</td>\n",
              "    </tr>\n",
              "    <tr>\n",
              "      <th>215</th>\n",
              "      <td>14</td>\n",
              "    </tr>\n",
              "    <tr>\n",
              "      <th>216</th>\n",
              "      <td>14</td>\n",
              "    </tr>\n",
              "    <tr>\n",
              "      <th>217</th>\n",
              "      <td>15</td>\n",
              "    </tr>\n",
              "  </tbody>\n",
              "</table>\n",
              "<p>218 rows × 1 columns</p>\n",
              "</div>\n",
              "    <div class=\"colab-df-buttons\">\n",
              "\n",
              "  <div class=\"colab-df-container\">\n",
              "    <button class=\"colab-df-convert\" onclick=\"convertToInteractive('df-cd730f72-7a82-418a-a64f-dcc86a74d4a5')\"\n",
              "            title=\"Convert this dataframe to an interactive table.\"\n",
              "            style=\"display:none;\">\n",
              "\n",
              "  <svg xmlns=\"http://www.w3.org/2000/svg\" height=\"24px\" viewBox=\"0 -960 960 960\">\n",
              "    <path d=\"M120-120v-720h720v720H120Zm60-500h600v-160H180v160Zm220 220h160v-160H400v160Zm0 220h160v-160H400v160ZM180-400h160v-160H180v160Zm440 0h160v-160H620v160ZM180-180h160v-160H180v160Zm440 0h160v-160H620v160Z\"/>\n",
              "  </svg>\n",
              "    </button>\n",
              "\n",
              "  <style>\n",
              "    .colab-df-container {\n",
              "      display:flex;\n",
              "      gap: 12px;\n",
              "    }\n",
              "\n",
              "    .colab-df-convert {\n",
              "      background-color: #E8F0FE;\n",
              "      border: none;\n",
              "      border-radius: 50%;\n",
              "      cursor: pointer;\n",
              "      display: none;\n",
              "      fill: #1967D2;\n",
              "      height: 32px;\n",
              "      padding: 0 0 0 0;\n",
              "      width: 32px;\n",
              "    }\n",
              "\n",
              "    .colab-df-convert:hover {\n",
              "      background-color: #E2EBFA;\n",
              "      box-shadow: 0px 1px 2px rgba(60, 64, 67, 0.3), 0px 1px 3px 1px rgba(60, 64, 67, 0.15);\n",
              "      fill: #174EA6;\n",
              "    }\n",
              "\n",
              "    .colab-df-buttons div {\n",
              "      margin-bottom: 4px;\n",
              "    }\n",
              "\n",
              "    [theme=dark] .colab-df-convert {\n",
              "      background-color: #3B4455;\n",
              "      fill: #D2E3FC;\n",
              "    }\n",
              "\n",
              "    [theme=dark] .colab-df-convert:hover {\n",
              "      background-color: #434B5C;\n",
              "      box-shadow: 0px 1px 3px 1px rgba(0, 0, 0, 0.15);\n",
              "      filter: drop-shadow(0px 1px 2px rgba(0, 0, 0, 0.3));\n",
              "      fill: #FFFFFF;\n",
              "    }\n",
              "  </style>\n",
              "\n",
              "    <script>\n",
              "      const buttonEl =\n",
              "        document.querySelector('#df-cd730f72-7a82-418a-a64f-dcc86a74d4a5 button.colab-df-convert');\n",
              "      buttonEl.style.display =\n",
              "        google.colab.kernel.accessAllowed ? 'block' : 'none';\n",
              "\n",
              "      async function convertToInteractive(key) {\n",
              "        const element = document.querySelector('#df-cd730f72-7a82-418a-a64f-dcc86a74d4a5');\n",
              "        const dataTable =\n",
              "          await google.colab.kernel.invokeFunction('convertToInteractive',\n",
              "                                                    [key], {});\n",
              "        if (!dataTable) return;\n",
              "\n",
              "        const docLinkHtml = 'Like what you see? Visit the ' +\n",
              "          '<a target=\"_blank\" href=https://colab.research.google.com/notebooks/data_table.ipynb>data table notebook</a>'\n",
              "          + ' to learn more about interactive tables.';\n",
              "        element.innerHTML = '';\n",
              "        dataTable['output_type'] = 'display_data';\n",
              "        await google.colab.output.renderOutput(dataTable, element);\n",
              "        const docLink = document.createElement('div');\n",
              "        docLink.innerHTML = docLinkHtml;\n",
              "        element.appendChild(docLink);\n",
              "      }\n",
              "    </script>\n",
              "  </div>\n",
              "\n",
              "\n",
              "<div id=\"df-cccbd014-10fa-455c-be65-cd1c53c35c47\">\n",
              "  <button class=\"colab-df-quickchart\" onclick=\"quickchart('df-cccbd014-10fa-455c-be65-cd1c53c35c47')\"\n",
              "            title=\"Suggest charts\"\n",
              "            style=\"display:none;\">\n",
              "\n",
              "<svg xmlns=\"http://www.w3.org/2000/svg\" height=\"24px\"viewBox=\"0 0 24 24\"\n",
              "     width=\"24px\">\n",
              "    <g>\n",
              "        <path d=\"M19 3H5c-1.1 0-2 .9-2 2v14c0 1.1.9 2 2 2h14c1.1 0 2-.9 2-2V5c0-1.1-.9-2-2-2zM9 17H7v-7h2v7zm4 0h-2V7h2v10zm4 0h-2v-4h2v4z\"/>\n",
              "    </g>\n",
              "</svg>\n",
              "  </button>\n",
              "\n",
              "<style>\n",
              "  .colab-df-quickchart {\n",
              "      --bg-color: #E8F0FE;\n",
              "      --fill-color: #1967D2;\n",
              "      --hover-bg-color: #E2EBFA;\n",
              "      --hover-fill-color: #174EA6;\n",
              "      --disabled-fill-color: #AAA;\n",
              "      --disabled-bg-color: #DDD;\n",
              "  }\n",
              "\n",
              "  [theme=dark] .colab-df-quickchart {\n",
              "      --bg-color: #3B4455;\n",
              "      --fill-color: #D2E3FC;\n",
              "      --hover-bg-color: #434B5C;\n",
              "      --hover-fill-color: #FFFFFF;\n",
              "      --disabled-bg-color: #3B4455;\n",
              "      --disabled-fill-color: #666;\n",
              "  }\n",
              "\n",
              "  .colab-df-quickchart {\n",
              "    background-color: var(--bg-color);\n",
              "    border: none;\n",
              "    border-radius: 50%;\n",
              "    cursor: pointer;\n",
              "    display: none;\n",
              "    fill: var(--fill-color);\n",
              "    height: 32px;\n",
              "    padding: 0;\n",
              "    width: 32px;\n",
              "  }\n",
              "\n",
              "  .colab-df-quickchart:hover {\n",
              "    background-color: var(--hover-bg-color);\n",
              "    box-shadow: 0 1px 2px rgba(60, 64, 67, 0.3), 0 1px 3px 1px rgba(60, 64, 67, 0.15);\n",
              "    fill: var(--button-hover-fill-color);\n",
              "  }\n",
              "\n",
              "  .colab-df-quickchart-complete:disabled,\n",
              "  .colab-df-quickchart-complete:disabled:hover {\n",
              "    background-color: var(--disabled-bg-color);\n",
              "    fill: var(--disabled-fill-color);\n",
              "    box-shadow: none;\n",
              "  }\n",
              "\n",
              "  .colab-df-spinner {\n",
              "    border: 2px solid var(--fill-color);\n",
              "    border-color: transparent;\n",
              "    border-bottom-color: var(--fill-color);\n",
              "    animation:\n",
              "      spin 1s steps(1) infinite;\n",
              "  }\n",
              "\n",
              "  @keyframes spin {\n",
              "    0% {\n",
              "      border-color: transparent;\n",
              "      border-bottom-color: var(--fill-color);\n",
              "      border-left-color: var(--fill-color);\n",
              "    }\n",
              "    20% {\n",
              "      border-color: transparent;\n",
              "      border-left-color: var(--fill-color);\n",
              "      border-top-color: var(--fill-color);\n",
              "    }\n",
              "    30% {\n",
              "      border-color: transparent;\n",
              "      border-left-color: var(--fill-color);\n",
              "      border-top-color: var(--fill-color);\n",
              "      border-right-color: var(--fill-color);\n",
              "    }\n",
              "    40% {\n",
              "      border-color: transparent;\n",
              "      border-right-color: var(--fill-color);\n",
              "      border-top-color: var(--fill-color);\n",
              "    }\n",
              "    60% {\n",
              "      border-color: transparent;\n",
              "      border-right-color: var(--fill-color);\n",
              "    }\n",
              "    80% {\n",
              "      border-color: transparent;\n",
              "      border-right-color: var(--fill-color);\n",
              "      border-bottom-color: var(--fill-color);\n",
              "    }\n",
              "    90% {\n",
              "      border-color: transparent;\n",
              "      border-bottom-color: var(--fill-color);\n",
              "    }\n",
              "  }\n",
              "</style>\n",
              "\n",
              "  <script>\n",
              "    async function quickchart(key) {\n",
              "      const quickchartButtonEl =\n",
              "        document.querySelector('#' + key + ' button');\n",
              "      quickchartButtonEl.disabled = true;  // To prevent multiple clicks.\n",
              "      quickchartButtonEl.classList.add('colab-df-spinner');\n",
              "      try {\n",
              "        const charts = await google.colab.kernel.invokeFunction(\n",
              "            'suggestCharts', [key], {});\n",
              "      } catch (error) {\n",
              "        console.error('Error during call to suggestCharts:', error);\n",
              "      }\n",
              "      quickchartButtonEl.classList.remove('colab-df-spinner');\n",
              "      quickchartButtonEl.classList.add('colab-df-quickchart-complete');\n",
              "    }\n",
              "    (() => {\n",
              "      let quickchartButtonEl =\n",
              "        document.querySelector('#df-cccbd014-10fa-455c-be65-cd1c53c35c47 button');\n",
              "      quickchartButtonEl.style.display =\n",
              "        google.colab.kernel.accessAllowed ? 'block' : 'none';\n",
              "    })();\n",
              "  </script>\n",
              "</div>\n",
              "    </div>\n",
              "  </div>\n"
            ],
            "application/vnd.google.colaboratory.intrinsic+json": {
              "type": "dataframe",
              "summary": "{\n  \"name\": \"print(\\\"Desviaci\\u00f3n est\\u00e1ndar:\\\", desviacion_estandar)\",\n  \"rows\": 218,\n  \"fields\": [\n    {\n      \"column\": \"longitudes\",\n      \"properties\": {\n        \"dtype\": \"number\",\n        \"std\": 3,\n        \"min\": 1,\n        \"max\": 15,\n        \"samples\": [\n          10,\n          12,\n          1\n        ],\n        \"num_unique_values\": 15,\n        \"semantic_type\": \"\",\n        \"description\": \"\"\n      }\n    }\n  ]\n}"
            }
          },
          "metadata": {}
        },
        {
          "output_type": "stream",
          "name": "stdout",
          "text": [
            "Media: 5.591743119266055\n",
            "Suma de los cuadrados de las diferencias: 2444.665137614679\n",
            "Varianza: 11.21406026428752\n",
            "Desviación estándar: 3.3487401010361375\n"
          ]
        }
      ]
    },
    {
      "cell_type": "markdown",
      "source": [
        "Cálculo a través de funciones de Python (dentro de la librería Numpy):\n"
      ],
      "metadata": {
        "id": "S1bWfqCLY-7G"
      },
      "id": "S1bWfqCLY-7G"
    },
    {
      "cell_type": "code",
      "source": [
        "# Calculamos la varianza y la desviación típica con numpy\n",
        "varianza_np = np.var(longitudes)\n",
        "desviacion_estandar_np = np.std(longitudes)\n",
        "\n",
        "print(\"Varianza (con numpy):\", round(varianza_np,2))\n",
        "print(\"Desviación estándar (con numpy):\", round(desviacion_estandar_np,2))"
      ],
      "metadata": {
        "colab": {
          "base_uri": "https://localhost:8080/"
        },
        "id": "-b_GLOZUY_OH",
        "outputId": "2ef18da0-5d7f-43e1-ee4b-446d0e3aa0b7"
      },
      "id": "-b_GLOZUY_OH",
      "execution_count": 36,
      "outputs": [
        {
          "output_type": "stream",
          "name": "stdout",
          "text": [
            "Varianza (con numpy): 11.21\n",
            "Desviación estándar (con numpy): 3.35\n"
          ]
        }
      ]
    },
    {
      "cell_type": "markdown",
      "source": [
        "### Propiedades de la desviación típica y la varianza:\n",
        "\n",
        "Propiedades de la Varianza:\n",
        "\n",
        "* La varianza es una medida no negativa, es decir, $\\sigma^{2}_{X} \\geq 0$ para cualquier variable aleatoria $X$.\n",
        "    \n",
        "* La varianza es cero si y solo si todos los valores de la variable aleatoria son iguales, es decir, $\\sigma_{X}^{2} = 0 \\iff X = c$ para algún $c \\in \\mathbb{R}$.\n",
        "    \n",
        "* La varianza de una constante multiplicada por una variable aleatoria es igual a la constante al cuadrado multiplicada por la varianza de la variable aleatoria, es decir, $\\sigma_{cX}^{2} =  c^{2}\\sigma^{2}_{X}$.\n",
        "    \n",
        "* La varianza de la suma de dos variables aleatorias independientes es igual a la suma de sus varianzas, es decir, $\\sigma^{2}_{X + Y} = \\sigma^{2}_{X} + \\sigma^{2}_{Y}$ para variables aleatorias $X$ e $Y$ independientes.\n",
        "\n",
        "\n",
        "Propiedades de la Desviación Típica:\n",
        "    \n",
        "* Al igual que la varianza, la desviación típica es una medida no negativa, es decir, $\\sigma_{X} \\geq 0$.\n",
        "    \n",
        "* La desviación típica mide la dispersión de los datos alrededor de la media de la misma manera que la varianza, pero está en la misma escala que los datos originales, lo que facilita su interpretación.\n",
        "    \n",
        "* Las propiedades de la desviación típica son esencialmente las mismas que las de la varianza, ya que la desviación típica es simplemente la raíz cuadrada de la varianza.\n",
        "\n",
        "***Ejemplo:***\n",
        "\n",
        "Supongamos que tenemos una variable aleatoria $X$ cuyos valores son $1, 2, 3$ con igual probabilidad. Queremos calcular la varianza de $2X$.\n",
        "\n",
        "\n",
        "Primero, calculemos la media de $X$:\n",
        "$$\n",
        "\\bar{X} = \\frac{1+2+3}{3} = 2.\n",
        "$$\n",
        "\n",
        "La varianza de $X$ es:\n",
        "$$\n",
        "Var(X) = E[(X - \\mu_{X})^2] = \\frac{(1-2)^2 + (2-2)^2 + (3-2)^2}{3} = \\frac{2}{3}.\n",
        "$$\n",
        "\n",
        "Aplicando la propiedad, obtenemos:\n",
        "$$\n",
        "Var(2X) = 2^2 \\cdot Var(X) = 4 \\cdot \\frac{2}{3} = \\frac{8}{3}.\n",
        "$$\n",
        "\n",
        "\n"
      ],
      "metadata": {
        "id": "CPeplhRuLVHj"
      },
      "id": "CPeplhRuLVHj"
    },
    {
      "cell_type": "markdown",
      "source": [
        "Cálculo de la cuasivarianza y la cuasidesviación típica vía función de Python :"
      ],
      "metadata": {
        "id": "QY4UmTrpK3_M"
      },
      "id": "QY4UmTrpK3_M"
    },
    {
      "cell_type": "code",
      "source": [
        "# Calculamos la cuasi varianza y la cuasi desviación típica con numpy\n",
        "varianza_np = np.var(longitudes, ddof=1) #con ddof=1 es para ajustar el divisor a n-1\n",
        "desviacion_estandar_np = np.std(longitudes, ddof=1)\n",
        "\n",
        "print(\"Varianza (con numpy):\", round(varianza_np,2))\n",
        "print(\"Desviación estándar (con numpy):\", round(desviacion_estandar_np,2))\n"
      ],
      "metadata": {
        "id": "BOPuok7PJ2XN",
        "outputId": "3e341f06-c8e6-4170-8ad1-b87289ab0c2a",
        "colab": {
          "base_uri": "https://localhost:8080/"
        }
      },
      "id": "BOPuok7PJ2XN",
      "execution_count": 37,
      "outputs": [
        {
          "output_type": "stream",
          "name": "stdout",
          "text": [
            "Varianza (con numpy): 11.27\n",
            "Desviación estándar (con numpy): 3.36\n"
          ]
        }
      ]
    },
    {
      "cell_type": "markdown",
      "source": [
        "### Cuasivarianza y cuasidesviación típica\n",
        "\n",
        "La cuasivarianza y la cuasidesviación típica se definen de manera muy similar a la sus versiones *plenas*. La única diferencia es que, en este caso, se divide por $n-1$, donde $n$ es el tamaño de la mustra.\n",
        "\n",
        "$$S_{X}=\\sqrt{\\frac{1}{(n-1)}\\sum_{i=1}^{n}(X_{i}-\\bar{X})^{2}}$$\n",
        "$$Var(X) = S_{X}^{2}=\\frac{1}{(n-1)}\\sum_{i=1}^{n}(X_{i}-\\bar{X})^{2}$$,\n",
        "donde $\\bar{X}$ es la media estimada en la muestra.\n",
        "\n",
        "- Las propiedades son las mismas que en el caso de la varianza y la desviación típica.\n",
        "<!-- <font color='red'>bar</font> -->"
      ],
      "metadata": {
        "id": "Su_QnUuGvsp3"
      },
      "id": "Su_QnUuGvsp3"
    },
    {
      "cell_type": "markdown",
      "source": [
        "## Medidas de dispersión absolutas y relativas:\n",
        "\n",
        "La (cuasi)varianza y la (cuasi)desviación típica son **medidas de dispersión absoluta**.\n",
        "\n",
        "La medida de dispersión absoluta más básica es el **recorrido** o **rango**:\n",
        "$$Re(X) = \\max(X)-\\min(X)$$\n",
        "\n",
        "Para comparar la dispersión en dos variables, o en dos grupos dentro de una variable, no es suficiente conocer la dispersión absoluta. Por ejemplo, una varianza igual a 4 es enorme si la variable es el número de hijos de los propietarios de una comunidad de vecinos, pero es pequeñísima si la variable es la población de los municipios de una región.\n",
        "\n",
        "Para ello, y para tener una medida de la dispersión que no se vea afectada por cambios de escala, se definen las **medidas de dispersión relativas**.\n",
        "\n",
        "El recorrido relativo es la medida relativizada del recorrido:\n",
        "$$Rr(X) = \\frac{Re(X)}{|\\bar{X}|}$$\n"
      ],
      "metadata": {
        "id": "17XCEJr8XH6M"
      },
      "id": "17XCEJr8XH6M"
    },
    {
      "cell_type": "code",
      "source": [
        "longitud_minima = min(longitudes)\n",
        "longitud_maxima = max(longitudes)\n",
        "rango = longitud_maxima-longitud_minima\n",
        "recorrido = round(abs(rango/np.mean(longitudes)),2)\n",
        "print(f\"La longitud mínima es {longitud_minima} y la máxima es {longitud_maxima}\\nel rango es {rango} y el recorrido es {recorrido}\")"
      ],
      "metadata": {
        "colab": {
          "base_uri": "https://localhost:8080/"
        },
        "id": "k2bUdDfpfPQB",
        "outputId": "68042af7-0db8-4d5a-97da-41fafcf4bbef"
      },
      "id": "k2bUdDfpfPQB",
      "execution_count": 38,
      "outputs": [
        {
          "output_type": "stream",
          "name": "stdout",
          "text": [
            "La longitud mínima es 1 y la máxima es 15\n",
            "el rango es 14 y el recorrido es 2.5\n"
          ]
        }
      ]
    },
    {
      "cell_type": "markdown",
      "source": [
        "## Coeficiente de variación de Pearson\n",
        "\n",
        "El coeficiente de variación (de Pearson) es la medida de dispersión relativa más importante, una medida relativizada de la desviación típica:\n",
        "$$CV(X) = \\frac{S_{X}}{\\bar{X}}*100$$\n",
        "\n",
        "El coeficiente de variación de Pearson (CV) es una medida de variabilidad relativa que se utiliza para comparar la dispersión de diferentes conjuntos de datos en términos de su desviación estándar y su media. A continuación, se presentan algunas propiedades importantes del coeficiente de variación de Pearson:\n",
        "\n",
        "* El coeficiente de variación de Pearson es adimensional, lo que significa que es independiente de la escala de los datos. Esto hace que sea una medida útil para comparar la variabilidad relativa de diferentes conjuntos de datos, incluso si tienen diferentes unidades o escalas de medición.\n",
        "    \n",
        "* El coeficiente de variación de Pearson se expresa como un porcentaje, lo que facilita su interpretación. Cuanto mayor sea el valor del coeficiente de variación, mayor será la dispersión de los datos en relación con su media, y viceversa.\n",
        "    \n",
        "* El coeficiente de variación de Pearson es sensible a los cambios en la escala de los datos. Esto significa que si los datos se escalan por un factor constante, el coeficiente de variación también cambiará en consecuencia.\n",
        "    \n",
        "* El coeficiente de variación de Pearson es útil para comparar la dispersión de diferentes conjuntos de datos, pero puede no ser apropiado para conjuntos de datos con media cercana a cero, ya que el coeficiente de variación puede volverse indefinido o extremadamente grande en tales casos.\n",
        "\n",
        "\n",
        "**Nota**. La unidad de la varianza es la de la variable elevada al cuadrado, la de la desviación típica es la de la propia variable, mientras que para las medidas de dispersión relativas desaparece la unidad.\n",
        "\n",
        "\n"
      ],
      "metadata": {
        "id": "ylO_UMz0XH1C"
      },
      "id": "ylO_UMz0XH1C"
    },
    {
      "cell_type": "markdown",
      "source": [
        "## Valores tipificados:\n",
        "\n",
        "La tipificación de una variable es un proceso estadístico que transforma los datos originales en una nueva escala, generalmente con una media de 0 y una desviación estándar de 1. Esto se logra restando la media de los datos originales y dividiendo por la desviación típica. La variable resultante se conoce como variable tipificada.\n",
        "\n",
        "Matemáticamente, la tipificación de una variable \\(X\\) se define como:\n",
        "\n",
        "$$\n",
        "X_{\\text{tip}} = \\frac{X - \\mu}{\\sigma}\n",
        "$$\n",
        "\n",
        "Donde:\n",
        "* $(X_{\\text{tip}})$ es la variable tipificada.\n",
        "* $(X)$ es la variable original.\n",
        "* $(\\mu)$ es la media de la variable original.\n",
        "* $(\\sigma)$ es la desviación estándar de la variable original.\n",
        "\n",
        "La tipificación es útil para comparar diferentes conjuntos de datos que pueden tener diferentes escalas y unidades de medida. También puede simplificar el análisis estadístico al centrar los datos alrededor de cero y estandarizar su dispersión.\n",
        "\n",
        "### Ejemplo de Aplicación\n",
        "\n",
        "Consideremos el ejemplo de la longitud de las palabras dentro del texto que hemos estado trabajando:\n",
        "\n",
        "\n",
        "Longitudes de las palabras: \\{4, 2, 2, 7, 2, 5, 3, 9, 8, 2, 8, 3, 7\\}\n",
        "\n",
        "Calculemos la variable tipificada para estas longitudes. Primero, calculamos la media y la desviación estándar de las longitudes de las palabras.\n",
        "\n",
        "Media (\\(\\mu\\)):  \\( \\frac{1}{13} \\sum_{i=1}^{13} x_i \\)\n",
        "\n",
        "Desviación estándar (\\(\\sigma\\)):  \\( \\sqrt{\\frac{1}{13} \\sum_{i=1}^{13} (x_i - \\mu)^2} \\)\n",
        "\n",
        "Luego, tipificamos cada longitud de palabra utilizando la fórmula anterior."
      ],
      "metadata": {
        "id": "fQczrNP1XHvg"
      },
      "id": "fQczrNP1XHvg"
    },
    {
      "cell_type": "code",
      "source": [
        "# Calcular la media y la desviación típica\n",
        "media = np.mean(longitudes)\n",
        "desviacion_estandar = np.std(longitudes)\n",
        "\n",
        "# Tipificar los datos\n",
        "datos_tipificados = [(x - media) / desviacion_estandar for x in longitudes]\n",
        "\n",
        "print(\"Datos originales:\", longitudes)\n",
        "print(\"Datos tipificados:\", datos_tipificados)\n",
        "\n",
        "plt.plot(longitudes)\n",
        "plt.plot(datos_tipificados)"
      ],
      "metadata": {
        "colab": {
          "base_uri": "https://localhost:8080/",
          "height": 502
        },
        "id": "B9KOYnYEklVQ",
        "outputId": "2c687f5e-39cf-4eb6-9f68-302dd6ea6923"
      },
      "id": "B9KOYnYEklVQ",
      "execution_count": 39,
      "outputs": [
        {
          "output_type": "stream",
          "name": "stdout",
          "text": [
            "Datos originales: [4, 5, 3, 5, 7, 5, 5, 5, 4, 2, 7, 11, 4, 8, 2, 6, 7, 2, 2, 8, 2, 8, 6, 2, 2, 5, 11, 2, 2, 9, 8, 3, 3, 7, 10, 4, 9, 3, 8, 2, 12, 12, 9, 2, 8, 11, 2, 4, 8, 2, 8, 2, 3, 8, 2, 7, 2, 6, 2, 10, 3, 8, 4, 7, 15, 2, 8, 4, 5, 11, 8, 6, 4, 6, 4, 4, 4, 3, 4, 8, 3, 6, 4, 13, 14, 14, 5, 5, 2, 8, 2, 10, 2, 6, 7, 2, 10, 3, 9, 3, 8, 2, 4, 5, 2, 8, 4, 5, 7, 5, 3, 4, 3, 5, 2, 2, 9, 8, 2, 3, 8, 10, 4, 4, 7, 7, 7, 3, 10, 2, 3, 8, 2, 5, 1, 5, 1, 9, 2, 5, 5, 4, 9, 2, 4, 2, 8, 9, 5, 8, 2, 5, 2, 11, 13, 5, 2, 11, 2, 8, 1, 8, 2, 9, 2, 6, 4, 2, 13, 9, 2, 10, 1, 2, 13, 3, 8, 7, 2, 10, 8, 3, 2, 7, 3, 6, 7, 2, 8, 2, 8, 3, 6, 11, 7, 5, 2, 10, 1, 11, 3, 8, 9, 2, 3, 5, 5, 13, 14, 2, 2, 12, 8, 1, 2, 11, 3, 5]\n",
            "Datos tipificados: [-0.4753259647631515, -0.17670619439321766, -0.7739457351330853, -0.17670619439321766, 0.4205333463466499, -0.17670619439321766, -0.17670619439321766, -0.17670619439321766, -0.4753259647631515, -1.072565505503019, 0.4205333463466499, 1.615012427826385, -0.4753259647631515, 0.7191531167165837, -1.072565505503019, 0.12191357597671612, 0.4205333463466499, -1.072565505503019, -1.072565505503019, 0.7191531167165837, -1.072565505503019, 0.7191531167165837, 0.12191357597671612, -1.072565505503019, -1.072565505503019, -0.17670619439321766, 1.615012427826385, -1.072565505503019, -1.072565505503019, 1.0177728870865175, 0.7191531167165837, -0.7739457351330853, -0.7739457351330853, 0.4205333463466499, 1.3163926574564513, -0.4753259647631515, 1.0177728870865175, -0.7739457351330853, 0.7191531167165837, -1.072565505503019, 1.913632198196319, 1.913632198196319, 1.0177728870865175, -1.072565505503019, 0.7191531167165837, 1.615012427826385, -1.072565505503019, -0.4753259647631515, 0.7191531167165837, -1.072565505503019, 0.7191531167165837, -1.072565505503019, -0.7739457351330853, 0.7191531167165837, -1.072565505503019, 0.4205333463466499, -1.072565505503019, 0.12191357597671612, -1.072565505503019, 1.3163926574564513, -0.7739457351330853, 0.7191531167165837, -0.4753259647631515, 0.4205333463466499, 2.80949150930612, -1.072565505503019, 0.7191531167165837, -0.4753259647631515, -0.17670619439321766, 1.615012427826385, 0.7191531167165837, 0.12191357597671612, -0.4753259647631515, 0.12191357597671612, -0.4753259647631515, -0.4753259647631515, -0.4753259647631515, -0.7739457351330853, -0.4753259647631515, 0.7191531167165837, -0.7739457351330853, 0.12191357597671612, -0.4753259647631515, 2.2122519685662527, 2.5108717389361863, 2.5108717389361863, -0.17670619439321766, -0.17670619439321766, -1.072565505503019, 0.7191531167165837, -1.072565505503019, 1.3163926574564513, -1.072565505503019, 0.12191357597671612, 0.4205333463466499, -1.072565505503019, 1.3163926574564513, -0.7739457351330853, 1.0177728870865175, -0.7739457351330853, 0.7191531167165837, -1.072565505503019, -0.4753259647631515, -0.17670619439321766, -1.072565505503019, 0.7191531167165837, -0.4753259647631515, -0.17670619439321766, 0.4205333463466499, -0.17670619439321766, -0.7739457351330853, -0.4753259647631515, -0.7739457351330853, -0.17670619439321766, -1.072565505503019, -1.072565505503019, 1.0177728870865175, 0.7191531167165837, -1.072565505503019, -0.7739457351330853, 0.7191531167165837, 1.3163926574564513, -0.4753259647631515, -0.4753259647631515, 0.4205333463466499, 0.4205333463466499, 0.4205333463466499, -0.7739457351330853, 1.3163926574564513, -1.072565505503019, -0.7739457351330853, 0.7191531167165837, -1.072565505503019, -0.17670619439321766, -1.3711852758729528, -0.17670619439321766, -1.3711852758729528, 1.0177728870865175, -1.072565505503019, -0.17670619439321766, -0.17670619439321766, -0.4753259647631515, 1.0177728870865175, -1.072565505503019, -0.4753259647631515, -1.072565505503019, 0.7191531167165837, 1.0177728870865175, -0.17670619439321766, 0.7191531167165837, -1.072565505503019, -0.17670619439321766, -1.072565505503019, 1.615012427826385, 2.2122519685662527, -0.17670619439321766, -1.072565505503019, 1.615012427826385, -1.072565505503019, 0.7191531167165837, -1.3711852758729528, 0.7191531167165837, -1.072565505503019, 1.0177728870865175, -1.072565505503019, 0.12191357597671612, -0.4753259647631515, -1.072565505503019, 2.2122519685662527, 1.0177728870865175, -1.072565505503019, 1.3163926574564513, -1.3711852758729528, -1.072565505503019, 2.2122519685662527, -0.7739457351330853, 0.7191531167165837, 0.4205333463466499, -1.072565505503019, 1.3163926574564513, 0.7191531167165837, -0.7739457351330853, -1.072565505503019, 0.4205333463466499, -0.7739457351330853, 0.12191357597671612, 0.4205333463466499, -1.072565505503019, 0.7191531167165837, -1.072565505503019, 0.7191531167165837, -0.7739457351330853, 0.12191357597671612, 1.615012427826385, 0.4205333463466499, -0.17670619439321766, -1.072565505503019, 1.3163926574564513, -1.3711852758729528, 1.615012427826385, -0.7739457351330853, 0.7191531167165837, 1.0177728870865175, -1.072565505503019, -0.7739457351330853, -0.17670619439321766, -0.17670619439321766, 2.2122519685662527, 2.5108717389361863, -1.072565505503019, -1.072565505503019, 1.913632198196319, 0.7191531167165837, -1.3711852758729528, -1.072565505503019, 1.615012427826385, -0.7739457351330853, -0.17670619439321766]\n"
          ]
        },
        {
          "output_type": "execute_result",
          "data": {
            "text/plain": [
              "[<matplotlib.lines.Line2D at 0x788b1bce9d50>]"
            ]
          },
          "metadata": {},
          "execution_count": 39
        },
        {
          "output_type": "display_data",
          "data": {
            "text/plain": [
              "<Figure size 640x480 with 1 Axes>"
            ],
            "image/png": "[encoded data removed]"
          },
          "metadata": {}
        }
      ]
    },
    {
      "cell_type": "markdown",
      "source": [
        "## Razones:\n",
        "\n",
        "La razón es una cantidad que compara mediante cociente el número de casos de una categoría con respecto al número de casos de otra categoría, por lo tanto, para obtener la razón de dos categorías, por ejemplo la 1 y la 2, tenemos:\n",
        "$$\\text{razón}=\\frac{(\\# categoría 1)}{(\\# categoría 2)}$$\n",
        "\n",
        "Es habitual expresar las razones en porcentaje, esto es, por cada 100 unidades (de la categoría referencia, en nuestro caso la categoría 2):\n",
        "$$\\text{razón}\\times 100\\%=\\frac{(\\# categoría 1)}{(\\# categoría 2)}\\times 100\\%$$\n"
      ],
      "metadata": {
        "id": "iwuifCPJXHgp"
      },
      "id": "iwuifCPJXHgp"
    },
    {
      "cell_type": "markdown",
      "source": [
        "**Consideremos el texto del ejemplo anterior.**\n",
        "\n",
        "Para calcular la razón de la longitud de las palabras en este texto, primero necesitamos calcular la longitud de cada palabra. Luego, podemos determinar la razón entre la longitud de cada palabra y la longitud total de todas las palabras en el texto.\n",
        "\n",
        "**Cálculo de la Razón de la Longitud de las Palabras**\n",
        "\n",
        "Razón de la longitud de las palabras:\n",
        "$$\n",
        "\\begin{align*}\n",
        "\\text{Razón} &= \\frac{\\text{Longitud de cada palabra}}{\\text{Longitud total de todas las palabras}}\n",
        "\\end{align*}\n",
        "$$\n",
        "\n",
        "Los valores de la variable *razon_longitudes* que se obtiene a continuación, representan la proporción de la longitud de cada palabra con respecto a la longitud total de todas las palabras en el texto.\n"
      ],
      "metadata": {
        "id": "XuNsnro9o6R3"
      },
      "id": "XuNsnro9o6R3"
    },
    {
      "cell_type": "code",
      "source": [
        "# Calcular la longitud total de todas las palabras\n",
        "longitud_total = sum(longitudes)\n",
        "\n",
        "# Calcular la razón de la longitud de las palabras\n",
        "razon_longitudes = [longitud / longitud_total for longitud in longitudes]\n",
        "\n",
        "# Imprimir los resultados\n",
        "print(\"Longitudes de las palabras:\", longitudes)\n",
        "print(\"Longitud total de todas las palabras:\", longitud_total)\n",
        "print(\"Razón de la longitud de las palabras:\", razon_longitudes)\n"
      ],
      "metadata": {
        "colab": {
          "base_uri": "https://localhost:8080/"
        },
        "id": "HVAV1JBfo58X",
        "outputId": "56787474-b086-4424-c804-12d108958f81"
      },
      "id": "HVAV1JBfo58X",
      "execution_count": 40,
      "outputs": [
        {
          "output_type": "stream",
          "name": "stdout",
          "text": [
            "Longitudes de las palabras: [4, 5, 3, 5, 7, 5, 5, 5, 4, 2, 7, 11, 4, 8, 2, 6, 7, 2, 2, 8, 2, 8, 6, 2, 2, 5, 11, 2, 2, 9, 8, 3, 3, 7, 10, 4, 9, 3, 8, 2, 12, 12, 9, 2, 8, 11, 2, 4, 8, 2, 8, 2, 3, 8, 2, 7, 2, 6, 2, 10, 3, 8, 4, 7, 15, 2, 8, 4, 5, 11, 8, 6, 4, 6, 4, 4, 4, 3, 4, 8, 3, 6, 4, 13, 14, 14, 5, 5, 2, 8, 2, 10, 2, 6, 7, 2, 10, 3, 9, 3, 8, 2, 4, 5, 2, 8, 4, 5, 7, 5, 3, 4, 3, 5, 2, 2, 9, 8, 2, 3, 8, 10, 4, 4, 7, 7, 7, 3, 10, 2, 3, 8, 2, 5, 1, 5, 1, 9, 2, 5, 5, 4, 9, 2, 4, 2, 8, 9, 5, 8, 2, 5, 2, 11, 13, 5, 2, 11, 2, 8, 1, 8, 2, 9, 2, 6, 4, 2, 13, 9, 2, 10, 1, 2, 13, 3, 8, 7, 2, 10, 8, 3, 2, 7, 3, 6, 7, 2, 8, 2, 8, 3, 6, 11, 7, 5, 2, 10, 1, 11, 3, 8, 9, 2, 3, 5, 5, 13, 14, 2, 2, 12, 8, 1, 2, 11, 3, 5]\n",
            "Longitud total de todas las palabras: 1219\n",
            "Razón de la longitud de las palabras: [0.003281378178835111, 0.004101722723543888, 0.002461033634126333, 0.004101722723543888, 0.005742411812961444, 0.004101722723543888, 0.004101722723543888, 0.004101722723543888, 0.003281378178835111, 0.0016406890894175555, 0.005742411812961444, 0.009023789991796555, 0.003281378178835111, 0.006562756357670222, 0.0016406890894175555, 0.004922067268252666, 0.005742411812961444, 0.0016406890894175555, 0.0016406890894175555, 0.006562756357670222, 0.0016406890894175555, 0.006562756357670222, 0.004922067268252666, 0.0016406890894175555, 0.0016406890894175555, 0.004101722723543888, 0.009023789991796555, 0.0016406890894175555, 0.0016406890894175555, 0.007383100902378999, 0.006562756357670222, 0.002461033634126333, 0.002461033634126333, 0.005742411812961444, 0.008203445447087777, 0.003281378178835111, 0.007383100902378999, 0.002461033634126333, 0.006562756357670222, 0.0016406890894175555, 0.009844134536505332, 0.009844134536505332, 0.007383100902378999, 0.0016406890894175555, 0.006562756357670222, 0.009023789991796555, 0.0016406890894175555, 0.003281378178835111, 0.006562756357670222, 0.0016406890894175555, 0.006562756357670222, 0.0016406890894175555, 0.002461033634126333, 0.006562756357670222, 0.0016406890894175555, 0.005742411812961444, 0.0016406890894175555, 0.004922067268252666, 0.0016406890894175555, 0.008203445447087777, 0.002461033634126333, 0.006562756357670222, 0.003281378178835111, 0.005742411812961444, 0.012305168170631665, 0.0016406890894175555, 0.006562756357670222, 0.003281378178835111, 0.004101722723543888, 0.009023789991796555, 0.006562756357670222, 0.004922067268252666, 0.003281378178835111, 0.004922067268252666, 0.003281378178835111, 0.003281378178835111, 0.003281378178835111, 0.002461033634126333, 0.003281378178835111, 0.006562756357670222, 0.002461033634126333, 0.004922067268252666, 0.003281378178835111, 0.01066447908121411, 0.011484823625922888, 0.011484823625922888, 0.004101722723543888, 0.004101722723543888, 0.0016406890894175555, 0.006562756357670222, 0.0016406890894175555, 0.008203445447087777, 0.0016406890894175555, 0.004922067268252666, 0.005742411812961444, 0.0016406890894175555, 0.008203445447087777, 0.002461033634126333, 0.007383100902378999, 0.002461033634126333, 0.006562756357670222, 0.0016406890894175555, 0.003281378178835111, 0.004101722723543888, 0.0016406890894175555, 0.006562756357670222, 0.003281378178835111, 0.004101722723543888, 0.005742411812961444, 0.004101722723543888, 0.002461033634126333, 0.003281378178835111, 0.002461033634126333, 0.004101722723543888, 0.0016406890894175555, 0.0016406890894175555, 0.007383100902378999, 0.006562756357670222, 0.0016406890894175555, 0.002461033634126333, 0.006562756357670222, 0.008203445447087777, 0.003281378178835111, 0.003281378178835111, 0.005742411812961444, 0.005742411812961444, 0.005742411812961444, 0.002461033634126333, 0.008203445447087777, 0.0016406890894175555, 0.002461033634126333, 0.006562756357670222, 0.0016406890894175555, 0.004101722723543888, 0.0008203445447087777, 0.004101722723543888, 0.0008203445447087777, 0.007383100902378999, 0.0016406890894175555, 0.004101722723543888, 0.004101722723543888, 0.003281378178835111, 0.007383100902378999, 0.0016406890894175555, 0.003281378178835111, 0.0016406890894175555, 0.006562756357670222, 0.007383100902378999, 0.004101722723543888, 0.006562756357670222, 0.0016406890894175555, 0.004101722723543888, 0.0016406890894175555, 0.009023789991796555, 0.01066447908121411, 0.004101722723543888, 0.0016406890894175555, 0.009023789991796555, 0.0016406890894175555, 0.006562756357670222, 0.0008203445447087777, 0.006562756357670222, 0.0016406890894175555, 0.007383100902378999, 0.0016406890894175555, 0.004922067268252666, 0.003281378178835111, 0.0016406890894175555, 0.01066447908121411, 0.007383100902378999, 0.0016406890894175555, 0.008203445447087777, 0.0008203445447087777, 0.0016406890894175555, 0.01066447908121411, 0.002461033634126333, 0.006562756357670222, 0.005742411812961444, 0.0016406890894175555, 0.008203445447087777, 0.006562756357670222, 0.002461033634126333, 0.0016406890894175555, 0.005742411812961444, 0.002461033634126333, 0.004922067268252666, 0.005742411812961444, 0.0016406890894175555, 0.006562756357670222, 0.0016406890894175555, 0.006562756357670222, 0.002461033634126333, 0.004922067268252666, 0.009023789991796555, 0.005742411812961444, 0.004101722723543888, 0.0016406890894175555, 0.008203445447087777, 0.0008203445447087777, 0.009023789991796555, 0.002461033634126333, 0.006562756357670222, 0.007383100902378999, 0.0016406890894175555, 0.002461033634126333, 0.004101722723543888, 0.004101722723543888, 0.01066447908121411, 0.011484823625922888, 0.0016406890894175555, 0.0016406890894175555, 0.009844134536505332, 0.006562756357670222, 0.0008203445447087777, 0.0016406890894175555, 0.009023789991796555, 0.002461033634126333, 0.004101722723543888]\n"
          ]
        }
      ]
    },
    {
      "cell_type": "markdown",
      "source": [
        "## Tasas:\n",
        "\n",
        "La tasa es una medida que expresa la relación entre dos cantidades. En el contexto de la estadística y la probabilidad, la tasa se define como el número de eventos favorables dividido por el número total de eventos potenciales.\n",
        "\n",
        "Matemáticamente, la tasa se expresa como:\n",
        "\n",
        "$$\\text{Tasa} = \\frac{\\text{# de Favorables}}{\\text{# de Potenciales}} $$\n",
        "\n",
        "Las tasas son útiles para comparar la ocurrencia de eventos en diferentes situaciones y proporcionan una medida relativa de la probabilidad de que ocurra un evento en relación con el total de eventos posibles.\n",
        "\n",
        "**Propiedades de las Tasas**\n",
        "\n",
        "Algunas propiedades importantes de las tasas incluyen:\n",
        "\n",
        "* Las tasas son adimensionales, lo que significa que no tienen unidades de medida.\n",
        "* Las tasas pueden ser expresadas como fracciones, decimales o porcentajes, dependiendo de la conveniencia y el contexto.\n",
        "* Las tasas pueden compararse entre diferentes poblaciones o situaciones para evaluar la probabilidad relativa de ocurrencia de un evento.\n",
        "\n",
        "\n",
        "### Ejemplo de Aplicación de Tasas\n",
        "\n",
        "Consideremos el mismo texto de los ejemplos anteriores:\n",
        "\n",
        "Para calcular la tasa de aparición de la letra 'e' en este texto, primero necesitamos contar el número total de letras 'e' y dividirlo por el número total de letras en el texto.\n",
        "\n",
        "**Cálculo de la Tasa de Aparición de la Letra e:**\n",
        "\n"
      ],
      "metadata": {
        "id": "YoD_mHjRqmEf"
      },
      "id": "YoD_mHjRqmEf"
    },
    {
      "cell_type": "code",
      "source": [
        "# Contar el número total de letras\n",
        "numero_total_letras = len(texto_limpio)\n",
        "\n",
        "# Contar el número de letras 'e'\n",
        "numero_letras_e = texto_limpio.count('e')\n",
        "\n",
        "# Calcular la tasa de aparición de la letra 'e'\n",
        "tasa_aparicion_e = numero_letras_e / numero_total_letras\n",
        "\n",
        "# Imprimir los resultados\n",
        "print(\"Número total de letras:\", numero_total_letras)\n",
        "print(\"Número de letras 'e':\", numero_letras_e)\n",
        "print(\"Tasa de aparición de la letra 'e':\", tasa_aparicion_e)"
      ],
      "metadata": {
        "colab": {
          "base_uri": "https://localhost:8080/"
        },
        "id": "08D4vEJWrUC1",
        "outputId": "92f3549b-37a3-4731-dfab-bc30110192c2"
      },
      "id": "08D4vEJWrUC1",
      "execution_count": 41,
      "outputs": [
        {
          "output_type": "stream",
          "name": "stdout",
          "text": [
            "Número total de letras: 1442\n",
            "Número de letras 'e': 153\n",
            "Tasa de aparición de la letra 'e': 0.10610263522884882\n"
          ]
        }
      ]
    },
    {
      "cell_type": "markdown",
      "source": [
        "## Números Índices Simples\n",
        "\n",
        "Los números índices simples son una herramienta estadística utilizada para comparar una magnitud en dos situaciones, una de las cuales se considera como referencia o base. Se utilizan para medir los cambios relativos en una variable a lo largo del tiempo o en diferentes condiciones.\n",
        "\n",
        "Matemáticamente, un número índice simple se calcula como:\n",
        "\n",
        "$$\\text{Índice} = \\left( \\frac{\\text{Valor Actual}}{\\text{Valor de Referencia}} \\right) \\times 100 $$\n",
        "\n",
        "Los números índices simples se expresan generalmente como porcentajes y proporcionan una medida relativa del cambio en una variable con respecto a un valor base.\n",
        "\n",
        "**Propiedades de los Números Índices Simples**\n",
        "\n",
        "Algunas propiedades importantes de los números índices simples incluyen:\n",
        "\n",
        "\n",
        "* Los números índices simples son adimensionales y se expresan como porcentajes.\n",
        "* Los números índices simples pueden ser utilizados para comparar cualquier tipo de variable, como precios, cantidades, índices de producción, entre otros.\n",
        "* Los números índices simples son útiles para resaltar los cambios relativos en una variable a lo largo del tiempo o en diferentes situaciones.\n",
        "\n",
        "\n",
        "### Ejemplo de Aplicación de Números Índices Simples\n",
        "\n",
        "Consideremos el texto de los ejemplos anteriores:\n",
        "\n",
        "Supongamos que queremos calcular un índice simple de la longitud de las palabras en este texto, comparándolo con un valor de referencia de longitud promedio de palabras en un texto estándar.\n",
        "\n",
        "**Cálculo del Índice Simple de la Longitud de las Palabras:**\n",
        "\n"
      ],
      "metadata": {
        "id": "GerICmbksBRc"
      },
      "id": "GerICmbksBRc"
    },
    {
      "cell_type": "code",
      "source": [
        "# @title\n",
        "# Dividir el texto en palabras\n",
        "palabras = texto_limpio.split()\n",
        "\n",
        "# Calcular las longitudes de las palabras\n",
        "longitudes = [len(palabra) for palabra in palabras]\n",
        "\n",
        "# Calcular la longitud promedio de las palabras en el texto\n",
        "longitud_promedio = sum(longitudes) / len(longitudes)\n",
        "\n",
        "# Valor de referencia de longitud promedio de palabras en un texto estándar\n",
        "valor_referencia = 5\n",
        "\n",
        "# Calcular el índice simple de la longitud de las palabras\n",
        "indice_simple = (longitud_promedio / valor_referencia) * 100\n",
        "\n",
        "# Imprimir los resultados\n",
        "# print(\"Longitudes de las palabras:\", longitudes)\n",
        "print(\"Longitud promedio de palabras en el texto:\", longitud_promedio)\n",
        "print(\"Índice simple de la longitud de las palabras:\", indice_simple)\n"
      ],
      "metadata": {
        "cellView": "form",
        "id": "UB51D29qseeE",
        "outputId": "822f44a0-2ec1-4cf5-8529-a9d7eace1d37",
        "colab": {
          "base_uri": "https://localhost:8080/"
        }
      },
      "id": "UB51D29qseeE",
      "execution_count": 42,
      "outputs": [
        {
          "output_type": "stream",
          "name": "stdout",
          "text": [
            "Longitud promedio de palabras en el texto: 5.591743119266055\n",
            "Índice simple de la longitud de las palabras: 111.8348623853211\n"
          ]
        }
      ]
    },
    {
      "cell_type": "markdown",
      "source": [
        "## N-Gramas:\n",
        "\n",
        "Los n-gramas son una técnica de procesamiento de texto que divide el texto en secuencias de $N$ elementos consecutivos. Estos elementos pueden ser caracteres, palabras o incluso tokens. En este documento, exploraremos qué son los n-gramas, cómo se calculan y cómo se pueden implementar en Python.\n",
        "\n",
        "**Definición:**\n",
        "Un n-grama es una secuencia de $N$ elementos tomados de un texto de manera consecutiva. Por ejemplo, si tenemos la frase \"El perro come comida\", algunos n-gramas serían:\n",
        "* 1-gramas (unigramas): [El], [perro], [come], [comida]\n",
        "* 2-gramas (bigramas): [El perro], [perro come], [come comida]\n",
        "* 3-gramas (trigramas): [El perro come], [perro come comida]\n",
        "\n",
        "\n",
        "### Cálculo de los n-gramas:\n",
        "\n",
        "Para calcular los n-gramas, simplemente deslizamos una ventana de tamaño $N$ a lo largo del texto y extraemos cada secuencia de $N$ elementos.\n",
        "\n",
        "Implementación en Python:\n",
        "\n",
        "A continuación, se muestra un ejemplo de cómo implementar la generación de n-gramas en Python:\n",
        "\n"
      ],
      "metadata": {
        "id": "TWpN955F04tX"
      },
      "id": "TWpN955F04tX"
    },
    {
      "cell_type": "code",
      "source": [
        "def generate_ngrams(text, n):\n",
        "    words = text.split()\n",
        "    ngrams = [tuple(words[i:i+n]) for i in range(len(words)-n+1)]\n",
        "    return ngrams\n",
        "\n",
        "# Ejemplo de uso\n",
        "text = \"El perro come comida\"\n",
        "unigrams = generate_ngrams(text, 1)\n",
        "bigrams = generate_ngrams(text, 2)\n",
        "trigrams = generate_ngrams(text, 3)\n",
        "\n",
        "print(\"Unigramas:\", unigrams)\n",
        "print(\"Bigramas:\", bigrams)\n",
        "print(\"Trigramas:\", trigrams)\n",
        "\n",
        "\n",
        "print('En este ejemplo, la función \\texttt{generate\\_ngrams} toma un texto y un valor $N$ y devuelve una lista de n-gramas correspondientes.')\n"
      ],
      "metadata": {
        "id": "eimy6D0vKWvz",
        "outputId": "d3731a09-20f2-4583-fe03-fdca7842726b",
        "colab": {
          "base_uri": "https://localhost:8080/"
        }
      },
      "id": "eimy6D0vKWvz",
      "execution_count": 43,
      "outputs": [
        {
          "output_type": "stream",
          "name": "stdout",
          "text": [
            "Unigramas: [('El',), ('perro',), ('come',), ('comida',)]\n",
            "Bigramas: [('El', 'perro'), ('perro', 'come'), ('come', 'comida')]\n",
            "Trigramas: [('El', 'perro', 'come'), ('perro', 'come', 'comida')]\n",
            "En este ejemplo, la función \texttt{generate\\_ngrams} toma un texto y un valor $N$ y devuelve una lista de n-gramas correspondientes.\n"
          ]
        }
      ]
    },
    {
      "cell_type": "code",
      "source": [],
      "metadata": {
        "id": "6bcBqwBp2KUv"
      },
      "id": "6bcBqwBp2KUv",
      "execution_count": 43,
      "outputs": []
    },
    {
      "cell_type": "markdown",
      "source": [
        "## Análisis de frecuencia de los N-gramas:\n",
        "\n",
        "El análisis de frecuencia de los n-gramas es una técnica fundamental en el procesamiento de lenguaje natural (PLN) que se utiliza para analizar la frecuencia de ocurrencia de secuencias de $N$ elementos, conocidas como n-gramas, en un texto. Los n-gramas son ampliamente utilizados en tareas como la modelización del lenguaje, la traducción automática, la corrección ortográfica, entre otros.\n",
        "\n",
        "**Definición:**\n",
        "Un n-grama es una secuencia contigua de $N$ elementos de un texto o una cadena de caracteres. Los elementos pueden ser palabras, caracteres, sílabas, entre otros. Por ejemplo, en la oración *El perro corre rápidamente*, algunos ejemplos de n-gramas serían los siguientes:\n",
        "\n",
        "* Unigramas (1-gramas): El, perro, corre, rápidamente.\n",
        "* Bigramas (2-gramas): El perro, perro corre, corre rápidamente.\n",
        "* Trigramas (3-gramas): El perro corre, perro corre rápidamente.\n",
        "\n",
        "\n",
        "Cálculo de Frecuencia:\n",
        "\n",
        "Para calcular la frecuencia de los n-gramas en un texto, se cuentan las ocurrencias de cada n-grama y se registran en una tabla. Luego, se puede calcular la frecuencia relativa de cada n-grama dividiendo el número de ocurrencias de ese n-grama por el número total de n-gramas en el texto.\n",
        "\n",
        "Implementación en Python.\n",
        "A continuación, se muestra una implementación simple en Python para calcular la frecuencia de los n-gramas en un texto utilizando la biblioteca NLTK (Natural Language Toolkit):\n",
        "\n",
        "Este script tomará el texto de ejemplo, lo tokenizará en palabras, calculará los bigramas y mostrará la frecuencia de cada bigrama en el texto.\n"
      ],
      "metadata": {
        "id": "y6QUj4YZ3T-F"
      },
      "id": "y6QUj4YZ3T-F"
    },
    {
      "cell_type": "code",
      "source": [
        "# Texto de ejemplo\n",
        "texto = \"El perro corre rápidamente por el parque.\"\n",
        "\n",
        "# Tokenización del texto en palabras\n",
        "palabras = nltk.word_tokenize(texto)\n",
        "\n",
        "# Definir el valor de n para los n-gramas\n",
        "n = 2\n",
        "\n",
        "# Calcular los n-gramas\n",
        "ngramas = ngrams(palabras, n)\n",
        "\n",
        "# Calcular la frecuencia de los n-gramas\n",
        "frecuencia_ngramas = nltk.FreqDist(ngramas)\n",
        "\n",
        "# Mostrar los n-gramas y su frecuencia\n",
        "for ngrama, frecuencia in frecuencia_ngramas.items():\n",
        "    print(' '.join(ngrama), ':', frecuencia)\n",
        "\n",
        "#gráfico:\n",
        "x, y = np.ogrid[:300, :300]\n",
        "mask = (x - 150) ** 2 + (y - 150) ** 2 > 130 ** 2\n",
        "mask = 255 * mask.astype(int)\n",
        "wc = WordCloud(background_color = \"white\", repeat = True, mask = mask)\n",
        "wc.generate(text)\n",
        "plt.axis(\"off\")\n",
        "plt.imshow(wc, interpolation = \"bilinear\")"
      ],
      "metadata": {
        "id": "6ERc0jKi3-bb",
        "outputId": "304b2d1e-55cb-4d14-ba38-6a011b3f3cf6",
        "colab": {
          "base_uri": "https://localhost:8080/",
          "height": 545
        }
      },
      "id": "6ERc0jKi3-bb",
      "execution_count": 44,
      "outputs": [
        {
          "output_type": "stream",
          "name": "stdout",
          "text": [
            "El perro : 1\n",
            "perro corre : 1\n",
            "corre rápidamente : 1\n",
            "rápidamente por : 1\n",
            "por el : 1\n",
            "el parque : 1\n",
            "parque . : 1\n"
          ]
        },
        {
          "output_type": "execute_result",
          "data": {
            "text/plain": [
              "<matplotlib.image.AxesImage at 0x788b1bd66410>"
            ]
          },
          "metadata": {},
          "execution_count": 44
        },
        {
          "output_type": "display_data",
          "data": {
            "text/plain": [
              "<Figure size 640x480 with 1 Axes>"
            ],
            "image/png": "[encoded data removed]"
          },
          "metadata": {}
        }
      ]
    },
    {
      "cell_type": "markdown",
      "source": [
        "***\n",
        "***"
      ],
      "metadata": {
        "id": "NliUJt0nQyIA"
      },
      "id": "NliUJt0nQyIA"
    },
    {
      "cell_type": "markdown",
      "source": [
        "# Probabilidad ¡La clave!\n"
      ],
      "metadata": {
        "id": "tY-CrT1IUku9"
      },
      "id": "tY-CrT1IUku9"
    },
    {
      "cell_type": "markdown",
      "source": [
        "\n",
        "\n",
        "<center>\n",
        " <img src=\"https://github.com/ednavivianasegura/Curso_PLN/blob/main/prob.png?raw=1\" alt=\"prob\" width=\"50%\" height=\"50%\">\n",
        "</center>\n",
        "\n",
        "**Motivación**\n",
        "\n",
        "Frente a un fenómeno aleatorio, el resultado es incierto y su predicción se vuelve un desafío. La probabilidad se convierte en nuestra brújula en este territorio de incertidumbre.\n",
        "\n",
        "**Analicemos ejemplos:**\n",
        "\n",
        "# ***¿Cuál será el siguiente término en una secuencia de palabras generada por un modelo de lenguaje?***\n",
        "\n",
        "Aunque no podemos predecir exactamente qué palabra seguirá, podemos calcular la probabilidad condicional de que una palabra determinada siga a otra dentro del contexto de la secuencia.\n",
        "\n",
        "# ***¿Qué tan probable es que un mensaje de texto sea spam?***\n",
        "No podemos afirmar con certeza si un mensaje es spam o no, pero podemos usar técnicas de procesamiento del lenguaje natural, como la clasificación de texto, para calcular la probabilidad de que un mensaje en particular sea spam basado en características como las palabras utilizadas y el contexto.\n",
        "\n",
        "# ***¿Cuál es la probabilidad de que un documento sea relevante para una consulta de búsqueda?***\n",
        "Al buscar en un motor de búsqueda, no podemos predecir con certeza qué documentos serán relevantes para la consulta del usuario. Sin embargo, podemos utilizar algoritmos de procesamiento del lenguaje natural y modelos de recuperación de información para calcular la probabilidad de relevancia de un documento en función de la coincidencia de palabras clave y la semántica del texto.\n",
        "\n",
        "\n"
      ],
      "metadata": {
        "id": "HHmzlP6tcWTf"
      },
      "id": "HHmzlP6tcWTf"
    },
    {
      "cell_type": "markdown",
      "source": [
        "## Conceptos:\n",
        "\n",
        "\n"
      ],
      "metadata": {
        "id": "kOkS8p8Tendr"
      },
      "id": "kOkS8p8Tendr"
    },
    {
      "cell_type": "markdown",
      "source": [
        "### Distribución de probabilidad:\n",
        "\n",
        "La distribución de probabilidad es una función matemática que describe las posibles ocurrencias de un evento y la probabilidad asociada a cada una de ellas. En otras palabras, indica cómo se distribuyen las probabilidades entre los diferentes resultados posibles de un fenómeno aleatorio.\n",
        "\n",
        "Una **distribución de probabilidad** es una función $ P: \\{ sucesos \\} \\rightarrow [0,1]$.\n",
        "\n",
        "Denotamos por $\\Omega$ al conjunto total de resultados posibles, donde cada elemento en $ \\Omega$ se llama suceso elemental.\n",
        "El suceso imposible se denota como $\\emptyset$.\n",
        "\n",
        "Un suceso es un conjunto formado mediante la unión, intersección o complementación de **sucesos elementales**. Si $A$ es un **suceso**, $P(A)$  es la probabilidad de $A$, donde $ 0 \\leq P(A) \\leq 1$.\n",
        "\n",
        "Para dos sucesos $A$ y $B$:\n",
        "* $A \\cup B $ representa la unión de $A$ y $B$, se cumple si al menos uno de los dos sucesos ocurre.\n",
        "* $A \\cap B$ representa la intersección de $A$ y $B$, se cumple si ambos sucesos ocurren.\n",
        "* $A^c$ es el complemento de $A$: se cumple exactamente cuando $A$ no ocurre.\n",
        "\n",
        "**Propiedades:**\n",
        "Una distribución de probabilidad $P(X)$ para una variable aleatoria discreta $X$ debe satisfacer las siguientes propiedades:\n",
        "1. $0 \\leq P(X = x_i) \\leq 1$ para todo valor de $x_i$.\n",
        "2. La suma de las probabilidades para todos los posibles valores de $X$ es igual a 1:\n",
        "$ \\sum_{i} P(X = x_i) = 1 $.\n",
        "\n",
        "Además:\n",
        "\n",
        "*  El **suceso total** es $P(\\Omega)=1$.\n",
        "*  $P(\\emptyset)=0$"
      ],
      "metadata": {
        "id": "1RvMtf0oYYWk"
      },
      "id": "1RvMtf0oYYWk"
    },
    {
      "cell_type": "markdown",
      "source": [
        "### Regla de Laplace"
      ],
      "metadata": {
        "id": "EcqX30fSYu6_"
      },
      "id": "EcqX30fSYu6_"
    },
    {
      "cell_type": "markdown",
      "source": [
        "En el caso en el que los sucesos elementales sean equiprobables, podemos calcular la probabilidad de un suceso $A$ de la siguiente forma:\n",
        "\n",
        "$$P(A)=\\frac{|A|}{|\\Omega|} = \\frac{\\text{# de casos favorables}}{\\text{# de casos posibles}}$$\n",
        "\n",
        "***Ejemplos:***\n",
        "\n",
        "Teniendo en cuenta el texto que venimos trabajando, y suponiendo que deseamos calcular la probabilidad de seleccionar una palabra de longitud mayor o igual a 10 caracteres al azar del texto proporcionado. ¿Cuál es la probabilidad de que una palabra elegida al azar tenga esta longitud o mayor?"
      ],
      "metadata": {
        "id": "1E5GVENnNNO6"
      },
      "id": "1E5GVENnNNO6"
    },
    {
      "cell_type": "code",
      "source": [
        "# Dividir el texto en palabras\n",
        "palabras = texto_limpio.split()\n",
        "\n",
        "# Contar cuántas palabras tienen una longitud mayor o igual a 10 caracteres\n",
        "num_palabras_largas = sum(1 for palabra in palabras if len(palabra) >= 10)\n",
        "\n",
        "# Calcular la probabilidad\n",
        "\n",
        "probabilidad = num_palabras_largas / len(palabras)\n",
        "\n",
        "print(\"Número total de palabras (# de casos posibles):\", len(palabras))\n",
        "print(\"Número de palabras con longitud mayor o igual a 10 (# de casos favorables):\", num_palabras_largas)\n",
        "print(\"Probabilidad de seleccionar una palabra de longitud mayor o igual a 10:\", probabilidad)"
      ],
      "metadata": {
        "id": "9wwgb5te4Iju",
        "colab": {
          "base_uri": "https://localhost:8080/"
        },
        "outputId": "f3db7695-20f4-4588-86d0-b9dbd39a841b"
      },
      "id": "9wwgb5te4Iju",
      "execution_count": 45,
      "outputs": [
        {
          "output_type": "stream",
          "name": "stdout",
          "text": [
            "Número total de palabras (# de casos posibles): 218\n",
            "Número de palabras con longitud mayor o igual a 10 (# de casos favorables): 30\n",
            "Probabilidad de seleccionar una palabra de longitud mayor o igual a 10: 0.13761467889908258\n"
          ]
        }
      ]
    },
    {
      "cell_type": "markdown",
      "source": [
        "***Ejercicio:***\n",
        "¿Cuál es la probabilidad de que al seleccionar una palabra al azar del texto de ejemplo, comience por la letra *e*? sabiendo que hay 35 palabras, de las 218 que comienzan por e."
      ],
      "metadata": {
        "id": "jcO-PFSIU_Tm"
      },
      "id": "jcO-PFSIU_Tm"
    },
    {
      "cell_type": "code",
      "source": [
        "# @title Rta:\n",
        "# Dividir el texto en palabras\n",
        "palabras = texto_limpio.split()\n",
        "# Contar cuántas palabras comienzan con la letra \"e\"\n",
        "num_palabras_e = sum(1 for palabra in palabras if palabra.lower().startswith('e'))\n",
        "\n",
        "# Calcular la probabilidad\n",
        "probabilidad_palabra_e = num_palabras_e / len(palabras)\n",
        "\n",
        "print(\"Número total de palabras:\", len(palabras))\n",
        "print(\"Número de palabras que comienzan con 'e':\", num_palabras_e)\n",
        "print(\"Probabilidad de que una palabra comience con 'e':\", probabilidad_palabra_e)"
      ],
      "metadata": {
        "cellView": "form",
        "colab": {
          "base_uri": "https://localhost:8080/"
        },
        "id": "fy1aUg1XbA8W",
        "outputId": "98a224bc-910e-4698-a226-f9656da3e00d"
      },
      "id": "fy1aUg1XbA8W",
      "execution_count": 46,
      "outputs": [
        {
          "output_type": "stream",
          "name": "stdout",
          "text": [
            "Número total de palabras: 218\n",
            "Número de palabras que comienzan con 'e': 35\n",
            "Probabilidad de que una palabra comience con 'e': 0.16055045871559634\n"
          ]
        }
      ]
    },
    {
      "cell_type": "markdown",
      "source": [
        "### Probabilidad condicionada\n",
        "\n",
        "Dados dos sucesos, $A$ y $B$, si $n_{A \\cap B}$ es la frecuencia de resultados en los que se cumplen $A$  y $B$ a la vez en $N$ *experimentos*, entonces $\\frac{n_{A \\cap B}}{n_{B}}$ expresa la proporción de casos en los que sucede $A$ entre los que sucede $B$.\n",
        "\n",
        "Como $$\\frac{n_{A \\cap B}}{n_{B}} = \\frac{n_{A \\cap B}/N}{n_{B}/N} \\xrightarrow[N \\rightarrow +\\infty]{}\\frac{P(A \\cap B)}{P(B)},$$\n",
        "\n",
        "se define la **probabilidad de $A$ condiciona a $B$** como la probabilidad de $A$ si damos por supuesto que sucede $B$, esto es:\n",
        "\n",
        "$$P(A|B)=\\frac{P(A \\cap B)}{P(B)}$$.\n",
        "\n"
      ],
      "metadata": {
        "id": "tVcQ7dPh3-N8"
      },
      "id": "tVcQ7dPh3-N8"
    },
    {
      "cell_type": "markdown",
      "source": [
        "***Ejemplo:***\n",
        "\n",
        "Supongamos que queremos calcular la probabilidad de que una palabra seleccionada al azar del texto comience con la letra \"e\", dado que esa palabra tiene una longitud mayor o igual a 10 caracteres.\n",
        "\n",
        "Para calcular esta probabilidad condicionada, primero necesitamos contar el número de palabras que cumplen con ambas condiciones (longitud mayor o igual a 10 caracteres y comienzo con \"e\"), y luego dividirlo por el número total de palabras que tienen una longitud mayor o igual a 10 caracteres."
      ],
      "metadata": {
        "id": "BDPeFV6AAxJH"
      },
      "id": "BDPeFV6AAxJH"
    },
    {
      "cell_type": "code",
      "source": [
        "# Dividir el texto en palabras\n",
        "palabras = texto_limpio.split()\n",
        "\n",
        "# Contar palabras con longitud mayor o igual a 10 caracteres\n",
        "num_palabras_largas = sum(1 for palabra in palabras if len(palabra) >= 10)\n",
        "\n",
        "# Contar palabras que comienzan con \"e\" y tienen longitud mayor o igual a 10 caracteres\n",
        "num_palabras_e_largas = sum(1 for palabra in palabras if len(palabra) >= 10 and palabra.lower().startswith('e'))\n",
        "\n",
        "# Calcular la probabilidad condicionada\n",
        "probabilidad_condicionada = num_palabras_e_largas / num_palabras_largas\n",
        "\n",
        "print(\"Número total de palabras con longitud mayor o igual a 10:\", num_palabras_largas)\n",
        "print(\"Número de palabras que comienzan con 'e' y tienen longitud mayor o igual a 10:\", num_palabras_e_largas)\n",
        "print(\"Probabilidad de que una palabra comience con 'e' dado que tiene longitud mayor o igual a 10:\", probabilidad_condicionada)"
      ],
      "metadata": {
        "colab": {
          "base_uri": "https://localhost:8080/"
        },
        "id": "Hjcch5cNaAlO",
        "outputId": "4dbe3f64-70b7-4cae-e75f-2fd8a57b100c"
      },
      "id": "Hjcch5cNaAlO",
      "execution_count": 47,
      "outputs": [
        {
          "output_type": "stream",
          "name": "stdout",
          "text": [
            "Número total de palabras con longitud mayor o igual a 10: 30\n",
            "Número de palabras que comienzan con 'e' y tienen longitud mayor o igual a 10: 4\n",
            "Probabilidad de que una palabra comience con 'e' dado que tiene longitud mayor o igual a 10: 0.13333333333333333\n"
          ]
        }
      ]
    },
    {
      "cell_type": "markdown",
      "source": [
        "***Ejercicio:***\n",
        "\n",
        "En el texto dado, consideramos las palabras que tienen una longitud menor a 5 caracteres. Si seleccionamos una palabra al azar de entre estas palabras, ¿cuál es la probabilidad de que esa palabra termine con la letra \"s\"?"
      ],
      "metadata": {
        "id": "_cEj8w4_Baxs"
      },
      "id": "_cEj8w4_Baxs"
    },
    {
      "cell_type": "code",
      "source": [
        "# @title Rta\n",
        "# Dividir el texto en palabras\n",
        "palabras = texto_limpio.split()\n",
        "\n",
        "# Contar palabras con longitud menor a 5 caracteres\n",
        "num_palabras_cortas = sum(1 for palabra in palabras if len(palabra) < 5)\n",
        "\n",
        "# Contar palabras que terminen con \"s\" y tienen longitud menora 5 caracteres\n",
        "num_palabras_s_cortas = sum(1 for palabra in palabras if len(palabra) < 5 and palabra.lower().endswith('s'))\n",
        "\n",
        "# Calcular la probabilidad condicionada\n",
        "probabilidad_condicionada = num_palabras_s_cortas / num_palabras_cortas\n",
        "\n",
        "print(\"Número total de palabras con longitud menor a 5:\", num_palabras_cortas)\n",
        "print(\"Número de palabras que terminan con 's' y tienen longitud menor a 10:\", num_palabras_s_cortas)\n",
        "print(\"Probabilidad de que una palabra termine con 's' dado que tiene longitud menor a 5:\", probabilidad_condicionada)"
      ],
      "metadata": {
        "cellView": "form",
        "id": "TNwrpZ6JBCyq",
        "outputId": "1c0d871d-6e68-4794-bdd8-dd1823d34675",
        "colab": {
          "base_uri": "https://localhost:8080/"
        }
      },
      "id": "TNwrpZ6JBCyq",
      "execution_count": 48,
      "outputs": [
        {
          "output_type": "stream",
          "name": "stdout",
          "text": [
            "Número total de palabras con longitud menor a 5: 99\n",
            "Número de palabras que terminan con 's' y tienen longitud menor a 10: 14\n",
            "Probabilidad de que una palabra termine con 's' dado que tiene longitud menor a 5: 0.1414141414141414\n"
          ]
        }
      ]
    },
    {
      "cell_type": "markdown",
      "source": [
        "### Propiedades de la probabilidad condicional:\n",
        "\n",
        "   \n",
        "* Independencia: Dos eventos $A$ y $B$ son independientes si y solo si la probabilidad de que ocurra $A$ no se ve afectada por la ocurrencia de $B$, y viceversa. Esto se expresa matemáticamente como:\n",
        "\n",
        "$$P(A|B) = P(A) \\quad \\text{y} \\quad P(B|A) = P(B)$$\n",
        "        \n",
        "* Regla del Producto: La probabilidad de la intersección de dos eventos $A$ y $B$ puede calcularse utilizando la probabilidad condicionada:\n",
        "\n",
        "$$P(A \\cap B) = P(A|B) \\cdot P(B)$$\n",
        "        \n",
        "* Teorema de Bayes: Es una herramienta poderosa que nos permite actualizar nuestras creencias sobre la ocurrencia de un evento $A$ dado que ha ocurrido otro evento $B$.\n",
        "\n",
        "    Como $$P(A|B)=\\frac{P(A \\cap B)}{P(B)} \\quad \\text{y} \\quad P(B|A)=\\frac{P(A \\cap B)}{P(A)},$$\n",
        "\n",
        "    y\n",
        "    \n",
        "    $$P(A \\cap B) =P(B) \\cdot P(A|B) = P(A) \\cdot P(B|A)$$\n",
        "\n",
        "    Entonces:\n",
        "    \n",
        "    $$P(A|B) = \\frac{P(B|A) \\cdot P(A)}{P(B)}$$\n",
        "    "
      ],
      "metadata": {
        "id": "5Uwl7QJHCuX4"
      },
      "id": "5Uwl7QJHCuX4"
    },
    {
      "cell_type": "markdown",
      "source": [
        "### Variables aleatorias:\n",
        "\n",
        "Una variable aleatoria (v.a.) es como un *contenedor* de resultados posibles en un experimento. Piensa en ella como una herramienta que nos ayuda a asignar números a los resultados de un evento que no es fijo (aleatorio).\n",
        "\n",
        "Por ejemplo, imagina que estás lanzando un dado. Cada vez que lo lanzas, obtienes un número diferente. Ese número que obtienes, ya sea un 1, un 2, un 3, hasta un 6, es el valor de tu variable aleatoria para ese lanzamiento.\n",
        "\n",
        "Si estás midiendo la temperatura de una habitación y obtienes diferentes lecturas cada vez que tomas la temperatura, entonces esa temperatura medida es una variable aleatoria. Puedes obtener 25 grados, 25.5 grados, 26 grados, etc.\n",
        "\n",
        "En resumen, una variable aleatoria es una manera de representar numéricamente los resultados de un experimento aleatorio. No es solo un número aleatorio, sino una manera de organizar y entender la información que obtenemos de nuestros experimentos.\n",
        "\n",
        "\n",
        "**Formalmente:**\n",
        "\n",
        "En términos más formales, una (v.a.) es una función que asigna un número real a cada resultado posible de un experimento aleatorio. Si denotamos la variable aleatoria como $X$, entonces para cada resultado $x$ del experimento, $X$ asigna un valor que es un número real ($x \\in \\mathbb{R}$):\n",
        "\n",
        "$$X: \\Omega \\rightarrow \\mathbb{R}$$\n",
        "\n",
        "\n"
      ],
      "metadata": {
        "id": "ZWNDnM_OIkNV"
      },
      "id": "ZWNDnM_OIkNV"
    },
    {
      "cell_type": "markdown",
      "source": [
        "### Variables aleatorias discretas:\n",
        "\n",
        "Una v.a. es discreta si la cantidad de valores que puede tomar es numerable:\n",
        "$$x_{1}, x_{2}, x_{3},...$$\n",
        "\n",
        "En una v.a. discreta $ p_{k}= P(X=k)$ es la función de probabilidad o de masa. Se cumple $\\sum p_{x_{i}}=1$, esto es, las probabilidades de todos los valores que la v.a. discreta puede tomar suman 1.\n",
        "\n",
        "***Ejemplos:***\n"
      ],
      "metadata": {
        "id": "nAASqdGNLgJN"
      },
      "id": "nAASqdGNLgJN"
    },
    {
      "cell_type": "code",
      "source": [],
      "metadata": {
        "id": "cMNOynYoCR2w"
      },
      "id": "cMNOynYoCR2w",
      "execution_count": 48,
      "outputs": []
    },
    {
      "cell_type": "markdown",
      "source": [
        "### Variables aleatorias continuas:\n",
        "\n",
        "Una v.a. **continua** $X$ cumple que para todo número $k$, la probabilidad de que $X$ lo tome es nula, esto es $P(X=k)=0$. La probabilidad que interesa es la de que tome valores en cualquier intervalo, esto es:\n",
        "* La probabilidad de (a,b) es $P(a < x < b)$, que es la misma que la de $[a,b]$, $[a,b)$ ó $(a,b]$.\n",
        "* La probabilidad de $(a, +\\infty)$ es $P(X>a)$.\n",
        "* La probabilidad de $(-\\infty, a)$ es $P(X<a)$.\n",
        "\n",
        "***Ejemplos:***\n"
      ],
      "metadata": {
        "id": "oR8T8AmBjTIT"
      },
      "id": "oR8T8AmBjTIT"
    },
    {
      "cell_type": "markdown",
      "source": [
        "### Función de densidad:\n",
        "\n",
        "Dada $X$ una v.a. continua, una función $f\\geq0$ es la función de densidad de $X$ si la probabilidad de $(a,b)$ es igual al área de la región limitada por la gráfica $y=f(x)$, y las rectas $y=0$, $x=a$ y $x=b$.\n"
      ],
      "metadata": {
        "id": "xrAX_meZrHND"
      },
      "id": "xrAX_meZrHND"
    },
    {
      "cell_type": "code",
      "source": [
        "# @title función de densidad { vertical-output: true, display-mode: \"form\" }\n",
        "# Definir la función de densidad de probabilidad (PDF)\n",
        "def f(x):\n",
        "    # Puedes definir tu propia función de densidad aquí\n",
        "    funcion= x * np.exp(-x**2 / 3) / np.sqrt(2 * np.pi)\n",
        "    return funcion\n",
        "\n",
        "# Definir los límites del intervalo [a, b]\n",
        "a = 0.2\n",
        "b = 3\n",
        "\n",
        "# Generar valores de x en el intervalo [a, b]\n",
        "x_values = np.linspace(a, b, 1000)\n",
        "\n",
        "# Calcular los valores de y = f(x)\n",
        "y_values = f(x_values)\n",
        "\n",
        "# Crear la gráfica\n",
        "plt.figure(figsize=(8, 6))\n",
        "\n",
        "# Graficar la función de densidad de probabilidad (PDF)\n",
        "plt.plot(x_values, y_values, 'b-', linewidth=2)\n",
        "\n",
        "# Rellenar el área bajo la curva entre x=a y x=b\n",
        "plt.fill_between(x_values, 0.05, y_values, where=(x_values >= a) & (x_values <= b-1), color='skyblue', alpha=0.5)\n",
        "\n",
        "# Líneas verticales en x=a y x=b\n",
        "plt.axvline(x=a, color='gray', linestyle='--', linewidth=1)\n",
        "plt.axvline(x=b-1, color='gray', linestyle='--', linewidth=1)\n",
        "\n",
        "# Líneas horizontal en y=0\n",
        "plt.axhline(y=0.081, xmin=0, xmax=1.6, color='gray', linestyle='--', linewidth=1)\n",
        "\n",
        "# Eliminar los ticks de los ejes x e y\n",
        "plt.tick_params(axis='x', which='both', bottom=False, top=False, labelbottom=False)\n",
        "plt.tick_params(axis='y', which='both', left=False, right=False, labelleft=False)\n",
        "\n",
        "# Agregar texto en x=-2 (x=a) y x=2 (x=b)\n",
        "plt.text(a, 0.07, 'x=a', ha='center', va='center', color='black', fontsize=12)\n",
        "plt.text(b-1, 0.07, 'x=b', ha='center', va='center', color='black', fontsize=12)\n",
        "\n",
        "plt.text(0.7, 0.275, 'y=f(x)', ha='center', va='center', color='black', fontsize=12)\n",
        "\n",
        "plt.text(1.15, 0.25, 'P(a < X < b)', ha='center', va='center', color='black', fontsize=12)\n",
        "\n",
        "plt.text(2.9, 0.085, 'y=0', ha='center', va='center', color='black', fontsize=12)\n",
        "\n",
        "\n",
        "# Establecer límites y mostrar la gráfica\n",
        "plt.ylim(0.08, 0.3)  # Ajustar el límite y\n",
        "plt.xlim(0, np.max(x_values))  # Ajustar el límite x\n",
        "# Mostrar la gráfica\n",
        "plt.grid(True)\n",
        "plt.axis('off')\n",
        "plt.show()\n"
      ],
      "metadata": {
        "id": "6nZMNHxLsT-Q",
        "outputId": "be6c2c8c-f381-47b0-ccbf-93c7a837fadd",
        "colab": {
          "base_uri": "https://localhost:8080/",
          "height": 529
        }
      },
      "id": "6nZMNHxLsT-Q",
      "execution_count": 49,
      "outputs": [
        {
          "output_type": "display_data",
          "data": {
            "text/plain": [
              "<Figure size 800x600 with 1 Axes>"
            ],
            "image/png": "[encoded data removed]"
          },
          "metadata": {}
        }
      ]
    },
    {
      "cell_type": "markdown",
      "source": [
        "### Propiedades:\n",
        "\n",
        "* El área total entre $y=0$ e $y=f(x)$ es igual a 1.\n",
        "* El área a la derecha de $x=b$ delimitada por $y=0$ e $y=f(x)$ es $P(X > b)$.\n",
        "* El área a la izquierda de $x=a$ delimitada por $y=0$ e $y=f(x)$ es $P(X < a)$.\n"
      ],
      "metadata": {
        "id": "7C0QTJ7xxMcK"
      },
      "id": "7C0QTJ7xxMcK"
    },
    {
      "cell_type": "markdown",
      "source": [
        "### Distribución normal estándar:\n",
        "La d.p. continua más importante es la **distribución normal estándar** $N(0,1)$, esto es, la distribución normal de *media* 0 y *desviación típica* 1.\n",
        "\n",
        "Su función de densidad tiene la forma llamada ***campana de Gauss***, y es simétrica respecto a $x=0$.\n",
        "\n",
        "**Nota:**\n",
        "Una variable genérica con distribución $N(0,1)$ se suele denotar $Z$ (en lugar de $X$), y escribimos $Z \\sim N(0,1)$.\n",
        "\n"
      ],
      "metadata": {
        "id": "Y5ryaEC4yM_T"
      },
      "id": "Y5ryaEC4yM_T"
    },
    {
      "cell_type": "code",
      "source": [
        "# @title Crea distribución normal estándar { vertical-output: true }\n",
        "def f(x):\n",
        "    # Puedes definir tu propia función de densidad aquí\n",
        "    # Por ejemplo, una distribución normal estándar\n",
        "    return np.exp(-x**2 / 2) / np.sqrt(2 * np.pi)\n",
        "\n",
        "# Definir los límites del intervalo [a, b]\n",
        "a = -2\n",
        "b = 2\n",
        "\n",
        "# Generar valores de x en el intervalo [a, b]\n",
        "x_values = np.linspace(a, b, 1000)\n",
        "\n",
        "# Calcular los valores de y = f(x)\n",
        "y_values = f(x_values)\n",
        "\n",
        "# Crear la gráfica\n",
        "plt.figure(figsize=(8, 6))\n",
        "\n",
        "# Graficar la función de densidad de probabilidad (PDF)\n",
        "plt.plot(x_values, y_values, 'b-', linewidth=2)\n",
        "\n",
        "# Líneas horizontal en y=0\n",
        "plt.hlines(y=0.055, xmin=-2, xmax=2, color='blue', linestyle='--', linewidth=1)\n",
        "\n",
        "\n",
        "# Líneas verticales en x=a y x=b\n",
        "plt.axvline(x=0, color='blue', linestyle='--', linewidth=1)\n",
        "\n",
        "# Eliminar los ticks de los ejes x e y\n",
        "plt.tick_params(axis='x', which='both', bottom=False, top=False, labelbottom=False)\n",
        "plt.tick_params(axis='y', which='both', left=False, right=False, labelleft=False)\n",
        "\n",
        "plt.text(2.15, 0.055, 'y=0', ha='center', va='center', color='black', fontsize=12)\n",
        "plt.text(-0.01, 0.03, 'x=0', ha='center', va='center', color='black', fontsize=12)\n",
        "\n",
        "# Mostrar la gráfica\n",
        "plt.grid(True)\n",
        "plt.axis('off')\n",
        "plt.show()\n"
      ],
      "metadata": {
        "cellView": "form",
        "id": "E-lcrD6Fyoao",
        "outputId": "1336002e-9c41-4281-fbd7-334ac0ccc86c",
        "colab": {
          "base_uri": "https://localhost:8080/",
          "height": 516
        }
      },
      "id": "E-lcrD6Fyoao",
      "execution_count": 50,
      "outputs": [
        {
          "output_type": "display_data",
          "data": {
            "text/plain": [
              "<Figure size 800x600 with 1 Axes>"
            ],
            "image/png": "[encoded data removed]"
          },
          "metadata": {}
        }
      ]
    },
    {
      "cell_type": "markdown",
      "source": [
        "<!-- ### Variables aleatorias continua:\n",
        "\n",
        "Una v.a. continua 𝑋 cumple que para todo número 𝑘, la probabilidad de que 𝑋 lo tome es nula, esto es 𝑃(𝑋=𝑘)=0. La probabilidad que interesa es la de que tome valores en cualquier intervalo, esto es:\n",
        "La probabilidad de (𝑎, 𝑏) es 𝑃(𝑎<𝑋<𝑏), que es la misma que la de [𝑎, 𝑏), (𝑎, 𝑏] o [𝑎, 𝑏].\n",
        "La probabilidad de (𝑎,+∞) es 𝑃(𝑋>𝑎).\n",
        "La probabilidad de (−∞, 𝑎) es 𝑃(𝑋<𝑎) -->"
      ],
      "metadata": {
        "id": "r6_5sH3vNxiy"
      },
      "id": "r6_5sH3vNxiy"
    },
    {
      "cell_type": "markdown",
      "source": [
        "### Distribución normal:\n",
        "Si $Z \\thicksim N(0,1)$, dados dos valores $\\mu$ y $\\sigma (\\sigma > 0)$ la v.a. $X = \\mu + \\sigma Z$  tiene la distribución normal $N(\\mu,\\sigma)$ de media $\\mu$ y desviación típica $\\sigma$. Se escribe $X \\thicksim N(\\mu,\\sigma)$.\n",
        "\n",
        "Su función de densidad es también una campana de Gauss, centrada en $x=\\mu$ y simétrica respecto a esta recta. En $\\mu-\\sigma$ y $\\mu+\\sigma$ están los puntos de inflexión.\n"
      ],
      "metadata": {
        "id": "eCHlRgvRC6LY"
      },
      "id": "eCHlRgvRC6LY"
    },
    {
      "cell_type": "code",
      "source": [
        "# @title Crea distribución normal estándar { vertical-output: true }\n",
        "def f(x):\n",
        "    # Puedes definir tu propia función de densidad aquí\n",
        "    # Por ejemplo, una distribución normal estándar\n",
        "    return np.exp(-x**2 / 2) / np.sqrt(2 * np.pi)\n",
        "\n",
        "# Definir los límites del intervalo [a, b]\n",
        "a = -2\n",
        "b = 2\n",
        "\n",
        "# Generar valores de x en el intervalo [a, b]\n",
        "x_values = np.linspace(a, b, 1000)\n",
        "\n",
        "# Calcular los valores de y = f(x)\n",
        "y_values = f(x_values)\n",
        "\n",
        "# Crear la gráfica\n",
        "plt.figure(figsize=(8, 6))\n",
        "\n",
        "# Graficar la función de densidad de probabilidad (PDF)\n",
        "plt.plot(x_values, y_values, 'b-', linewidth=2)\n",
        "\n",
        "\n",
        "# Rellenar el área bajo la curva entre x=a y x=b\n",
        "plt.fill_between(x_values, 0, y_values, where=(x_values >= a+1) & (x_values <= b-1), color='skyblue', alpha=0.2)\n",
        "\n",
        "\n",
        "\n",
        "# Líneas verticales en x=a y x=b\n",
        "plt.axvline(x=0, color='blue', linestyle='--', linewidth=1)\n",
        "plt.axvline(x=-1, color='blue', linestyle='--', linewidth=1)\n",
        "plt.axvline(x=1, color='blue', linestyle='--', linewidth=1)\n",
        "\n",
        "# Líneas horizontal en y=0\n",
        "plt.hlines(y=0.082, xmin=-1.79, xmax=1.79, color='blue', linestyle='--', linewidth=1)\n",
        "\n",
        "\n",
        "# Eliminar los ticks de los ejes x e y\n",
        "plt.tick_params(axis='x', which='both', bottom=False, top=False, labelbottom=False)\n",
        "plt.tick_params(axis='y', which='both', left=False, right=False, labelleft=False)\n",
        "\n",
        "\n",
        "plt.annotate('', xy=(0, 0.4), xytext=(0.45, 0.4),\n",
        "             arrowprops=dict(facecolor='black', arrowstyle='<|-|>'))\n",
        "\n",
        "plt.annotate('', xy=(0.55, 0.4), xytext=(1, 0.4),\n",
        "             arrowprops=dict(facecolor='black', arrowstyle='<|-|>'))\n",
        "plt.text(0.5, 0.4, '$\\sigma$', ha='center', va='center', color='black', fontsize=12)\n",
        "\n",
        "plt.text(2, 0.082, 'y=0', ha='center', va='center', color='black', fontsize=12)\n",
        "plt.text(-0.01, 0.07, f'$x=\\mu$', ha='center', va='center', color='black', fontsize=12)\n",
        "plt.text(-1, 0.07, f'$x=\\mu-\\sigma$', ha='center', va='center', color='black', fontsize=12)\n",
        "plt.text(1, 0.07, f'$x=\\mu+\\sigma$', ha='center', va='center', color='black', fontsize=12)\n",
        "\n",
        "plt.text(-0.01, 0.15, f'$P(\\mu-\\sigma<X<\\mu+\\sigma)= 0.6827$ (≈ 2/3)', ha='center', va='center', color='black', fontsize=11)\n",
        "\n",
        "plt.ylim(0.08, 0.45)  # Ajustar el límite y\n",
        "\n",
        "\n",
        "# Mostrar la gráfica\n",
        "plt.grid(False)\n",
        "plt.axis('off')\n",
        "plt.show()\n"
      ],
      "metadata": {
        "id": "nS2im2unNy5c",
        "cellView": "form",
        "outputId": "b6dd2e87-f6be-4834-fe21-935cf5eaf32f",
        "colab": {
          "base_uri": "https://localhost:8080/",
          "height": 520
        }
      },
      "id": "nS2im2unNy5c",
      "execution_count": 51,
      "outputs": [
        {
          "output_type": "display_data",
          "data": {
            "text/plain": [
              "<Figure size 800x600 with 1 Axes>"
            ],
            "image/png": "[encoded data removed]"
          },
          "metadata": {}
        }
      ]
    },
    {
      "cell_type": "markdown",
      "source": [
        "### Propiedades de la distribución normal:\n",
        "\n",
        "Dada una v.a. $X$ (normal o no) de media $\\mu$ y desviación típica $\\sigma$ la probabilidad de que $X$ tome un valor que se aleje de su media una distancia inferior a $k$ veces su desviación típica se expresa:\n",
        "\n",
        "$$P(|X-\\mu|<k \\sigma) = P(-k\\sigma <X-\\mu < k\\sigma)=P(\\mu-k\\sigma<X<\\mu+k\\sigma)$$\n",
        "\n",
        "\n",
        "Dada $ X \\thicksim N(\\mu, \\sigma)$, destacamos las siguientes probabilidades:\n",
        "\n",
        "* $P(\\mu-\\sigma<X<\\mu+\\sigma)= 0.6827$, por lo tanto, algo más de 2 de cada 3 veces el valor de una *distribución normal* no se aleja de la media más de 1 desviación típica $(2/3 = 0.6)$;\n",
        "\n",
        "* $P(\\mu -2\\sigma < X < \\mu+2\\sigma)=0.9545$,  por lo tanto, algo más del 95% de las veces el valor de una distribución normal no se aleja de la media más de 2 desviaciones típicas;\n",
        "\n",
        "* $P(\\mu -3\\sigma < X < \\mu+3\\sigma)=0.9973$, por lo tanto, es muy probable que el valor de una distribución normal no se aleje de la media más de 3 desviaciones típicas.\n",
        "\n",
        "* Recíprocamente, si $X \\thicksim N(\\mu, \\sigma)$ entonces su tipificada\n",
        "$Z=(X-\\mu)/\\sigma$ cumple que $Z \\thicksim N(0, 1)$. Esto es, al tipificar una distribución normal obtenemos la distribución normal estándar.\n",
        "\n",
        "    La distribución normal aparece con frecuencia en amplios campos de la investigación. Es una d.p. muy interesante ya que, hablando informalmente, si el resultado de la variable a estudiar viene dado por la suma de un gran número de variables idénticas e independientes (que seguramente no sabremos medir) es de esperar que la d.p. resultante sea muy aproximadamente normal.\n",
        "\n"
      ],
      "metadata": {
        "id": "KE0aIA26EXD-"
      },
      "id": "KE0aIA26EXD-"
    },
    {
      "cell_type": "markdown",
      "source": [
        "### Distribución $t$ de student:\n",
        "\n",
        "La $t$ de Student con $n$ grados de libertad $n=(1,2,3,...)$ es una distribución continua. Si una v.a. $T$ sigue una distribución $t$ de Student con $n$ grados de libertad, se escribe $T \\thicksim t_{n}$.\n",
        "\n",
        "Como $N(0,1)$, $t_{n}$ está centrada en 𝑥$x=0$ y es simétrica con respecto a esta recta.\n",
        "Se tiene $$t_{n} \\xrightarrow[N \\rightarrow +\\infty]{} N(0,1)$$.\n",
        "\n",
        "Es una d.p. que se usa para hacer inferencia sobre la media. Dadas $X_{1}, X_{2}, ..., X_{n}$ variables aleatorias independientes con una misma distribución normal $N(\\mu,\\sigma)$, con media muestral $\\bar{X}$ y cuasidesviación típica $S_{X}$, entonces:\n",
        "\n",
        "$$\\frac{\\bar{X}-\\mu}{S_{X}/\\sqrt{n}}\\thicksim t_{n-1}$$"
      ],
      "metadata": {
        "id": "mvaFnapKbrEZ"
      },
      "id": "mvaFnapKbrEZ"
    },
    {
      "cell_type": "code",
      "source": [
        "# @title Crea distribución t de student\n",
        "# import numpy as np\n",
        "# import matplotlib.pyplot as plt\n",
        "from scipy.stats import t\n",
        "\n",
        "# Definir el rango para x\n",
        "x = np.linspace(-5, 5, 1000)\n",
        "\n",
        "# Grados de libertad para las distribuciones t de Student\n",
        "grados_de_libertad = [1, 2, 3, 4, 5,6,7]  # Añadí 1000 como infinito\n",
        "\n",
        "# Crear una nueva figura\n",
        "plt.figure(figsize=(8, 6))\n",
        "\n",
        "# Graficar las distribuciones t de Student para diferentes grados de libertad\n",
        "for df in grados_de_libertad[:-1]:\n",
        "    plt.plot(x, t.pdf(x, df), label=f'{df}', linestyle=\"--\")\n",
        "plt.plot(x, t.pdf(x, 10000000000), label=f'$+\\infty$', linestyle=\"-\", color=\"black\")\n",
        "\n",
        "# Agregar texto en x=0 que muestra la media\n",
        "plt.text(0, -0.03, 'x=0', ha='center', va='center', color='black', fontsize=12)\n",
        "\n",
        "# Agregar texto en x=0 que muestra la media\n",
        "plt.text(5.5, 0, 'y=0', ha='center', va='center', color='black', fontsize=12)\n",
        "\n",
        "# Eliminar los ticks de los ejes x e y\n",
        "plt.tick_params(axis='x', which='both', bottom=False, top=False, labelbottom=False)\n",
        "plt.tick_params(axis='y', which='both', left=False, right=False, labelleft=False)\n",
        "\n",
        "# Líneas verticales en x=a y x=b\n",
        "plt.axvline(x=0, color='pink', linestyle='--', linewidth=0.5)\n",
        "\n",
        "# Líneas verticales en x=a y x=b\n",
        "plt.axhline(y=0, color='pink', linestyle='--', linewidth=0.5)\n",
        "\n",
        "# Añadir título y leyenda\n",
        "plt.title('Distribución t de Student con diferentes grados de libertad')\n",
        "plt.legend(title=\"Grados de libertad\")\n",
        "\n",
        "# Mostrar la gráfica\n",
        "plt.grid(False)\n",
        "plt.axis('off')\n",
        "\n",
        "plt.show()\n"
      ],
      "metadata": {
        "id": "Brri9EkjOPaF",
        "cellView": "form",
        "outputId": "2e644dcc-41d4-4c2e-a87a-d60668c0e1d5",
        "colab": {
          "base_uri": "https://localhost:8080/",
          "height": 541
        }
      },
      "id": "Brri9EkjOPaF",
      "execution_count": 52,
      "outputs": [
        {
          "output_type": "display_data",
          "data": {
            "text/plain": [
              "<Figure size 800x600 with 1 Axes>"
            ],
            "image/png": "[encoded data removed]"
          },
          "metadata": {}
        }
      ]
    },
    {
      "cell_type": "markdown",
      "source": [
        "### ¿Cómo utilizar las tablas de distribuciones?\n",
        "\n",
        "**Tabla de la distribución normal estándar $N(0,1)$**\n",
        "\n",
        "En la tabla $N(0,1)$ se indican, para $z \\in \\{0.00, 0.001, 0.002, ..., 2.99, 3.0, 3.1, ..., 7.9\\}$, las probabilidades $P(Z>z)$, esto es la probabilidad de que una v.a. $Z \\thicksim N(0,1)$ tome un valor mayor que $z$.\n",
        "\n",
        "\n",
        "<!-- *Nota:* Para los valores $z$ comprendidos entre $0$ y $2.99$ la fila nos indica el primer decimal y la columna el segundo decimal. Para los valores $z$ comprendidos entre $3$ y $7.9$ la  fila nos indica la unidad y la columna el primer decimal. -->\n"
      ],
      "metadata": {
        "id": "gDN0BlzeskJZ"
      },
      "id": "gDN0BlzeskJZ"
    },
    {
      "cell_type": "code",
      "source": [
        "# @title Información de una tabla de la distribución normal estándar { vertical-output: true }\n",
        "def f(x):\n",
        "    # Puedes definir tu propia función de densidad aquí\n",
        "    # Por ejemplo, una distribución normal estándar\n",
        "    return np.exp(-x**2 / 2) / np.sqrt(2 * np.pi)\n",
        "\n",
        "# Definir los límites del intervalo [a, b]\n",
        "a = -2\n",
        "b = 2\n",
        "\n",
        "# Generar valores de x en el intervalo [a, b]\n",
        "x_values = np.linspace(a, b, 1000)\n",
        "\n",
        "# Calcular los valores de y = f(x)\n",
        "y_values = f(x_values)\n",
        "\n",
        "# Crear la gráfica\n",
        "plt.figure(figsize=(8, 6))\n",
        "\n",
        "# Graficar la función de densidad de probabilidad (PDF)\n",
        "plt.plot(x_values, y_values, 'b-', linewidth=2)\n",
        "\n",
        "\n",
        "# Rellenar el área bajo la curva\n",
        "plt.fill_between(x_values, 0.05, y_values, where=(x_values >= 1) & (x_values <= 2), color='skyblue', alpha=0.2)\n",
        "\n",
        "\n",
        "\n",
        "# # Líneas verticales en x=a y x=b\n",
        "plt.axvline(x=0, color='blue', linestyle='--', linewidth=1)\n",
        "plt.axvline(x=1, color='blue', linestyle='--', linewidth=1)\n",
        "\n",
        "# Líneas horizontal en y=0\n",
        "plt.hlines(y=0.05, xmin=-2, xmax=2, color='blue', linestyle='--', linewidth=1)\n",
        "\n",
        "\n",
        "# # Eliminar los ticks de los ejes x e y\n",
        "plt.tick_params(axis='x', which='both', bottom=False, top=False, labelbottom=False)\n",
        "plt.tick_params(axis='y', which='both', left=False, right=False, labelleft=False)\n",
        "\n",
        "\n",
        "plt.annotate('', xy=(0, 0.04), xytext=(1, 0.04),\n",
        "             arrowprops=dict(facecolor='black', arrowstyle='|-|'))\n",
        "\n",
        "\n",
        "plt.text(0, 0.02, f'$x=0$', ha='center', va='center', color='black', fontsize=12)\n",
        "\n",
        "plt.text(2.15, 0.05, 'y=0', ha='center', va='center', color='black', fontsize=12)\n",
        "\n",
        "plt.text(1, 0.02, f'$x=z$', ha='center', va='center', color='black', fontsize=12)\n",
        "\n",
        "plt.text(1.55, 0.17, f'$P(Z<z)$', ha='center', va='center', color='black', fontsize=11)\n",
        "\n",
        "# # Mostrar la gráfica\n",
        "plt.grid(False)\n",
        "plt.axis('off')\n",
        "plt.show()\n"
      ],
      "metadata": {
        "cellView": "form",
        "id": "C18HkOAjt6p1",
        "outputId": "656a2f5c-9d78-470b-bcb4-feaa819d480e",
        "colab": {
          "base_uri": "https://localhost:8080/",
          "height": 523
        }
      },
      "id": "C18HkOAjt6p1",
      "execution_count": 53,
      "outputs": [
        {
          "output_type": "display_data",
          "data": {
            "text/plain": [
              "<Figure size 800x600 with 1 Axes>"
            ],
            "image/png": "[encoded data removed]"
          },
          "metadata": {}
        }
      ]
    },
    {
      "cell_type": "markdown",
      "source": [
        "[Tablas de distribuciones](https://estadistica-dma.ulpgc.es/estadFCM/pdf/distribuciones.pdf)"
      ],
      "metadata": {
        "id": "UEE_p6rLqMDQ"
      },
      "id": "UEE_p6rLqMDQ"
    },
    {
      "cell_type": "markdown",
      "source": [
        "En la tabla $t_{n}$ se ubican los valores críticos $t_{n;p}$ (también puede usarse la notación $t(n;p)$), con\n",
        "\n",
        "$n \\in \\{1, 2, 3, ..., 40, 45, 46, ..., 100, 125, +\\infty \\}$\n",
        "\n",
        "$p \\in \\{0.005, 0.01, 0.025, 0.05, 0.1, 0.2, 0.25, 0.3, 0.35, 0.4, 0.45 \\}$\n",
        "\n",
        "de manera que para $T \\thicksim t_{n}$ se tiene que\n"
      ],
      "metadata": {
        "id": "6oec31w_3SWw"
      },
      "id": "6oec31w_3SWw"
    },
    {
      "cell_type": "code",
      "source": [
        "#incluir aquí el gráfico"
      ],
      "metadata": {
        "id": "Zq6utFDv56cx"
      },
      "id": "Zq6utFDv56cx",
      "execution_count": 54,
      "outputs": []
    },
    {
      "cell_type": "markdown",
      "source": [
        "### Cálculo de probabilidades y abscisas\n",
        "\n",
        "A la hora de calcular probabilidades y de obtener abscisas usando las tablas de probabilidad de la normal estándar y de la $t$ de Student debemos tener en cuenta que son simétricas con respecto a $x=0$, esto es,\n",
        "$$P(V < v)=P(V < -v)$$\n",
        "y\n",
        "$$P(V > 0)=0.5$$\n",
        "\n",
        "siendo $V$ una v.a. con d.p.$N(0,1)$ o $t_{n}$.\n",
        "\n",
        "Una propiedad común para cualquier v.a. cntinua $X$ es:\n",
        "\n",
        "$$P(X < x ) = P(X \\leq x) = P([ X > x]^{c}) = 1- P(X > x)$$\n",
        "\n",
        "**Ejercicio (I):** Data $Z \\thicksim N(0,1)$, calcular:\n",
        "\n",
        "*   Las probabilidades:\n",
        "    * $P(Z > 2.3 )$\n",
        "    * $P(Z < -2.3)$\n",
        "    * $P(-2.3 < Z < 1.41)$\n",
        "\n",
        "* Los valores de $x$ tales que:\n",
        "    * $P(Z > x ) = 0.025$\n",
        "    * $P(Z > x ) = 0.05$\n",
        "        \n",
        "**Ejercicio (II):**\n",
        "\n",
        "*   Dada $T \\thicksim t_{5}$, calcular:\n",
        "    * $P(T > 1.1558)$\n",
        "    * $P(T < x) = 0.95$\n",
        "\n",
        "\n"
      ],
      "metadata": {
        "id": "eMhjaszj58-M"
      },
      "id": "eMhjaszj58-M"
    },
    {
      "cell_type": "code",
      "source": [
        "# Las probabilidades\n",
        "# P(Z > 2.3)\n",
        "prob_z_gt_2_3 = 1 - norm.cdf(2.3)\n",
        "print(\"P(Z > 2.3):\", prob_z_gt_2_3)\n",
        "\n",
        "# P(Z < -2.3)\n",
        "prob_z_lt_minus_2_3 = norm.cdf(-2.3)\n",
        "print(\"P(Z < -2.3):\", prob_z_lt_minus_2_3)\n",
        "\n",
        "# P(-2.3 < Z < 1.41)\n",
        "prob_z_between_minus_2_3_and_1_41 = norm.cdf(1.41) - norm.cdf(-2.3)\n",
        "print(\"P(-2.3 < Z < 1.41):\", prob_z_between_minus_2_3_and_1_41)\n",
        "\n",
        "# Los valores de x\n",
        "# P(Z > x) = 0.025\n",
        "x_025 = norm.ppf(1 - 0.025)\n",
        "print(\"Valor de x tal que P(Z > x) = 0.025:\", x_025)\n",
        "\n",
        "# P(Z > x) = 0.05\n",
        "x_05 = norm.ppf(1 - 0.05)\n",
        "print(\"Valor de x tal que P(Z > x) = 0.05:\", x_05)\n"
      ],
      "metadata": {
        "id": "75MQTr-J6FtL",
        "outputId": "72975530-d7fe-4773-85e2-c26b7e11b8b1",
        "colab": {
          "base_uri": "https://localhost:8080/"
        }
      },
      "id": "75MQTr-J6FtL",
      "execution_count": 55,
      "outputs": [
        {
          "output_type": "stream",
          "name": "stdout",
          "text": [
            "P(Z > 2.3): 0.010724110021675837\n",
            "P(Z < -2.3): 0.010724110021675809\n",
            "P(-2.3 < Z < 1.41): 0.9100060485249318\n",
            "Valor de x tal que P(Z > x) = 0.025: 1.959963984540054\n",
            "Valor de x tal que P(Z > x) = 0.05: 1.6448536269514722\n"
          ]
        }
      ]
    },
    {
      "cell_type": "markdown",
      "source": [
        "***\n",
        "***"
      ],
      "metadata": {
        "id": "1FbauPe_xqzl"
      },
      "id": "1FbauPe_xqzl"
    },
    {
      "cell_type": "markdown",
      "source": [
        "# Inferencia"
      ],
      "metadata": {
        "id": "yIGpkXYjxr7v"
      },
      "id": "yIGpkXYjxr7v"
    },
    {
      "cell_type": "markdown",
      "source": [
        "<center>\n",
        "<img src=\"https://github.com/ednavivianasegura/Curso_PLN/blob/main/ingerencia.png?raw=1\" alt=\"inferencia\" width=\"50%\" height=\"50%\">  \n",
        "</center>"
      ],
      "metadata": {
        "id": "rCqOVy82xQAs"
      },
      "id": "rCqOVy82xQAs"
    },
    {
      "cell_type": "markdown",
      "source": [
        "Para estudiar algún aspecto de la distribución de una variable $X$, tomamos una muestra de $n$ valores independientes de $X: x_{1}, x_{2}, ... , x_{n}$. En ***Estadística Inferencial*** se estudia qué afirmaciones podemos hacer sobre los aspectos que nos interesan de $X$, y con qué fiabilidad, en base a los valores de la muestra. La muestra puede consistir, por ejemplo, en los datos de $n$ personas encuestadas o los resultados de $n$ mediciones experimentales.\n",
        "\n",
        "Abordaremos dos aspectos:\n",
        "\n",
        "* **La media:** por ejemplo, ¿podemos afirmar que la palabra \"tecnología\" aparece en promedio 10 veces en los artículos de tecnología?\n",
        "* **La proporción:** por ejemplo, ¿podemos afirmar que la un tercio de los documentos relacionados con la política mencionan al partido que se encuentra actualmente en el poder?"
      ],
      "metadata": {
        "id": "4P4kA8_9x2F2"
      },
      "id": "4P4kA8_9x2F2"
    },
    {
      "cell_type": "markdown",
      "source": [
        "## Inferencia sobre la media\n",
        "\n",
        "Sabemos (o suponemos) que la población $X$ es normal, $X \\thicksim N(\\mu, \\sigma)$. El valor $\\mu$ es la media poblacional, y nos restringiremos a afirmaciones sobre $\\mu$. A $\\sigma$ se le llama desviación típica poblacional.\n",
        "\n",
        "Como condiciones de validez, deben cumplirse que los casos $X_{i}$ sean independientes (el valor de cada uno no tiene influencia en los demás) y para cada $i$𝑖, $X_{i} \\thicksim N(\\mu, \\sigma)$.\n",
        "\n",
        "La **media muestral** es\n",
        "$$ \\bar{X}= \\frac{1}{n} \\sum_{i=1}^{n}X_{i}, $$\n",
        "y la **cuasidesviación típica muestral** es\n",
        "\n",
        "$$S_{X}=\\sqrt{\\frac{1}{(n-1)}\\sum_{i=1}^{n}(X_{i}-\\bar{X})^{2}}$$\n",
        "\n",
        "La base de nuestra inferencia es que, como indicamos al tratar la distribución normal y la distribucín $t$ de student,\n",
        "\n",
        "$$\\frac{\\bar{X}-\\mu}{S_{X}/\\sqrt{n}}\\thicksim t_{n-1}$$\n",
        "\n",
        "Obviamente $\\frac{\\bar{X}-\\mu}{S_{X}/\\sqrt{n}}$ es una variable aleatoria, su valor depende de nuestra muestra"
      ],
      "metadata": {
        "id": "I_ixiJbT0ihJ"
      },
      "id": "I_ixiJbT0ihJ"
    },
    {
      "cell_type": "markdown",
      "source": [
        "## Inferencia sobre la proporción\n",
        "\n",
        "Estudiamos una característica. La probabilidad de que un caso aleatoriamente elegido la cumpla es $p$, la proporción poblacional. En una muestra de $n$ individuos (casos) la cumplen $k$, y $\\hat{p}=\\frac{k}{n}$ es la **proporción muestral**. La base de nuestra inferencia es que, si $n$ es grande,\n",
        "\n",
        "\n",
        "$$\\frac{\\hat{p}-p}{\\sqrt{\\frac{p(1-p)}{n}}} \\underset{\\text{aprox}}{\\sim} N(0,1) $$\n",
        "\n",
        "Además se deben cumplir las siguientes condiciones de validez:\n",
        "\n",
        "* La muestra es ***independiente y representativa*** (en los casos elegidos esperamos que la probabilidad de cumplir la característica sea efectivamente la proporción muestral).\n",
        "\n",
        "* O bien $n \\geq 30$; o bien $np \\geq 5$ y $n(1-p)\\geq 5$.\n",
        "\n",
        "  Esto significa que la aproximación es mala cuando $p \\approx 0$ o $p \\approx 1$. Como no conocemos $p$ esta condición la sustituimos por $n \\hat{p} = k \\geq 5 $ y $n(1-\\hat{p})=n-k \\geq 5.$"
      ],
      "metadata": {
        "id": "MWPw4Xem2yak"
      },
      "id": "MWPw4Xem2yak"
    },
    {
      "cell_type": "markdown",
      "source": [
        "### Resultados de inferencia\n",
        "\n",
        "Nos centramos en tres tipos de inferencia, que realizaremos para la media y para la proporción:\n",
        "* intervalos de confianza\n",
        "* contrastes de hipótesis\n",
        "* tamaño de la muestra\n",
        "\n",
        "Estos resultados dependerán de la fiabilidad establecida, que se expresa mediante el nivel de confianza como $1-\\alpha$ donde $\\alpha$ (que suele representar una probabilidad pequeña) es el nivel de significación.\n",
        "\n",
        "Habitualmente:\n",
        "* $\\alpha = 0.1 $, por lo tanto $1-\\alpha = 0.9$, lo que indica que se tiene el $90\\%$ de confianza.\n",
        "\n",
        "* $\\alpha = 0.05$, por lo tanto $1-\\alpha = 0.95$, lo que indica que se tiene el $95\\%$ de confianza.\n",
        "\n",
        "* $\\alpha = 0.01$, por lo tanto $1-\\alpha = 0.99$, lo que indica que se tiene el $99\\%$ de confianza.\n",
        "\n"
      ],
      "metadata": {
        "id": "CqaYJjIF6E2X"
      },
      "id": "CqaYJjIF6E2X"
    },
    {
      "cell_type": "markdown",
      "source": [
        "## Intervalos de confianza"
      ],
      "metadata": {
        "id": "WLW4QsRD6_pM"
      },
      "id": "WLW4QsRD6_pM"
    },
    {
      "cell_type": "markdown",
      "source": [
        "### Intervalo de confianza para la media"
      ],
      "metadata": {
        "id": "xE84EYJx7Cvs"
      },
      "id": "xE84EYJx7Cvs"
    },
    {
      "cell_type": "code",
      "source": [],
      "metadata": {
        "id": "ClFfgIbFxhzh"
      },
      "id": "ClFfgIbFxhzh",
      "execution_count": null,
      "outputs": []
    }
  ],
  "metadata": {
    "kernelspec": {
      "display_name": "Python 3 (ipykernel)",
      "language": "python",
      "name": "python3"
    },
    "language_info": {
      "codemirror_mode": {
        "name": "ipython",
        "version": 3
      },
      "file_extension": ".py",
      "mimetype": "text/x-python",
      "name": "python",
      "nbconvert_exporter": "python",
      "pygments_lexer": "ipython3",
      "version": "3.11.5"
    },
    "colab": {
      "provenance": [],
      "include_colab_link": true
    }
  },
  "nbformat": 4,
  "nbformat_minor": 5
}