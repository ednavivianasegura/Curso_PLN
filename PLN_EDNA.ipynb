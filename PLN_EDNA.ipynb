{
 "cells": [
  {
   "cell_type": "markdown",
   "id": "ce59cdd3-f22c-4cc9-ba35-b8fbe5ce3d57",
   "metadata": {},
   "source": [
    "<img src=\"LogoUR.png\" alt=\"LogoUR\">  "
   ]
  },
  {
   "attachments": {},
   "cell_type": "markdown",
   "id": "64c80b61-7869-4fc6-922d-c2a9e36f7865",
   "metadata": {},
   "source": [
    "# Estadística aplicada al Procesamiento del Lenguaje Natural"
   ]
  },
  {
   "cell_type": "code",
   "execution_count": 192,
   "id": "28b344bd-afb4-404e-a416-7ba77393d90c",
   "metadata": {},
   "outputs": [],
   "source": [
    "import pandas as pd\n",
    "import matplotlib.pyplot as plt\n",
    "import math\n",
    "import numpy as np"
   ]
  },
  {
   "cell_type": "markdown",
   "id": "f2e0b68c-bd75-4b46-ab01-c439d35c0a95",
   "metadata": {},
   "source": [
    "### Funciones importantes a usar durante el proceso"
   ]
  },
  {
   "cell_type": "code",
   "execution_count": 1,
   "id": "ad138970-7a94-490a-9099-765d22cfc5c1",
   "metadata": {},
   "outputs": [],
   "source": [
    "#Estas funciones se explican posteriormente\n",
    "\n",
    "def group_by_sturges(df, column):\n",
    "    num_bins = int(np.ceil(np.log2(len(df[column])) + 1))\n",
    "    bin_width = (df[column].max() - df[column].min()) / num_bins    \n",
    "    bins, bin_edges = pd.cut(df[column], bins=num_bins, include_lowest=True, right=False, retbins=True)\n",
    "    \n",
    "    # Generar etiquetas para los intervalos basados en los límites de los intervalos\n",
    "    labels = [f\"[{round(bin_edges[i],2)}-{round(bin_edges[i+1],2)})\" for i in range(len(bin_edges)-1)]\n",
    "    bins = pd.cut(df[column], bins=num_bins, include_lowest=True, right=False, retbins=True, labels=labels)[0]\n",
    "    return bins\n",
    "\n",
    "def marca_de_clase(intervalo):\n",
    "    limite_inferior, limite_superior = map(float, intervalo.strip(\"[]()\").split('-'))\n",
    "    return (limite_inferior + limite_superior) / 2"
   ]
  },
  {
   "cell_type": "code",
   "execution_count": 194,
   "id": "b1aac4de-49c6-41cc-9750-03b7d316ca0f",
   "metadata": {},
   "outputs": [
    {
     "data": {
      "text/html": [
       "<div>\n",
       "<style scoped>\n",
       "    .dataframe tbody tr th:only-of-type {\n",
       "        vertical-align: middle;\n",
       "    }\n",
       "\n",
       "    .dataframe tbody tr th {\n",
       "        vertical-align: top;\n",
       "    }\n",
       "\n",
       "    .dataframe thead th {\n",
       "        text-align: right;\n",
       "    }\n",
       "</style>\n",
       "<table border=\"1\" class=\"dataframe\">\n",
       "  <thead>\n",
       "    <tr style=\"text-align: right;\">\n",
       "      <th></th>\n",
       "      <th>Id</th>\n",
       "      <th>Score</th>\n",
       "      <th>Summary</th>\n",
       "      <th>Text</th>\n",
       "    </tr>\n",
       "  </thead>\n",
       "  <tbody>\n",
       "    <tr>\n",
       "      <th>0</th>\n",
       "      <td>1</td>\n",
       "      <td>5</td>\n",
       "      <td>Good Quality Dog Food</td>\n",
       "      <td>I have bought several of the Vitality canned d...</td>\n",
       "    </tr>\n",
       "    <tr>\n",
       "      <th>1</th>\n",
       "      <td>2</td>\n",
       "      <td>1</td>\n",
       "      <td>Not as Advertised</td>\n",
       "      <td>Product arrived labeled as Jumbo Salted Peanut...</td>\n",
       "    </tr>\n",
       "    <tr>\n",
       "      <th>2</th>\n",
       "      <td>3</td>\n",
       "      <td>4</td>\n",
       "      <td>\"Delight\" says it all</td>\n",
       "      <td>This is a confection that has been around a fe...</td>\n",
       "    </tr>\n",
       "    <tr>\n",
       "      <th>3</th>\n",
       "      <td>4</td>\n",
       "      <td>2</td>\n",
       "      <td>Cough Medicine</td>\n",
       "      <td>If you are looking for the secret ingredient i...</td>\n",
       "    </tr>\n",
       "    <tr>\n",
       "      <th>4</th>\n",
       "      <td>5</td>\n",
       "      <td>5</td>\n",
       "      <td>Great taffy</td>\n",
       "      <td>Great taffy at a great price.  There was a wid...</td>\n",
       "    </tr>\n",
       "  </tbody>\n",
       "</table>\n",
       "</div>"
      ],
      "text/plain": [
       "   Id  Score                Summary  \\\n",
       "0   1      5  Good Quality Dog Food   \n",
       "1   2      1      Not as Advertised   \n",
       "2   3      4  \"Delight\" says it all   \n",
       "3   4      2         Cough Medicine   \n",
       "4   5      5            Great taffy   \n",
       "\n",
       "                                                Text  \n",
       "0  I have bought several of the Vitality canned d...  \n",
       "1  Product arrived labeled as Jumbo Salted Peanut...  \n",
       "2  This is a confection that has been around a fe...  \n",
       "3  If you are looking for the secret ingredient i...  \n",
       "4  Great taffy at a great price.  There was a wid...  "
      ]
     },
     "execution_count": 194,
     "metadata": {},
     "output_type": "execute_result"
    }
   ],
   "source": [
    "df = pd.read_csv('Reviews.csv')\n",
    "# df.head()\n",
    "df2=df.loc[:6,['Id','Score', 'Summary', 'Text']]\n",
    "df2.head()\n"
   ]
  },
  {
   "cell_type": "code",
   "execution_count": 195,
   "id": "5fca7310-2e89-4401-af5e-c3567e11b5d4",
   "metadata": {},
   "outputs": [
    {
     "data": {
      "text/html": [
       "<div>\n",
       "<style scoped>\n",
       "    .dataframe tbody tr th:only-of-type {\n",
       "        vertical-align: middle;\n",
       "    }\n",
       "\n",
       "    .dataframe tbody tr th {\n",
       "        vertical-align: top;\n",
       "    }\n",
       "\n",
       "    .dataframe thead th {\n",
       "        text-align: right;\n",
       "    }\n",
       "</style>\n",
       "<table border=\"1\" class=\"dataframe\">\n",
       "  <thead>\n",
       "    <tr style=\"text-align: right;\">\n",
       "      <th></th>\n",
       "      <th>Id</th>\n",
       "      <th>Score</th>\n",
       "      <th>Summary</th>\n",
       "      <th>Text</th>\n",
       "      <th>Longitud_Texto</th>\n",
       "    </tr>\n",
       "  </thead>\n",
       "  <tbody>\n",
       "    <tr>\n",
       "      <th>0</th>\n",
       "      <td>1</td>\n",
       "      <td>5</td>\n",
       "      <td>Good Quality Dog Food</td>\n",
       "      <td>I have bought several of the Vitality canned d...</td>\n",
       "      <td>48</td>\n",
       "    </tr>\n",
       "    <tr>\n",
       "      <th>1</th>\n",
       "      <td>2</td>\n",
       "      <td>1</td>\n",
       "      <td>Not as Advertised</td>\n",
       "      <td>Product arrived labeled as Jumbo Salted Peanut...</td>\n",
       "      <td>31</td>\n",
       "    </tr>\n",
       "    <tr>\n",
       "      <th>2</th>\n",
       "      <td>3</td>\n",
       "      <td>4</td>\n",
       "      <td>\"Delight\" says it all</td>\n",
       "      <td>This is a confection that has been around a fe...</td>\n",
       "      <td>94</td>\n",
       "    </tr>\n",
       "    <tr>\n",
       "      <th>3</th>\n",
       "      <td>4</td>\n",
       "      <td>2</td>\n",
       "      <td>Cough Medicine</td>\n",
       "      <td>If you are looking for the secret ingredient i...</td>\n",
       "      <td>41</td>\n",
       "    </tr>\n",
       "    <tr>\n",
       "      <th>4</th>\n",
       "      <td>5</td>\n",
       "      <td>5</td>\n",
       "      <td>Great taffy</td>\n",
       "      <td>Great taffy at a great price.  There was a wid...</td>\n",
       "      <td>27</td>\n",
       "    </tr>\n",
       "  </tbody>\n",
       "</table>\n",
       "</div>"
      ],
      "text/plain": [
       "   Id  Score                Summary  \\\n",
       "0   1      5  Good Quality Dog Food   \n",
       "1   2      1      Not as Advertised   \n",
       "2   3      4  \"Delight\" says it all   \n",
       "3   4      2         Cough Medicine   \n",
       "4   5      5            Great taffy   \n",
       "\n",
       "                                                Text  Longitud_Texto  \n",
       "0  I have bought several of the Vitality canned d...              48  \n",
       "1  Product arrived labeled as Jumbo Salted Peanut...              31  \n",
       "2  This is a confection that has been around a fe...              94  \n",
       "3  If you are looking for the secret ingredient i...              41  \n",
       "4  Great taffy at a great price.  There was a wid...              27  "
      ]
     },
     "execution_count": 195,
     "metadata": {},
     "output_type": "execute_result"
    }
   ],
   "source": [
    "# Contar la longitud de las palabras en la columna 'texto'\n",
    "df['Longitud_Texto'] = df['Text'].apply(lambda x: len(x.split()))\n",
    "\n",
    "df2=df.loc[:6,['Id','Score', 'Summary', 'Text','Longitud_Texto']]\n",
    "df2.head()"
   ]
  },
  {
   "cell_type": "markdown",
   "id": "4422bf7e-3ff6-4841-aafd-8cb875bd3403",
   "metadata": {},
   "source": [
    "## TABLA DE FRECUENCIAS"
   ]
  },
  {
   "cell_type": "code",
   "execution_count": 196,
   "id": "04cab4e4-a39f-4371-bd52-27e664180b0c",
   "metadata": {},
   "outputs": [
    {
     "data": {
      "text/plain": [
       "Longitud_Texto\n",
       "3        2\n",
       "4        1\n",
       "5        1\n",
       "6        8\n",
       "7       51\n",
       "        ..\n",
       "2066     1\n",
       "2092     1\n",
       "2149     1\n",
       "2520     1\n",
       "3432     3\n",
       "Name: count, Length: 998, dtype: int64"
      ]
     },
     "execution_count": 196,
     "metadata": {},
     "output_type": "execute_result"
    }
   ],
   "source": [
    "#Creamos la tabla de frecuencias de la variable \"longitud de palabras\":\n",
    "\n",
    "frecuencias_long = df['Longitud_Texto'].value_counts()\n",
    "frecuencias_long = frecuencias_long.sort_index()\n",
    "frecuencias_long"
   ]
  },
  {
   "cell_type": "code",
   "execution_count": 197,
   "id": "23d62c1d-f770-48d9-8bd2-66942bc30582",
   "metadata": {},
   "outputs": [
    {
     "name": "stdout",
     "output_type": "stream",
     "text": [
      "Tabla de frecuencias de la columna\n",
      "'Longitud del texto':\n",
      "\n",
      "   x_i  n_i       f_i  N_i       F_i\n",
      "0    3    2  0.000004    2  0.000004\n",
      "1    4    1  0.000002    3  0.000005\n",
      "2    5    1  0.000002    4  0.000007\n",
      "3    6    8  0.000014   12  0.000021\n",
      "4    7   51  0.000090   63  0.000111\n",
      "5    8   10  0.000018   73  0.000128\n",
      "6    9   26  0.000046   99  0.000174\n",
      "7   10   50  0.000088  149  0.000262\n",
      "8   11  106  0.000186  255  0.000449\n",
      "9   12  149  0.000262  404  0.000711\n",
      ".\n",
      ".\n",
      ".\n",
      "      x_i  n_i       f_i     N_i       F_i\n",
      "988  1791    1  0.000002  568442  0.999979\n",
      "989  1818    1  0.000002  568443  0.999981\n",
      "990  1853    2  0.000004  568445  0.999984\n",
      "991  1901    1  0.000002  568446  0.999986\n",
      "992  2061    1  0.000002  568447  0.999988\n",
      "993  2066    1  0.000002  568448  0.999989\n",
      "994  2092    1  0.000002  568449  0.999991\n",
      "995  2149    1  0.000002  568450  0.999993\n",
      "996  2520    1  0.000002  568451  0.999995\n",
      "997  3432    3  0.000005  568454  1.000000\n"
     ]
    }
   ],
   "source": [
    "# Calcular la frecuencia relativa\n",
    "frecuencias_relativas = frecuencias_long / len(df)\n",
    "\n",
    "# Calcular las frecuencias acumuladas\n",
    "frecuencias_acumuladas = frecuencias_long.cumsum()\n",
    "\n",
    "# Calcular la frecuencia relativa acumulada\n",
    "frecuencias_relativas_acum = frecuencias_acumuladas / len(df)\n",
    "\n",
    "# Crear DataFrame con las frecuencias\n",
    "tabla_frecuencias = pd.DataFrame({\n",
    "    'x_i': frecuencias_long.index,\n",
    "    'n_i': frecuencias_long.values,\n",
    "    'f_i': frecuencias_relativas.values,\n",
    "    'N_i':frecuencias_acumuladas.values,\n",
    "    'F_i':frecuencias_relativas_acum.values\n",
    "})\n",
    "\n",
    "\n",
    "print(\"Tabla de frecuencias de la columna\\n'Longitud del texto':\\n\")\n",
    "print(tabla_frecuencias.head(10))\n",
    "print(\".\\n.\\n.\")\n",
    "print(tabla_frecuencias.tail(10))"
   ]
  },
  {
   "cell_type": "markdown",
   "id": "3d95c96a-e15b-4544-98a0-b6f5acb53300",
   "metadata": {},
   "source": [
    "### TABLA DE FRECUECIAS POR INTERVALOS"
   ]
  },
  {
   "cell_type": "code",
   "execution_count": 198,
   "id": "a56a6e08-15dd-43a4-9f5c-222c4374a7a2",
   "metadata": {},
   "outputs": [
    {
     "name": "stdout",
     "output_type": "stream",
     "text": [
      "Long_text_agrupado\n",
      "1-100       430223\n",
      "100-200     102820\n",
      "200-300      23215\n",
      "300-400       6954\n",
      "400-500       2603\n",
      "500-600       1289\n",
      "600-700        476\n",
      "700-800        250\n",
      "800-900        369\n",
      "900-1000        70\n",
      ">1000          185\n",
      "Name: count, dtype: int64\n"
     ]
    }
   ],
   "source": [
    "#########################################\n",
    "#########################################\n",
    "#frecuencias por intervalos:\n",
    "#########################################\n",
    "#########################################\n",
    "\n",
    "df['Long_text_agrupado'] = pd.cut(df['Longitud_Texto'], bins=[1,100,200,300,400,500,600,700,800,900,1000,3500], labels=['1-100', '100-200', '200-300', '300-400', '400-500', '500-600', '600-700', '700-800', '800-900', '900-1000','>1000'], right=False)\n",
    "\n",
    "# Calcular la tabla de frecuencias de la columna 'Grupo'\n",
    "frecuencias_grupo = df['Long_text_agrupado'].value_counts()\n",
    "frecuencias_grupo = frecuencias_grupo.sort_index()\n",
    "print(frecuencias_grupo)\n"
   ]
  },
  {
   "cell_type": "code",
   "execution_count": 199,
   "id": "2d68661d-8faa-49da-b604-b4d5e2b202e8",
   "metadata": {},
   "outputs": [
    {
     "name": "stdout",
     "output_type": "stream",
     "text": [
      "20 grupos\n"
     ]
    },
    {
     "data": {
      "text/plain": [
       "Long_text_agrupado\n",
       "(2.999, 174.45]      520456\n",
       "(174.45, 345.9]       39895\n",
       "(345.9, 517.35]        5903\n",
       "(517.35, 688.8]        1287\n",
       "(688.8, 860.25]         404\n",
       "(860.25, 1031.7]        339\n",
       "(1031.7, 1203.15]        68\n",
       "(1203.15, 1374.6]        48\n",
       "(1374.6, 1546.05]        28\n",
       "(1546.05, 1717.5]         9\n",
       "(1717.5, 1888.95]         8\n",
       "(1888.95, 2060.4]         1\n",
       "(2060.4, 2231.85]         4\n",
       "(2231.85, 2403.3]         0\n",
       "(2403.3, 2574.75]         1\n",
       "(2574.75, 2746.2]         0\n",
       "(2746.2, 2917.65]         0\n",
       "(2917.65, 3089.1]         0\n",
       "(3089.1, 3260.55]         0\n",
       "(3260.55, 3432.0]         3\n",
       "Name: count, dtype: int64"
      ]
     },
     "execution_count": 199,
     "metadata": {},
     "output_type": "execute_result"
    }
   ],
   "source": [
    "#########################################\n",
    "#########################################\n",
    "#frecuencias por intervalos regla k de sturges\n",
    "#########################################\n",
    "#########################################\n",
    "\n",
    "min_value = df['Longitud_Texto'].min()\n",
    "max_value = df['Longitud_Texto'].max()\n",
    "\n",
    "R=max_value-min_value\n",
    "#número de intervalos:\n",
    "k= int(1+3.322*math.log10(df.shape[0]))\n",
    "print(f\"{k} grupos\")\n",
    "#amplitud del intervalo\n",
    "A=R/k\n",
    "bins = [min_value + i * A for i in range(k)]\n",
    "bins.append(max_value)  # Añadir el límite superior del último intervalo\n",
    "\n",
    "# Asignar cada valor al intervalo correspondiente\n",
    "df['Long_text_agrupado'] = pd.cut(df['Longitud_Texto'], bins=bins, include_lowest=True)\n",
    "\n",
    "\n",
    "# Calcular la tabla de frecuencias de la columna 'Grupo'\n",
    "frecuencias_grupo = df['Long_text_agrupado'].value_counts()\n",
    "frecuencias_grupo = frecuencias_grupo.sort_index()\n",
    "frecuencias_grupo\n"
   ]
  },
  {
   "cell_type": "code",
   "execution_count": 206,
   "id": "479fb3e4-426d-4b3d-b09d-5b96846ee54f",
   "metadata": {},
   "outputs": [
    {
     "name": "stdout",
     "output_type": "stream",
     "text": [
      "\n",
      "Frecuencias usando el método de sturges\n",
      "\n",
      "group_sturges\n",
      "[3.0-166.29)         515441\n",
      "[166.29-329.57)       43696\n",
      "[329.57-492.86)        6595\n",
      "[492.86-656.14)        1685\n",
      "[656.14-819.43)         453\n",
      "[819.43-982.71)         381\n",
      "[982.71-1146.0)          80\n",
      "[1146.0-1309.29)         57\n",
      "[1309.29-1472.57)        33\n",
      "[1472.57-1635.86)        16\n",
      "[1635.86-1799.14)         5\n",
      "[1799.14-1962.43)         4\n",
      "[1962.43-2125.71)         3\n",
      "[2125.71-2289.0)          1\n",
      "[2289.0-2452.29)          0\n",
      "[2452.29-2615.57)         1\n",
      "[2615.57-2778.86)         0\n",
      "[2778.86-2942.14)         0\n",
      "[2942.14-3105.43)         0\n",
      "[3105.43-3268.71)         0\n",
      "[3268.71-3435.43)         3\n",
      "Name: count, dtype: int64\n",
      "CategoricalIndex(['[3.0-166.29)', '[166.29-329.57)', '[329.57-492.86)',\n",
      "                  '[492.86-656.14)', '[656.14-819.43)', '[819.43-982.71)',\n",
      "                  '[982.71-1146.0)', '[1146.0-1309.29)', '[1309.29-1472.57)',\n",
      "                  '[1472.57-1635.86)', '[1635.86-1799.14)',\n",
      "                  '[1799.14-1962.43)', '[1962.43-2125.71)', '[2125.71-2289.0)',\n",
      "                  '[2289.0-2452.29)', '[2452.29-2615.57)', '[2615.57-2778.86)',\n",
      "                  '[2778.86-2942.14)', '[2942.14-3105.43)',\n",
      "                  '[3105.43-3268.71)', '[3268.71-3435.43)'],\n",
      "                 categories=['[3.0-166.29)', '[166.29-329.57)', '[329.57-492.86)', '[492.86-656.14)', ..., '[2778.86-2942.14)', '[2942.14-3105.43)', '[3105.43-3268.71)', '[3268.71-3435.43)'], ordered=True, dtype='category', name='group_sturges')\n",
      "[84.645, 247.93, 411.21500000000003, 574.5, 737.785, 901.0699999999999, 1064.355, 1227.645, 1390.9299999999998, 1554.215, 1717.5, 1880.785, 2044.0700000000002, 2207.355, 2370.645, 2533.9300000000003, 2697.215, 2860.5, 3023.785, 3187.0699999999997, 3352.0699999999997]\n"
     ]
    }
   ],
   "source": [
    "# Calcular los grupos usando la función creada group_by_sturges\n",
    "df['group_sturges'] = group_by_sturges(df, 'Longitud_Texto')\n",
    "\n",
    "# Calcular la tabla de frecuencias de la columna 'Grupo'\n",
    "frecuencias_grupo = df['group_sturges'].value_counts()\n",
    "frecuencias_grupo = frecuencias_grupo.sort_index()\n",
    "print(\"\\nFrecuencias usando el método de sturges\\n\")\n",
    "\n",
    "# Calcular la marca de clase para cada intervalo\n",
    "MarcaDeClase = list(map(marca_de_clase, list(frecuencias_grupo.index)))\n",
    "\n",
    "print(frecuencias_grupo)\n",
    "print(frecuencias_grupo.index)\n",
    "print(MarcaDeClase)"
   ]
  },
  {
   "cell_type": "code",
   "execution_count": 208,
   "id": "17cb2ce1-3b7e-4e46-afbd-51d3a9c92cbf",
   "metadata": {},
   "outputs": [],
   "source": [
    "# #media aritmética para estos datos agrupaados:\n",
    "# marcas_de_clase =  MarcaDeClase\n",
    "# frecuencias     =  frecuencias_grupo.values\n",
    "# # Calculando la suma de los productos de las marcas de clase y las frecuencias\n",
    "# suma_productos = sum(marcas_de_clase[i] * frecuencias[i] for i in range(len(marcas_de_clase)))\n",
    "\n",
    "# # # Calculando el total de observaciones\n",
    "# total_observaciones = sum(frecuencias)\n",
    "\n",
    "# # # Calculando la media aritmética\n",
    "# media_aritmetica = suma_productos / total_observaciones\n",
    "\n",
    "# print(\"La media aritmética es:\", round(media_aritmetica,2))"
   ]
  },
  {
   "cell_type": "code",
   "execution_count": 209,
   "id": "a4563615-7c7d-4c9d-88a1-b386dd467417",
   "metadata": {},
   "outputs": [
    {
     "name": "stdout",
     "output_type": "stream",
     "text": [
      "\n",
      "Frecuencias usando el método de sturges\n",
      "\n",
      "group_sturges\n",
      "[3.0-166.29)          515441\n",
      "[166.29-329.57)        43696\n",
      "[329.57-492.86)         6595\n",
      "[492.86-656.14)         1685\n",
      "[656.14-819.43)          453\n",
      "[819.43-982.71)          381\n",
      "[982.71-1146.0)           80\n",
      "[1146.0-1309.29)          57\n",
      "[1309.29-1472.57)         33\n",
      "[1472.571-3435.43]        33\n",
      "Name: count, dtype: int64\n"
     ]
    }
   ],
   "source": [
    "# agrupar los últimos grupos en uno solo:\n",
    "\n",
    "lista=['[1472.57-1635.86)', '[1635.86-1799.14)',\n",
    "'[1799.14-1962.43)', '[1962.43-2125.71)', '[2125.71-2289.0)',\n",
    "'[2289.0-2452.29)', '[2452.29-2615.57)', '[2615.57-2778.86)',\n",
    "'[2778.86-2942.14)', '[2942.14-3105.43)',\n",
    "'[3105.43-3268.71)', '[3268.71-3435.43)']\n",
    "\n",
    "# Reemplazar los valores en la columna 'columna_original' con \">1472.571\" si coinciden con los valores de la lista\n",
    "df['group_sturges'] = df['group_sturges'].replace(lista, '[1472.571-3435.43]')\n",
    "\n",
    "# Calcular la tabla de frecuencias de la columna 'Grupo'\n",
    "frecuencias_grupo = df['group_sturges'].value_counts()\n",
    "frecuencias_grupo = frecuencias_grupo.sort_index()\n",
    "print(\"\\nFrecuencias usando el método de sturges\\n\")\n",
    "print(frecuencias_grupo)\n"
   ]
  },
  {
   "cell_type": "code",
   "execution_count": 210,
   "id": "6bd9a147-8aef-4c8e-a6f2-7f37bed26e09",
   "metadata": {},
   "outputs": [
    {
     "name": "stdout",
     "output_type": "stream",
     "text": [
      "Tabla de frecuencias agrupadas poro intervalo de la columna\n",
      "'Longitud del texto':\n",
      "\n",
      "                  x_i     n_i       f_i     N_i       F_i\n",
      "0        [3.0-166.29)  515441  0.906742  515441  0.906742\n",
      "1     [166.29-329.57)   43696  0.076868  559137  0.983610\n",
      "2     [329.57-492.86)    6595  0.011602  565732  0.995212\n",
      "3     [492.86-656.14)    1685  0.002964  567417  0.998176\n",
      "4     [656.14-819.43)     453  0.000797  567870  0.998973\n",
      "5     [819.43-982.71)     381  0.000670  568251  0.999643\n",
      "6     [982.71-1146.0)      80  0.000141  568331  0.999784\n",
      "7    [1146.0-1309.29)      57  0.000100  568388  0.999884\n",
      "8   [1309.29-1472.57)      33  0.000058  568421  0.999942\n",
      "9  [1472.571-3435.43]      33  0.000058  568454  1.000000\n"
     ]
    }
   ],
   "source": [
    "# Calcular la frecuencia relativa\n",
    "frecuencias_relativas_gr = frecuencias_grupo / len(df)\n",
    "\n",
    "# Calcular las frecuencias acumuladas\n",
    "frecuencias_acumuladas_gr = frecuencias_grupo.cumsum()\n",
    "\n",
    "# Calcular la frecuencia relativa acumulada\n",
    "frecuencias_relativas_acum_gr = frecuencias_acumuladas_gr / len(df)\n",
    "\n",
    "# Crear DataFrame con las frecuencias\n",
    "tabla_frecuencias_gr = pd.DataFrame({\n",
    "    'x_i': frecuencias_grupo.index,\n",
    "    'n_i': frecuencias_grupo.values,\n",
    "    'f_i': frecuencias_relativas_gr.values,\n",
    "    'N_i':frecuencias_acumuladas_gr.values,\n",
    "    'F_i':frecuencias_relativas_acum_gr.values\n",
    "})\n",
    "\n",
    "\n",
    "print(\"Tabla de frecuencias agrupadas poro intervalo de la columna\\n'Longitud del texto':\\n\")\n",
    "print(tabla_frecuencias_gr)"
   ]
  },
  {
   "cell_type": "markdown",
   "id": "494ec648-7919-4e19-a074-1746f9f03d08",
   "metadata": {},
   "source": [
    "Tabla de frecuencias del jercicio 1 (score) para contestar las preguntas"
   ]
  },
  {
   "cell_type": "code",
   "execution_count": 211,
   "id": "13412d14-89bc-4f2c-a7fd-ce2620e3492f",
   "metadata": {},
   "outputs": [
    {
     "data": {
      "text/html": [
       "<div>\n",
       "<style scoped>\n",
       "    .dataframe tbody tr th:only-of-type {\n",
       "        vertical-align: middle;\n",
       "    }\n",
       "\n",
       "    .dataframe tbody tr th {\n",
       "        vertical-align: top;\n",
       "    }\n",
       "\n",
       "    .dataframe thead th {\n",
       "        text-align: right;\n",
       "    }\n",
       "</style>\n",
       "<table border=\"1\" class=\"dataframe\">\n",
       "  <thead>\n",
       "    <tr style=\"text-align: right;\">\n",
       "      <th></th>\n",
       "      <th>x_i</th>\n",
       "      <th>n_i</th>\n",
       "      <th>f_i</th>\n",
       "      <th>N_i</th>\n",
       "      <th>F_i</th>\n",
       "    </tr>\n",
       "  </thead>\n",
       "  <tbody>\n",
       "    <tr>\n",
       "      <th>0</th>\n",
       "      <td>1</td>\n",
       "      <td>52268</td>\n",
       "      <td>0.091948</td>\n",
       "      <td>52268</td>\n",
       "      <td>0.091948</td>\n",
       "    </tr>\n",
       "    <tr>\n",
       "      <th>1</th>\n",
       "      <td>2</td>\n",
       "      <td>29769</td>\n",
       "      <td>0.052368</td>\n",
       "      <td>82037</td>\n",
       "      <td>0.144316</td>\n",
       "    </tr>\n",
       "    <tr>\n",
       "      <th>2</th>\n",
       "      <td>3</td>\n",
       "      <td>42640</td>\n",
       "      <td>0.075010</td>\n",
       "      <td>124677</td>\n",
       "      <td>0.219326</td>\n",
       "    </tr>\n",
       "    <tr>\n",
       "      <th>3</th>\n",
       "      <td>4</td>\n",
       "      <td>80655</td>\n",
       "      <td>0.141885</td>\n",
       "      <td>205332</td>\n",
       "      <td>0.361211</td>\n",
       "    </tr>\n",
       "    <tr>\n",
       "      <th>4</th>\n",
       "      <td>5</td>\n",
       "      <td>363122</td>\n",
       "      <td>0.638789</td>\n",
       "      <td>568454</td>\n",
       "      <td>1.000000</td>\n",
       "    </tr>\n",
       "  </tbody>\n",
       "</table>\n",
       "</div>"
      ],
      "text/plain": [
       "   x_i     n_i       f_i     N_i       F_i\n",
       "0    1   52268  0.091948   52268  0.091948\n",
       "1    2   29769  0.052368   82037  0.144316\n",
       "2    3   42640  0.075010  124677  0.219326\n",
       "3    4   80655  0.141885  205332  0.361211\n",
       "4    5  363122  0.638789  568454  1.000000"
      ]
     },
     "execution_count": 211,
     "metadata": {},
     "output_type": "execute_result"
    }
   ],
   "source": [
    "\n",
    "#########################################\n",
    "#########################################\n",
    "####tabla de frecuencias del Score\n",
    "#########################################\n",
    "#########################################\n",
    "\n",
    "\n",
    "# Calcular la tabla de frecuencias de la columna 'Score'\n",
    "frecuencias_score = df['Score'].value_counts()\n",
    "frecuencias_score = frecuencias_score.sort_index()\n",
    "\n",
    "\n",
    "# Calcular la frecuencia relativa\n",
    "frecuencias_relativas = frecuencias_score / len(df)\n",
    "\n",
    "# Calcular las frecuencias acumuladas\n",
    "frecuencias_acumuladas = frecuencias_score.cumsum()\n",
    "\n",
    "# Calcular la frecuencia relativa acumulada\n",
    "frecuencias_relativas_acum = frecuencias_acumuladas / len(df)\n",
    "\n",
    "\n",
    "# Crear DataFrame con las frecuencias\n",
    "tabla_frecuencias = pd.DataFrame({\n",
    "    'x_i': frecuencias_score.index,\n",
    "    'n_i': frecuencias_score.values,\n",
    "    'f_i': frecuencias_relativas.values,\n",
    "    \"N_i\":frecuencias_acumuladas.values,\n",
    "    \"F_i\":frecuencias_relativas_acum.values\n",
    "})\n",
    "tabla_frecuencias"
   ]
  },
  {
   "cell_type": "markdown",
   "id": "416a82f8-198c-4cca-9f8a-5b80c708fdec",
   "metadata": {},
   "source": [
    "## GRÁFICOS UNIDIMENSIONALES"
   ]
  },
  {
   "cell_type": "markdown",
   "id": "f4a594de-2af3-4bc8-b0a9-d5bc42a60040",
   "metadata": {},
   "source": [
    "### Gráfico de sectores:"
   ]
  },
  {
   "cell_type": "code",
   "execution_count": 212,
   "id": "58400d04-b18f-4703-aad4-3b4ab3f3f40d",
   "metadata": {},
   "outputs": [
    {
     "data": {
      "text/plain": [
       "Text(0.5, 1.0, 'Gráfico de frecuencia del Score')"
      ]
     },
     "execution_count": 212,
     "metadata": {},
     "output_type": "execute_result"
    },
    {
     "data": {
      "image/png": "[encoded data removed]",
      "text/plain": [
       "<Figure size 600x600 with 1 Axes>"
      ]
     },
     "metadata": {},
     "output_type": "display_data"
    }
   ],
   "source": [
    "sizes = tabla_frecuencias.n_i\n",
    "labels = tabla_frecuencias.x_i\n",
    "\n",
    "plt.figure(figsize=(6, 6))  # Tamaño del gráfico (opcional)\n",
    "plt.pie(sizes, labels=labels, autopct='%1.1f%%', startangle=140)\n",
    "\n",
    "# Agregar un título\n",
    "plt.title('Gráfico de frecuencia del Score')"
   ]
  },
  {
   "cell_type": "markdown",
   "id": "67b7b9ab-a91c-4933-ae6c-d800b92a62a7",
   "metadata": {},
   "source": [
    "### Gráfico de barras de valores:"
   ]
  },
  {
   "cell_type": "code",
   "execution_count": 213,
   "id": "fe43711d-93d7-428d-9a83-576d1054db13",
   "metadata": {},
   "outputs": [
    {
     "name": "stdout",
     "output_type": "stream",
     "text": [
      "sentiment\n",
      "Malo (1-3)     124677\n",
      "Bueno (4-5)    443777\n",
      "Name: count, dtype: int64\n"
     ]
    },
    {
     "data": {
      "image/png": "[encoded data removed]",
      "text/plain": [
       "<Figure size 800x600 with 1 Axes>"
      ]
     },
     "metadata": {},
     "output_type": "display_data"
    }
   ],
   "source": [
    "#Primero clasificaremos las reseñas en doos grupos (buenas o malas)\n",
    "# assign reviews with score > 3 as positive sentiment\n",
    "# score < 3 negative sentiment\n",
    "df['sentiment'] = pd.cut(df['Score'], bins=[1,4,6], labels=['Malo (1-3)', 'Bueno (4-5)'], right=False)\n",
    "\n",
    "frecuencias_sentiment = df['sentiment'].value_counts()\n",
    "frecuencias_sentiment = frecuencias_sentiment.sort_index()\n",
    "\n",
    "print(frecuencias_sentiment)\n",
    "\n",
    "# Datos de ejemplo\n",
    "labels = frecuencias_sentiment.index\n",
    "sizes = frecuencias_sentiment.values\n",
    "\n",
    "# Crear el gráfico de barras\n",
    "plt.figure(figsize=(8, 6))  # Tamaño del gráfico (opcional)\n",
    "plt.bar(labels, sizes, color='magenta')\n",
    "\n",
    "# Agregar etiquetas y título\n",
    "plt.ylabel('Nº de reseñas')\n",
    "plt.xlabel('Sentimiento')\n",
    "# plt.title('Gráfico de sentimeinto')\n",
    "\n",
    "# Mostrar el gráfico\n",
    "plt.show()"
   ]
  },
  {
   "cell_type": "markdown",
   "id": "18e7d53c-d7a2-40e3-b782-a2e8f31b59b6",
   "metadata": {},
   "source": [
    "### Histograma:"
   ]
  },
  {
   "cell_type": "code",
   "execution_count": 214,
   "id": "3b23b170-fb3e-45bb-993d-baad62311f0f",
   "metadata": {},
   "outputs": [
    {
     "data": {
      "image/png": "[encoded data removed]",
      "text/plain": [
       "<Figure size 800x600 with 1 Axes>"
      ]
     },
     "metadata": {},
     "output_type": "display_data"
    },
    {
     "name": "stdout",
     "output_type": "stream",
     "text": [
      "Frecuencia del bin 1.0 - 2.0: 52268.0\n",
      "Frecuencia del bin 2.0 - 3.0: 29769.0\n",
      "Frecuencia del bin 3.0 - 4.0: 42640.0\n",
      "Frecuencia del bin 4.0 - 5.0: 80655.0\n",
      "Frecuencia del bin 5.0 - 6.0: 363122.0\n"
     ]
    }
   ],
   "source": [
    "data=list(df['Score'].values)\n",
    "# Crear el histograma con las barras juntas y densidad\n",
    "plt.figure(figsize=(8, 6))  # Tamaño del gráfico (opcional)\n",
    "values, bins, _ = plt.hist(data, bins=range(min(data), max(data) + 2), align='left', rwidth=1, color='magenta', density=False)\n",
    "\n",
    "# Agregar etiquetas y título\n",
    "plt.xlabel('Score')\n",
    "plt.ylabel('Densidad')\n",
    "plt.title('Histograma del Score')\n",
    "\n",
    "# Mostrar el histograma\n",
    "plt.grid(axis='y', alpha=0.75)\n",
    "plt.show()\n",
    "\n",
    "#para mostrar las frecuencias reltativas en vez de las aboslutas usar: values, bins, _ = plt.hist(data, bins=range(min(data), max(data) + 2), align='left', rwidth=1, color='magenta', density=False)\n",
    "\n",
    "for i in range(len(values)):\n",
    "    print(f\"Frecuencia del bin {bins[i]} - {bins[i+1]}: {values[i]}\")"
   ]
  },
  {
   "cell_type": "markdown",
   "id": "615df32b-c6ff-4201-a8a9-dc76376069c7",
   "metadata": {},
   "source": [
    "## Medidas de tendencia central"
   ]
  },
  {
   "cell_type": "markdown",
   "id": "e739def1-b32a-40d8-b998-6666c56cc3e7",
   "metadata": {},
   "source": [
    "### Media Aritmética"
   ]
  },
  {
   "cell_type": "code",
   "execution_count": 215,
   "id": "c34f1756-18ba-49c7-b233-25039182316a",
   "metadata": {
    "scrolled": true
   },
   "outputs": [
    {
     "name": "stdout",
     "output_type": "stream",
     "text": [
      "45626405\n",
      "568454\n",
      "Media calculada manualmente\n",
      "80.26\n",
      "Media calculada con la función propia\n",
      "80.26\n"
     ]
    }
   ],
   "source": [
    "#suma:\n",
    "suma = df[\"Longitud_Texto\"].sum()\n",
    "print(suma)\n",
    "n= df.shape[0]\n",
    "print(n)\n",
    "media_Artimetica= suma/n\n",
    "print(\"Media calculada manualmente\")\n",
    "print(round(media_Artimetica,2))\n",
    "print(\"Media calculada con la función propia\")\n",
    "print(round(df[\"Longitud_Texto\"].mean(),2))\n"
   ]
  },
  {
   "cell_type": "markdown",
   "id": "6ce1a628-cffc-4ec0-9354-9547312f99dd",
   "metadata": {},
   "source": [
    "### Media aritmética de datos agrupados:"
   ]
  },
  {
   "cell_type": "code",
   "execution_count": 217,
   "id": "ce0fca20-df91-4177-b6a0-96ecd37ed692",
   "metadata": {},
   "outputs": [
    {
     "name": "stdout",
     "output_type": "stream",
     "text": [
      "                  x_i MarcaDeClase     n_i\n",
      "0        [3.0-166.29)      84.6450  515441\n",
      "1     [166.29-329.57)     247.9300   43696\n",
      "2     [329.57-492.86)     411.2150    6595\n",
      "3     [492.86-656.14)     574.5000    1685\n",
      "4     [656.14-819.43)     737.7850     453\n",
      "5     [819.43-982.71)     901.0700     381\n",
      "6     [982.71-1146.0)    1064.3550      80\n",
      "7    [1146.0-1309.29)    1227.6450      57\n",
      "8   [1309.29-1472.57)    1390.9300      33\n",
      "9  [1472.571-3435.43]    2454.0005      33\n"
     ]
    }
   ],
   "source": [
    "# Calcular la marca de clase para cada intervalo\n",
    "tabla_frecuencias_gr['MarcaDeClase'] = tabla_frecuencias_gr['x_i'].apply(marca_de_clase)\n",
    "\n",
    "# Mostrar la tabla de frecuencias con la marca de clase\n",
    "print(tabla_frecuencias_gr[['x_i','MarcaDeClase','n_i']])\n",
    "\n"
   ]
  },
  {
   "cell_type": "code",
   "execution_count": 218,
   "id": "51e439d6-b035-4c43-a751-639837269ac4",
   "metadata": {},
   "outputs": [
    {
     "name": "stdout",
     "output_type": "stream",
     "text": [
      "La media aritmética es: 103.97\n"
     ]
    }
   ],
   "source": [
    "marcas_de_clase =  tabla_frecuencias_gr['MarcaDeClase']\n",
    "frecuencias     =  tabla_frecuencias_gr['n_i']  \n",
    "# Calculando la suma de los productos de las marcas de clase y las frecuencias\n",
    "suma_productos = sum(marcas_de_clase[i] * frecuencias[i] for i in range(len(marcas_de_clase)))\n",
    "\n",
    "# # Calculando el total de observaciones\n",
    "total_observaciones = sum(frecuencias)\n",
    "\n",
    "# # Calculando la media aritmética\n",
    "media_aritmetica = suma_productos / total_observaciones\n",
    "\n",
    "print(\"La media aritmética es:\", round(media_aritmetica,2))"
   ]
  },
  {
   "cell_type": "code",
   "execution_count": null,
   "id": "3a1aa98f-1358-4d46-bce2-ba36b238357e",
   "metadata": {},
   "outputs": [],
   "source": []
  }
 ],
 "metadata": {
  "kernelspec": {
   "display_name": "Python 3 (ipykernel)",
   "language": "python",
   "name": "python3"
  },
  "language_info": {
   "codemirror_mode": {
    "name": "ipython",
    "version": 3
   },
   "file_extension": ".py",
   "mimetype": "text/x-python",
   "name": "python",
   "nbconvert_exporter": "python",
   "pygments_lexer": "ipython3",
   "version": "3.11.5"
  }
 },
 "nbformat": 4,
 "nbformat_minor": 5
}
